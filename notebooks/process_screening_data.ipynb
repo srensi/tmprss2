{
 "cells": [
  {
   "cell_type": "markdown",
   "metadata": {},
   "source": [
    "## Summary\n",
    "This notebook reworks code Shanna wrote to process the screening data. It does the following:\n",
    "\n",
    "1. Load data from DrugBank, ReFRAME, and Broad\n",
    "2. Creates RDkit molecules from the SMILES, standardizes and sanitizes the molecules by removing salts\n",
    "3. Calculate Morgan Fingerprints.\n",
    "4. Save fingerints, molecule names, and source dataset."
   ]
  },
  {
   "cell_type": "code",
   "execution_count": 1,
   "metadata": {},
   "outputs": [
    {
     "name": "stderr",
     "output_type": "stream",
     "text": [
      "/Users/schu3/.conda/envs/covid/lib/python3.7/site-packages/tqdm/std.py:668: FutureWarning: The Panel class is removed from pandas. Accessing it from the top-level namespace will also be removed in the next version\n",
      "  from pandas import Panel\n"
     ]
    }
   ],
   "source": [
    "import numpy as np\n",
    "import pandas as pd\n",
    "import rdkit\n",
    "\n",
    "from molvs import Standardizer\n",
    "from rdkit.Chem import PandasTools, SaltRemover, rdMolDescriptors, MolFromSmiles\n",
    "from rdkit import RDLogger\n",
    "RDLogger.DisableLog('rdApp.*')  # suppresses annoying RDKIT errors and warnings\n",
    "\n",
    "from tqdm import tqdm\n",
    "tqdm.pandas()"
   ]
  },
  {
   "cell_type": "markdown",
   "metadata": {},
   "source": [
    "### 1. Load Data"
   ]
  },
  {
   "cell_type": "code",
   "execution_count": 2,
   "metadata": {},
   "outputs": [
    {
     "name": "stdout",
     "output_type": "stream",
     "text": [
      "len(drugbank) = 10746\n",
      "len(reframe) = 131\n",
      "len(broad) = 10147\n"
     ]
    }
   ],
   "source": [
    "drugbank = PandasTools.LoadSDF('../data/screening_data/drugbank.sdf') #auto-sanitize function; don't need to do again\n",
    "reframe = pd.read_csv('../data/screening_data/reframe.csv', encoding='latin1')\n",
    "broad = pd.read_csv('../data/screening_data/broad.csv', delimiter=\"\\t\")\n",
    "print('len(drugbank) =', len(drugbank))\n",
    "print('len(reframe) =', len(reframe))\n",
    "print('len(broad) =', len(broad))"
   ]
  },
  {
   "cell_type": "code",
   "execution_count": 3,
   "metadata": {},
   "outputs": [
    {
     "name": "stdout",
     "output_type": "stream",
     "text": [
      "Dropping 6 rows with missing SMILES\n"
     ]
    }
   ],
   "source": [
    "# combine into one dataframe\n",
    "screening_data = pd.DataFrame(columns=['source', 'name', 'smiles'])\n",
    "screening_data.source = ['drugbank']*len(drugbank) + ['reframe']*len(reframe) + ['broad']*len(broad)\n",
    "screening_data.name = pd.concat([drugbank.GENERIC_NAME, reframe.Name, broad.pert_iname], ignore_index=True)\n",
    "screening_data.smiles = pd.concat([drugbank.SMILES, reframe.SMILES, broad.smiles], ignore_index=True)\n",
    "\n",
    "print(f\"Dropping {screening_data['smiles'].isna().sum()} rows with missing SMILES\")\n",
    "screening_data.dropna(inplace=True)"
   ]
  },
  {
   "cell_type": "markdown",
   "metadata": {},
   "source": [
    "### 2. Create, standardize and sanitize molecules"
   ]
  },
  {
   "cell_type": "code",
   "execution_count": 4,
   "metadata": {
    "scrolled": true
   },
   "outputs": [
    {
     "name": "stderr",
     "output_type": "stream",
     "text": [
      "100%|██████████| 21018/21018 [00:06<00:00, 3346.96it/s]"
     ]
    },
    {
     "name": "stdout",
     "output_type": "stream",
     "text": [
      "Dropping 7 rows which failed molecule creation\n"
     ]
    },
    {
     "name": "stderr",
     "output_type": "stream",
     "text": [
      "\n"
     ]
    }
   ],
   "source": [
    "screening_data['rdkit_mol'] = screening_data['smiles'].progress_apply(MolFromSmiles)\n",
    "print(f\"Dropping {screening_data['rdkit_mol'].isna().sum()} rows which failed molecule creation\")\n",
    "screening_data.dropna(inplace=True)"
   ]
  },
  {
   "cell_type": "code",
   "execution_count": 5,
   "metadata": {},
   "outputs": [
    {
     "name": "stderr",
     "output_type": "stream",
     "text": [
      "100%|██████████| 21011/21011 [00:38<00:00, 552.53it/s]\n"
     ]
    }
   ],
   "source": [
    "# standardize molecules\n",
    "screening_data['rdkit_mol'] = screening_data['rdkit_mol'].progress_apply(Standardizer().standardize)"
   ]
  },
  {
   "cell_type": "code",
   "execution_count": 6,
   "metadata": {},
   "outputs": [
    {
     "name": "stderr",
     "output_type": "stream",
     "text": [
      "100%|██████████| 21011/21011 [00:16<00:00, 1288.47it/s]\n"
     ]
    }
   ],
   "source": [
    "# remove salts\n",
    "screening_data['rdkit_mol'] = screening_data['rdkit_mol'].progress_apply(SaltRemover.SaltRemover().StripMol)"
   ]
  },
  {
   "cell_type": "markdown",
   "metadata": {},
   "source": [
    "### 3. Calculate Morgan Fingerprints"
   ]
  },
  {
   "cell_type": "code",
   "execution_count": 25,
   "metadata": {},
   "outputs": [
    {
     "name": "stderr",
     "output_type": "stream",
     "text": [
      "100%|██████████| 21011/21011 [00:13<00:00, 1502.15it/s]\n"
     ]
    }
   ],
   "source": [
    "bis=[]\n",
    "def calculate_morgan_fingerprint(mol):\n",
    "    bi={}\n",
    "    fp = rdMolDescriptors.GetMorganFingerprintAsBitVect(mol, radius=2, useChirality=True, bitInfo=bi)\n",
    "    bis.append(bi)\n",
    "    bit_string = fp.ToBitString()\n",
    "    return np.array([int(char) for char in bit_string], dtype=np.uint8)\n",
    "screening_data['morgan_fingerprint'] = screening_data['rdkit_mol'].progress_apply(calculate_morgan_fingerprint)"
   ]
  },
  {
   "cell_type": "markdown",
   "metadata": {},
   "source": [
    "### 4. Save Results"
   ]
  },
  {
   "cell_type": "code",
   "execution_count": 28,
   "metadata": {},
   "outputs": [],
   "source": [
    "screening_data['bitinfo']=bis"
   ]
  },
  {
   "cell_type": "code",
   "execution_count": 30,
   "metadata": {},
   "outputs": [],
   "source": [
    "assert not screening_data.isna().values.any()  # confirm clean data\n",
    "#screening_data.drop(columns=['smiles', 'rdkit_mol']).to_pickle('../processed_data/screening_data_processed.pkl')\n",
    "screening_data.to_pickle('../processed_data/screening_data_processed.pkl')"
   ]
  },
  {
   "cell_type": "code",
   "execution_count": null,
   "metadata": {},
   "outputs": [],
   "source": []
  }
 ],
 "metadata": {
  "kernelspec": {
   "display_name": "Python 3",
   "language": "python",
   "name": "python3"
  },
  "language_info": {
   "codemirror_mode": {
    "name": "ipython",
    "version": 3
   },
   "file_extension": ".py",
   "mimetype": "text/x-python",
   "name": "python",
   "nbconvert_exporter": "python",
   "pygments_lexer": "ipython3",
   "version": "3.7.6"
  },
  "varInspector": {
   "cols": {
    "lenName": 16,
    "lenType": 16,
    "lenVar": 40
   },
   "kernels_config": {
    "python": {
     "delete_cmd_postfix": "",
     "delete_cmd_prefix": "del ",
     "library": "var_list.py",
     "varRefreshCmd": "print(var_dic_list())"
    },
    "r": {
     "delete_cmd_postfix": ") ",
     "delete_cmd_prefix": "rm(",
     "library": "var_list.r",
     "varRefreshCmd": "cat(var_dic_list()) "
    }
   },
   "types_to_exclude": [
    "module",
    "function",
    "builtin_function_or_method",
    "instance",
    "_Feature"
   ],
   "window_display": false
  }
 },
 "nbformat": 4,
 "nbformat_minor": 4
}
