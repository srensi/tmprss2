{
 "cells": [
  {
   "cell_type": "code",
   "execution_count": 1,
   "metadata": {},
   "outputs": [],
   "source": [
    "import numpy as np\n",
    "import matplotlib.pyplot as plt\n",
    "import pandas as pd\n",
    "import scipy.stats\n",
    "\n",
    "from sklearn.svm import LinearSVC, LinearSVR\n",
    "from sklearn.pipeline import make_pipeline\n",
    "from sklearn.preprocessing import StandardScaler\n",
    "from sklearn.metrics import mean_squared_error\n",
    "from sklearn.model_selection import GridSearchCV, train_test_split"
   ]
  },
  {
   "cell_type": "markdown",
   "metadata": {},
   "source": [
    "Here, we import our TMPRSS2 QSAR Dataset, Dark Chemical Matter Dataset, and Screening Library "
   ]
  },
  {
   "cell_type": "code",
   "execution_count": 2,
   "metadata": {},
   "outputs": [],
   "source": [
    "# collect dataset\n",
    "assays = pd.read_pickle('../processed_data/combined_dataset.pkl')\n",
    "assays = assays[assays.activity_target.isin(['Active', 'Inactive'])]  # get rid of any 'Inconclusive'\n",
    "\n",
    "dcm = pd.read_pickle('../processed_data/DarkChemicalMatter_processed.pkl.gz')\n",
    "\n",
    "# testing data:\n",
    "screening_data = pd.read_pickle('../processed_data/screening_data_processed.pkl')"
   ]
  },
  {
   "cell_type": "code",
   "execution_count": 3,
   "metadata": {},
   "outputs": [
    {
     "data": {
      "text/html": [
       "<div>\n",
       "<style scoped>\n",
       "    .dataframe tbody tr th:only-of-type {\n",
       "        vertical-align: middle;\n",
       "    }\n",
       "\n",
       "    .dataframe tbody tr th {\n",
       "        vertical-align: top;\n",
       "    }\n",
       "\n",
       "    .dataframe thead th {\n",
       "        text-align: right;\n",
       "    }\n",
       "</style>\n",
       "<table border=\"1\" class=\"dataframe\">\n",
       "  <thead>\n",
       "    <tr style=\"text-align: right;\">\n",
       "      <th></th>\n",
       "      <th>source</th>\n",
       "      <th>name</th>\n",
       "      <th>morgan_fingerprint</th>\n",
       "    </tr>\n",
       "  </thead>\n",
       "  <tbody>\n",
       "    <tr>\n",
       "      <th>0</th>\n",
       "      <td>drugbank</td>\n",
       "      <td>Bivalirudin</td>\n",
       "      <td>[0, 1, 0, 0, 0, 0, 0, 0, 0, 0, 0, 0, 0, 0, 0, ...</td>\n",
       "    </tr>\n",
       "    <tr>\n",
       "      <th>1</th>\n",
       "      <td>drugbank</td>\n",
       "      <td>Leuprolide</td>\n",
       "      <td>[0, 1, 0, 0, 0, 0, 0, 0, 0, 0, 0, 0, 0, 0, 0, ...</td>\n",
       "    </tr>\n",
       "    <tr>\n",
       "      <th>2</th>\n",
       "      <td>drugbank</td>\n",
       "      <td>Goserelin</td>\n",
       "      <td>[0, 1, 0, 0, 0, 0, 0, 0, 0, 0, 0, 0, 0, 0, 0, ...</td>\n",
       "    </tr>\n",
       "    <tr>\n",
       "      <th>3</th>\n",
       "      <td>drugbank</td>\n",
       "      <td>Gramicidin D</td>\n",
       "      <td>[0, 1, 0, 0, 0, 0, 0, 0, 0, 0, 0, 0, 0, 0, 0, ...</td>\n",
       "    </tr>\n",
       "    <tr>\n",
       "      <th>4</th>\n",
       "      <td>drugbank</td>\n",
       "      <td>Desmopressin</td>\n",
       "      <td>[0, 1, 0, 0, 0, 0, 0, 0, 0, 0, 0, 0, 0, 0, 0, ...</td>\n",
       "    </tr>\n",
       "    <tr>\n",
       "      <th>...</th>\n",
       "      <td>...</td>\n",
       "      <td>...</td>\n",
       "      <td>...</td>\n",
       "    </tr>\n",
       "    <tr>\n",
       "      <th>21019</th>\n",
       "      <td>broad</td>\n",
       "      <td>zotepine</td>\n",
       "      <td>[0, 0, 0, 0, 0, 0, 0, 0, 0, 0, 0, 0, 0, 1, 0, ...</td>\n",
       "    </tr>\n",
       "    <tr>\n",
       "      <th>21020</th>\n",
       "      <td>broad</td>\n",
       "      <td>zoxazolamine</td>\n",
       "      <td>[0, 0, 0, 0, 0, 0, 0, 0, 0, 0, 0, 0, 0, 0, 0, ...</td>\n",
       "    </tr>\n",
       "    <tr>\n",
       "      <th>21021</th>\n",
       "      <td>broad</td>\n",
       "      <td>zoxazolamine</td>\n",
       "      <td>[0, 0, 0, 0, 0, 0, 0, 0, 0, 0, 0, 0, 0, 0, 0, ...</td>\n",
       "    </tr>\n",
       "    <tr>\n",
       "      <th>21022</th>\n",
       "      <td>broad</td>\n",
       "      <td>ZSTK-474</td>\n",
       "      <td>[0, 1, 0, 0, 0, 0, 0, 0, 0, 0, 0, 0, 0, 0, 0, ...</td>\n",
       "    </tr>\n",
       "    <tr>\n",
       "      <th>21023</th>\n",
       "      <td>broad</td>\n",
       "      <td>zuclopenthixol</td>\n",
       "      <td>[0, 0, 0, 0, 0, 0, 0, 0, 0, 0, 0, 0, 0, 0, 0, ...</td>\n",
       "    </tr>\n",
       "  </tbody>\n",
       "</table>\n",
       "<p>21011 rows × 3 columns</p>\n",
       "</div>"
      ],
      "text/plain": [
       "         source            name  \\\n",
       "0      drugbank     Bivalirudin   \n",
       "1      drugbank      Leuprolide   \n",
       "2      drugbank       Goserelin   \n",
       "3      drugbank    Gramicidin D   \n",
       "4      drugbank    Desmopressin   \n",
       "...         ...             ...   \n",
       "21019     broad        zotepine   \n",
       "21020     broad    zoxazolamine   \n",
       "21021     broad    zoxazolamine   \n",
       "21022     broad        ZSTK-474   \n",
       "21023     broad  zuclopenthixol   \n",
       "\n",
       "                                      morgan_fingerprint  \n",
       "0      [0, 1, 0, 0, 0, 0, 0, 0, 0, 0, 0, 0, 0, 0, 0, ...  \n",
       "1      [0, 1, 0, 0, 0, 0, 0, 0, 0, 0, 0, 0, 0, 0, 0, ...  \n",
       "2      [0, 1, 0, 0, 0, 0, 0, 0, 0, 0, 0, 0, 0, 0, 0, ...  \n",
       "3      [0, 1, 0, 0, 0, 0, 0, 0, 0, 0, 0, 0, 0, 0, 0, ...  \n",
       "4      [0, 1, 0, 0, 0, 0, 0, 0, 0, 0, 0, 0, 0, 0, 0, ...  \n",
       "...                                                  ...  \n",
       "21019  [0, 0, 0, 0, 0, 0, 0, 0, 0, 0, 0, 0, 0, 1, 0, ...  \n",
       "21020  [0, 0, 0, 0, 0, 0, 0, 0, 0, 0, 0, 0, 0, 0, 0, ...  \n",
       "21021  [0, 0, 0, 0, 0, 0, 0, 0, 0, 0, 0, 0, 0, 0, 0, ...  \n",
       "21022  [0, 1, 0, 0, 0, 0, 0, 0, 0, 0, 0, 0, 0, 0, 0, ...  \n",
       "21023  [0, 0, 0, 0, 0, 0, 0, 0, 0, 0, 0, 0, 0, 0, 0, ...  \n",
       "\n",
       "[21011 rows x 3 columns]"
      ]
     },
     "execution_count": 3,
     "metadata": {},
     "output_type": "execute_result"
    }
   ],
   "source": [
    "screening_data"
   ]
  },
  {
   "cell_type": "markdown",
   "metadata": {},
   "source": [
    "Here, we combine our assay data and dark chemical matter data. We next  80%/20% train/test split. This data is split into a training set (80%) and a testing/validation set (20%)"
   ]
  },
  {
   "cell_type": "code",
   "execution_count": 4,
   "metadata": {},
   "outputs": [],
   "source": [
    "X_assays = np.stack(assays.morgan_fingerprint)\n",
    "y_assays = np.ones(len(X_assays))\n",
    "\n",
    "X_dcm = np.stack(dcm.morgan_fingerprint)\n",
    "y_dcm = np.zeros(len(X_dcm))\n",
    "\n",
    "X_combined = np.append(X_assays, X_dcm, axis = 0)\n",
    "y_combined = np.append(y_assays, y_dcm)\n",
    "\n",
    "X_train, X_test, y_train, y_test = train_test_split(X_combined, y_combined, test_size=0.2)"
   ]
  },
  {
   "cell_type": "markdown",
   "metadata": {},
   "source": [
    "Here we use SKLearn GridSearch CV function to identify optimal C parameter for our preliminary SVM Classifier (trained on training set only)"
   ]
  },
  {
   "cell_type": "code",
   "execution_count": 5,
   "metadata": {},
   "outputs": [],
   "source": [
    "Cs = np.logspace(-6, 2, 16)\n",
    "clf = GridSearchCV(estimator=LinearSVC(random_state=0, tol=1e-5), param_grid=dict(C=Cs), n_jobs=-1)\n",
    "clf.fit(X_train, y_train) \n",
    "c_param_SVC_train = clf.best_estimator_.C"
   ]
  },
  {
   "cell_type": "code",
   "execution_count": 6,
   "metadata": {},
   "outputs": [
    {
     "data": {
      "text/plain": [
       "0.7356422544596406"
      ]
     },
     "execution_count": 6,
     "metadata": {},
     "output_type": "execute_result"
    }
   ],
   "source": [
    "c_param_SVC_train "
   ]
  },
  {
   "cell_type": "markdown",
   "metadata": {},
   "source": [
    "Using the C parameter calculated above, we determine the Total Accuracy, False Positive Rate, False Negative Rate of our SVM Classifier"
   ]
  },
  {
   "cell_type": "code",
   "execution_count": 7,
   "metadata": {},
   "outputs": [
    {
     "name": "stderr",
     "output_type": "stream",
     "text": [
      "/opt/miniconda3/envs/tmprss2/lib/python3.6/site-packages/sklearn/svm/_base.py:975: ConvergenceWarning: Liblinear failed to converge, increase the number of iterations.\n",
      "  \"the number of iterations.\", ConvergenceWarning)\n"
     ]
    },
    {
     "data": {
      "text/plain": [
       "0.9997147645024423"
      ]
     },
     "execution_count": 7,
     "metadata": {},
     "output_type": "execute_result"
    }
   ],
   "source": [
    "SVM_validation = make_pipeline(StandardScaler(), LinearSVC(random_state=0, tol=1e-5, C=c_param_SVC_train))\n",
    "SVM_validation.fit(X_train, y_train)\n",
    "\n",
    "pred = SVM_validation.predict(X_test)\n",
    "accuracy = np.sum(pred == y_test)/y_test.size\n",
    "accuracy"
   ]
  },
  {
   "cell_type": "code",
   "execution_count": 8,
   "metadata": {},
   "outputs": [
    {
     "data": {
      "text/plain": [
       "0.015306122448979591"
      ]
     },
     "execution_count": 8,
     "metadata": {},
     "output_type": "execute_result"
    }
   ],
   "source": [
    "i = 0\n",
    "false_positive = 0\n",
    "total_positive = 0\n",
    "false_negative = 0\n",
    "total_negative = 0\n",
    "while(i < len(pred)):\n",
    "    if(y_test[i] == 0):\n",
    "        total_negative += 1\n",
    "        if(pred[i] == 1):\n",
    "            false_positive += 1\n",
    "    elif(y_test[i] == 1):\n",
    "        total_positive += 1\n",
    "        if(pred[i] == 0):\n",
    "            false_negative += 1 \n",
    "    i = i + 1\n",
    "\n",
    "false_positive/total_positive"
   ]
  },
  {
   "cell_type": "code",
   "execution_count": 9,
   "metadata": {},
   "outputs": [
    {
     "data": {
      "text/plain": [
       "0.00017952676744102544"
      ]
     },
     "execution_count": 9,
     "metadata": {},
     "output_type": "execute_result"
    }
   ],
   "source": [
    "false_negative/total_negative"
   ]
  },
  {
   "cell_type": "code",
   "execution_count": 10,
   "metadata": {},
   "outputs": [
    {
     "data": {
      "text/plain": [
       "0.00028523549755767106"
      ]
     },
     "execution_count": 10,
     "metadata": {},
     "output_type": "execute_result"
    }
   ],
   "source": [
    "## Total error\n",
    "(false_positive+false_negative)/(total_positive+total_negative)"
   ]
  },
  {
   "cell_type": "markdown",
   "metadata": {},
   "source": [
    "Here, we use SKLearn GridSearch CV function to identify optimal C parameter for our full SVM Classifier (trained on assays and Dark Chemical Matter)"
   ]
  },
  {
   "cell_type": "code",
   "execution_count": 11,
   "metadata": {},
   "outputs": [
    {
     "name": "stderr",
     "output_type": "stream",
     "text": [
      "/opt/miniconda3/envs/tmprss2/lib/python3.6/site-packages/sklearn/svm/_base.py:975: ConvergenceWarning: Liblinear failed to converge, increase the number of iterations.\n",
      "  \"the number of iterations.\", ConvergenceWarning)\n"
     ]
    }
   ],
   "source": [
    "Cs = np.logspace(-6, 2, 16)\n",
    "clf = GridSearchCV(estimator=LinearSVC(random_state=0, tol=1e-5), param_grid=dict(C=Cs), n_jobs=-1)\n",
    "clf.fit(X_combined, y_combined) \n",
    "c_param_SVC_test = clf.best_estimator_.C"
   ]
  },
  {
   "cell_type": "code",
   "execution_count": 12,
   "metadata": {},
   "outputs": [
    {
     "data": {
      "text/plain": [
       "8.576958985908945"
      ]
     },
     "execution_count": 12,
     "metadata": {},
     "output_type": "execute_result"
    }
   ],
   "source": [
    "c_param_SVC_test"
   ]
  },
  {
   "cell_type": "markdown",
   "metadata": {},
   "source": [
    "Here, we use our full SVM Classifier to identify potentially-active compounds from our screening library "
   ]
  },
  {
   "cell_type": "code",
   "execution_count": 13,
   "metadata": {},
   "outputs": [
    {
     "name": "stderr",
     "output_type": "stream",
     "text": [
      "/opt/miniconda3/envs/tmprss2/lib/python3.6/site-packages/sklearn/svm/_base.py:975: ConvergenceWarning: Liblinear failed to converge, increase the number of iterations.\n",
      "  \"the number of iterations.\", ConvergenceWarning)\n"
     ]
    }
   ],
   "source": [
    "SVM_testing = make_pipeline(StandardScaler(), LinearSVC(random_state=0, tol=1e-5, C=c_param_SVC_test))\n",
    "SVM_testing.fit(X_combined, y_combined)\n",
    "\n",
    "screening_compounds = np.stack(screening_data.morgan_fingerprint)\n",
    "\n",
    "pred = SVM_testing.predict(screening_compounds)\n",
    "screening_data['predictions'] = pred\n",
    "inactiveCompounds = screening_data[(screening_data['predictions'] == 0)].index\n",
    "active_screening_compounds = screening_data.drop(inactiveCompounds)"
   ]
  },
  {
   "cell_type": "code",
   "execution_count": 14,
   "metadata": {},
   "outputs": [
    {
     "data": {
      "text/plain": [
       "504"
      ]
     },
     "execution_count": 14,
     "metadata": {},
     "output_type": "execute_result"
    }
   ],
   "source": [
    "len(active_screening_compounds)"
   ]
  },
  {
   "cell_type": "markdown",
   "metadata": {},
   "source": [
    "Next, we identify the subset of the training data for which Ki values can be scaled to TMPRSS2 for use in regression analysis. This data is split into a training set (80%) and a testing/validation set (20%)"
   ]
  },
  {
   "cell_type": "code",
   "execution_count": 15,
   "metadata": {},
   "outputs": [],
   "source": [
    "y_assays_logKi_raw = np.log10(assays.acvalue_scaled_to_tmprss2)\n",
    "nan_array = np.isnan(y_assays_logKi_raw)\n",
    "not_nan = ~nan_array\n",
    "y_assays_logKi = y_assays_logKi_raw[not_nan]\n",
    "X_assays = X_assays[not_nan]\n",
    "\n",
    "train_X, test_X, train_y, test_y = train_test_split(X_assays, y_assays_logKi, test_size=0.2)"
   ]
  },
  {
   "cell_type": "markdown",
   "metadata": {},
   "source": [
    "Next, we use SKLearn GridSearch CV function to identify optimal C parameter for our preliminary Support Vector Regressor (trained on training set only)"
   ]
  },
  {
   "cell_type": "code",
   "execution_count": 16,
   "metadata": {
    "tags": []
   },
   "outputs": [],
   "source": [
    "# Use SKLearn GridSearch CV function to identify optimal C parameter for SVM regression (training set)\n",
    "Cs = np.logspace(-6, 2, 16)\n",
    "clf = GridSearchCV(estimator=LinearSVR(random_state=0, tol=1e-5), param_grid=dict(C=Cs), n_jobs=-1)\n",
    "clf.fit(train_X, train_y) \n",
    "c_param_SVR_test = clf.best_estimator_.C\n"
   ]
  },
  {
   "cell_type": "code",
   "execution_count": 17,
   "metadata": {},
   "outputs": [
    {
     "data": {
      "text/plain": [
       "0.0630957344480193"
      ]
     },
     "execution_count": 17,
     "metadata": {},
     "output_type": "execute_result"
    }
   ],
   "source": [
    "c_param_SVR_test"
   ]
  },
  {
   "cell_type": "markdown",
   "metadata": {},
   "source": [
    "Using the C paramater calculated above, we calculate the RMSE of our regressor and the correlation coefficient between our predicted and ground-truth values."
   ]
  },
  {
   "cell_type": "code",
   "execution_count": 18,
   "metadata": {
    "tags": []
   },
   "outputs": [
    {
     "name": "stderr",
     "output_type": "stream",
     "text": [
      "/opt/miniconda3/envs/tmprss2/lib/python3.6/site-packages/sklearn/svm/_base.py:975: ConvergenceWarning: Liblinear failed to converge, increase the number of iterations.\n",
      "  \"the number of iterations.\", ConvergenceWarning)\n"
     ]
    },
    {
     "name": "stdout",
     "output_type": "stream",
     "text": [
      "SVR RMSE:0.9440120268128477\n",
      "(0.7044069501774843, 5.399159586057514e-14)\n"
     ]
    },
    {
     "data": {
      "image/png": "[encoded data removed]",
      "text/plain": [
       "<Figure size 432x288 with 1 Axes>"
      ]
     },
     "metadata": {
      "needs_background": "light"
     },
     "output_type": "display_data"
    }
   ],
   "source": [
    "#Run SVM regression using SKLearn on test set. Linear regression for prediction accuracy\n",
    "svmReg = make_pipeline(StandardScaler(), LinearSVR(random_state=0, tol=1e-5, C=c_param_SVR_test))\n",
    "svmReg.fit(train_X, train_y)\n",
    "\n",
    "pred = svmReg.predict(test_X)\n",
    "MSE = mean_squared_error(test_y, pred)\n",
    "RMSE = np.sqrt(MSE)\n",
    "print(\"SVR RMSE:{}\".format(RMSE))\n",
    "\n",
    "plt.scatter(test_y, pred)\n",
    "plt.xlabel('log10(Actual Ki), μM')\n",
    "plt.ylabel('log10(Predicted Ki), μM')\n",
    "plt.title('SVM Validation Data')\n",
    "\n",
    "corr = scipy.stats.pearsonr(test_y, pred)\n",
    "print(corr)"
   ]
  },
  {
   "cell_type": "markdown",
   "metadata": {},
   "source": [
    "Next, we use SKLearn GridSearch CV function to identify optimal C parameter for our full Support Vector Regressor (trained on training set and testing set)"
   ]
  },
  {
   "cell_type": "code",
   "execution_count": 19,
   "metadata": {
    "tags": []
   },
   "outputs": [],
   "source": [
    "#SKLearn C parameter optimization\n",
    "Cs = np.logspace(-6, 2, 16)\n",
    "clf_full = GridSearchCV(estimator=LinearSVR(random_state=0, tol=1e-5), param_grid=dict(C=Cs), n_jobs=-1)\n",
    "clf_full.fit(X_assays, y_assays_logKi) \n",
    "c_param_full = clf_full.best_estimator_.C\n"
   ]
  },
  {
   "cell_type": "code",
   "execution_count": 20,
   "metadata": {},
   "outputs": [
    {
     "data": {
      "text/plain": [
       "0.018478497974222907"
      ]
     },
     "execution_count": 20,
     "metadata": {},
     "output_type": "execute_result"
    }
   ],
   "source": [
    "c_param_full "
   ]
  },
  {
   "cell_type": "markdown",
   "metadata": {},
   "source": [
    "Finally, using this C parameter, we screen the active compounds identified by our SVM Classifier to identify the compounds which are predicted to bind most effectively to TMPRSS2"
   ]
  },
  {
   "cell_type": "code",
   "execution_count": 21,
   "metadata": {},
   "outputs": [],
   "source": [
    "#Run regressor (trained on full dataset)\n",
    "test_compounds = np.stack(active_screening_compounds.morgan_fingerprint)\n",
    "\n",
    "svmReg_full = make_pipeline(StandardScaler(), LinearSVR(random_state=0, tol=1e-5, C=c_param_full))\n",
    "svmReg_full.fit(X_assays, y_assays_logKi)\n",
    "pred_values = svmReg_full.predict(test_compounds)"
   ]
  },
  {
   "cell_type": "code",
   "execution_count": 22,
   "metadata": {},
   "outputs": [
    {
     "data": {
      "text/html": [
       "<div>\n",
       "<style scoped>\n",
       "    .dataframe tbody tr th:only-of-type {\n",
       "        vertical-align: middle;\n",
       "    }\n",
       "\n",
       "    .dataframe tbody tr th {\n",
       "        vertical-align: top;\n",
       "    }\n",
       "\n",
       "    .dataframe thead th {\n",
       "        text-align: right;\n",
       "    }\n",
       "</style>\n",
       "<table border=\"1\" class=\"dataframe\">\n",
       "  <thead>\n",
       "    <tr style=\"text-align: right;\">\n",
       "      <th></th>\n",
       "      <th>source</th>\n",
       "      <th>name</th>\n",
       "      <th>morgan_fingerprint</th>\n",
       "      <th>predictions</th>\n",
       "      <th>pred_value</th>\n",
       "    </tr>\n",
       "  </thead>\n",
       "  <tbody>\n",
       "    <tr>\n",
       "      <th>10797</th>\n",
       "      <td>reframe</td>\n",
       "      <td>Nafamostat</td>\n",
       "      <td>[0, 0, 0, 0, 0, 0, 0, 0, 0, 0, 0, 1, 0, 0, 0, ...</td>\n",
       "      <td>1.0</td>\n",
       "      <td>-4.573876</td>\n",
       "    </tr>\n",
       "    <tr>\n",
       "      <th>19603</th>\n",
       "      <td>broad</td>\n",
       "      <td>substance-p</td>\n",
       "      <td>[0, 1, 0, 0, 0, 0, 0, 0, 0, 0, 0, 1, 0, 0, 0, ...</td>\n",
       "      <td>1.0</td>\n",
       "      <td>-3.270127</td>\n",
       "    </tr>\n",
       "    <tr>\n",
       "      <th>10749</th>\n",
       "      <td>reframe</td>\n",
       "      <td>Camostat</td>\n",
       "      <td>[0, 0, 0, 0, 0, 0, 0, 0, 0, 0, 0, 1, 0, 0, 0, ...</td>\n",
       "      <td>1.0</td>\n",
       "      <td>-3.063754</td>\n",
       "    </tr>\n",
       "    <tr>\n",
       "      <th>4725</th>\n",
       "      <td>drugbank</td>\n",
       "      <td>Sar9, Met (O2)11-Substance P</td>\n",
       "      <td>[0, 1, 0, 0, 0, 0, 0, 0, 0, 0, 0, 0, 0, 0, 0, ...</td>\n",
       "      <td>1.0</td>\n",
       "      <td>-2.878925</td>\n",
       "    </tr>\n",
       "    <tr>\n",
       "      <th>10877</th>\n",
       "      <td>broad</td>\n",
       "      <td>[sar9,met(o2)11]-substance-p</td>\n",
       "      <td>[0, 1, 0, 0, 0, 0, 0, 0, 0, 0, 0, 0, 0, 0, 0, ...</td>\n",
       "      <td>1.0</td>\n",
       "      <td>-2.878925</td>\n",
       "    </tr>\n",
       "    <tr>\n",
       "      <th>10789</th>\n",
       "      <td>reframe</td>\n",
       "      <td>RWJ-58643</td>\n",
       "      <td>[0, 1, 0, 0, 0, 0, 0, 0, 0, 0, 0, 0, 0, 0, 0, ...</td>\n",
       "      <td>1.0</td>\n",
       "      <td>-2.231467</td>\n",
       "    </tr>\n",
       "    <tr>\n",
       "      <th>10747</th>\n",
       "      <td>reframe</td>\n",
       "      <td>Sepimostat mesilate</td>\n",
       "      <td>[0, 0, 0, 0, 0, 0, 0, 0, 0, 0, 0, 0, 0, 0, 0, ...</td>\n",
       "      <td>1.0</td>\n",
       "      <td>-2.119771</td>\n",
       "    </tr>\n",
       "    <tr>\n",
       "      <th>2513</th>\n",
       "      <td>drugbank</td>\n",
       "      <td>RWJ-56423</td>\n",
       "      <td>[0, 1, 0, 0, 0, 0, 0, 0, 0, 0, 0, 0, 0, 0, 0, ...</td>\n",
       "      <td>1.0</td>\n",
       "      <td>-2.051523</td>\n",
       "    </tr>\n",
       "    <tr>\n",
       "      <th>10791</th>\n",
       "      <td>reframe</td>\n",
       "      <td>Telaprevir</td>\n",
       "      <td>[0, 1, 1, 0, 0, 0, 0, 0, 0, 1, 0, 0, 0, 0, 0, ...</td>\n",
       "      <td>1.0</td>\n",
       "      <td>-2.013405</td>\n",
       "    </tr>\n",
       "    <tr>\n",
       "      <th>4645</th>\n",
       "      <td>drugbank</td>\n",
       "      <td>Telaprevir</td>\n",
       "      <td>[0, 1, 1, 0, 0, 0, 0, 0, 0, 1, 0, 0, 0, 0, 0, ...</td>\n",
       "      <td>1.0</td>\n",
       "      <td>-2.013405</td>\n",
       "    </tr>\n",
       "    <tr>\n",
       "      <th>19919</th>\n",
       "      <td>broad</td>\n",
       "      <td>telaprevir</td>\n",
       "      <td>[0, 1, 1, 0, 0, 0, 0, 0, 0, 1, 0, 0, 0, 0, 0, ...</td>\n",
       "      <td>1.0</td>\n",
       "      <td>-2.013405</td>\n",
       "    </tr>\n",
       "    <tr>\n",
       "      <th>19920</th>\n",
       "      <td>broad</td>\n",
       "      <td>telaprevir</td>\n",
       "      <td>[0, 1, 1, 0, 0, 0, 0, 0, 0, 1, 0, 0, 0, 0, 0, ...</td>\n",
       "      <td>1.0</td>\n",
       "      <td>-2.013405</td>\n",
       "    </tr>\n",
       "    <tr>\n",
       "      <th>10815</th>\n",
       "      <td>reframe</td>\n",
       "      <td>atecegatran</td>\n",
       "      <td>[0, 1, 0, 0, 0, 0, 0, 0, 0, 0, 0, 0, 0, 0, 0, ...</td>\n",
       "      <td>1.0</td>\n",
       "      <td>-1.981761</td>\n",
       "    </tr>\n",
       "    <tr>\n",
       "      <th>2928</th>\n",
       "      <td>drugbank</td>\n",
       "      <td>RWJ-51084</td>\n",
       "      <td>[0, 1, 0, 0, 0, 0, 0, 0, 0, 0, 0, 0, 0, 0, 0, ...</td>\n",
       "      <td>1.0</td>\n",
       "      <td>-1.887687</td>\n",
       "    </tr>\n",
       "    <tr>\n",
       "      <th>17040</th>\n",
       "      <td>broad</td>\n",
       "      <td>nafamostat</td>\n",
       "      <td>[0, 0, 0, 0, 0, 0, 0, 0, 0, 0, 0, 0, 0, 0, 0, ...</td>\n",
       "      <td>1.0</td>\n",
       "      <td>-1.866494</td>\n",
       "    </tr>\n",
       "    <tr>\n",
       "      <th>17038</th>\n",
       "      <td>broad</td>\n",
       "      <td>nafamostat</td>\n",
       "      <td>[0, 0, 0, 0, 0, 0, 0, 0, 0, 0, 0, 0, 0, 0, 0, ...</td>\n",
       "      <td>1.0</td>\n",
       "      <td>-1.866494</td>\n",
       "    </tr>\n",
       "    <tr>\n",
       "      <th>17039</th>\n",
       "      <td>broad</td>\n",
       "      <td>nafamostat</td>\n",
       "      <td>[0, 0, 0, 0, 0, 0, 0, 0, 0, 0, 0, 0, 0, 0, 0, ...</td>\n",
       "      <td>1.0</td>\n",
       "      <td>-1.866494</td>\n",
       "    </tr>\n",
       "    <tr>\n",
       "      <th>8697</th>\n",
       "      <td>drugbank</td>\n",
       "      <td>Nafamostat</td>\n",
       "      <td>[0, 0, 0, 0, 0, 0, 0, 0, 0, 0, 0, 0, 0, 0, 0, ...</td>\n",
       "      <td>1.0</td>\n",
       "      <td>-1.866494</td>\n",
       "    </tr>\n",
       "    <tr>\n",
       "      <th>20636</th>\n",
       "      <td>broad</td>\n",
       "      <td>vasopressin</td>\n",
       "      <td>[0, 1, 0, 0, 0, 0, 0, 0, 0, 0, 0, 0, 0, 0, 0, ...</td>\n",
       "      <td>1.0</td>\n",
       "      <td>-1.845607</td>\n",
       "    </tr>\n",
       "    <tr>\n",
       "      <th>16384</th>\n",
       "      <td>broad</td>\n",
       "      <td>lypressin</td>\n",
       "      <td>[0, 1, 0, 0, 0, 0, 0, 0, 0, 0, 0, 0, 0, 0, 0, ...</td>\n",
       "      <td>1.0</td>\n",
       "      <td>-1.757073</td>\n",
       "    </tr>\n",
       "  </tbody>\n",
       "</table>\n",
       "</div>"
      ],
      "text/plain": [
       "         source                          name  \\\n",
       "10797   reframe                    Nafamostat   \n",
       "19603     broad                   substance-p   \n",
       "10749   reframe                      Camostat   \n",
       "4725   drugbank  Sar9, Met (O2)11-Substance P   \n",
       "10877     broad  [sar9,met(o2)11]-substance-p   \n",
       "10789   reframe                     RWJ-58643   \n",
       "10747   reframe           Sepimostat mesilate   \n",
       "2513   drugbank                     RWJ-56423   \n",
       "10791   reframe                    Telaprevir   \n",
       "4645   drugbank                    Telaprevir   \n",
       "19919     broad                    telaprevir   \n",
       "19920     broad                    telaprevir   \n",
       "10815   reframe                   atecegatran   \n",
       "2928   drugbank                     RWJ-51084   \n",
       "17040     broad                    nafamostat   \n",
       "17038     broad                    nafamostat   \n",
       "17039     broad                    nafamostat   \n",
       "8697   drugbank                    Nafamostat   \n",
       "20636     broad                   vasopressin   \n",
       "16384     broad                     lypressin   \n",
       "\n",
       "                                      morgan_fingerprint  predictions  \\\n",
       "10797  [0, 0, 0, 0, 0, 0, 0, 0, 0, 0, 0, 1, 0, 0, 0, ...          1.0   \n",
       "19603  [0, 1, 0, 0, 0, 0, 0, 0, 0, 0, 0, 1, 0, 0, 0, ...          1.0   \n",
       "10749  [0, 0, 0, 0, 0, 0, 0, 0, 0, 0, 0, 1, 0, 0, 0, ...          1.0   \n",
       "4725   [0, 1, 0, 0, 0, 0, 0, 0, 0, 0, 0, 0, 0, 0, 0, ...          1.0   \n",
       "10877  [0, 1, 0, 0, 0, 0, 0, 0, 0, 0, 0, 0, 0, 0, 0, ...          1.0   \n",
       "10789  [0, 1, 0, 0, 0, 0, 0, 0, 0, 0, 0, 0, 0, 0, 0, ...          1.0   \n",
       "10747  [0, 0, 0, 0, 0, 0, 0, 0, 0, 0, 0, 0, 0, 0, 0, ...          1.0   \n",
       "2513   [0, 1, 0, 0, 0, 0, 0, 0, 0, 0, 0, 0, 0, 0, 0, ...          1.0   \n",
       "10791  [0, 1, 1, 0, 0, 0, 0, 0, 0, 1, 0, 0, 0, 0, 0, ...          1.0   \n",
       "4645   [0, 1, 1, 0, 0, 0, 0, 0, 0, 1, 0, 0, 0, 0, 0, ...          1.0   \n",
       "19919  [0, 1, 1, 0, 0, 0, 0, 0, 0, 1, 0, 0, 0, 0, 0, ...          1.0   \n",
       "19920  [0, 1, 1, 0, 0, 0, 0, 0, 0, 1, 0, 0, 0, 0, 0, ...          1.0   \n",
       "10815  [0, 1, 0, 0, 0, 0, 0, 0, 0, 0, 0, 0, 0, 0, 0, ...          1.0   \n",
       "2928   [0, 1, 0, 0, 0, 0, 0, 0, 0, 0, 0, 0, 0, 0, 0, ...          1.0   \n",
       "17040  [0, 0, 0, 0, 0, 0, 0, 0, 0, 0, 0, 0, 0, 0, 0, ...          1.0   \n",
       "17038  [0, 0, 0, 0, 0, 0, 0, 0, 0, 0, 0, 0, 0, 0, 0, ...          1.0   \n",
       "17039  [0, 0, 0, 0, 0, 0, 0, 0, 0, 0, 0, 0, 0, 0, 0, ...          1.0   \n",
       "8697   [0, 0, 0, 0, 0, 0, 0, 0, 0, 0, 0, 0, 0, 0, 0, ...          1.0   \n",
       "20636  [0, 1, 0, 0, 0, 0, 0, 0, 0, 0, 0, 0, 0, 0, 0, ...          1.0   \n",
       "16384  [0, 1, 0, 0, 0, 0, 0, 0, 0, 0, 0, 0, 0, 0, 0, ...          1.0   \n",
       "\n",
       "       pred_value  \n",
       "10797   -4.573876  \n",
       "19603   -3.270127  \n",
       "10749   -3.063754  \n",
       "4725    -2.878925  \n",
       "10877   -2.878925  \n",
       "10789   -2.231467  \n",
       "10747   -2.119771  \n",
       "2513    -2.051523  \n",
       "10791   -2.013405  \n",
       "4645    -2.013405  \n",
       "19919   -2.013405  \n",
       "19920   -2.013405  \n",
       "10815   -1.981761  \n",
       "2928    -1.887687  \n",
       "17040   -1.866494  \n",
       "17038   -1.866494  \n",
       "17039   -1.866494  \n",
       "8697    -1.866494  \n",
       "20636   -1.845607  \n",
       "16384   -1.757073  "
      ]
     },
     "execution_count": 22,
     "metadata": {},
     "output_type": "execute_result"
    }
   ],
   "source": [
    "#identify top hits\n",
    "active_screening_compounds['pred_value'] = pred_values\n",
    "active_screening_compounds.sort_values(by='pred_value', inplace=True)\n",
    "active_screening_compounds.head(20)"
   ]
  },
  {
   "cell_type": "code",
   "execution_count": 23,
   "metadata": {},
   "outputs": [
    {
     "data": {
      "text/plain": [
       "Text(0.5, 1.0, 'Predicted Ki Values of Potentially-Active Compounds')"
      ]
     },
     "execution_count": 23,
     "metadata": {},
     "output_type": "execute_result"
    },
    {
     "data": {
      "image/png": "[encoded data removed]",
      "text/plain": [
       "<Figure size 432x288 with 1 Axes>"
      ]
     },
     "metadata": {
      "needs_background": "light"
     },
     "output_type": "display_data"
    }
   ],
   "source": [
    "plt.hist(active_screening_compounds.pred_value, bins = 20)\n",
    "plt.xlabel('log10(Predicted Ki of test compound), μM')\n",
    "plt.ylabel('Abundance of Compounds in Bin')\n",
    "plt.title('Predicted Ki Values of Potentially-Active Compounds')"
   ]
  },
  {
   "cell_type": "markdown",
   "metadata": {},
   "source": [
    "Here, we save our results with duplicates removed, keeping lowest predicted value"
   ]
  },
  {
   "cell_type": "code",
   "execution_count": 25,
   "metadata": {},
   "outputs": [],
   "source": [
    "active_screening_compounds[\"name\"] = active_screening_compounds[\"name\"].str.upper()\n",
    "active_screening_compounds.drop_duplicates(subset=['name'], keep='first', inplace=True)\n",
    "active_screening_compounds['validation_RMSE'] = RMSE\n",
    "active_screening_compounds.to_csv('../results/SVM_results.csv')"
   ]
  }
 ],
 "metadata": {
  "kernelspec": {
   "display_name": "Python 3",
   "language": "python",
   "name": "python3"
  },
  "language_info": {
   "codemirror_mode": {
    "name": "ipython",
    "version": 3
   },
   "file_extension": ".py",
   "mimetype": "text/x-python",
   "name": "python",
   "nbconvert_exporter": "python",
   "pygments_lexer": "ipython3",
   "version": "3.6.10"
  }
 },
 "nbformat": 4,
 "nbformat_minor": 4
}
