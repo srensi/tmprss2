{
 "cells": [
  {
   "cell_type": "code",
   "execution_count": 1,
   "metadata": {
    "collapsed": true
   },
   "outputs": [],
   "source": [
    "settings = {\n",
    "    \"xsrf_cookies\": False,\n",
    "}"
   ]
  },
  {
   "cell_type": "markdown",
   "metadata": {},
   "source": [
    "In this notebook we explore using random forest to determine activity values of molecules (using regression) and predicting an active/inactive molecule (using classification).  First we load the fingerprints from RDkit."
   ]
  },
  {
   "cell_type": "code",
   "execution_count": 1,
   "metadata": {},
   "outputs": [],
   "source": [
    "import pandas as pd\n",
    "import itertools\n",
    "from sklearn.ensemble import RandomForestClassifier, RandomForestRegressor\n",
    "#from sklearn.model_selection import train_test_split\n",
    "from sklearn.inspection import permutation_importance\n",
    "from sklearn.metrics import classification_report, confusion_matrix\n",
    "import matplotlib.pyplot as plt\n",
    "import numpy as np\n",
    "\n",
    "data = pd.read_pickle('../processed_data/combined_dataset.pkl')\n",
    "N=len(data.loc[data['target'] == 'TMPRSS2']) #number of compounds tested against TMPRSS2 itself\n",
    "fp_dark=pd.read_pickle('../processed_data/DarkChemicalMatter_processed.pkl.gz')\n",
    "fp_dark=np.stack(fp_dark['morgan_fingerprint'])"
   ]
  },
  {
   "cell_type": "markdown",
   "metadata": {},
   "source": [
    "We have two sets of activity values since not all compound assays were performed against TMPRSS2 (the protease of interest in this study).  Thus, some compounds' activity values have to be scaled via a correlation of the protease they were originally purposed for, against TMPRSS2.  We save the binary values of whether a compound was deemed active/inactive as \"activity\", and the numeric activity value as \"ac_merged\".  Also we note if the values are taken from the \"scaled\" dataset.  Ac values are converted to negative log10.  Finally we convert everything to numpy array to input into random forest."
   ]
  },
  {
   "cell_type": "markdown",
   "metadata": {},
   "source": [
    "Now we split the training and the test data.  To test how well the random forest works, we split the compounds with known TMPRSS2 activity (that is, their recorded ac value is from an assay against TMPRSS2) between the training and test sets.  Here I've used a 2/3 training 1/3 test split, which can be changed by changing variable \"n_test\".  The indices assigned by the split is randomly shuffled each time the code is run."
   ]
  },
  {
   "cell_type": "code",
   "execution_count": 2,
   "metadata": {},
   "outputs": [],
   "source": [
    "fps_merged=np.stack(data[data['acvalue_target'].notnull()]['morgan_fingerprint'])\n",
    "fps_merged_scaled=np.stack(data[data['acvalue_scaled_to_tmprss2'].notnull()]['morgan_fingerprint'])\n",
    "ac_merged_scaled=np.asarray(data[data['acvalue_scaled_to_tmprss2'].notnull()]['acvalue_scaled_to_tmprss2'])\n",
    "act_list=list(data[data['acvalue_target'].notnull()]['activity_target'])\n",
    "act_list_2=list(data[data['acvalue_scaled_to_tmprss2'].notnull()]['activity_target'])\n",
    "activity_scaled=[]\n",
    "activity=[]\n",
    "for i in range(len(act_list)):\n",
    "    if act_list[i] == 'Active':\n",
    "        activity.append(1)\n",
    "    else:\n",
    "        activity.append(0)\n",
    "for i in range(len(act_list_2)):\n",
    "    if act_list_2[i] == 'Active':\n",
    "        activity_scaled.append(1)\n",
    "    else:\n",
    "        activity_scaled.append(0)\n",
    "#alternatively\n",
    "ac_merged=np.asarray(data[data['acvalue_target'].notnull()]['acvalue_target'])\n",
    "activity=np.array(activity)\n",
    "ac_merged=-np.log10(ac_merged)\n",
    "activity_scaled=np.array(activity_scaled)\n",
    "ac_merged_scaled=-np.log10(ac_merged_scaled)"
   ]
  },
  {
   "cell_type": "code",
   "execution_count": 3,
   "metadata": {},
   "outputs": [],
   "source": [
    "#split train and test \n",
    "#split the tmprss2 active compounds into training and test\n",
    "import random\n",
    "s=np.arange(N)\n",
    "random.seed(33)#set seed for reproducibility\n",
    "random.shuffle(s)\n",
    "n_test=round(N/3) #percentage to withold for testing\n",
    "cut=n_test\n",
    "test=s[0:cut]\n",
    "train=s[cut::]"
   ]
  },
  {
   "cell_type": "markdown",
   "metadata": {},
   "source": [
    "Here we generate training and test sets for the classifier, which incorporates the \"dark chemical matter\" which is known to be inactive.  We split the dark chemical matter evenly between the test and training sets.  You can skip the following code block if not running the classifier.  The purpose of the classifier is to do a preliminary \"filtering\" of active/inactive molecules for the regressor."
   ]
  },
  {
   "cell_type": "code",
   "execution_count": 4,
   "metadata": {},
   "outputs": [],
   "source": [
    "s=np.arange(len(fp_dark))\n",
    "random.shuffle(s)\n",
    "cut=round(len(fp_dark)/2)\n",
    "test_dark=s[0:cut]\n",
    "train_dark=s[cut::]\n",
    "X_test=np.concatenate((fps_merged_scaled[test], fp_dark[test_dark]))\n",
    "X_train=np.concatenate((fps_merged_scaled[train], fps_merged_scaled[N::], fp_dark[train_dark]))\n",
    "y_train=np.concatenate((activity_scaled[train], activity_scaled[N::], np.zeros([len(train_dark)])))\n",
    "y2_train=np.concatenate((ac_merged_scaled[train], ac_merged_scaled[N::], np.zeros([len(train_dark)])))\n",
    "y_test=np.concatenate((activity_scaled[test], np.zeros([len(test_dark)])))\n",
    "y2_test=np.concatenate((ac_merged_scaled[test],np.zeros([len(test_dark)])))\n",
    "\n",
    "X_test_u=np.concatenate((fps_merged[test], fp_dark[test_dark]))\n",
    "X_train_u=np.concatenate((fps_merged[train], fps_merged[N::], fp_dark[train_dark]))\n",
    "y_train_u=np.concatenate((activity[train], activity[N::], np.zeros([len(train_dark)])))\n",
    "y2_train_u=np.concatenate((ac_merged[train], ac_merged[N::], np.zeros([len(train_dark)])))\n",
    "y_test_u=np.concatenate((activity[test], np.zeros([len(test_dark)])))\n",
    "y2_test_u=np.concatenate((ac_merged[test],np.zeros([len(test_dark)])))\n",
    "#generate big training set\n",
    "X_train_all=np.concatenate((fps_merged_scaled, fp_dark))\n",
    "y2_train_all=np.concatenate((ac_merged_scaled, np.zeros([len(fp_dark)])))\n",
    "y_train_all=np.concatenate((activity_scaled, np.zeros([len(fp_dark)])))"
   ]
  },
  {
   "cell_type": "markdown",
   "metadata": {},
   "source": [
    "Here we run the classifier for the test case (where our test set has some compounds with known TMPRSS2 activity)."
   ]
  },
  {
   "cell_type": "code",
   "execution_count": 5,
   "metadata": {
    "scrolled": true
   },
   "outputs": [
    {
     "name": "stderr",
     "output_type": "stream",
     "text": [
      "[Parallel(n_jobs=1)]: Using backend SequentialBackend with 1 concurrent workers.\n"
     ]
    },
    {
     "name": "stdout",
     "output_type": "stream",
     "text": [
      "building tree 1 of 100\n"
     ]
    },
    {
     "name": "stderr",
     "output_type": "stream",
     "text": [
      "[Parallel(n_jobs=1)]: Done   1 out of   1 | elapsed:    0.5s remaining:    0.0s\n"
     ]
    },
    {
     "name": "stdout",
     "output_type": "stream",
     "text": [
      "building tree 2 of 100\n",
      "building tree 3 of 100\n",
      "building tree 4 of 100\n",
      "building tree 5 of 100\n",
      "building tree 6 of 100\n",
      "building tree 7 of 100\n",
      "building tree 8 of 100\n",
      "building tree 9 of 100\n",
      "building tree 10 of 100\n",
      "building tree 11 of 100\n",
      "building tree 12 of 100\n",
      "building tree 13 of 100\n",
      "building tree 14 of 100\n",
      "building tree 15 of 100\n",
      "building tree 16 of 100\n",
      "building tree 17 of 100\n",
      "building tree 18 of 100\n",
      "building tree 19 of 100\n",
      "building tree 20 of 100\n",
      "building tree 21 of 100\n",
      "building tree 22 of 100\n",
      "building tree 23 of 100\n",
      "building tree 24 of 100\n",
      "building tree 25 of 100\n",
      "building tree 26 of 100\n",
      "building tree 27 of 100\n",
      "building tree 28 of 100\n",
      "building tree 29 of 100\n",
      "building tree 30 of 100\n",
      "building tree 31 of 100\n",
      "building tree 32 of 100\n",
      "building tree 33 of 100\n",
      "building tree 34 of 100\n",
      "building tree 35 of 100\n",
      "building tree 36 of 100\n",
      "building tree 37 of 100\n",
      "building tree 38 of 100\n",
      "building tree 39 of 100\n",
      "building tree 40 of 100\n",
      "building tree 41 of 100\n",
      "building tree 42 of 100\n",
      "building tree 43 of 100\n",
      "building tree 44 of 100\n",
      "building tree 45 of 100\n",
      "building tree 46 of 100\n",
      "building tree 47 of 100\n",
      "building tree 48 of 100\n",
      "building tree 49 of 100\n",
      "building tree 50 of 100\n",
      "building tree 51 of 100\n",
      "building tree 52 of 100\n",
      "building tree 53 of 100\n",
      "building tree 54 of 100\n",
      "building tree 55 of 100\n",
      "building tree 56 of 100\n",
      "building tree 57 of 100\n",
      "building tree 58 of 100\n",
      "building tree 59 of 100\n",
      "building tree 60 of 100\n",
      "building tree 61 of 100\n",
      "building tree 62 of 100\n",
      "building tree 63 of 100\n",
      "building tree 64 of 100\n",
      "building tree 65 of 100\n",
      "building tree 66 of 100\n",
      "building tree 67 of 100\n",
      "building tree 68 of 100\n",
      "building tree 69 of 100\n",
      "building tree 70 of 100\n",
      "building tree 71 of 100\n",
      "building tree 72 of 100\n",
      "building tree 73 of 100\n",
      "building tree 74 of 100\n",
      "building tree 75 of 100\n",
      "building tree 76 of 100\n",
      "building tree 77 of 100\n",
      "building tree 78 of 100\n",
      "building tree 79 of 100\n",
      "building tree 80 of 100\n",
      "building tree 81 of 100\n",
      "building tree 82 of 100\n",
      "building tree 83 of 100\n",
      "building tree 84 of 100\n",
      "building tree 85 of 100\n",
      "building tree 86 of 100\n",
      "building tree 87 of 100\n",
      "building tree 88 of 100\n",
      "building tree 89 of 100\n",
      "building tree 90 of 100\n",
      "building tree 91 of 100\n",
      "building tree 92 of 100\n",
      "building tree 93 of 100\n",
      "building tree 94 of 100\n",
      "building tree 95 of 100\n",
      "building tree 96 of 100\n",
      "building tree 97 of 100\n",
      "building tree 98 of 100\n",
      "building tree 99 of 100\n",
      "building tree 100 of 100\n"
     ]
    },
    {
     "name": "stderr",
     "output_type": "stream",
     "text": [
      "[Parallel(n_jobs=1)]: Done 100 out of 100 | elapsed:   48.5s finished\n"
     ]
    },
    {
     "data": {
      "text/plain": [
       "RandomForestClassifier(bootstrap=True, ccp_alpha=0.0, class_weight=None,\n",
       "                       criterion='gini', max_depth=None, max_features='auto',\n",
       "                       max_leaf_nodes=None, max_samples=None,\n",
       "                       min_impurity_decrease=0.0, min_impurity_split=None,\n",
       "                       min_samples_leaf=1, min_samples_split=2,\n",
       "                       min_weight_fraction_leaf=0.0, n_estimators=100,\n",
       "                       n_jobs=None, oob_score=False, random_state=111,\n",
       "                       verbose=2, warm_start=False)"
      ]
     },
     "execution_count": 5,
     "metadata": {},
     "output_type": "execute_result"
    }
   ],
   "source": [
    "###YOU CAN SKIP THIS STEP IF NOT RUNNING THE CLASSIFIER###\n",
    "rf=RandomForestClassifier(verbose=2, n_estimators=100, random_state=111)\n",
    "rf.fit(np.asarray(X_train), np.asarray(y_train))"
   ]
  },
  {
   "cell_type": "code",
   "execution_count": 6,
   "metadata": {},
   "outputs": [
    {
     "name": "stderr",
     "output_type": "stream",
     "text": [
      "[Parallel(n_jobs=1)]: Using backend SequentialBackend with 1 concurrent workers.\n",
      "[Parallel(n_jobs=1)]: Done   1 out of   1 | elapsed:    0.0s remaining:    0.0s\n",
      "[Parallel(n_jobs=1)]: Done 100 out of 100 | elapsed:    1.1s finished\n",
      "[Parallel(n_jobs=1)]: Using backend SequentialBackend with 1 concurrent workers.\n",
      "[Parallel(n_jobs=1)]: Done   1 out of   1 | elapsed:    0.0s remaining:    0.0s\n"
     ]
    },
    {
     "name": "stdout",
     "output_type": "stream",
     "text": [
      "1.0\n"
     ]
    },
    {
     "name": "stderr",
     "output_type": "stream",
     "text": [
      "[Parallel(n_jobs=1)]: Done 100 out of 100 | elapsed:    1.4s finished\n"
     ]
    }
   ],
   "source": [
    "y_pred=rf.predict(X_test)\n",
    "print(rf.score(X_test, y_test))"
   ]
  },
  {
   "cell_type": "markdown",
   "metadata": {},
   "source": [
    "and we see how well it does in terms of precision and recall."
   ]
  },
  {
   "cell_type": "code",
   "execution_count": 7,
   "metadata": {},
   "outputs": [
    {
     "data": {
      "image/png": "[encoded data removed]",
      "text/plain": [
       "<Figure size 432x288 with 1 Axes>"
      ]
     },
     "metadata": {
      "needs_background": "light"
     },
     "output_type": "display_data"
    },
    {
     "name": "stdout",
     "output_type": "stream",
     "text": [
      "              precision    recall  f1-score   support\n",
      "\n",
      "         0.0       1.00      1.00      1.00     69670\n",
      "         1.0       1.00      1.00      1.00        31\n",
      "\n",
      "    accuracy                           1.00     69701\n",
      "   macro avg       1.00      1.00      1.00     69701\n",
      "weighted avg       1.00      1.00      1.00     69701\n",
      "\n"
     ]
    }
   ],
   "source": [
    "#get the index of the features (of RDkit fingerprint) that were important\n",
    "importances = rf.feature_importances_\n",
    "featurenums = np.array([str(x).zfill(2) for x in range(len(importances))])\n",
    "indices = np.argsort(importances)[::-1][0:25]#get the 25 most important features\n",
    "plt.title('Feature Importances (train set)')\n",
    "plt.bar(range(len(indices)), importances[indices], align='center')\n",
    "plt.ylabel('Relative Importance')\n",
    "plt.xticks(range(len(indices)), featurenums[indices], rotation=90)\n",
    "plt.show()\n",
    "#output metrics\n",
    "print(classification_report(y_test, y_pred))"
   ]
  },
  {
   "cell_type": "code",
   "execution_count": 8,
   "metadata": {},
   "outputs": [
    {
     "name": "stderr",
     "output_type": "stream",
     "text": [
      "[Parallel(n_jobs=1)]: Using backend SequentialBackend with 1 concurrent workers.\n"
     ]
    },
    {
     "name": "stdout",
     "output_type": "stream",
     "text": [
      "building tree 1 of 100\n"
     ]
    },
    {
     "name": "stderr",
     "output_type": "stream",
     "text": [
      "[Parallel(n_jobs=1)]: Done   1 out of   1 | elapsed:    1.1s remaining:    0.0s\n"
     ]
    },
    {
     "name": "stdout",
     "output_type": "stream",
     "text": [
      "building tree 2 of 100\n",
      "building tree 3 of 100\n",
      "building tree 4 of 100\n",
      "building tree 5 of 100\n",
      "building tree 6 of 100\n",
      "building tree 7 of 100\n",
      "building tree 8 of 100\n",
      "building tree 9 of 100\n",
      "building tree 10 of 100\n",
      "building tree 11 of 100\n",
      "building tree 12 of 100\n",
      "building tree 13 of 100\n",
      "building tree 14 of 100\n",
      "building tree 15 of 100\n",
      "building tree 16 of 100\n",
      "building tree 17 of 100\n",
      "building tree 18 of 100\n",
      "building tree 19 of 100\n",
      "building tree 20 of 100\n",
      "building tree 21 of 100\n",
      "building tree 22 of 100\n",
      "building tree 23 of 100\n",
      "building tree 24 of 100\n",
      "building tree 25 of 100\n",
      "building tree 26 of 100\n",
      "building tree 27 of 100\n",
      "building tree 28 of 100\n",
      "building tree 29 of 100\n",
      "building tree 30 of 100\n",
      "building tree 31 of 100\n",
      "building tree 32 of 100\n",
      "building tree 33 of 100\n",
      "building tree 34 of 100\n",
      "building tree 35 of 100\n",
      "building tree 36 of 100\n",
      "building tree 37 of 100\n",
      "building tree 38 of 100\n",
      "building tree 39 of 100\n",
      "building tree 40 of 100\n",
      "building tree 41 of 100\n",
      "building tree 42 of 100\n",
      "building tree 43 of 100\n",
      "building tree 44 of 100\n",
      "building tree 45 of 100\n",
      "building tree 46 of 100\n",
      "building tree 47 of 100\n",
      "building tree 48 of 100\n",
      "building tree 49 of 100\n",
      "building tree 50 of 100\n",
      "building tree 51 of 100\n",
      "building tree 52 of 100\n",
      "building tree 53 of 100\n",
      "building tree 54 of 100\n",
      "building tree 55 of 100\n",
      "building tree 56 of 100\n",
      "building tree 57 of 100\n",
      "building tree 58 of 100\n",
      "building tree 59 of 100\n",
      "building tree 60 of 100\n",
      "building tree 61 of 100\n",
      "building tree 62 of 100\n",
      "building tree 63 of 100\n",
      "building tree 64 of 100\n",
      "building tree 65 of 100\n",
      "building tree 66 of 100\n",
      "building tree 67 of 100\n",
      "building tree 68 of 100\n",
      "building tree 69 of 100\n",
      "building tree 70 of 100\n",
      "building tree 71 of 100\n",
      "building tree 72 of 100\n",
      "building tree 73 of 100\n",
      "building tree 74 of 100\n",
      "building tree 75 of 100\n",
      "building tree 76 of 100\n",
      "building tree 77 of 100\n",
      "building tree 78 of 100\n",
      "building tree 79 of 100\n",
      "building tree 80 of 100\n",
      "building tree 81 of 100\n",
      "building tree 82 of 100\n",
      "building tree 83 of 100\n",
      "building tree 84 of 100\n",
      "building tree 85 of 100\n",
      "building tree 86 of 100\n",
      "building tree 87 of 100\n",
      "building tree 88 of 100\n",
      "building tree 89 of 100\n",
      "building tree 90 of 100\n",
      "building tree 91 of 100\n",
      "building tree 92 of 100\n",
      "building tree 93 of 100\n",
      "building tree 94 of 100\n",
      "building tree 95 of 100\n",
      "building tree 96 of 100\n",
      "building tree 97 of 100\n",
      "building tree 98 of 100\n",
      "building tree 99 of 100\n",
      "building tree 100 of 100\n"
     ]
    },
    {
     "name": "stderr",
     "output_type": "stream",
     "text": [
      "[Parallel(n_jobs=1)]: Done 100 out of 100 | elapsed:  2.0min finished\n"
     ]
    },
    {
     "data": {
      "text/plain": [
       "RandomForestClassifier(bootstrap=True, ccp_alpha=0.0, class_weight=None,\n",
       "                       criterion='gini', max_depth=None, max_features='auto',\n",
       "                       max_leaf_nodes=None, max_samples=None,\n",
       "                       min_impurity_decrease=0.0, min_impurity_split=None,\n",
       "                       min_samples_leaf=1, min_samples_split=2,\n",
       "                       min_weight_fraction_leaf=0.0, n_estimators=100,\n",
       "                       n_jobs=None, oob_score=False, random_state=111,\n",
       "                       verbose=2, warm_start=False)"
      ]
     },
     "execution_count": 8,
     "metadata": {},
     "output_type": "execute_result"
    }
   ],
   "source": [
    "rf=RandomForestClassifier(verbose=2, n_estimators=100, random_state=111)\n",
    "rf.fit(np.asarray(X_train_all), np.asarray(y_train_all))"
   ]
  },
  {
   "cell_type": "markdown",
   "metadata": {},
   "source": [
    "REGRESSION\n",
    "Here we again take the same random splits of training and test set (set by the variable \"n_test\") as a proportion of compounds in the ground truth TMPSSR2 assay data, but we don't add the dark data, which can distort the results of regression. We train both the \"scaled\" version with scaled data and the version with unscaled data."
   ]
  },
  {
   "cell_type": "code",
   "execution_count": 5,
   "metadata": {},
   "outputs": [],
   "source": [
    "import random\n",
    "from sklearn.metrics import mean_squared_error\n",
    "n_bootstrap = 50\n",
    "mse_unscaled=np.zeros(n_bootstrap)\n",
    "mse_scaled=np.zeros(n_bootstrap)\n",
    "random.seed(33)\n",
    "for i in range(n_bootstrap):\n",
    "        s=np.arange(N)\n",
    "        #set seed for reproducibility\n",
    "        random.shuffle(s)\n",
    "        n_test=round(N/3) #percentage to withold for testing\n",
    "        cut=n_test\n",
    "        test=s[0:cut]\n",
    "        train=s[cut::]\n",
    "        X_test_reg=fps_merged[test]\n",
    "        X_train_reg=np.concatenate((fps_merged[train], fps_merged[N::]))\n",
    "        y2_train_reg=np.concatenate((ac_merged[train], ac_merged[N::]))\n",
    "        y2_test_reg=ac_merged[test]\n",
    "        nan_array=np.isnan(y2_train_reg)\n",
    "        X_train_reg=X_train_reg[~nan_array]\n",
    "        y2_train_reg=y2_train_reg[~nan_array]\n",
    "        #and generate for scaled arrays\n",
    "        #don't use the dark data for regressor, hence 'pos only'\n",
    "        X_train_reg_scaled=np.concatenate((fps_merged_scaled[train], fps_merged_scaled[92::]))\n",
    "        y2_train_reg_scaled=np.concatenate((ac_merged_scaled[train], ac_merged_scaled[92::]))\n",
    "        rg_pos_only=RandomForestRegressor(verbose=0, n_estimators=100, random_state=111)\n",
    "        rg_pos_only_scaled=RandomForestRegressor(verbose=0, n_estimators=100, random_state=111)\n",
    "        rg_pos_only.fit(np.asarray(X_train_reg), np.asarray(y2_train_reg))\n",
    "        rg_pos_only_scaled.fit(np.asarray(X_train_reg_scaled), np.asarray(y2_train_reg_scaled))\n",
    "        y_pred_regr_pos=rg_pos_only.predict(X_test_reg)\n",
    "        mse_unscaled[i]=mean_squared_error(y2_test_reg, y_pred_regr_pos)\n",
    "        y_pred_regr_scaled_pos=rg_pos_only_scaled.predict(X_test_reg)\n",
    "        mse_scaled[i]=mean_squared_error(y2_test_reg, y_pred_regr_scaled_pos)"
   ]
  },
  {
   "cell_type": "markdown",
   "metadata": {},
   "source": [
    "Examine mean squared error (MSE) for both scaled and unscaled dataset, with 50 bootstrap random resamplings of the training set.  The scaled version appears to do slightly better (lower mean MSE) so we will use that.  Can someone please check if \"%store -r mse_unscaled\" will retrieve the variable on their computer?"
   ]
  },
  {
   "cell_type": "code",
   "execution_count": 11,
   "metadata": {},
   "outputs": [
    {
     "name": "stdout",
     "output_type": "stream",
     "text": [
      "0.6522259685038808\n",
      "0.34818155556849\n",
      "Stored 'mse_unscaled' (ndarray)\n",
      "Stored 'mse_scaled' (ndarray)\n"
     ]
    },
    {
     "data": {
      "image/png": "[encoded data removed]",
      "text/plain": [
       "<Figure size 432x288 with 1 Axes>"
      ]
     },
     "metadata": {
      "needs_background": "light"
     },
     "output_type": "display_data"
    }
   ],
   "source": [
    "plt.hist(mse_unscaled, bins=33, label='unscaled')\n",
    "plt.hist(mse_scaled, bins=33, label='scaled')\n",
    "plt.legend()\n",
    "print(np.mean(mse_unscaled))\n",
    "print(np.mean(mse_scaled))\n",
    "\n",
    "mses=pd.DataFrame({\"unscaled\": mse_unscaled, \"scaled\": mse_scaled})\n",
    "mses.to_pickle(\"mses.pkl\")\n",
    "#%store mse_unscaled\n",
    "#%store mse_scaled"
   ]
  },
  {
   "cell_type": "markdown",
   "metadata": {},
   "source": [
    "Plotting the predicted vs actual regression values (-log ac) from the validation set.  The red line denotes 1-to-1 correlation.  For smaller activity values (large negative log) the regressor appears to overpredict the AC values somewhat."
   ]
  },
  {
   "cell_type": "code",
   "execution_count": 10,
   "metadata": {},
   "outputs": [
    {
     "data": {
      "text/plain": [
       "[<matplotlib.lines.Line2D at 0x11bb25cd0>]"
      ]
     },
     "execution_count": 10,
     "metadata": {},
     "output_type": "execute_result"
    },
    {
     "data": {
      "image/png": "[encoded data removed]",
      "text/plain": [
       "<Figure size 432x288 with 1 Axes>"
      ]
     },
     "metadata": {
      "needs_background": "light"
     },
     "output_type": "display_data"
    }
   ],
   "source": [
    "plt.plot(y2_test_reg, y_pred_regr_pos, '*')\n",
    "plt.plot(y2_test_reg, y2_test_reg,'r--')\n",
    "plt.set_xlabel('')"
   ]
  },
  {
   "cell_type": "markdown",
   "metadata": {},
   "source": [
    "Here we select the 25 most important features from the morgan fingerprints."
   ]
  },
  {
   "cell_type": "code",
   "execution_count": 51,
   "metadata": {},
   "outputs": [
    {
     "data": {
      "image/png": "[encoded data removed]",
      "text/plain": [
       "<Figure size 432x288 with 1 Axes>"
      ]
     },
     "metadata": {
      "needs_background": "light"
     },
     "output_type": "display_data"
    }
   ],
   "source": [
    "importances = rg_pos_only_scaled.feature_importances_\n",
    "featurenums = np.array([str(x).zfill(2) for x in range(len(importances))])\n",
    "indices = np.argsort(importances)[::-1][0:25]#get the 25 most important features\n",
    "plt.title('Feature Importances (train set)')\n",
    "plt.bar(range(len(indices)), importances[indices], align='center')\n",
    "plt.ylabel('Relative Importance')\n",
    "plt.xticks(range(len(indices)), featurenums[indices], rotation=90)\n",
    "plt.show()"
   ]
  },
  {
   "cell_type": "markdown",
   "metadata": {},
   "source": [
    "When we're satisfied with tuning the random forest regressor, we can build the regressor with all of the data combined to run on an unknown screening set.  First we load the screening dataset"
   ]
  },
  {
   "cell_type": "code",
   "execution_count": 13,
   "metadata": {
    "collapsed": true
   },
   "outputs": [],
   "source": [
    "screening_fp=pd.read_pickle('../processed_data/screening_data_processed.pkl')\n",
    "screening_fp.head()\n",
    "molnames_all=list(screening_fp['name'])\n",
    "molnames_all=np.asarray(molnames_all)\n",
    "screening=np.stack(screening_fp['morgan_fingerprint'])\n",
    "sources=list(screening_fp['source'])\n",
    "bitinfo=screening_fp['bitinfo']"
   ]
  },
  {
   "cell_type": "code",
   "execution_count": 14,
   "metadata": {},
   "outputs": [
    {
     "name": "stderr",
     "output_type": "stream",
     "text": [
      "[Parallel(n_jobs=1)]: Using backend SequentialBackend with 1 concurrent workers.\n",
      "[Parallel(n_jobs=1)]: Done   1 out of   1 | elapsed:    0.0s remaining:    0.0s\n",
      "[Parallel(n_jobs=1)]: Done 100 out of 100 | elapsed:    0.4s finished\n"
     ]
    }
   ],
   "source": [
    "y_pred=rf.predict(screening)"
   ]
  },
  {
   "cell_type": "code",
   "execution_count": 17,
   "metadata": {},
   "outputs": [
    {
     "name": "stdout",
     "output_type": "stream",
     "text": [
      "['Pentamidine'\n",
      " 'N-Alpha-(2-Naphthylsulfonyl)-N(3-Amidino-L-Phenylalaninyl)Isopipecolinic Acid Methyl Ester'\n",
      " 'Bis-Benzamidine' 'RWJ-56423' '1-(2-Amidinophenyl)-3-(Phenoxyphenyl)Urea'\n",
      " 'Hexamidine'\n",
      " 'N-Alpha-(2-Naphthylsulfonyl)-N(3-Amidino-L-Phenylalaninyl)-4-Acetyl-Piperazine'\n",
      " \"[2,4,6-Triisopropyl-Phenylsulfonyl-L-[3-Amidino-Phenylalanine]]-Piperazine-N'-Beta-Alanine\"\n",
      " 'N-Alpha-(2-Naphthylsulfonyl)-N-(3-Amidino-L-Phenylalaninyl)-D-Pipecolinic Acid'\n",
      " '1-(4-Amidinophenyl)-3-(4-Chlorophenyl)Urea' 'CRA_9678'\n",
      " '3-({1-[3-CARBAMIMIDOYL-1-(4-CARBAMIMIDOYL-BENZYLCARBAMOYL)-PROPYLCARBAMOYL]-2-METHYL-BUTYLSULFAMOYL}-METHYL)-BENZOIC ACID'\n",
      " '2-[2-ETHANESULFONYLAMINO-3-(5-PROPOXY-1H-INDOL-3-YL)-PROPIONYLAMINO]-PENTANEDIOIC ACID 5-AMIDE 1-(4-CARBAMIMIDOYL-BENZYLAMIDE)'\n",
      " '2-[2-ETHANESULFONYLAMINO-3-(1H-INDOL-3-YL)-PROPIONYLAMINO]-PENTANEDIOIC ACID 5-AMIDE 1-(4-CARBAMIM IDOYL-BENZYLAMIDE)'\n",
      " \"2-O-(4'-AMIDINOPHENYL)-5-O-(3''-AMIDINOPHENYL)-1,4:3,6-DIANHYDRO-D-SORBITOL\"\n",
      " \"2,5-O,O-BIS-{4',4''-AMIDINOPHENYL}-1,4:3,6-DIANHYDRO-D-SORBITOL\"\n",
      " '1,4:3,6-Dianhydro-2-O-(3-carbamimidoylphenyl)-5-O-(4-carbamimidoylphenyl)-D-glucitol'\n",
      " 'WX-UK1' 'Rivaroxaban' 'Fradafiban'\n",
      " '(S)-N-(4-carbamimidoylbenzyl)-1-(2-(cyclopentylamino)ethanoyl)pyrrolidine-2-carboxamide'\n",
      " '(S)-N-(4-carbamimidoylbenzyl)-1-(2-(cyclohexylamino)ethanoyl)pyrrolidine-2-carboxamide'\n",
      " 'N-cycloheptylglycyl-N-(4-carbamimidoylbenzyl)-L-prolinamide'\n",
      " 'N-cyclooctylglycyl-N-(4-carbamimidoylbenzyl)-L-prolinamide'\n",
      " '1-butanoyl-N-(4-carbamimidoylbenzyl)-L-prolinamide'\n",
      " 'N-(4-carbamimidoylbenzyl)-1-(4-methylpentanoyl)-L-prolinamide'\n",
      " 'N-(4-carbamimidoylbenzyl)-1-(3-phenylpropanoyl)-L-prolinamide'\n",
      " '1-[(2R)-2-aminobutanoyl]-N-(4-carbamimidoylbenzyl)-L-prolinamide'\n",
      " 'D-leucyl-N-(4-carbamimidoylbenzyl)-L-prolinamide'\n",
      " '6-[(Z)-AMINO(IMINO)METHYL]-N-[3-(CYCLOPENTYLOXY)PHENYL]-2-NAPHTHAMIDE'\n",
      " '(S)-N-(4-carbamimidoylbenzyl)-1-(2-(cyclopentyloxy)ethanoyl)pyrrolidine-2-carboxamide'\n",
      " '(S)-N-(4-carbamimidoylbenzyl)-1-(2-(cyclohexyloxy)ethanoyl)pyrrolidine-2-carboxamide'\n",
      " '(S)-N-(4-carbamimidoylbenzyl)-1-(3-cyclopentylpropanoyl)pyrrolidine-2-carboxamide'\n",
      " '(S)-N-(4-carbamimidoylbenzyl)-1-(3-cyclohexylpropanoyl)pyrrolidine-2-carboxamide'\n",
      " '2-(2-METHYLPHENYL)-1H-INDOLE-5-CARBOXIMIDAMIDE' 'Nafamostat'\n",
      " 'Propamidine' 'Dibrompropamidine' 'Melagatran' 'Dabigatran' 'CU-2010'\n",
      " 'melagatran' 'dabigatran' 'rivaroxaban' 'WX-UK1' 'Nafamostat'\n",
      " 'fradafiban' 'atecegatran' 'WX-UK1' 'LAMIFIBAN' 'propamidine' 'T-250'\n",
      " 'dabigatran' 'dabigatran' 'dabigatran' 'dabigatran' 'GR-144053'\n",
      " 'nafamostat' 'nafamostat' 'nafamostat' 'pentamidine' 'pentamidine'\n",
      " 'rivaroxaban' 'rivaroxaban']\n"
     ]
    }
   ],
   "source": [
    "print(molnames_all[y_pred>0])"
   ]
  },
  {
   "cell_type": "markdown",
   "metadata": {},
   "source": [
    "Then build the regressor based on the scaled dataset"
   ]
  },
  {
   "cell_type": "code",
   "execution_count": 53,
   "metadata": {},
   "outputs": [
    {
     "name": "stderr",
     "output_type": "stream",
     "text": [
      "[Parallel(n_jobs=1)]: Using backend SequentialBackend with 1 concurrent workers.\n",
      "[Parallel(n_jobs=1)]: Done   1 out of   1 | elapsed:    0.0s remaining:    0.0s\n"
     ]
    },
    {
     "name": "stdout",
     "output_type": "stream",
     "text": [
      "building tree 1 of 100\n",
      "building tree 2 of 100\n",
      "building tree 3 of 100\n",
      "building tree 4 of 100\n",
      "building tree 5 of 100\n",
      "building tree 6 of 100\n",
      "building tree 7 of 100\n",
      "building tree 8 of 100\n",
      "building tree 9 of 100\n",
      "building tree 10 of 100\n",
      "building tree 11 of 100\n",
      "building tree 12 of 100\n",
      "building tree 13 of 100\n",
      "building tree 14 of 100\n",
      "building tree 15 of 100\n",
      "building tree 16 of 100\n",
      "building tree 17 of 100\n",
      "building tree 18 of 100\n",
      "building tree 19 of 100\n",
      "building tree 20 of 100\n",
      "building tree 21 of 100\n",
      "building tree 22 of 100\n",
      "building tree 23 of 100\n",
      "building tree 24 of 100\n",
      "building tree 25 of 100\n",
      "building tree 26 of 100\n",
      "building tree 27 of 100\n",
      "building tree 28 of 100\n",
      "building tree 29 of 100\n",
      "building tree 30 of 100\n",
      "building tree 31 of 100\n",
      "building tree 32 of 100\n",
      "building tree 33 of 100\n",
      "building tree 34 of 100\n",
      "building tree 35 of 100\n",
      "building tree 36 of 100\n",
      "building tree 37 of 100\n",
      "building tree 38 of 100\n",
      "building tree 39 of 100\n",
      "building tree 40 of 100\n",
      "building tree 41 of 100\n",
      "building tree 42 of 100\n",
      "building tree 43 of 100\n",
      "building tree 44 of 100\n",
      "building tree 45 of 100\n",
      "building tree 46 of 100\n",
      "building tree 47 of 100\n",
      "building tree 48 of 100\n",
      "building tree 49 of 100\n",
      "building tree 50 of 100\n",
      "building tree 51 of 100\n",
      "building tree 52 of 100\n",
      "building tree 53 of 100\n",
      "building tree 54 of 100\n",
      "building tree 55 of 100\n",
      "building tree 56 of 100\n",
      "building tree 57 of 100\n",
      "building tree 58 of 100\n",
      "building tree 59 of 100\n",
      "building tree 60 of 100\n",
      "building tree 61 of 100\n",
      "building tree 62 of 100\n",
      "building tree 63 of 100\n",
      "building tree 64 of 100\n",
      "building tree 65 of 100\n",
      "building tree 66 of 100\n",
      "building tree 67 of 100\n",
      "building tree 68 of 100\n",
      "building tree 69 of 100\n",
      "building tree 70 of 100\n",
      "building tree 71 of 100\n",
      "building tree 72 of 100\n",
      "building tree 73 of 100\n",
      "building tree 74 of 100\n",
      "building tree 75 of 100\n",
      "building tree 76 of 100\n",
      "building tree 77 of 100\n",
      "building tree 78 of 100\n",
      "building tree 79 of 100\n",
      "building tree 80 of 100\n",
      "building tree 81 of 100\n",
      "building tree 82 of 100\n",
      "building tree 83 of 100\n",
      "building tree 84 of 100\n",
      "building tree 85 of 100\n",
      "building tree 86 of 100\n",
      "building tree 87 of 100\n",
      "building tree 88 of 100\n",
      "building tree 89 of 100\n",
      "building tree 90 of 100\n",
      "building tree 91 of 100\n",
      "building tree 92 of 100\n",
      "building tree 93 of 100\n",
      "building tree 94 of 100\n",
      "building tree 95 of 100\n",
      "building tree 96 of 100\n",
      "building tree 97 of 100\n",
      "building tree 98 of 100\n",
      "building tree 99 of 100\n",
      "building tree 100 of 100\n"
     ]
    },
    {
     "name": "stderr",
     "output_type": "stream",
     "text": [
      "[Parallel(n_jobs=1)]: Done 100 out of 100 | elapsed:    1.9s finished\n"
     ]
    },
    {
     "data": {
      "text/plain": [
       "RandomForestRegressor(bootstrap=True, ccp_alpha=0.0, criterion='mse',\n",
       "                      max_depth=None, max_features='auto', max_leaf_nodes=None,\n",
       "                      max_samples=None, min_impurity_decrease=0.0,\n",
       "                      min_impurity_split=None, min_samples_leaf=1,\n",
       "                      min_samples_split=2, min_weight_fraction_leaf=0.0,\n",
       "                      n_estimators=100, n_jobs=None, oob_score=False,\n",
       "                      random_state=111, verbose=2, warm_start=False)"
      ]
     },
     "execution_count": 53,
     "metadata": {},
     "output_type": "execute_result"
    }
   ],
   "source": [
    "rg_all=RandomForestRegressor(verbose=2, n_estimators=100, random_state=111)\n",
    "rg_all.fit(np.asarray(fps_merged_scaled), np.asarray(ac_merged_scaled))"
   ]
  },
  {
   "cell_type": "code",
   "execution_count": 54,
   "metadata": {
    "scrolled": true
   },
   "outputs": [
    {
     "name": "stderr",
     "output_type": "stream",
     "text": [
      "[Parallel(n_jobs=1)]: Using backend SequentialBackend with 1 concurrent workers.\n",
      "[Parallel(n_jobs=1)]: Done   1 out of   1 | elapsed:    0.0s remaining:    0.0s\n",
      "[Parallel(n_jobs=1)]: Done 100 out of 100 | elapsed:    0.3s finished\n"
     ]
    }
   ],
   "source": [
    "predicted_activity=rg_all.predict(screening)"
   ]
  },
  {
   "cell_type": "code",
   "execution_count": 55,
   "metadata": {},
   "outputs": [
    {
     "data": {
      "image/png": "[encoded data removed]",
      "text/plain": [
       "<Figure size 432x288 with 1 Axes>"
      ]
     },
     "metadata": {
      "needs_background": "light"
     },
     "output_type": "display_data"
    }
   ],
   "source": [
    "importances = rg_all.feature_importances_\n",
    "featurenums = np.array([str(x).zfill(2) for x in range(len(importances))])\n",
    "indices = np.argsort(importances)[::-1][0:25]#get the 25 most important features\n",
    "plt.title('Feature Importances (train set)')\n",
    "plt.bar(range(len(indices)), importances[indices], align='center')\n",
    "plt.ylabel('Relative Importance')\n",
    "plt.xticks(range(len(indices)), featurenums[indices], rotation=90)\n",
    "plt.show()"
   ]
  },
  {
   "cell_type": "markdown",
   "metadata": {},
   "source": [
    "Predict the activities from screening library and print the top 20 hits.  We also plot the predicted activity values color coded by screening library."
   ]
  },
  {
   "cell_type": "code",
   "execution_count": 56,
   "metadata": {
    "scrolled": true
   },
   "outputs": [
    {
     "data": {
      "text/plain": [
       "<matplotlib.axes._subplots.AxesSubplot at 0x124a2f650>"
      ]
     },
     "execution_count": 56,
     "metadata": {},
     "output_type": "execute_result"
    },
    {
     "data": {
      "image/png": "[encoded data removed]",
      "text/plain": [
       "<Figure size 432x288 with 1 Axes>"
      ]
     },
     "metadata": {
      "needs_background": "light"
     },
     "output_type": "display_data"
    }
   ],
   "source": [
    "from seaborn import violinplot \n",
    "screening_fp['predicted_activity(log10)'] = predicted_activity\n",
    "violinplot(x='source', y='predicted_activity(log10)', data=screening_fp)"
   ]
  },
  {
   "cell_type": "markdown",
   "metadata": {},
   "source": [
    "Drop the duplicate tautomers in the top hits, keeping the \"first\" or lowest predicted activity value."
   ]
  },
  {
   "cell_type": "code",
   "execution_count": 135,
   "metadata": {},
   "outputs": [
    {
     "data": {
      "text/html": [
       "<div>\n",
       "<style scoped>\n",
       "    .dataframe tbody tr th:only-of-type {\n",
       "        vertical-align: middle;\n",
       "    }\n",
       "\n",
       "    .dataframe tbody tr th {\n",
       "        vertical-align: top;\n",
       "    }\n",
       "\n",
       "    .dataframe thead th {\n",
       "        text-align: right;\n",
       "    }\n",
       "</style>\n",
       "<table border=\"1\" class=\"dataframe\">\n",
       "  <thead>\n",
       "    <tr style=\"text-align: right;\">\n",
       "      <th></th>\n",
       "      <th>name</th>\n",
       "      <th>smiles</th>\n",
       "      <th>predicted_activity(log10)</th>\n",
       "    </tr>\n",
       "  </thead>\n",
       "  <tbody>\n",
       "    <tr>\n",
       "      <th>10797</th>\n",
       "      <td>NAFAMOSTAT</td>\n",
       "      <td>C1=CC(=CC=C1C(=O)OC2=CC3=C(C=C2)C=C(C=C3)C(=N)...</td>\n",
       "      <td>2.797827</td>\n",
       "    </tr>\n",
       "    <tr>\n",
       "      <th>2928</th>\n",
       "      <td>RWJ-51084</td>\n",
       "      <td>[H]N([H])C(=NCCC[C@H](N([H])C(=O)C1CCCC1)C(=O)...</td>\n",
       "      <td>2.499190</td>\n",
       "    </tr>\n",
       "    <tr>\n",
       "      <th>2513</th>\n",
       "      <td>RWJ-56423</td>\n",
       "      <td>[H]N([H])C(=NCCC[C@H](N([H])C(=O)[C@@H]1C[C@@H...</td>\n",
       "      <td>2.365654</td>\n",
       "    </tr>\n",
       "    <tr>\n",
       "      <th>10810</th>\n",
       "      <td>PATAMOSTAT</td>\n",
       "      <td>C1CC(=O)N(C1=O)CCSC2=CC=C(C=C2)OC(=O)C3=CC=C(C...</td>\n",
       "      <td>2.248543</td>\n",
       "    </tr>\n",
       "    <tr>\n",
       "      <th>10749</th>\n",
       "      <td>CAMOSTAT</td>\n",
       "      <td>CN(C)C(=O)COC(=O)CC1=CC=C(C=C1)OC(=O)C2=CC=C(C...</td>\n",
       "      <td>2.212964</td>\n",
       "    </tr>\n",
       "    <tr>\n",
       "      <th>6887</th>\n",
       "      <td>1-[(4S)-4-AMINO-5-(1,3-BENZOTHIAZOL-2-YL)-5-OX...</td>\n",
       "      <td>N[C@@H](CCCNC(N)=N)C(=O)C1=NC2=CC=CC=C2S1</td>\n",
       "      <td>1.974841</td>\n",
       "    </tr>\n",
       "    <tr>\n",
       "      <th>10789</th>\n",
       "      <td>RWJ-58643</td>\n",
       "      <td>CC(=O)N1C[C@H](O)C[C@H]1C(=O)NC(CCCNC(N)=N)C(=...</td>\n",
       "      <td>1.959521</td>\n",
       "    </tr>\n",
       "    <tr>\n",
       "      <th>18008</th>\n",
       "      <td>PGL5001</td>\n",
       "      <td>N#CC(c1nc2ccccc2s1)c1ccnc(OCc2ccc(CN3CCOCC3)cc...</td>\n",
       "      <td>1.639983</td>\n",
       "    </tr>\n",
       "    <tr>\n",
       "      <th>10754</th>\n",
       "      <td>BMS-605339</td>\n",
       "      <td>CC(C)(C)[C@@H](C(=O)N1C[C@@H](C[C@H]1C(=O)N[C@...</td>\n",
       "      <td>1.638343</td>\n",
       "    </tr>\n",
       "    <tr>\n",
       "      <th>10747</th>\n",
       "      <td>SEPIMOSTAT MESILATE</td>\n",
       "      <td>[H]/N=C(/C1=CC=C2C=C(C=CC2=C1)OC(=O)C3=CC=C(C=...</td>\n",
       "      <td>1.637788</td>\n",
       "    </tr>\n",
       "  </tbody>\n",
       "</table>\n",
       "</div>"
      ],
      "text/plain": [
       "                                                    name  \\\n",
       "10797                                         NAFAMOSTAT   \n",
       "2928                                           RWJ-51084   \n",
       "2513                                           RWJ-56423   \n",
       "10810                                         PATAMOSTAT   \n",
       "10749                                           CAMOSTAT   \n",
       "6887   1-[(4S)-4-AMINO-5-(1,3-BENZOTHIAZOL-2-YL)-5-OX...   \n",
       "10789                                          RWJ-58643   \n",
       "18008                                            PGL5001   \n",
       "10754                                         BMS-605339   \n",
       "10747                                SEPIMOSTAT MESILATE   \n",
       "\n",
       "                                                  smiles  \\\n",
       "10797  C1=CC(=CC=C1C(=O)OC2=CC3=C(C=C2)C=C(C=C3)C(=N)...   \n",
       "2928   [H]N([H])C(=NCCC[C@H](N([H])C(=O)C1CCCC1)C(=O)...   \n",
       "2513   [H]N([H])C(=NCCC[C@H](N([H])C(=O)[C@@H]1C[C@@H...   \n",
       "10810  C1CC(=O)N(C1=O)CCSC2=CC=C(C=C2)OC(=O)C3=CC=C(C...   \n",
       "10749  CN(C)C(=O)COC(=O)CC1=CC=C(C=C1)OC(=O)C2=CC=C(C...   \n",
       "6887           N[C@@H](CCCNC(N)=N)C(=O)C1=NC2=CC=CC=C2S1   \n",
       "10789  CC(=O)N1C[C@H](O)C[C@H]1C(=O)NC(CCCNC(N)=N)C(=...   \n",
       "18008  N#CC(c1nc2ccccc2s1)c1ccnc(OCc2ccc(CN3CCOCC3)cc...   \n",
       "10754  CC(C)(C)[C@@H](C(=O)N1C[C@@H](C[C@H]1C(=O)N[C@...   \n",
       "10747  [H]/N=C(/C1=CC=C2C=C(C=CC2=C1)OC(=O)C3=CC=C(C=...   \n",
       "\n",
       "       predicted_activity(log10)  \n",
       "10797                   2.797827  \n",
       "2928                    2.499190  \n",
       "2513                    2.365654  \n",
       "10810                   2.248543  \n",
       "10749                   2.212964  \n",
       "6887                    1.974841  \n",
       "10789                   1.959521  \n",
       "18008                   1.639983  \n",
       "10754                   1.638343  \n",
       "10747                   1.637788  "
      ]
     },
     "execution_count": 135,
     "metadata": {},
     "output_type": "execute_result"
    }
   ],
   "source": [
    "screening_fp=screening_fp.sort_values(by='predicted_activity(log10)', ascending=False)\n",
    "screening_fp['name'] =screening_fp['name'].str.upper() \n",
    "screening_fp=screening_fp.drop_duplicates(subset=['name'])\n",
    "#screening_fp.head(10)\n",
    "\n",
    "screening_fp.loc[:, [\"name\", \"smiles\", \"predicted_activity(log10)\"]].to_csv('../results/random_forest_results.csv')\n",
    "screening_fp.loc[:, [\"name\", \"smiles\", \"predicted_activity(log10)\"]].head(10)"
   ]
  },
  {
   "cell_type": "markdown",
   "metadata": {},
   "source": [
    "Information in the bits appears to be set to 1 when the structure is present in one of the compound's atoms, 0 if not.  Many of the features deemed \"important\" by the random forest are actually lack of structures (0 in a bit location), so here we try to determine what positive and/or negative structures were important by retrieving these from the bit info of our top hits."
   ]
  },
  {
   "cell_type": "code",
   "execution_count": 107,
   "metadata": {
    "collapsed": true
   },
   "outputs": [],
   "source": [
    "bitinfo=screening_fp['bitinfo']\n",
    "keys1=[bitinfo[key] for key in bitinfo.keys()]\n",
    "rdkit_mols_draw=[]\n",
    "bitinfos_draw=[]\n",
    "compound_names=[]\n",
    "ilocs=[]\n",
    "for featurenum in featurenums[indices]:\n",
    "    flag=0        \n",
    "    location=0\n",
    "    while flag == 0:\n",
    "        ibit=screening_fp.iloc[location,:]['bitinfo']\n",
    "        if int(featurenum) in list(ibit.keys()):\n",
    "            compound_names.append(screening_fp.iloc[location,:]['name'])\n",
    "            rdkit_mols_draw.append(screening_fp.iloc[location,:]['rdkit_mol'])\n",
    "            bitinfos_draw.append(screening_fp.iloc[location,:]['bitinfo'])\n",
    "            ilocs.append(location)\n",
    "            flag=1\n",
    "        else:\n",
    "            location=location+1\n",
    "          #  print('still searching for '+featurenum)"
   ]
  },
  {
   "cell_type": "markdown",
   "metadata": {},
   "source": [
    "Now we draw the snippets of the relevant \"top hits\"."
   ]
  },
  {
   "cell_type": "code",
   "execution_count": 120,
   "metadata": {},
   "outputs": [
    {
     "name": "stdout",
     "output_type": "stream",
     "text": [
      "found the bit in compound 12 aka 1-(5-CHLORO-2-METHOXYPHENYL)-3-{6-[2-(DIMETHYLAMINO)-1-METHYLETHOXY]PYRAZIN-2-YL}UREA\n",
      "it is likely to be a negative feature.\n"
     ]
    },
    {
     "data": {
      "image/svg+xml": [
       "<svg baseProfile=\"full\" height=\"150px\" version=\"1.1\" viewBox=\"0 0 150 150\" width=\"150px\" xml:space=\"preserve\" xmlns=\"http://www.w3.org/2000/svg\" xmlns:rdkit=\"http://www.rdkit.org/xml\" xmlns:xlink=\"http://www.w3.org/1999/xlink\">\n",
       "<!-- END OF HEADER -->\n",
       "<rect height=\"150\" style=\"opacity:1.0;fill:#FFFFFF;stroke:none\" width=\"150\" x=\"0\" y=\"0\"> </rect>\n",
       "<ellipse cx=\"40.8903\" cy=\"69.6489\" rx=\"10.1498\" ry=\"10.1498\" style=\"fill:#9999E5;fill-rule:evenodd;stroke:#9999E5;stroke-width:2px;stroke-linecap:butt;stroke-linejoin:miter;stroke-opacity:1\"/>\n",
       "<path class=\"bond-0\" d=\"M 117.984,88.5311 L 117.232,89.2126\" style=\"fill:none;fill-rule:evenodd;stroke:#E5E5E5;stroke-width:2px;stroke-linecap:butt;stroke-linejoin:miter;stroke-opacity:1\"/>\n",
       "<path class=\"bond-0\" d=\"M 115.348,84.8654 L 113.843,86.2283\" style=\"fill:none;fill-rule:evenodd;stroke:#E5E5E5;stroke-width:2px;stroke-linecap:butt;stroke-linejoin:miter;stroke-opacity:1\"/>\n",
       "<path class=\"bond-0\" d=\"M 112.712,81.1996 L 110.455,83.244\" style=\"fill:none;fill-rule:evenodd;stroke:#E5E5E5;stroke-width:2px;stroke-linecap:butt;stroke-linejoin:miter;stroke-opacity:1\"/>\n",
       "<path class=\"bond-0\" d=\"M 110.076,77.5339 L 107.067,80.2597\" style=\"fill:none;fill-rule:evenodd;stroke:#E5E5E5;stroke-width:2px;stroke-linecap:butt;stroke-linejoin:miter;stroke-opacity:1\"/>\n",
       "<path class=\"bond-0\" d=\"M 107.439,73.8682 L 103.678,77.2754\" style=\"fill:none;fill-rule:evenodd;stroke:#E5E5E5;stroke-width:2px;stroke-linecap:butt;stroke-linejoin:miter;stroke-opacity:1\"/>\n",
       "<path class=\"bond-0\" d=\"M 104.803,70.2024 L 100.29,74.2911\" style=\"fill:none;fill-rule:evenodd;stroke:#E5E5E5;stroke-width:2px;stroke-linecap:butt;stroke-linejoin:miter;stroke-opacity:1\"/>\n",
       "<path class=\"bond-0\" d=\"M 102.167,66.5367 L 96.9017,71.3068\" style=\"fill:none;fill-rule:evenodd;stroke:#E5E5E5;stroke-width:2px;stroke-linecap:butt;stroke-linejoin:miter;stroke-opacity:1\"/>\n",
       "<path class=\"bond-0\" d=\"M 99.531,62.8709 L 93.5134,68.3225\" style=\"fill:none;fill-rule:evenodd;stroke:#E5E5E5;stroke-width:2px;stroke-linecap:butt;stroke-linejoin:miter;stroke-opacity:1\"/>\n",
       "<path class=\"bond-0\" d=\"M 96.8949,59.2052 L 90.1251,65.3382\" style=\"fill:none;fill-rule:evenodd;stroke:#E5E5E5;stroke-width:2px;stroke-linecap:butt;stroke-linejoin:miter;stroke-opacity:1\"/>\n",
       "<path class=\"bond-0\" d=\"M 94.2588,55.5394 L 86.7367,62.3539\" style=\"fill:none;fill-rule:evenodd;stroke:#E5E5E5;stroke-width:2px;stroke-linecap:butt;stroke-linejoin:miter;stroke-opacity:1\"/>\n",
       "<path class=\"bond-1\" d=\"M 90.4978,58.9467 L 69.3596,63.507\" style=\"fill:none;fill-rule:evenodd;stroke:#000000;stroke-width:2px;stroke-linecap:butt;stroke-linejoin:miter;stroke-opacity:1\"/>\n",
       "<path class=\"bond-1\" d=\"M 69.3596,63.507 L 48.2214,68.0673\" style=\"fill:none;fill-rule:evenodd;stroke:#0000FF;stroke-width:2px;stroke-linecap:butt;stroke-linejoin:miter;stroke-opacity:1\"/>\n",
       "<path class=\"bond-2\" d=\"M 33.5593,61.5566 L 20.1887,46.7976\" style=\"fill:none;fill-rule:evenodd;stroke:#0000FF;stroke-width:2px;stroke-linecap:butt;stroke-linejoin:miter;stroke-opacity:1\"/>\n",
       "<path class=\"bond-2\" d=\"M 20.1887,46.7976 L 6.81818,32.0387\" style=\"fill:none;fill-rule:evenodd;stroke:#000000;stroke-width:2px;stroke-linecap:butt;stroke-linejoin:miter;stroke-opacity:1\"/>\n",
       "<path class=\"bond-3\" d=\"M 38.1705,78.107 L 31.7627,98.0342\" style=\"fill:none;fill-rule:evenodd;stroke:#0000FF;stroke-width:2px;stroke-linecap:butt;stroke-linejoin:miter;stroke-opacity:1\"/>\n",
       "<path class=\"bond-3\" d=\"M 31.7627,98.0342 L 25.355,117.961\" style=\"fill:none;fill-rule:evenodd;stroke:#000000;stroke-width:2px;stroke-linecap:butt;stroke-linejoin:miter;stroke-opacity:1\"/>\n",
       "<text dominant-baseline=\"central\" style=\"font-size:16px;font-style:normal;font-weight:normal;fill-opacity:1;stroke:none;font-family:sans-serif;fill:#7F7F7F\" text-anchor=\"start\" x=\"122.312\" y=\"99.0943\"><tspan>*H</tspan></text>\n",
       "<text dominant-baseline=\"central\" style=\"font-size:16px;font-style:normal;font-weight:normal;fill-opacity:1;stroke:none;font-family:sans-serif;fill:#0000FF\" text-anchor=\"middle\" x=\"40.8903\" y=\"72.1863\"><tspan>N</tspan></text>\n",
       "</svg>"
      ],
      "text/plain": [
       "<IPython.core.display.SVG object>"
      ]
     },
     "metadata": {},
     "output_type": "display_data"
    },
    {
     "name": "stdout",
     "output_type": "stream",
     "text": [
      "found the bit in compound 1 aka RWJ-51084\n",
      "it is likely it is a positive feature.\n"
     ]
    },
    {
     "data": {
      "image/svg+xml": [
       "<svg baseProfile=\"full\" height=\"150px\" version=\"1.1\" viewBox=\"0 0 150 150\" width=\"150px\" xml:space=\"preserve\" xmlns=\"http://www.w3.org/2000/svg\" xmlns:rdkit=\"http://www.rdkit.org/xml\" xmlns:xlink=\"http://www.w3.org/1999/xlink\">\n",
       "<!-- END OF HEADER -->\n",
       "<rect height=\"150\" style=\"opacity:1.0;fill:#FFFFFF;stroke:none\" width=\"150\" x=\"0\" y=\"0\"> </rect>\n",
       "<ellipse cx=\"75.4539\" cy=\"80.9758\" rx=\"5.04996\" ry=\"5.04996\" style=\"fill:#9999E5;fill-rule:evenodd;stroke:#9999E5;stroke-width:2px;stroke-linecap:butt;stroke-linejoin:miter;stroke-opacity:1\"/>\n",
       "<ellipse cx=\"97.0379\" cy=\"94.0786\" rx=\"5.04996\" ry=\"5.04996\" style=\"fill:#E5E533;fill-rule:evenodd;stroke:#E5E533;stroke-width:2px;stroke-linecap:butt;stroke-linejoin:miter;stroke-opacity:1\"/>\n",
       "<ellipse cx=\"116.169\" cy=\"77.5999\" rx=\"5.04996\" ry=\"5.04996\" style=\"fill:#E5E533;fill-rule:evenodd;stroke:#E5E533;stroke-width:2px;stroke-linecap:butt;stroke-linejoin:miter;stroke-opacity:1\"/>\n",
       "<ellipse cx=\"106.409\" cy=\"54.3128\" rx=\"5.04996\" ry=\"5.04996\" style=\"fill:#E5E533;fill-rule:evenodd;stroke:#E5E533;stroke-width:2px;stroke-linecap:butt;stroke-linejoin:miter;stroke-opacity:1\"/>\n",
       "<ellipse cx=\"81.2455\" cy=\"56.3992\" rx=\"5.04996\" ry=\"5.04996\" style=\"fill:#E5E533;fill-rule:evenodd;stroke:#E5E533;stroke-width:2px;stroke-linecap:butt;stroke-linejoin:miter;stroke-opacity:1\"/>\n",
       "<path class=\"bond-0\" d=\"M 29.8408,76.1097 L 30.036,76.5754\" style=\"fill:none;fill-rule:evenodd;stroke:#E5E5E5;stroke-width:2px;stroke-linecap:butt;stroke-linejoin:miter;stroke-opacity:1\"/>\n",
       "<path class=\"bond-0\" d=\"M 27.611,76.7705 L 28.0014,77.7019\" style=\"fill:none;fill-rule:evenodd;stroke:#E5E5E5;stroke-width:2px;stroke-linecap:butt;stroke-linejoin:miter;stroke-opacity:1\"/>\n",
       "<path class=\"bond-0\" d=\"M 25.3812,77.4312 L 25.9668,78.8285\" style=\"fill:none;fill-rule:evenodd;stroke:#E5E5E5;stroke-width:2px;stroke-linecap:butt;stroke-linejoin:miter;stroke-opacity:1\"/>\n",
       "<path class=\"bond-0\" d=\"M 23.1514,78.092 L 23.9322,79.955\" style=\"fill:none;fill-rule:evenodd;stroke:#E5E5E5;stroke-width:2px;stroke-linecap:butt;stroke-linejoin:miter;stroke-opacity:1\"/>\n",
       "<path class=\"bond-0\" d=\"M 20.9216,78.7528 L 21.8976,81.0815\" style=\"fill:none;fill-rule:evenodd;stroke:#E5E5E5;stroke-width:2px;stroke-linecap:butt;stroke-linejoin:miter;stroke-opacity:1\"/>\n",
       "<path class=\"bond-0\" d=\"M 18.6918,79.4136 L 19.863,82.2081\" style=\"fill:none;fill-rule:evenodd;stroke:#E5E5E5;stroke-width:2px;stroke-linecap:butt;stroke-linejoin:miter;stroke-opacity:1\"/>\n",
       "<path class=\"bond-0\" d=\"M 16.462,80.0744 L 17.8284,83.3346\" style=\"fill:none;fill-rule:evenodd;stroke:#E5E5E5;stroke-width:2px;stroke-linecap:butt;stroke-linejoin:miter;stroke-opacity:1\"/>\n",
       "<path class=\"bond-0\" d=\"M 14.2322,80.7352 L 15.7938,84.4611\" style=\"fill:none;fill-rule:evenodd;stroke:#E5E5E5;stroke-width:2px;stroke-linecap:butt;stroke-linejoin:miter;stroke-opacity:1\"/>\n",
       "<path class=\"bond-0\" d=\"M 12.0024,81.396 L 13.7592,85.5876\" style=\"fill:none;fill-rule:evenodd;stroke:#E5E5E5;stroke-width:2px;stroke-linecap:butt;stroke-linejoin:miter;stroke-opacity:1\"/>\n",
       "<path class=\"bond-0\" d=\"M 9.7726,82.0567 L 11.7246,86.7142\" style=\"fill:none;fill-rule:evenodd;stroke:#E5E5E5;stroke-width:2px;stroke-linecap:butt;stroke-linejoin:miter;stroke-opacity:1\"/>\n",
       "<path class=\"bond-1\" d=\"M 32.0705,75.4489 L 34.7254,54.6098\" style=\"fill:none;fill-rule:evenodd;stroke:#E5E5E5;stroke-width:2px;stroke-linecap:butt;stroke-linejoin:miter;stroke-opacity:1\"/>\n",
       "<path class=\"bond-2\" d=\"M 32.0705,75.4489 L 52.1667,90.736\" style=\"fill:none;fill-rule:evenodd;stroke:#000000;stroke-width:2px;stroke-linecap:butt;stroke-linejoin:miter;stroke-opacity:1\"/>\n",
       "<path class=\"bond-3\" d=\"M 49.662,90.4169 L 48.3346,100.836\" style=\"fill:none;fill-rule:evenodd;stroke:#000000;stroke-width:2px;stroke-linecap:butt;stroke-linejoin:miter;stroke-opacity:1\"/>\n",
       "<path class=\"bond-3\" d=\"M 48.3346,100.836 L 47.0072,111.256\" style=\"fill:none;fill-rule:evenodd;stroke:#FF0000;stroke-width:2px;stroke-linecap:butt;stroke-linejoin:miter;stroke-opacity:1\"/>\n",
       "<path class=\"bond-3\" d=\"M 54.6715,91.0551 L 53.344,101.475\" style=\"fill:none;fill-rule:evenodd;stroke:#000000;stroke-width:2px;stroke-linecap:butt;stroke-linejoin:miter;stroke-opacity:1\"/>\n",
       "<path class=\"bond-3\" d=\"M 53.344,101.475 L 52.0166,111.894\" style=\"fill:none;fill-rule:evenodd;stroke:#FF0000;stroke-width:2px;stroke-linecap:butt;stroke-linejoin:miter;stroke-opacity:1\"/>\n",
       "<path class=\"bond-4\" d=\"M 52.1667,90.736 L 75.4539,80.9758\" style=\"fill:none;fill-rule:evenodd;stroke:#000000;stroke-width:2px;stroke-linecap:butt;stroke-linejoin:miter;stroke-opacity:1\"/>\n",
       "<path class=\"bond-5\" d=\"M 75.4539,80.9758 L 84.4221,86.4201\" style=\"fill:none;fill-rule:evenodd;stroke:#000000;stroke-width:2px;stroke-linecap:butt;stroke-linejoin:miter;stroke-opacity:1\"/>\n",
       "<path class=\"bond-5\" d=\"M 84.4221,86.4201 L 93.3904,91.8643\" style=\"fill:none;fill-rule:evenodd;stroke:#0000FF;stroke-width:2px;stroke-linecap:butt;stroke-linejoin:miter;stroke-opacity:1\"/>\n",
       "<path class=\"bond-5\" d=\"M 80.7649,78.2923 L 87.0427,82.1032\" style=\"fill:none;fill-rule:evenodd;stroke:#000000;stroke-width:2px;stroke-linecap:butt;stroke-linejoin:miter;stroke-opacity:1\"/>\n",
       "<path class=\"bond-5\" d=\"M 87.0427,82.1032 L 93.3205,85.9142\" style=\"fill:none;fill-rule:evenodd;stroke:#0000FF;stroke-width:2px;stroke-linecap:butt;stroke-linejoin:miter;stroke-opacity:1\"/>\n",
       "<path class=\"bond-10\" d=\"M 75.4539,80.9758 L 77.8538,70.7916\" style=\"fill:none;fill-rule:evenodd;stroke:#000000;stroke-width:2px;stroke-linecap:butt;stroke-linejoin:miter;stroke-opacity:1\"/>\n",
       "<path class=\"bond-10\" d=\"M 77.8538,70.7916 L 80.2538,60.6075\" style=\"fill:none;fill-rule:evenodd;stroke:#CCCC00;stroke-width:2px;stroke-linecap:butt;stroke-linejoin:miter;stroke-opacity:1\"/>\n",
       "<path class=\"bond-6\" d=\"M 100.685,90.9368 L 108.427,84.2684\" style=\"fill:none;fill-rule:evenodd;stroke:#0000FF;stroke-width:2px;stroke-linecap:butt;stroke-linejoin:miter;stroke-opacity:1\"/>\n",
       "<path class=\"bond-6\" d=\"M 108.427,84.2684 L 116.169,77.5999\" style=\"fill:none;fill-rule:evenodd;stroke:#000000;stroke-width:2px;stroke-linecap:butt;stroke-linejoin:miter;stroke-opacity:1\"/>\n",
       "<path class=\"bond-7\" d=\"M 116.169,77.5999 L 139.251,80.5405\" style=\"fill:none;fill-rule:evenodd;stroke:#E5E5E5;stroke-width:2px;stroke-linecap:butt;stroke-linejoin:miter;stroke-opacity:1\"/>\n",
       "<path class=\"bond-11\" d=\"M 116.169,77.5999 L 106.409,54.3128\" style=\"fill:none;fill-rule:evenodd;stroke:#E5E5E5;stroke-width:2px;stroke-linecap:butt;stroke-linejoin:miter;stroke-opacity:1\"/>\n",
       "<path class=\"bond-11\" d=\"M 110.048,76.0589 L 103.216,59.7579\" style=\"fill:none;fill-rule:evenodd;stroke:#E5E5E5;stroke-width:2px;stroke-linecap:butt;stroke-linejoin:miter;stroke-opacity:1\"/>\n",
       "<path class=\"bond-8\" d=\"M 119.731,36.8 L 106.409,54.3128\" style=\"fill:none;fill-rule:evenodd;stroke:#E5E5E5;stroke-width:2px;stroke-linecap:butt;stroke-linejoin:miter;stroke-opacity:1\"/>\n",
       "<path class=\"bond-9\" d=\"M 106.409,54.3128 L 95.5121,55.2163\" style=\"fill:none;fill-rule:evenodd;stroke:#000000;stroke-width:2px;stroke-linecap:butt;stroke-linejoin:miter;stroke-opacity:1\"/>\n",
       "<path class=\"bond-9\" d=\"M 95.5121,55.2163 L 84.6152,56.1198\" style=\"fill:none;fill-rule:evenodd;stroke:#CCCC00;stroke-width:2px;stroke-linecap:butt;stroke-linejoin:miter;stroke-opacity:1\"/>\n",
       "<text dominant-baseline=\"central\" style=\"font-size:8px;font-style:normal;font-weight:normal;fill-opacity:1;stroke:none;font-family:sans-serif;fill:#7F7F7F\" text-anchor=\"end\" x=\"9.90696\" y=\"86.4716\"><tspan>*</tspan></text>\n",
       "<text dominant-baseline=\"central\" style=\"font-size:8px;font-style:normal;font-weight:normal;fill-opacity:1;stroke:none;font-family:sans-serif;fill:#7F7F7F\" text-anchor=\"start\" x=\"34.1379\" y=\"51.664\"><tspan>*H</tspan></text>\n",
       "<text dominant-baseline=\"central\" style=\"font-size:8px;font-style:normal;font-weight:normal;fill-opacity:1;stroke:none;font-family:sans-serif;fill:#FF0000\" text-anchor=\"start\" x=\"45.887\" y=\"117.046\"><tspan>O</tspan></text>\n",
       "<text dominant-baseline=\"central\" style=\"font-size:8px;font-style:normal;font-weight:normal;fill-opacity:1;stroke:none;font-family:sans-serif;fill:#0000FF\" text-anchor=\"middle\" x=\"97.0379\" y=\"95.3411\"><tspan>N</tspan></text>\n",
       "<text dominant-baseline=\"central\" style=\"font-size:8px;font-style:normal;font-weight:normal;fill-opacity:1;stroke:none;font-family:sans-serif;fill:#7F7F7F\" text-anchor=\"start\" x=\"140.093\" y=\"82.0534\"><tspan>*</tspan></text>\n",
       "<text dominant-baseline=\"central\" style=\"font-size:8px;font-style:normal;font-weight:normal;fill-opacity:1;stroke:none;font-family:sans-serif;fill:#7F7F7F\" text-anchor=\"start\" x=\"120.573\" y=\"35.4791\"><tspan>*</tspan></text>\n",
       "<text dominant-baseline=\"central\" style=\"font-size:8px;font-style:normal;font-weight:normal;fill-opacity:1;stroke:none;font-family:sans-serif;fill:#CCCC00\" text-anchor=\"end\" x=\"83.7735\" y=\"57.6617\"><tspan>S</tspan></text>\n",
       "</svg>"
      ],
      "text/plain": [
       "<IPython.core.display.SVG object>"
      ]
     },
     "metadata": {},
     "output_type": "display_data"
    },
    {
     "name": "stdout",
     "output_type": "stream",
     "text": [
      "found the bit in compound 12 aka 1-(5-CHLORO-2-METHOXYPHENYL)-3-{6-[2-(DIMETHYLAMINO)-1-METHYLETHOXY]PYRAZIN-2-YL}UREA\n",
      "it is likely to be a negative feature.\n"
     ]
    },
    {
     "data": {
      "image/svg+xml": [
       "<svg baseProfile=\"full\" height=\"150px\" version=\"1.1\" viewBox=\"0 0 150 150\" width=\"150px\" xml:space=\"preserve\" xmlns=\"http://www.w3.org/2000/svg\" xmlns:rdkit=\"http://www.rdkit.org/xml\" xmlns:xlink=\"http://www.w3.org/1999/xlink\">\n",
       "<!-- END OF HEADER -->\n",
       "<rect height=\"150\" style=\"opacity:1.0;fill:#FFFFFF;stroke:none\" width=\"150\" x=\"0\" y=\"0\"> </rect>\n",
       "<ellipse cx=\"79.0907\" cy=\"54.0117\" rx=\"5.34512\" ry=\"5.34512\" style=\"fill:#9999E5;fill-rule:evenodd;stroke:#9999E5;stroke-width:2px;stroke-linecap:butt;stroke-linejoin:miter;stroke-opacity:1\"/>\n",
       "<ellipse cx=\"97.0339\" cy=\"73.8182\" rx=\"5.34512\" ry=\"5.34512\" style=\"fill:#E5E533;fill-rule:evenodd;stroke:#E5E533;stroke-width:2px;stroke-linecap:butt;stroke-linejoin:miter;stroke-opacity:1\"/>\n",
       "<ellipse cx=\"88.8526\" cy=\"99.2608\" rx=\"5.34512\" ry=\"5.34512\" style=\"fill:#E5E533;fill-rule:evenodd;stroke:#E5E533;stroke-width:2px;stroke-linecap:butt;stroke-linejoin:miter;stroke-opacity:1\"/>\n",
       "<ellipse cx=\"123.158\" cy=\"68.1821\" rx=\"5.34512\" ry=\"5.34512\" style=\"fill:#E5E533;fill-rule:evenodd;stroke:#E5E533;stroke-width:2px;stroke-linecap:butt;stroke-linejoin:miter;stroke-opacity:1\"/>\n",
       "<path class=\"bond-0\" d=\"M 10.9784,45.0286 L 31.1621,40.6742\" style=\"fill:none;fill-rule:evenodd;stroke:#E5E5E5;stroke-width:2px;stroke-linecap:butt;stroke-linejoin:miter;stroke-opacity:1\"/>\n",
       "<path class=\"bond-1\" d=\"M 38.8836,44.1029 L 45.9248,51.8753\" style=\"fill:none;fill-rule:evenodd;stroke:#0000FF;stroke-width:2px;stroke-linecap:butt;stroke-linejoin:miter;stroke-opacity:1\"/>\n",
       "<path class=\"bond-1\" d=\"M 45.9248,51.8753 L 52.9661,59.6478\" style=\"fill:none;fill-rule:evenodd;stroke:#000000;stroke-width:2px;stroke-linecap:butt;stroke-linejoin:miter;stroke-opacity:1\"/>\n",
       "<path class=\"bond-2\" d=\"M 50.4218,58.8296 L 47.0473,69.3238\" style=\"fill:none;fill-rule:evenodd;stroke:#000000;stroke-width:2px;stroke-linecap:butt;stroke-linejoin:miter;stroke-opacity:1\"/>\n",
       "<path class=\"bond-2\" d=\"M 47.0473,69.3238 L 43.6728,79.8179\" style=\"fill:none;fill-rule:evenodd;stroke:#FF0000;stroke-width:2px;stroke-linecap:butt;stroke-linejoin:miter;stroke-opacity:1\"/>\n",
       "<path class=\"bond-2\" d=\"M 55.5103,60.4659 L 52.1359,70.96\" style=\"fill:none;fill-rule:evenodd;stroke:#000000;stroke-width:2px;stroke-linecap:butt;stroke-linejoin:miter;stroke-opacity:1\"/>\n",
       "<path class=\"bond-2\" d=\"M 52.1359,70.96 L 48.7614,81.4542\" style=\"fill:none;fill-rule:evenodd;stroke:#FF0000;stroke-width:2px;stroke-linecap:butt;stroke-linejoin:miter;stroke-opacity:1\"/>\n",
       "<path class=\"bond-3\" d=\"M 52.9661,59.6478 L 64.098,57.2462\" style=\"fill:none;fill-rule:evenodd;stroke:#000000;stroke-width:2px;stroke-linecap:butt;stroke-linejoin:miter;stroke-opacity:1\"/>\n",
       "<path class=\"bond-3\" d=\"M 64.098,57.2462 L 75.2299,54.8446\" style=\"fill:none;fill-rule:evenodd;stroke:#0000FF;stroke-width:2px;stroke-linecap:butt;stroke-linejoin:miter;stroke-opacity:1\"/>\n",
       "<path class=\"bond-4\" d=\"M 82.9514,58.2733 L 89.9926,66.0458\" style=\"fill:none;fill-rule:evenodd;stroke:#0000FF;stroke-width:2px;stroke-linecap:butt;stroke-linejoin:miter;stroke-opacity:1\"/>\n",
       "<path class=\"bond-4\" d=\"M 89.9926,66.0458 L 97.0339,73.8182\" style=\"fill:none;fill-rule:evenodd;stroke:#000000;stroke-width:2px;stroke-linecap:butt;stroke-linejoin:miter;stroke-opacity:1\"/>\n",
       "<path class=\"bond-5\" d=\"M 97.0339,73.8182 L 88.8526,99.2608\" style=\"fill:none;fill-rule:evenodd;stroke:#000000;stroke-width:2px;stroke-linecap:butt;stroke-linejoin:miter;stroke-opacity:1\"/>\n",
       "<path class=\"bond-5\" d=\"M 90.7182,75.9983 L 84.9913,93.8081\" style=\"fill:none;fill-rule:evenodd;stroke:#000000;stroke-width:2px;stroke-linecap:butt;stroke-linejoin:miter;stroke-opacity:1;stroke-dasharray:6,6\"/>\n",
       "<path class=\"bond-9\" d=\"M 97.0339,73.8182 L 123.158,68.1821\" style=\"fill:none;fill-rule:evenodd;stroke:#000000;stroke-width:2px;stroke-linecap:butt;stroke-linejoin:miter;stroke-opacity:1\"/>\n",
       "<path class=\"bond-9\" d=\"M 102.08,78.1977 L 120.367,74.2525\" style=\"fill:none;fill-rule:evenodd;stroke:#000000;stroke-width:2px;stroke-linecap:butt;stroke-linejoin:miter;stroke-opacity:1;stroke-dasharray:6,6\"/>\n",
       "<path class=\"bond-6\" d=\"M 88.8526,99.2608 L 64.8081,104.448\" style=\"fill:none;fill-rule:evenodd;stroke:#E5E5E5;stroke-width:2px;stroke-linecap:butt;stroke-linejoin:miter;stroke-opacity:1\"/>\n",
       "<path class=\"bond-7\" d=\"M 86.872,101.055 L 102.735,118.566\" style=\"fill:none;fill-rule:evenodd;stroke:#E5E5E5;stroke-width:2px;stroke-linecap:butt;stroke-linejoin:miter;stroke-opacity:1\"/>\n",
       "<path class=\"bond-7\" d=\"M 90.8333,97.4664 L 106.696,114.977\" style=\"fill:none;fill-rule:evenodd;stroke:#E5E5E5;stroke-width:2px;stroke-linecap:butt;stroke-linejoin:miter;stroke-opacity:1;stroke-dasharray:6,6\"/>\n",
       "<path class=\"bond-8\" d=\"M 141.002,83.8982 L 125.139,66.3878\" style=\"fill:none;fill-rule:evenodd;stroke:#E5E5E5;stroke-width:2px;stroke-linecap:butt;stroke-linejoin:miter;stroke-opacity:1\"/>\n",
       "<path class=\"bond-8\" d=\"M 137.041,87.4869 L 121.178,69.9765\" style=\"fill:none;fill-rule:evenodd;stroke:#E5E5E5;stroke-width:2px;stroke-linecap:butt;stroke-linejoin:miter;stroke-opacity:1;stroke-dasharray:6,6\"/>\n",
       "<text dominant-baseline=\"central\" style=\"font-size:8px;font-style:normal;font-weight:normal;fill-opacity:1;stroke:none;font-family:sans-serif;fill:#7F7F7F\" text-anchor=\"end\" x=\"10.0875\" y=\"46.8136\"><tspan>*</tspan></text>\n",
       "<text dominant-baseline=\"central\" style=\"font-size:8px;font-style:normal;font-weight:normal;fill-opacity:1;stroke:none;font-family:sans-serif;fill:#0000FF\" text-anchor=\"middle\" x=\"35.0228\" y=\"41.1775\"><tspan>N</tspan></text>\n",
       "<text dominant-baseline=\"central\" style=\"font-size:8px;font-style:normal;font-weight:normal;fill-opacity:1;stroke:none;font-family:sans-serif;fill:#0000FF\" text-anchor=\"start\" x=\"32.053\" y=\"32.269\"><tspan>H</tspan></text>\n",
       "<text dominant-baseline=\"central\" style=\"font-size:8px;font-style:normal;font-weight:normal;fill-opacity:1;stroke:none;font-family:sans-serif;fill:#FF0000\" text-anchor=\"start\" x=\"41.5155\" y=\"86.4266\"><tspan>O</tspan></text>\n",
       "<text dominant-baseline=\"central\" style=\"font-size:8px;font-style:normal;font-weight:normal;fill-opacity:1;stroke:none;font-family:sans-serif;fill:#0000FF\" text-anchor=\"middle\" x=\"79.0907\" y=\"55.348\"><tspan>N</tspan></text>\n",
       "<text dominant-baseline=\"central\" style=\"font-size:8px;font-style:normal;font-weight:normal;fill-opacity:1;stroke:none;font-family:sans-serif;fill:#0000FF\" text-anchor=\"start\" x=\"76.1208\" y=\"46.4394\"><tspan>H</tspan></text>\n",
       "<text dominant-baseline=\"central\" style=\"font-size:8px;font-style:normal;font-weight:normal;fill-opacity:1;stroke:none;font-family:sans-serif;fill:#7F7F7F\" text-anchor=\"end\" x=\"63.9173\" y=\"106.233\"><tspan>*</tspan></text>\n",
       "<text dominant-baseline=\"central\" style=\"font-size:8px;font-style:normal;font-weight:normal;fill-opacity:1;stroke:none;font-family:sans-serif;fill:#7F7F7F\" text-anchor=\"start\" x=\"105.607\" y=\"120.404\"><tspan>*</tspan></text>\n",
       "<text dominant-baseline=\"central\" style=\"font-size:8px;font-style:normal;font-weight:normal;fill-opacity:1;stroke:none;font-family:sans-serif;fill:#7F7F7F\" text-anchor=\"start\" x=\"139.913\" y=\"89.3249\"><tspan>*</tspan></text>\n",
       "</svg>"
      ],
      "text/plain": [
       "<IPython.core.display.SVG object>"
      ]
     },
     "metadata": {},
     "output_type": "display_data"
    },
    {
     "name": "stdout",
     "output_type": "stream",
     "text": [
      "found the bit in compound 1 aka RWJ-51084\n",
      "it is likely it is a positive feature.\n"
     ]
    },
    {
     "data": {
      "image/svg+xml": [
       "<svg baseProfile=\"full\" height=\"150px\" version=\"1.1\" viewBox=\"0 0 150 150\" width=\"150px\" xml:space=\"preserve\" xmlns=\"http://www.w3.org/2000/svg\" xmlns:rdkit=\"http://www.rdkit.org/xml\" xmlns:xlink=\"http://www.w3.org/1999/xlink\">\n",
       "<!-- END OF HEADER -->\n",
       "<rect height=\"150\" style=\"opacity:1.0;fill:#FFFFFF;stroke:none\" width=\"150\" x=\"0\" y=\"0\"> </rect>\n",
       "<ellipse cx=\"79.4628\" cy=\"88.6504\" rx=\"14.1254\" ry=\"14.1254\" style=\"fill:#9999E5;fill-rule:evenodd;stroke:#9999E5;stroke-width:2px;stroke-linecap:butt;stroke-linejoin:miter;stroke-opacity:1\"/>\n",
       "<path class=\"bond-0\" d=\"M 73.3349,90.7592 L 73.6625,91.5409\" style=\"fill:none;fill-rule:evenodd;stroke:#E5E5E5;stroke-width:2px;stroke-linecap:butt;stroke-linejoin:miter;stroke-opacity:1\"/>\n",
       "<path class=\"bond-0\" d=\"M 67.2071,92.8681 L 67.8623,94.4314\" style=\"fill:none;fill-rule:evenodd;stroke:#E5E5E5;stroke-width:2px;stroke-linecap:butt;stroke-linejoin:miter;stroke-opacity:1\"/>\n",
       "<path class=\"bond-0\" d=\"M 61.0793,94.9769 L 62.0621,97.3219\" style=\"fill:none;fill-rule:evenodd;stroke:#E5E5E5;stroke-width:2px;stroke-linecap:butt;stroke-linejoin:miter;stroke-opacity:1\"/>\n",
       "<path class=\"bond-0\" d=\"M 54.9514,97.0858 L 56.2619,100.212\" style=\"fill:none;fill-rule:evenodd;stroke:#E5E5E5;stroke-width:2px;stroke-linecap:butt;stroke-linejoin:miter;stroke-opacity:1\"/>\n",
       "<path class=\"bond-0\" d=\"M 48.8236,99.1946 L 50.4616,103.103\" style=\"fill:none;fill-rule:evenodd;stroke:#E5E5E5;stroke-width:2px;stroke-linecap:butt;stroke-linejoin:miter;stroke-opacity:1\"/>\n",
       "<path class=\"bond-0\" d=\"M 42.6957,101.303 L 44.6614,105.993\" style=\"fill:none;fill-rule:evenodd;stroke:#E5E5E5;stroke-width:2px;stroke-linecap:butt;stroke-linejoin:miter;stroke-opacity:1\"/>\n",
       "<path class=\"bond-0\" d=\"M 36.5679,103.412 L 38.8612,108.884\" style=\"fill:none;fill-rule:evenodd;stroke:#E5E5E5;stroke-width:2px;stroke-linecap:butt;stroke-linejoin:miter;stroke-opacity:1\"/>\n",
       "<path class=\"bond-0\" d=\"M 30.4401,105.521 L 33.0609,111.774\" style=\"fill:none;fill-rule:evenodd;stroke:#E5E5E5;stroke-width:2px;stroke-linecap:butt;stroke-linejoin:miter;stroke-opacity:1\"/>\n",
       "<path class=\"bond-0\" d=\"M 24.3122,107.63 L 27.2607,114.665\" style=\"fill:none;fill-rule:evenodd;stroke:#E5E5E5;stroke-width:2px;stroke-linecap:butt;stroke-linejoin:miter;stroke-opacity:1\"/>\n",
       "<path class=\"bond-0\" d=\"M 18.1844,109.739 L 21.4605,117.555\" style=\"fill:none;fill-rule:evenodd;stroke:#E5E5E5;stroke-width:2px;stroke-linecap:butt;stroke-linejoin:miter;stroke-opacity:1\"/>\n",
       "<path class=\"bond-1\" d=\"M 79.4628,88.6504 L 86.8887,30.3606\" style=\"fill:none;fill-rule:evenodd;stroke:#E5E5E5;stroke-width:3px;stroke-linecap:butt;stroke-linejoin:miter;stroke-opacity:1\"/>\n",
       "<path class=\"bond-2\" d=\"M 79.4628,88.6504 L 130.178,127.229\" style=\"fill:none;fill-rule:evenodd;stroke:#E5E5E5;stroke-width:3px;stroke-linecap:butt;stroke-linejoin:miter;stroke-opacity:1\"/>\n",
       "<text dominant-baseline=\"central\" style=\"font-size:23px;font-style:normal;font-weight:normal;fill-opacity:1;stroke:none;font-family:sans-serif;fill:#7F7F7F\" text-anchor=\"end\" x=\"17.4682\" y=\"119.482\"><tspan>*</tspan></text>\n",
       "<text dominant-baseline=\"central\" style=\"font-size:23px;font-style:normal;font-weight:normal;fill-opacity:1;stroke:none;font-family:sans-serif;fill:#7F7F7F\" text-anchor=\"start\" x=\"85.2456\" y=\"22.1207\"><tspan>*H</tspan></text>\n",
       "<text dominant-baseline=\"central\" style=\"font-size:23px;font-style:normal;font-weight:normal;fill-opacity:1;stroke:none;font-family:sans-serif;fill:#7F7F7F\" text-anchor=\"start\" x=\"132.532\" y=\"134.942\"><tspan>*</tspan></text>\n",
       "</svg>"
      ],
      "text/plain": [
       "<IPython.core.display.SVG object>"
      ]
     },
     "metadata": {},
     "output_type": "display_data"
    },
    {
     "name": "stdout",
     "output_type": "stream",
     "text": [
      "found the bit in compound 1 aka RWJ-51084\n",
      "it is likely it is a positive feature.\n"
     ]
    },
    {
     "data": {
      "image/svg+xml": [
       "<svg baseProfile=\"full\" height=\"150px\" version=\"1.1\" viewBox=\"0 0 150 150\" width=\"150px\" xml:space=\"preserve\" xmlns=\"http://www.w3.org/2000/svg\" xmlns:rdkit=\"http://www.rdkit.org/xml\" xmlns:xlink=\"http://www.w3.org/1999/xlink\">\n",
       "<!-- END OF HEADER -->\n",
       "<rect height=\"150\" style=\"opacity:1.0;fill:#FFFFFF;stroke:none\" width=\"150\" x=\"0\" y=\"0\"> </rect>\n",
       "<ellipse cx=\"44.6065\" cy=\"121.63\" rx=\"8.10342\" ry=\"8.10342\" style=\"fill:#E5E533;fill-rule:evenodd;stroke:#E5E533;stroke-width:2px;stroke-linecap:butt;stroke-linejoin:miter;stroke-opacity:1\"/>\n",
       "<ellipse cx=\"75.3055\" cy=\"95.1877\" rx=\"8.10342\" ry=\"8.10342\" style=\"fill:#9999E5;fill-rule:evenodd;stroke:#9999E5;stroke-width:2px;stroke-linecap:butt;stroke-linejoin:miter;stroke-opacity:1\"/>\n",
       "<ellipse cx=\"115.498\" cy=\"100.308\" rx=\"8.10342\" ry=\"8.10342\" style=\"fill:#E5E533;fill-rule:evenodd;stroke:#E5E533;stroke-width:2px;stroke-linecap:butt;stroke-linejoin:miter;stroke-opacity:1\"/>\n",
       "<ellipse cx=\"59.6438\" cy=\"57.82\" rx=\"8.10342\" ry=\"8.10342\" style=\"fill:#E5E533;fill-rule:evenodd;stroke:#E5E533;stroke-width:2px;stroke-linecap:butt;stroke-linejoin:miter;stroke-opacity:1\"/>\n",
       "<path class=\"bond-0\" d=\"M 11.0226,105.983 L 36.6509,121.541\" style=\"fill:none;fill-rule:evenodd;stroke:#E5E5E5;stroke-width:2px;stroke-linecap:butt;stroke-linejoin:miter;stroke-opacity:1\"/>\n",
       "<path class=\"bond-0\" d=\"M 15.2277,99.0557 L 40.856,114.614\" style=\"fill:none;fill-rule:evenodd;stroke:#E5E5E5;stroke-width:2px;stroke-linecap:butt;stroke-linejoin:miter;stroke-opacity:1;stroke-dasharray:6,6\"/>\n",
       "<path class=\"bond-1\" d=\"M 50.4595,116.589 L 62.8825,105.888\" style=\"fill:none;fill-rule:evenodd;stroke:#0000FF;stroke-width:2px;stroke-linecap:butt;stroke-linejoin:miter;stroke-opacity:1\"/>\n",
       "<path class=\"bond-1\" d=\"M 62.8825,105.888 L 75.3055,95.1877\" style=\"fill:none;fill-rule:evenodd;stroke:#000000;stroke-width:2px;stroke-linecap:butt;stroke-linejoin:miter;stroke-opacity:1\"/>\n",
       "<path class=\"bond-1\" d=\"M 48.8979,107.239 L 57.594,99.7484\" style=\"fill:none;fill-rule:evenodd;stroke:#0000FF;stroke-width:2px;stroke-linecap:butt;stroke-linejoin:miter;stroke-opacity:1;stroke-dasharray:6,6\"/>\n",
       "<path class=\"bond-1\" d=\"M 57.594,99.7484 L 66.2901,92.2581\" style=\"fill:none;fill-rule:evenodd;stroke:#000000;stroke-width:2px;stroke-linecap:butt;stroke-linejoin:miter;stroke-opacity:1;stroke-dasharray:6,6\"/>\n",
       "<path class=\"bond-2\" d=\"M 75.3055,95.1877 L 115.498,100.308\" style=\"fill:none;fill-rule:evenodd;stroke:#000000;stroke-width:2px;stroke-linecap:butt;stroke-linejoin:miter;stroke-opacity:1\"/>\n",
       "<path class=\"bond-2\" d=\"M 80.3103,103.994 L 108.445,107.578\" style=\"fill:none;fill-rule:evenodd;stroke:#000000;stroke-width:2px;stroke-linecap:butt;stroke-linejoin:miter;stroke-opacity:1;stroke-dasharray:6,6\"/>\n",
       "<path class=\"bond-6\" d=\"M 75.3055,95.1877 L 59.6438,57.82\" style=\"fill:none;fill-rule:evenodd;stroke:#000000;stroke-width:2px;stroke-linecap:butt;stroke-linejoin:miter;stroke-opacity:1\"/>\n",
       "<path class=\"bond-6\" d=\"M 80.4298,86.4502 L 69.4666,60.2928\" style=\"fill:none;fill-rule:evenodd;stroke:#000000;stroke-width:2px;stroke-linecap:butt;stroke-linejoin:miter;stroke-opacity:1;stroke-dasharray:6,6\"/>\n",
       "<path class=\"bond-3\" d=\"M 118.723,102.761 L 140.1,74.6593\" style=\"fill:none;fill-rule:evenodd;stroke:#E5E5E5;stroke-width:2px;stroke-linecap:butt;stroke-linejoin:miter;stroke-opacity:1\"/>\n",
       "<path class=\"bond-3\" d=\"M 112.273,97.8551 L 133.65,69.7532\" style=\"fill:none;fill-rule:evenodd;stroke:#E5E5E5;stroke-width:2px;stroke-linecap:butt;stroke-linejoin:miter;stroke-opacity:1;stroke-dasharray:6,6\"/>\n",
       "<path class=\"bond-4\" d=\"M 77.7961,27.2651 L 56.4191,55.367\" style=\"fill:none;fill-rule:evenodd;stroke:#E5E5E5;stroke-width:2px;stroke-linecap:butt;stroke-linejoin:miter;stroke-opacity:1\"/>\n",
       "<path class=\"bond-4\" d=\"M 84.2455,32.1712 L 62.8685,60.2731\" style=\"fill:none;fill-rule:evenodd;stroke:#E5E5E5;stroke-width:2px;stroke-linecap:butt;stroke-linejoin:miter;stroke-opacity:1;stroke-dasharray:6,6\"/>\n",
       "<path class=\"bond-5\" d=\"M 59.309,53.7822 L 22.0839,56.8686\" style=\"fill:none;fill-rule:evenodd;stroke:#E5E5E5;stroke-width:2px;stroke-linecap:butt;stroke-linejoin:miter;stroke-opacity:1\"/>\n",
       "<path class=\"bond-5\" d=\"M 59.9786,61.8579 L 22.7535,64.9444\" style=\"fill:none;fill-rule:evenodd;stroke:#E5E5E5;stroke-width:2px;stroke-linecap:butt;stroke-linejoin:miter;stroke-opacity:1;stroke-dasharray:6,6\"/>\n",
       "<text dominant-baseline=\"central\" style=\"font-size:13px;font-style:normal;font-weight:normal;fill-opacity:1;stroke:none;font-family:sans-serif;fill:#7F7F7F\" text-anchor=\"end\" x=\"11.7746\" y=\"102.631\"><tspan>*</tspan></text>\n",
       "<text dominant-baseline=\"central\" style=\"font-size:13px;font-style:normal;font-weight:normal;fill-opacity:1;stroke:none;font-family:sans-serif;fill:#0000FF\" text-anchor=\"middle\" x=\"44.6065\" y=\"123.656\"><tspan>N</tspan></text>\n",
       "<text dominant-baseline=\"central\" style=\"font-size:13px;font-style:normal;font-weight:normal;fill-opacity:1;stroke:none;font-family:sans-serif;fill:#7F7F7F\" text-anchor=\"start\" x=\"138.225\" y=\"70.0866\"><tspan>*</tspan></text>\n",
       "<text dominant-baseline=\"central\" style=\"font-size:13px;font-style:normal;font-weight:normal;fill-opacity:1;stroke:none;font-family:sans-serif;fill:#7F7F7F\" text-anchor=\"start\" x=\"82.3714\" y=\"27.5985\"><tspan>*</tspan></text>\n",
       "<text dominant-baseline=\"central\" style=\"font-size:13px;font-style:normal;font-weight:normal;fill-opacity:1;stroke:none;font-family:sans-serif;fill:#7F7F7F\" text-anchor=\"end\" x=\"21.0682\" y=\"63.1938\"><tspan>*</tspan></text>\n",
       "</svg>"
      ],
      "text/plain": [
       "<IPython.core.display.SVG object>"
      ]
     },
     "metadata": {},
     "output_type": "display_data"
    },
    {
     "name": "stdout",
     "output_type": "stream",
     "text": [
      "found the bit in compound 66 aka nisin\n",
      "it is likely to be a negative feature.\n"
     ]
    },
    {
     "data": {
      "image/svg+xml": [
       "<svg baseProfile=\"full\" height=\"150px\" version=\"1.1\" viewBox=\"0 0 150 150\" width=\"150px\" xml:space=\"preserve\" xmlns=\"http://www.w3.org/2000/svg\" xmlns:rdkit=\"http://www.rdkit.org/xml\" xmlns:xlink=\"http://www.w3.org/1999/xlink\">\n",
       "<!-- END OF HEADER -->\n",
       "<rect height=\"150\" style=\"opacity:1.0;fill:#FFFFFF;stroke:none\" width=\"150\" x=\"0\" y=\"0\"> </rect>\n",
       "<ellipse cx=\"72.7644\" cy=\"72.4228\" rx=\"8.04986\" ry=\"8.04986\" style=\"fill:#E5E533;fill-rule:evenodd;stroke:#E5E533;stroke-width:2px;stroke-linecap:butt;stroke-linejoin:miter;stroke-opacity:1\"/>\n",
       "<ellipse cx=\"106.268\" cy=\"94.7279\" rx=\"8.04986\" ry=\"8.04986\" style=\"fill:#E5E533;fill-rule:evenodd;stroke:#E5E533;stroke-width:2px;stroke-linecap:butt;stroke-linejoin:miter;stroke-opacity:1\"/>\n",
       "<ellipse cx=\"95.4077\" cy=\"133.484\" rx=\"8.04986\" ry=\"8.04986\" style=\"fill:#E5E533;fill-rule:evenodd;stroke:#E5E533;stroke-width:2px;stroke-linecap:butt;stroke-linejoin:miter;stroke-opacity:1\"/>\n",
       "<ellipse cx=\"55.1921\" cy=\"135.132\" rx=\"8.04986\" ry=\"8.04986\" style=\"fill:#E5E533;fill-rule:evenodd;stroke:#E5E533;stroke-width:2px;stroke-linecap:butt;stroke-linejoin:miter;stroke-opacity:1\"/>\n",
       "<ellipse cx=\"41.1978\" cy=\"97.3939\" rx=\"8.04986\" ry=\"8.04986\" style=\"fill:#9999E5;fill-rule:evenodd;stroke:#9999E5;stroke-width:2px;stroke-linecap:butt;stroke-linejoin:miter;stroke-opacity:1\"/>\n",
       "<path class=\"bond-0\" d=\"M 38.5979,15.1679 L 71.1168,32.2072\" style=\"fill:none;fill-rule:evenodd;stroke:#E5E5E5;stroke-width:2px;stroke-linecap:butt;stroke-linejoin:miter;stroke-opacity:1\"/>\n",
       "<path class=\"bond-1\" d=\"M 71.1168,32.2072 L 72.7644,72.4228\" style=\"fill:none;fill-rule:evenodd;stroke:#000000;stroke-width:2px;stroke-linecap:butt;stroke-linejoin:miter;stroke-opacity:1\"/>\n",
       "<path class=\"bond-2\" d=\"M 72.7644,72.4228 L 106.268,94.7279\" style=\"fill:none;fill-rule:evenodd;stroke:#000000;stroke-width:2px;stroke-linecap:butt;stroke-linejoin:miter;stroke-opacity:1\"/>\n",
       "<path class=\"bond-2\" d=\"M 73.3289,82.4693 L 96.7814,98.0828\" style=\"fill:none;fill-rule:evenodd;stroke:#000000;stroke-width:2px;stroke-linecap:butt;stroke-linejoin:miter;stroke-opacity:1\"/>\n",
       "<path class=\"bond-6\" d=\"M 72.7644,72.4228 L 59.8883,82.6086\" style=\"fill:none;fill-rule:evenodd;stroke:#000000;stroke-width:2px;stroke-linecap:butt;stroke-linejoin:miter;stroke-opacity:1\"/>\n",
       "<path class=\"bond-6\" d=\"M 59.8883,82.6086 L 47.0122,92.7944\" style=\"fill:none;fill-rule:evenodd;stroke:#0000FF;stroke-width:2px;stroke-linecap:butt;stroke-linejoin:miter;stroke-opacity:1\"/>\n",
       "<path class=\"bond-3\" d=\"M 106.268,94.7279 L 97.2875,126.776\" style=\"fill:none;fill-rule:evenodd;stroke:#E5E5E5;stroke-width:2px;stroke-linecap:butt;stroke-linejoin:miter;stroke-opacity:1\"/>\n",
       "<path class=\"bond-4\" d=\"M 89.5934,133.723 L 72.3928,134.427\" style=\"fill:none;fill-rule:evenodd;stroke:#0000FF;stroke-width:2px;stroke-linecap:butt;stroke-linejoin:miter;stroke-opacity:1\"/>\n",
       "<path class=\"bond-4\" d=\"M 72.3928,134.427 L 55.1921,135.132\" style=\"fill:none;fill-rule:evenodd;stroke:#000000;stroke-width:2px;stroke-linecap:butt;stroke-linejoin:miter;stroke-opacity:1\"/>\n",
       "<path class=\"bond-5\" d=\"M 55.1921,135.132 L 49.4388,119.617\" style=\"fill:none;fill-rule:evenodd;stroke:#000000;stroke-width:2px;stroke-linecap:butt;stroke-linejoin:miter;stroke-opacity:1\"/>\n",
       "<path class=\"bond-5\" d=\"M 49.4388,119.617 L 43.6854,104.102\" style=\"fill:none;fill-rule:evenodd;stroke:#0000FF;stroke-width:2px;stroke-linecap:butt;stroke-linejoin:miter;stroke-opacity:1\"/>\n",
       "<path class=\"bond-5\" d=\"M 61.0138,127.679 L 56.9864,116.818\" style=\"fill:none;fill-rule:evenodd;stroke:#000000;stroke-width:2px;stroke-linecap:butt;stroke-linejoin:miter;stroke-opacity:1\"/>\n",
       "<path class=\"bond-5\" d=\"M 56.9864,116.818 L 52.9591,105.958\" style=\"fill:none;fill-rule:evenodd;stroke:#0000FF;stroke-width:2px;stroke-linecap:butt;stroke-linejoin:miter;stroke-opacity:1\"/>\n",
       "<text dominant-baseline=\"central\" style=\"font-size:13px;font-style:normal;font-weight:normal;fill-opacity:1;stroke:none;font-family:sans-serif;fill:#7F7F7F\" text-anchor=\"end\" x=\"37.2563\" y=\"15.5389\"><tspan>*</tspan></text>\n",
       "<text dominant-baseline=\"central\" style=\"font-size:13px;font-style:normal;font-weight:normal;fill-opacity:1;stroke:none;font-family:sans-serif;fill:#0000FF\" text-anchor=\"start\" x=\"90.935\" y=\"135.497\"><tspan>NH</tspan></text>\n",
       "<text dominant-baseline=\"central\" style=\"font-size:13px;font-style:normal;font-weight:normal;fill-opacity:1;stroke:none;font-family:sans-serif;fill:#0000FF\" text-anchor=\"end\" x=\"45.6705\" y=\"99.4063\"><tspan>N</tspan></text>\n",
       "</svg>"
      ],
      "text/plain": [
       "<IPython.core.display.SVG object>"
      ]
     },
     "metadata": {},
     "output_type": "display_data"
    },
    {
     "name": "stdout",
     "output_type": "stream",
     "text": [
      "found the bit in compound 1 aka RWJ-51084\n",
      "it is likely it is a positive feature.\n"
     ]
    },
    {
     "data": {
      "image/svg+xml": [
       "<svg baseProfile=\"full\" height=\"150px\" version=\"1.1\" viewBox=\"0 0 150 150\" width=\"150px\" xml:space=\"preserve\" xmlns=\"http://www.w3.org/2000/svg\" xmlns:rdkit=\"http://www.rdkit.org/xml\" xmlns:xlink=\"http://www.w3.org/1999/xlink\">\n",
       "<!-- END OF HEADER -->\n",
       "<rect height=\"150\" style=\"opacity:1.0;fill:#FFFFFF;stroke:none\" width=\"150\" x=\"0\" y=\"0\"> </rect>\n",
       "<ellipse cx=\"58.6875\" cy=\"81.0823\" rx=\"5.13995\" ry=\"5.13995\" style=\"fill:#E5E533;fill-rule:evenodd;stroke:#E5E533;stroke-width:2px;stroke-linecap:butt;stroke-linejoin:miter;stroke-opacity:1\"/>\n",
       "<ellipse cx=\"80.6562\" cy=\"94.4185\" rx=\"5.13995\" ry=\"5.13995\" style=\"fill:#9999E5;fill-rule:evenodd;stroke:#9999E5;stroke-width:2px;stroke-linecap:butt;stroke-linejoin:miter;stroke-opacity:1\"/>\n",
       "<ellipse cx=\"100.128\" cy=\"77.6462\" rx=\"5.13995\" ry=\"5.13995\" style=\"fill:#E5E533;fill-rule:evenodd;stroke:#E5E533;stroke-width:2px;stroke-linecap:butt;stroke-linejoin:miter;stroke-opacity:1\"/>\n",
       "<ellipse cx=\"125.622\" cy=\"80.8941\" rx=\"5.13995\" ry=\"5.13995\" style=\"fill:#E5E533;fill-rule:evenodd;stroke:#E5E533;stroke-width:2px;stroke-linecap:butt;stroke-linejoin:miter;stroke-opacity:1\"/>\n",
       "<ellipse cx=\"90.1942\" cy=\"53.9442\" rx=\"5.13995\" ry=\"5.13995\" style=\"fill:#E5E533;fill-rule:evenodd;stroke:#E5E533;stroke-width:2px;stroke-linecap:butt;stroke-linejoin:miter;stroke-opacity:1\"/>\n",
       "<ellipse cx=\"64.5824\" cy=\"56.0677\" rx=\"5.13995\" ry=\"5.13995\" style=\"fill:#E5E533;fill-rule:evenodd;stroke:#E5E533;stroke-width:2px;stroke-linecap:butt;stroke-linejoin:miter;stroke-opacity:1\"/>\n",
       "<path class=\"bond-0\" d=\"M 18.2437,78.281 L 33.4295,93.0619 L 36.5414,88.971 Z\" style=\"fill:#E5E5E5;fill-rule:evenodd;fill-opacity=1;stroke:#E5E5E5;stroke-width:2px;stroke-linecap:butt;stroke-linejoin:miter;stroke-opacity:1;\"/>\n",
       "<path class=\"bond-1\" d=\"M 32.4361,90.6916 L 29.7339,111.902\" style=\"fill:none;fill-rule:evenodd;stroke:#E5E5E5;stroke-width:2px;stroke-linecap:butt;stroke-linejoin:miter;stroke-opacity:1\"/>\n",
       "<path class=\"bond-1\" d=\"M 37.5348,91.3412 L 34.8327,112.552\" style=\"fill:none;fill-rule:evenodd;stroke:#E5E5E5;stroke-width:2px;stroke-linecap:butt;stroke-linejoin:miter;stroke-opacity:1\"/>\n",
       "<path class=\"bond-2\" d=\"M 34.9855,91.0164 L 58.6875,81.0823\" style=\"fill:none;fill-rule:evenodd;stroke:#000000;stroke-width:2px;stroke-linecap:butt;stroke-linejoin:miter;stroke-opacity:1\"/>\n",
       "<path class=\"bond-3\" d=\"M 58.6875,81.0823 L 67.8156,86.6235\" style=\"fill:none;fill-rule:evenodd;stroke:#000000;stroke-width:2px;stroke-linecap:butt;stroke-linejoin:miter;stroke-opacity:1\"/>\n",
       "<path class=\"bond-3\" d=\"M 67.8156,86.6235 L 76.9436,92.1648\" style=\"fill:none;fill-rule:evenodd;stroke:#0000FF;stroke-width:2px;stroke-linecap:butt;stroke-linejoin:miter;stroke-opacity:1\"/>\n",
       "<path class=\"bond-3\" d=\"M 64.0932,78.3509 L 70.4828,82.2298\" style=\"fill:none;fill-rule:evenodd;stroke:#000000;stroke-width:2px;stroke-linecap:butt;stroke-linejoin:miter;stroke-opacity:1\"/>\n",
       "<path class=\"bond-3\" d=\"M 70.4828,82.2298 L 76.8725,86.1087\" style=\"fill:none;fill-rule:evenodd;stroke:#0000FF;stroke-width:2px;stroke-linecap:butt;stroke-linejoin:miter;stroke-opacity:1\"/>\n",
       "<path class=\"bond-9\" d=\"M 58.6875,81.0823 L 61.1303,70.7167\" style=\"fill:none;fill-rule:evenodd;stroke:#000000;stroke-width:2px;stroke-linecap:butt;stroke-linejoin:miter;stroke-opacity:1\"/>\n",
       "<path class=\"bond-9\" d=\"M 61.1303,70.7167 L 63.573,60.351\" style=\"fill:none;fill-rule:evenodd;stroke:#CCCC00;stroke-width:2px;stroke-linecap:butt;stroke-linejoin:miter;stroke-opacity:1\"/>\n",
       "<path class=\"bond-4\" d=\"M 84.3687,91.2208 L 92.2485,84.4335\" style=\"fill:none;fill-rule:evenodd;stroke:#0000FF;stroke-width:2px;stroke-linecap:butt;stroke-linejoin:miter;stroke-opacity:1\"/>\n",
       "<path class=\"bond-4\" d=\"M 92.2485,84.4335 L 100.128,77.6462\" style=\"fill:none;fill-rule:evenodd;stroke:#000000;stroke-width:2px;stroke-linecap:butt;stroke-linejoin:miter;stroke-opacity:1\"/>\n",
       "<path class=\"bond-5\" d=\"M 100.128,77.6462 L 125.622,80.8941\" style=\"fill:none;fill-rule:evenodd;stroke:#000000;stroke-width:2px;stroke-linecap:butt;stroke-linejoin:miter;stroke-opacity:1\"/>\n",
       "<path class=\"bond-10\" d=\"M 100.128,77.6462 L 90.1942,53.9442\" style=\"fill:none;fill-rule:evenodd;stroke:#000000;stroke-width:2px;stroke-linecap:butt;stroke-linejoin:miter;stroke-opacity:1\"/>\n",
       "<path class=\"bond-10\" d=\"M 93.8978,76.0778 L 86.9439,59.4863\" style=\"fill:none;fill-rule:evenodd;stroke:#000000;stroke-width:2px;stroke-linecap:butt;stroke-linejoin:miter;stroke-opacity:1\"/>\n",
       "<path class=\"bond-6\" d=\"M 127.667,82.45 L 141.227,64.6252\" style=\"fill:none;fill-rule:evenodd;stroke:#E5E5E5;stroke-width:2px;stroke-linecap:butt;stroke-linejoin:miter;stroke-opacity:1\"/>\n",
       "<path class=\"bond-6\" d=\"M 123.577,79.3381 L 137.136,61.5133\" style=\"fill:none;fill-rule:evenodd;stroke:#E5E5E5;stroke-width:2px;stroke-linecap:butt;stroke-linejoin:miter;stroke-opacity:1;stroke-dasharray:6,6\"/>\n",
       "<path class=\"bond-7\" d=\"M 103.754,36.1194 L 90.1942,53.9442\" style=\"fill:none;fill-rule:evenodd;stroke:#E5E5E5;stroke-width:2px;stroke-linecap:butt;stroke-linejoin:miter;stroke-opacity:1\"/>\n",
       "<path class=\"bond-8\" d=\"M 90.1942,53.9442 L 68.0121,55.7834\" style=\"fill:none;fill-rule:evenodd;stroke:#E5E5E5;stroke-width:2px;stroke-linecap:butt;stroke-linejoin:miter;stroke-opacity:1\"/>\n",
       "<text dominant-baseline=\"central\" style=\"font-size:8px;font-style:normal;font-weight:normal;fill-opacity:1;stroke:none;font-family:sans-serif;fill:#7F7F7F\" text-anchor=\"end\" x=\"15.6748\" y=\"76.7419\"><tspan>H*</tspan></text>\n",
       "<text dominant-baseline=\"central\" style=\"font-size:8px;font-style:normal;font-weight:normal;fill-opacity:1;stroke:none;font-family:sans-serif;fill:#7F7F7F\" text-anchor=\"start\" x=\"30.594\" y=\"117.795\"><tspan>*</tspan></text>\n",
       "<text dominant-baseline=\"central\" style=\"font-size:8px;font-style:normal;font-weight:normal;fill-opacity:1;stroke:none;font-family:sans-serif;fill:#0000FF\" text-anchor=\"middle\" x=\"80.6562\" y=\"95.7035\"><tspan>N</tspan></text>\n",
       "<text dominant-baseline=\"central\" style=\"font-size:8px;font-style:normal;font-weight:normal;fill-opacity:1;stroke:none;font-family:sans-serif;fill:#7F7F7F\" text-anchor=\"start\" x=\"140.038\" y=\"61.7248\"><tspan>*</tspan></text>\n",
       "<text dominant-baseline=\"central\" style=\"font-size:8px;font-style:normal;font-weight:normal;fill-opacity:1;stroke:none;font-family:sans-serif;fill:#7F7F7F\" text-anchor=\"start\" x=\"104.61\" y=\"34.7749\"><tspan>*</tspan></text>\n",
       "<text dominant-baseline=\"central\" style=\"font-size:8px;font-style:normal;font-weight:normal;fill-opacity:1;stroke:none;font-family:sans-serif;fill:#CCCC00\" text-anchor=\"end\" x=\"67.1554\" y=\"57.3527\"><tspan>S</tspan></text>\n",
       "</svg>"
      ],
      "text/plain": [
       "<IPython.core.display.SVG object>"
      ]
     },
     "metadata": {},
     "output_type": "display_data"
    },
    {
     "name": "stdout",
     "output_type": "stream",
     "text": [
      "found the bit in compound 7 aka PGL5001\n",
      "it is likely it is a positive feature.\n"
     ]
    },
    {
     "data": {
      "image/svg+xml": [
       "<svg baseProfile=\"full\" height=\"150px\" version=\"1.1\" viewBox=\"0 0 150 150\" width=\"150px\" xml:space=\"preserve\" xmlns=\"http://www.w3.org/2000/svg\" xmlns:rdkit=\"http://www.rdkit.org/xml\" xmlns:xlink=\"http://www.w3.org/1999/xlink\">\n",
       "<!-- END OF HEADER -->\n",
       "<rect height=\"150\" style=\"opacity:1.0;fill:#FFFFFF;stroke:none\" width=\"150\" x=\"0\" y=\"0\"> </rect>\n",
       "<ellipse cx=\"70.4695\" cy=\"53.2086\" rx=\"5.32924\" ry=\"5.32924\" style=\"fill:#E5E533;fill-rule:evenodd;stroke:#E5E533;stroke-width:2px;stroke-linecap:butt;stroke-linejoin:miter;stroke-opacity:1\"/>\n",
       "<ellipse cx=\"50.4688\" cy=\"70.8152\" rx=\"5.32924\" ry=\"5.32924\" style=\"fill:#E5E533;fill-rule:evenodd;stroke:#E5E533;stroke-width:2px;stroke-linecap:butt;stroke-linejoin:miter;stroke-opacity:1\"/>\n",
       "<ellipse cx=\"61.0332\" cy=\"95.2777\" rx=\"5.32924\" ry=\"5.32924\" style=\"fill:#E5E533;fill-rule:evenodd;stroke:#E5E533;stroke-width:2px;stroke-linecap:butt;stroke-linejoin:miter;stroke-opacity:1\"/>\n",
       "<ellipse cx=\"102.983\" cy=\"114.521\" rx=\"5.32924\" ry=\"5.32924\" style=\"fill:#E5E533;fill-rule:evenodd;stroke:#E5E533;stroke-width:2px;stroke-linecap:butt;stroke-linejoin:miter;stroke-opacity:1\"/>\n",
       "<ellipse cx=\"87.563\" cy=\"92.7898\" rx=\"5.32924\" ry=\"5.32924\" style=\"fill:#E5E533;fill-rule:evenodd;stroke:#E5E533;stroke-width:2px;stroke-linecap:butt;stroke-linejoin:miter;stroke-opacity:1\"/>\n",
       "<ellipse cx=\"93.395\" cy=\"66.7896\" rx=\"5.32924\" ry=\"5.32924\" style=\"fill:#9999E5;fill-rule:evenodd;stroke:#9999E5;stroke-width:2px;stroke-linecap:butt;stroke-linejoin:miter;stroke-opacity:1\"/>\n",
       "<path class=\"bond-0\" d=\"M 87.6392,12.7308 L 67.9816,26.6788\" style=\"fill:none;fill-rule:evenodd;stroke:#E5E5E5;stroke-width:2px;stroke-linecap:butt;stroke-linejoin:miter;stroke-opacity:1\"/>\n",
       "<path class=\"bond-1\" d=\"M 67.9816,26.6788 L 70.4695,53.2086\" style=\"fill:none;fill-rule:evenodd;stroke:#000000;stroke-width:2px;stroke-linecap:butt;stroke-linejoin:miter;stroke-opacity:1\"/>\n",
       "<path class=\"bond-8\" d=\"M 67.9816,26.6788 L 45.836,16.5198\" style=\"fill:none;fill-rule:evenodd;stroke:#E5E5E5;stroke-width:2px;stroke-linecap:butt;stroke-linejoin:miter;stroke-opacity:1\"/>\n",
       "<path class=\"bond-2\" d=\"M 70.4695,53.2086 L 62.3938,60.3176\" style=\"fill:none;fill-rule:evenodd;stroke:#000000;stroke-width:2px;stroke-linecap:butt;stroke-linejoin:miter;stroke-opacity:1\"/>\n",
       "<path class=\"bond-2\" d=\"M 62.3938,60.3176 L 54.3181,67.4267\" style=\"fill:none;fill-rule:evenodd;stroke:#0000FF;stroke-width:2px;stroke-linecap:butt;stroke-linejoin:miter;stroke-opacity:1\"/>\n",
       "<path class=\"bond-2\" d=\"M 71.5681,59.3414 L 65.9151,64.3178\" style=\"fill:none;fill-rule:evenodd;stroke:#000000;stroke-width:2px;stroke-linecap:butt;stroke-linejoin:miter;stroke-opacity:1\"/>\n",
       "<path class=\"bond-2\" d=\"M 65.9151,64.3178 L 60.2621,69.2941\" style=\"fill:none;fill-rule:evenodd;stroke:#0000FF;stroke-width:2px;stroke-linecap:butt;stroke-linejoin:miter;stroke-opacity:1\"/>\n",
       "<path class=\"bond-9\" d=\"M 70.4695,53.2086 L 80.1543,58.9458\" style=\"fill:none;fill-rule:evenodd;stroke:#000000;stroke-width:2px;stroke-linecap:butt;stroke-linejoin:miter;stroke-opacity:1\"/>\n",
       "<path class=\"bond-9\" d=\"M 80.1543,58.9458 L 89.839,64.683\" style=\"fill:none;fill-rule:evenodd;stroke:#CCCC00;stroke-width:2px;stroke-linecap:butt;stroke-linejoin:miter;stroke-opacity:1\"/>\n",
       "<path class=\"bond-3\" d=\"M 52.3867,75.2562 L 61.0332,95.2777\" style=\"fill:none;fill-rule:evenodd;stroke:#E5E5E5;stroke-width:2px;stroke-linecap:butt;stroke-linejoin:miter;stroke-opacity:1\"/>\n",
       "<path class=\"bond-4\" d=\"M 61.0332,95.2777 L 51.9602,115.056\" style=\"fill:none;fill-rule:evenodd;stroke:#E5E5E5;stroke-width:2px;stroke-linecap:butt;stroke-linejoin:miter;stroke-opacity:1\"/>\n",
       "<path class=\"bond-10\" d=\"M 61.0332,95.2777 L 87.563,92.7898\" style=\"fill:none;fill-rule:evenodd;stroke:#000000;stroke-width:2px;stroke-linecap:butt;stroke-linejoin:miter;stroke-opacity:1\"/>\n",
       "<path class=\"bond-10\" d=\"M 64.5151,89.5986 L 83.0859,87.857\" style=\"fill:none;fill-rule:evenodd;stroke:#000000;stroke-width:2px;stroke-linecap:butt;stroke-linejoin:miter;stroke-opacity:1\"/>\n",
       "<path class=\"bond-5\" d=\"M 96.3315,135.411 L 105.404,115.632\" style=\"fill:none;fill-rule:evenodd;stroke:#E5E5E5;stroke-width:2px;stroke-linecap:butt;stroke-linejoin:miter;stroke-opacity:1\"/>\n",
       "<path class=\"bond-5\" d=\"M 91.4876,133.189 L 100.561,113.41\" style=\"fill:none;fill-rule:evenodd;stroke:#E5E5E5;stroke-width:2px;stroke-linecap:butt;stroke-linejoin:miter;stroke-opacity:1;stroke-dasharray:6,6\"/>\n",
       "<path class=\"bond-6\" d=\"M 102.983,114.521 L 87.563,92.7898\" style=\"fill:none;fill-rule:evenodd;stroke:#000000;stroke-width:2px;stroke-linecap:butt;stroke-linejoin:miter;stroke-opacity:1\"/>\n",
       "<path class=\"bond-7\" d=\"M 87.563,92.7898 L 89.9809,82.0102\" style=\"fill:none;fill-rule:evenodd;stroke:#000000;stroke-width:2px;stroke-linecap:butt;stroke-linejoin:miter;stroke-opacity:1\"/>\n",
       "<path class=\"bond-7\" d=\"M 89.9809,82.0102 L 92.3988,71.2307\" style=\"fill:none;fill-rule:evenodd;stroke:#CCCC00;stroke-width:2px;stroke-linecap:butt;stroke-linejoin:miter;stroke-opacity:1\"/>\n",
       "<text dominant-baseline=\"central\" style=\"font-size:8px;font-style:normal;font-weight:normal;fill-opacity:1;stroke:none;font-family:sans-serif;fill:#7F7F7F\" text-anchor=\"start\" x=\"88.5274\" y=\"12.5915\"><tspan>*</tspan></text>\n",
       "<text dominant-baseline=\"central\" style=\"font-size:8px;font-style:normal;font-weight:normal;fill-opacity:1;stroke:none;font-family:sans-serif;fill:#0000FF\" text-anchor=\"end\" x=\"53.4299\" y=\"72.1475\"><tspan>N</tspan></text>\n",
       "<text dominant-baseline=\"central\" style=\"font-size:8px;font-style:normal;font-weight:normal;fill-opacity:1;stroke:none;font-family:sans-serif;fill:#7F7F7F\" text-anchor=\"end\" x=\"51.1086\" y=\"120.83\"><tspan>*</tspan></text>\n",
       "<text dominant-baseline=\"central\" style=\"font-size:8px;font-style:normal;font-weight:normal;fill-opacity:1;stroke:none;font-family:sans-serif;fill:#7F7F7F\" text-anchor=\"end\" x=\"93.058\" y=\"140.073\"><tspan>*</tspan></text>\n",
       "<text dominant-baseline=\"central\" style=\"font-size:8px;font-style:normal;font-weight:normal;fill-opacity:1;stroke:none;font-family:sans-serif;fill:#CCCC00\" text-anchor=\"start\" x=\"90.7272\" y=\"68.1219\"><tspan>S</tspan></text>\n",
       "<text dominant-baseline=\"central\" style=\"font-size:8px;font-style:normal;font-weight:normal;fill-opacity:1;stroke:none;font-family:sans-serif;fill:#7F7F7F\" text-anchor=\"end\" x=\"44.9478\" y=\"16.9008\"><tspan>*</tspan></text>\n",
       "</svg>"
      ],
      "text/plain": [
       "<IPython.core.display.SVG object>"
      ]
     },
     "metadata": {},
     "output_type": "display_data"
    },
    {
     "name": "stdout",
     "output_type": "stream",
     "text": [
      "found the bit in compound 1 aka RWJ-51084\n",
      "it is likely it is a positive feature.\n"
     ]
    },
    {
     "data": {
      "image/svg+xml": [
       "<svg baseProfile=\"full\" height=\"150px\" version=\"1.1\" viewBox=\"0 0 150 150\" width=\"150px\" xml:space=\"preserve\" xmlns=\"http://www.w3.org/2000/svg\" xmlns:rdkit=\"http://www.rdkit.org/xml\" xmlns:xlink=\"http://www.w3.org/1999/xlink\">\n",
       "<!-- END OF HEADER -->\n",
       "<rect height=\"150\" style=\"opacity:1.0;fill:#FFFFFF;stroke:none\" width=\"150\" x=\"0\" y=\"0\"> </rect>\n",
       "<ellipse cx=\"37.7426\" cy=\"95.0561\" rx=\"6.18426\" ry=\"6.18426\" style=\"fill:#E5E533;fill-rule:evenodd;stroke:#E5E533;stroke-width:2px;stroke-linecap:butt;stroke-linejoin:miter;stroke-opacity:1\"/>\n",
       "<ellipse cx=\"64.1748\" cy=\"111.102\" rx=\"6.18426\" ry=\"6.18426\" style=\"fill:#E5E533;fill-rule:evenodd;stroke:#E5E533;stroke-width:2px;stroke-linecap:butt;stroke-linejoin:miter;stroke-opacity:1\"/>\n",
       "<ellipse cx=\"87.6033\" cy=\"90.922\" rx=\"6.18426\" ry=\"6.18426\" style=\"fill:#9999E5;fill-rule:evenodd;stroke:#9999E5;stroke-width:2px;stroke-linecap:butt;stroke-linejoin:miter;stroke-opacity:1\"/>\n",
       "<ellipse cx=\"118.277\" cy=\"94.8297\" rx=\"6.18426\" ry=\"6.18426\" style=\"fill:#E5E533;fill-rule:evenodd;stroke:#E5E533;stroke-width:2px;stroke-linecap:butt;stroke-linejoin:miter;stroke-opacity:1\"/>\n",
       "<ellipse cx=\"136.998\" cy=\"70.2196\" rx=\"6.18426\" ry=\"6.18426\" style=\"fill:#E5E533;fill-rule:evenodd;stroke:#E5E533;stroke-width:2px;stroke-linecap:butt;stroke-linejoin:miter;stroke-opacity:1\"/>\n",
       "<ellipse cx=\"94.3716\" cy=\"37.7941\" rx=\"6.18426\" ry=\"6.18426\" style=\"fill:#E5E533;fill-rule:evenodd;stroke:#E5E533;stroke-width:2px;stroke-linecap:butt;stroke-linejoin:miter;stroke-opacity:1\"/>\n",
       "<ellipse cx=\"75.6507\" cy=\"62.4042\" rx=\"6.18426\" ry=\"6.18426\" style=\"fill:#E5E533;fill-rule:evenodd;stroke:#E5E533;stroke-width:2px;stroke-linecap:butt;stroke-linejoin:miter;stroke-opacity:1\"/>\n",
       "<ellipse cx=\"44.8352\" cy=\"64.9592\" rx=\"6.18426\" ry=\"6.18426\" style=\"fill:#E5E533;fill-rule:evenodd;stroke:#E5E533;stroke-width:2px;stroke-linecap:butt;stroke-linejoin:miter;stroke-opacity:1\"/>\n",
       "<path class=\"bond-0\" d=\"M 11.6315,106 L 37.7426,95.0561\" style=\"fill:none;fill-rule:evenodd;stroke:#E5E5E5;stroke-width:2px;stroke-linecap:butt;stroke-linejoin:miter;stroke-opacity:1\"/>\n",
       "<path class=\"bond-1\" d=\"M 37.7426,95.0561 L 48.7253,101.723\" style=\"fill:none;fill-rule:evenodd;stroke:#000000;stroke-width:2px;stroke-linecap:butt;stroke-linejoin:miter;stroke-opacity:1\"/>\n",
       "<path class=\"bond-1\" d=\"M 48.7253,101.723 L 59.7079,108.39\" style=\"fill:none;fill-rule:evenodd;stroke:#0000FF;stroke-width:2px;stroke-linecap:butt;stroke-linejoin:miter;stroke-opacity:1\"/>\n",
       "<path class=\"bond-1\" d=\"M 44.2466,91.7698 L 51.9345,96.4368\" style=\"fill:none;fill-rule:evenodd;stroke:#000000;stroke-width:2px;stroke-linecap:butt;stroke-linejoin:miter;stroke-opacity:1\"/>\n",
       "<path class=\"bond-1\" d=\"M 51.9345,96.4368 L 59.6223,101.104\" style=\"fill:none;fill-rule:evenodd;stroke:#0000FF;stroke-width:2px;stroke-linecap:butt;stroke-linejoin:miter;stroke-opacity:1\"/>\n",
       "<path class=\"bond-9\" d=\"M 37.7426,95.0561 L 43.6207,70.1128\" style=\"fill:none;fill-rule:evenodd;stroke:#E5E5E5;stroke-width:2px;stroke-linecap:butt;stroke-linejoin:miter;stroke-opacity:1\"/>\n",
       "<path class=\"bond-2\" d=\"M 68.6416,107.255 L 78.1224,99.0882\" style=\"fill:none;fill-rule:evenodd;stroke:#0000FF;stroke-width:2px;stroke-linecap:butt;stroke-linejoin:miter;stroke-opacity:1\"/>\n",
       "<path class=\"bond-2\" d=\"M 78.1224,99.0882 L 87.6033,90.922\" style=\"fill:none;fill-rule:evenodd;stroke:#000000;stroke-width:2px;stroke-linecap:butt;stroke-linejoin:miter;stroke-opacity:1\"/>\n",
       "<path class=\"bond-3\" d=\"M 87.6033,90.922 L 118.277,94.8297\" style=\"fill:none;fill-rule:evenodd;stroke:#000000;stroke-width:2px;stroke-linecap:butt;stroke-linejoin:miter;stroke-opacity:1\"/>\n",
       "<path class=\"bond-3\" d=\"M 91.4227,97.6428 L 112.894,100.378\" style=\"fill:none;fill-rule:evenodd;stroke:#000000;stroke-width:2px;stroke-linecap:butt;stroke-linejoin:miter;stroke-opacity:1\"/>\n",
       "<path class=\"bond-10\" d=\"M 87.6033,90.922 L 75.6507,62.4042\" style=\"fill:none;fill-rule:evenodd;stroke:#000000;stroke-width:2px;stroke-linecap:butt;stroke-linejoin:miter;stroke-opacity:1\"/>\n",
       "<path class=\"bond-4\" d=\"M 118.277,94.8297 L 136.998,70.2196\" style=\"fill:none;fill-rule:evenodd;stroke:#000000;stroke-width:2px;stroke-linecap:butt;stroke-linejoin:miter;stroke-opacity:1\"/>\n",
       "<path class=\"bond-5\" d=\"M 136.998,70.2196 L 127.205,46.8553\" style=\"fill:none;fill-rule:evenodd;stroke:#E5E5E5;stroke-width:2px;stroke-linecap:butt;stroke-linejoin:miter;stroke-opacity:1\"/>\n",
       "<path class=\"bond-5\" d=\"M 129.825,69.1054 L 122.97,52.7505\" style=\"fill:none;fill-rule:evenodd;stroke:#E5E5E5;stroke-width:2px;stroke-linecap:butt;stroke-linejoin:miter;stroke-opacity:1\"/>\n",
       "<path class=\"bond-6\" d=\"M 122.638,41.3952 L 94.3716,37.7941\" style=\"fill:none;fill-rule:evenodd;stroke:#E5E5E5;stroke-width:2px;stroke-linecap:butt;stroke-linejoin:miter;stroke-opacity:1\"/>\n",
       "<path class=\"bond-7\" d=\"M 94.3716,37.7941 L 75.6507,62.4042\" style=\"fill:none;fill-rule:evenodd;stroke:#000000;stroke-width:2px;stroke-linecap:butt;stroke-linejoin:miter;stroke-opacity:1\"/>\n",
       "<path class=\"bond-7\" d=\"M 96.4855,45.2297 L 83.3809,62.4568\" style=\"fill:none;fill-rule:evenodd;stroke:#000000;stroke-width:2px;stroke-linecap:butt;stroke-linejoin:miter;stroke-opacity:1\"/>\n",
       "<path class=\"bond-8\" d=\"M 75.6507,62.4042 L 62.3062,63.5106\" style=\"fill:none;fill-rule:evenodd;stroke:#000000;stroke-width:2px;stroke-linecap:butt;stroke-linejoin:miter;stroke-opacity:1\"/>\n",
       "<path class=\"bond-8\" d=\"M 62.3062,63.5106 L 48.9617,64.6171\" style=\"fill:none;fill-rule:evenodd;stroke:#CCCC00;stroke-width:2px;stroke-linecap:butt;stroke-linejoin:miter;stroke-opacity:1\"/>\n",
       "<text dominant-baseline=\"central\" style=\"font-size:10px;font-style:normal;font-weight:normal;fill-opacity:1;stroke:none;font-family:sans-serif;fill:#7F7F7F\" text-anchor=\"end\" x=\"10.6008\" y=\"108.555\"><tspan>*</tspan></text>\n",
       "<text dominant-baseline=\"central\" style=\"font-size:10px;font-style:normal;font-weight:normal;fill-opacity:1;stroke:none;font-family:sans-serif;fill:#0000FF\" text-anchor=\"middle\" x=\"64.1748\" y=\"112.648\"><tspan>N</tspan></text>\n",
       "<text dominant-baseline=\"central\" style=\"font-size:10px;font-style:normal;font-weight:normal;fill-opacity:1;stroke:none;font-family:sans-serif;fill:#7F7F7F\" text-anchor=\"start\" x=\"123.669\" y=\"43.2478\"><tspan>*</tspan></text>\n",
       "<text dominant-baseline=\"central\" style=\"font-size:10px;font-style:normal;font-weight:normal;fill-opacity:1;stroke:none;font-family:sans-serif;fill:#CCCC00\" text-anchor=\"end\" x=\"47.931\" y=\"66.5053\"><tspan>S</tspan></text>\n",
       "</svg>"
      ],
      "text/plain": [
       "<IPython.core.display.SVG object>"
      ]
     },
     "metadata": {},
     "output_type": "display_data"
    },
    {
     "name": "stdout",
     "output_type": "stream",
     "text": [
      "found the bit in compound 1 aka RWJ-51084\n",
      "it is likely it is a positive feature.\n"
     ]
    },
    {
     "data": {
      "image/svg+xml": [
       "<svg baseProfile=\"full\" height=\"150px\" version=\"1.1\" viewBox=\"0 0 150 150\" width=\"150px\" xml:space=\"preserve\" xmlns=\"http://www.w3.org/2000/svg\" xmlns:rdkit=\"http://www.rdkit.org/xml\" xmlns:xlink=\"http://www.w3.org/1999/xlink\">\n",
       "<!-- END OF HEADER -->\n",
       "<rect height=\"150\" style=\"opacity:1.0;fill:#FFFFFF;stroke:none\" width=\"150\" x=\"0\" y=\"0\"> </rect>\n",
       "<ellipse cx=\"43.2828\" cy=\"119.997\" rx=\"7.81958\" ry=\"7.81958\" style=\"fill:#E5E533;fill-rule:evenodd;stroke:#E5E533;stroke-width:2px;stroke-linecap:butt;stroke-linejoin:miter;stroke-opacity:1\"/>\n",
       "<ellipse cx=\"72.9066\" cy=\"94.4806\" rx=\"7.81958\" ry=\"7.81958\" style=\"fill:#E5E533;fill-rule:evenodd;stroke:#E5E533;stroke-width:2px;stroke-linecap:butt;stroke-linejoin:miter;stroke-opacity:1\"/>\n",
       "<ellipse cx=\"111.691\" cy=\"99.4216\" rx=\"7.81958\" ry=\"7.81958\" style=\"fill:#9999E5;fill-rule:evenodd;stroke:#9999E5;stroke-width:2px;stroke-linecap:butt;stroke-linejoin:miter;stroke-opacity:1\"/>\n",
       "<ellipse cx=\"135.362\" cy=\"68.3038\" rx=\"7.81958\" ry=\"7.81958\" style=\"fill:#E5E533;fill-rule:evenodd;stroke:#E5E533;stroke-width:2px;stroke-linecap:butt;stroke-linejoin:miter;stroke-opacity:1\"/>\n",
       "<ellipse cx=\"120.249\" cy=\"32.245\" rx=\"7.81958\" ry=\"7.81958\" style=\"fill:#E5E533;fill-rule:evenodd;stroke:#E5E533;stroke-width:2px;stroke-linecap:butt;stroke-linejoin:miter;stroke-opacity:1\"/>\n",
       "<ellipse cx=\"57.7934\" cy=\"58.4218\" rx=\"7.81958\" ry=\"7.81958\" style=\"fill:#E5E533;fill-rule:evenodd;stroke:#E5E533;stroke-width:2px;stroke-linecap:butt;stroke-linejoin:miter;stroke-opacity:1\"/>\n",
       "<path class=\"bond-0\" d=\"M 10.8754,104.897 L 35.606,119.91\" style=\"fill:none;fill-rule:evenodd;stroke:#E5E5E5;stroke-width:2px;stroke-linecap:butt;stroke-linejoin:miter;stroke-opacity:1\"/>\n",
       "<path class=\"bond-0\" d=\"M 14.9331,98.2131 L 39.6637,113.226\" style=\"fill:none;fill-rule:evenodd;stroke:#E5E5E5;stroke-width:2px;stroke-linecap:butt;stroke-linejoin:miter;stroke-opacity:1;stroke-dasharray:6,6\"/>\n",
       "<path class=\"bond-1\" d=\"M 48.9308,115.132 L 60.9187,104.806\" style=\"fill:none;fill-rule:evenodd;stroke:#0000FF;stroke-width:2px;stroke-linecap:butt;stroke-linejoin:miter;stroke-opacity:1\"/>\n",
       "<path class=\"bond-1\" d=\"M 60.9187,104.806 L 72.9066,94.4806\" style=\"fill:none;fill-rule:evenodd;stroke:#000000;stroke-width:2px;stroke-linecap:butt;stroke-linejoin:miter;stroke-opacity:1\"/>\n",
       "<path class=\"bond-2\" d=\"M 72.9066,94.4806 L 111.691,99.4216\" style=\"fill:none;fill-rule:evenodd;stroke:#000000;stroke-width:2px;stroke-linecap:butt;stroke-linejoin:miter;stroke-opacity:1\"/>\n",
       "<path class=\"bond-2\" d=\"M 79.7124,87.4649 L 106.862,90.9236\" style=\"fill:none;fill-rule:evenodd;stroke:#000000;stroke-width:2px;stroke-linecap:butt;stroke-linejoin:miter;stroke-opacity:1\"/>\n",
       "<path class=\"bond-8\" d=\"M 72.9066,94.4806 L 57.7934,58.4218\" style=\"fill:none;fill-rule:evenodd;stroke:#000000;stroke-width:2px;stroke-linecap:butt;stroke-linejoin:miter;stroke-opacity:1\"/>\n",
       "<path class=\"bond-3\" d=\"M 111.691,99.4216 L 135.362,68.3038\" style=\"fill:none;fill-rule:evenodd;stroke:#000000;stroke-width:2px;stroke-linecap:butt;stroke-linejoin:miter;stroke-opacity:1\"/>\n",
       "<path class=\"bond-4\" d=\"M 135.362,68.3038 L 120.249,32.245\" style=\"fill:none;fill-rule:evenodd;stroke:#000000;stroke-width:2px;stroke-linecap:butt;stroke-linejoin:miter;stroke-opacity:1\"/>\n",
       "<path class=\"bond-4\" d=\"M 125.884,65.9176 L 115.304,40.6765\" style=\"fill:none;fill-rule:evenodd;stroke:#000000;stroke-width:2px;stroke-linecap:butt;stroke-linejoin:miter;stroke-opacity:1\"/>\n",
       "<path class=\"bond-5\" d=\"M 120.249,32.245 L 84.5077,27.6917\" style=\"fill:none;fill-rule:evenodd;stroke:#E5E5E5;stroke-width:2px;stroke-linecap:butt;stroke-linejoin:miter;stroke-opacity:1\"/>\n",
       "<path class=\"bond-6\" d=\"M 78.4216,31.3043 L 57.7934,58.4218\" style=\"fill:none;fill-rule:evenodd;stroke:#E5E5E5;stroke-width:2px;stroke-linecap:butt;stroke-linejoin:miter;stroke-opacity:1\"/>\n",
       "<path class=\"bond-6\" d=\"M 81.551,40.1062 L 67.1112,59.0884\" style=\"fill:none;fill-rule:evenodd;stroke:#E5E5E5;stroke-width:2px;stroke-linecap:butt;stroke-linejoin:miter;stroke-opacity:1\"/>\n",
       "<path class=\"bond-7\" d=\"M 57.7934,58.4218 L 21.8723,61.4002\" style=\"fill:none;fill-rule:evenodd;stroke:#E5E5E5;stroke-width:2px;stroke-linecap:butt;stroke-linejoin:miter;stroke-opacity:1\"/>\n",
       "<text dominant-baseline=\"central\" style=\"font-size:13px;font-style:normal;font-weight:normal;fill-opacity:1;stroke:none;font-family:sans-serif;fill:#7F7F7F\" text-anchor=\"end\" x=\"11.601\" y=\"101.663\"><tspan>*</tspan></text>\n",
       "<text dominant-baseline=\"central\" style=\"font-size:13px;font-style:normal;font-weight:normal;fill-opacity:1;stroke:none;font-family:sans-serif;fill:#0000FF\" text-anchor=\"middle\" x=\"43.2828\" y=\"121.952\"><tspan>N</tspan></text>\n",
       "<text dominant-baseline=\"central\" style=\"font-size:13px;font-style:normal;font-weight:normal;fill-opacity:1;stroke:none;font-family:sans-serif;fill:#7F7F7F\" text-anchor=\"end\" x=\"83.2044\" y=\"29.2589\"><tspan>*</tspan></text>\n",
       "<text dominant-baseline=\"central\" style=\"font-size:13px;font-style:normal;font-weight:normal;fill-opacity:1;stroke:none;font-family:sans-serif;fill:#7F7F7F\" text-anchor=\"end\" x=\"20.569\" y=\"63.6074\"><tspan>*</tspan></text>\n",
       "</svg>"
      ],
      "text/plain": [
       "<IPython.core.display.SVG object>"
      ]
     },
     "metadata": {},
     "output_type": "display_data"
    },
    {
     "name": "stdout",
     "output_type": "stream",
     "text": [
      "found the bit in compound 1 aka RWJ-51084\n",
      "it is likely it is a positive feature.\n"
     ]
    },
    {
     "data": {
      "image/svg+xml": [
       "<svg baseProfile=\"full\" height=\"150px\" version=\"1.1\" viewBox=\"0 0 150 150\" width=\"150px\" xml:space=\"preserve\" xmlns=\"http://www.w3.org/2000/svg\" xmlns:rdkit=\"http://www.rdkit.org/xml\" xmlns:xlink=\"http://www.w3.org/1999/xlink\">\n",
       "<!-- END OF HEADER -->\n",
       "<rect height=\"150\" style=\"opacity:1.0;fill:#FFFFFF;stroke:none\" width=\"150\" x=\"0\" y=\"0\"> </rect>\n",
       "<ellipse cx=\"53.6942\" cy=\"106.238\" rx=\"9.37426\" ry=\"9.37426\" style=\"fill:#E5E533;fill-rule:evenodd;stroke:#E5E533;stroke-width:2px;stroke-linecap:butt;stroke-linejoin:miter;stroke-opacity:1\"/>\n",
       "<ellipse cx=\"111.156\" cy=\"56.7436\" rx=\"9.37426\" ry=\"9.37426\" style=\"fill:#E5E533;fill-rule:evenodd;stroke:#E5E533;stroke-width:2px;stroke-linecap:butt;stroke-linejoin:miter;stroke-opacity:1\"/>\n",
       "<ellipse cx=\"64.4452\" cy=\"60.6166\" rx=\"9.37426\" ry=\"9.37426\" style=\"fill:#9999E5;fill-rule:evenodd;stroke:#9999E5;stroke-width:2px;stroke-linecap:butt;stroke-linejoin:miter;stroke-opacity:1\"/>\n",
       "<path class=\"bond-0\" d=\"M 14.1143,122.827 L 53.6942,106.238\" style=\"fill:none;fill-rule:evenodd;stroke:#E5E5E5;stroke-width:2px;stroke-linecap:butt;stroke-linejoin:miter;stroke-opacity:1\"/>\n",
       "<path class=\"bond-1\" d=\"M 51.2619,110.245 L 87.6804,132.353\" style=\"fill:none;fill-rule:evenodd;stroke:#E5E5E5;stroke-width:2px;stroke-linecap:butt;stroke-linejoin:miter;stroke-opacity:1\"/>\n",
       "<path class=\"bond-1\" d=\"M 56.1265,102.232 L 92.5449,124.34\" style=\"fill:none;fill-rule:evenodd;stroke:#E5E5E5;stroke-width:2px;stroke-linecap:butt;stroke-linejoin:miter;stroke-opacity:1;stroke-dasharray:6,6\"/>\n",
       "<path class=\"bond-4\" d=\"M 53.6942,106.238 L 58.1493,87.3334\" style=\"fill:none;fill-rule:evenodd;stroke:#000000;stroke-width:2px;stroke-linecap:butt;stroke-linejoin:miter;stroke-opacity:1\"/>\n",
       "<path class=\"bond-4\" d=\"M 58.1493,87.3334 L 62.6043,68.4285\" style=\"fill:none;fill-rule:evenodd;stroke:#CCCC00;stroke-width:2px;stroke-linecap:butt;stroke-linejoin:miter;stroke-opacity:1\"/>\n",
       "<path class=\"bond-4\" d=\"M 64.155,102.717 L 67.2736,89.4836\" style=\"fill:none;fill-rule:evenodd;stroke:#000000;stroke-width:2px;stroke-linecap:butt;stroke-linejoin:miter;stroke-opacity:1;stroke-dasharray:6,6\"/>\n",
       "<path class=\"bond-4\" d=\"M 67.2736,89.4836 L 70.3921,76.2502\" style=\"fill:none;fill-rule:evenodd;stroke:#CCCC00;stroke-width:2px;stroke-linecap:butt;stroke-linejoin:miter;stroke-opacity:1;stroke-dasharray:6,6\"/>\n",
       "<path class=\"bond-2\" d=\"M 132.155,21.3969 L 107.426,53.9059\" style=\"fill:none;fill-rule:evenodd;stroke:#E5E5E5;stroke-width:2px;stroke-linecap:butt;stroke-linejoin:miter;stroke-opacity:1\"/>\n",
       "<path class=\"bond-2\" d=\"M 139.616,27.0725 L 114.887,59.5814\" style=\"fill:none;fill-rule:evenodd;stroke:#E5E5E5;stroke-width:2px;stroke-linecap:butt;stroke-linejoin:miter;stroke-opacity:1;stroke-dasharray:6,6\"/>\n",
       "<path class=\"bond-3\" d=\"M 111.156,56.7436 L 90.9283,58.4208\" style=\"fill:none;fill-rule:evenodd;stroke:#000000;stroke-width:2px;stroke-linecap:butt;stroke-linejoin:miter;stroke-opacity:1\"/>\n",
       "<path class=\"bond-3\" d=\"M 90.9283,58.4208 L 70.7004,60.098\" style=\"fill:none;fill-rule:evenodd;stroke:#CCCC00;stroke-width:2px;stroke-linecap:butt;stroke-linejoin:miter;stroke-opacity:1\"/>\n",
       "<path class=\"bond-3\" d=\"M 104.313,47.9046 L 90.1537,49.0786\" style=\"fill:none;fill-rule:evenodd;stroke:#000000;stroke-width:2px;stroke-linecap:butt;stroke-linejoin:miter;stroke-opacity:1;stroke-dasharray:6,6\"/>\n",
       "<path class=\"bond-3\" d=\"M 90.1537,49.0786 L 75.9941,50.2526\" style=\"fill:none;fill-rule:evenodd;stroke:#CCCC00;stroke-width:2px;stroke-linecap:butt;stroke-linejoin:miter;stroke-opacity:1;stroke-dasharray:6,6\"/>\n",
       "<path class=\"bond-5\" d=\"M 106.833,58.5554 L 121.677,93.9715\" style=\"fill:none;fill-rule:evenodd;stroke:#E5E5E5;stroke-width:2px;stroke-linecap:butt;stroke-linejoin:miter;stroke-opacity:1\"/>\n",
       "<path class=\"bond-5\" d=\"M 115.479,54.9318 L 130.323,90.3479\" style=\"fill:none;fill-rule:evenodd;stroke:#E5E5E5;stroke-width:2px;stroke-linecap:butt;stroke-linejoin:miter;stroke-opacity:1;stroke-dasharray:6,6\"/>\n",
       "<text dominant-baseline=\"central\" style=\"font-size:15px;font-style:normal;font-weight:normal;fill-opacity:1;stroke:none;font-family:sans-serif;fill:#7F7F7F\" text-anchor=\"end\" x=\"12.5519\" y=\"126.7\"><tspan>*</tspan></text>\n",
       "<text dominant-baseline=\"central\" style=\"font-size:15px;font-style:normal;font-weight:normal;fill-opacity:1;stroke:none;font-family:sans-serif;fill:#7F7F7F\" text-anchor=\"start\" x=\"91.675\" y=\"132.905\"><tspan>*</tspan></text>\n",
       "<text dominant-baseline=\"central\" style=\"font-size:15px;font-style:normal;font-weight:normal;fill-opacity:1;stroke:none;font-family:sans-serif;fill:#7F7F7F\" text-anchor=\"start\" x=\"137.448\" y=\"21.7826\"><tspan>*</tspan></text>\n",
       "<text dominant-baseline=\"central\" style=\"font-size:15px;font-style:normal;font-weight:normal;fill-opacity:1;stroke:none;font-family:sans-serif;fill:#CCCC00\" text-anchor=\"end\" x=\"69.138\" y=\"62.9602\"><tspan>S</tspan></text>\n",
       "<text dominant-baseline=\"central\" style=\"font-size:15px;font-style:normal;font-weight:normal;fill-opacity:1;stroke:none;font-family:sans-serif;fill:#7F7F7F\" text-anchor=\"start\" x=\"127.188\" y=\"102.315\"><tspan>*</tspan></text>\n",
       "</svg>"
      ],
      "text/plain": [
       "<IPython.core.display.SVG object>"
      ]
     },
     "metadata": {},
     "output_type": "display_data"
    },
    {
     "name": "stdout",
     "output_type": "stream",
     "text": [
      "found the bit in compound 88 aka icatibant-acetate\n",
      "it is likely to be a negative feature.\n"
     ]
    },
    {
     "data": {
      "image/svg+xml": [
       "<svg baseProfile=\"full\" height=\"150px\" version=\"1.1\" viewBox=\"0 0 150 150\" width=\"150px\" xml:space=\"preserve\" xmlns=\"http://www.w3.org/2000/svg\" xmlns:rdkit=\"http://www.rdkit.org/xml\" xmlns:xlink=\"http://www.w3.org/1999/xlink\">\n",
       "<!-- END OF HEADER -->\n",
       "<rect height=\"150\" style=\"opacity:1.0;fill:#FFFFFF;stroke:none\" width=\"150\" x=\"0\" y=\"0\"> </rect>\n",
       "<ellipse cx=\"97.2431\" cy=\"88.9194\" rx=\"5.95847\" ry=\"5.95847\" style=\"fill:#CCCCCC;fill-rule:evenodd;stroke:#CCCCCC;stroke-width:2px;stroke-linecap:butt;stroke-linejoin:miter;stroke-opacity:1\"/>\n",
       "<ellipse cx=\"67.9259\" cy=\"83.6196\" rx=\"5.95847\" ry=\"5.95847\" style=\"fill:#CCCCCC;fill-rule:evenodd;stroke:#CCCCCC;stroke-width:2px;stroke-linecap:butt;stroke-linejoin:miter;stroke-opacity:1\"/>\n",
       "<ellipse cx=\"44.3704\" cy=\"101.86\" rx=\"5.95847\" ry=\"5.95847\" style=\"fill:#CCCCCC;fill-rule:evenodd;stroke:#CCCCCC;stroke-width:2px;stroke-linecap:butt;stroke-linejoin:miter;stroke-opacity:1\"/>\n",
       "<ellipse cx=\"12.7767\" cy=\"61.0608\" rx=\"5.95847\" ry=\"5.95847\" style=\"fill:#CCCCCC;fill-rule:evenodd;stroke:#CCCCCC;stroke-width:2px;stroke-linecap:butt;stroke-linejoin:miter;stroke-opacity:1\"/>\n",
       "<ellipse cx=\"36.3322\" cy=\"42.8202\" rx=\"5.95847\" ry=\"5.95847\" style=\"fill:#CCCCCC;fill-rule:evenodd;stroke:#CCCCCC;stroke-width:2px;stroke-linecap:butt;stroke-linejoin:miter;stroke-opacity:1\"/>\n",
       "<ellipse cx=\"63.9068\" cy=\"54.0996\" rx=\"5.95847\" ry=\"5.95847\" style=\"fill:#9999E5;fill-rule:evenodd;stroke:#9999E5;stroke-width:2px;stroke-linecap:butt;stroke-linejoin:miter;stroke-opacity:1\"/>\n",
       "<ellipse cx=\"90.7401\" cy=\"41.155\" rx=\"5.95847\" ry=\"5.95847\" style=\"fill:#CCCCCC;fill-rule:evenodd;stroke:#CCCCCC;stroke-width:2px;stroke-linecap:butt;stroke-linejoin:miter;stroke-opacity:1\"/>\n",
       "<ellipse cx=\"111.343\" cy=\"62.6749\" rx=\"5.95847\" ry=\"5.95847\" style=\"fill:#CCCCCC;fill-rule:evenodd;stroke:#CCCCCC;stroke-width:2px;stroke-linecap:butt;stroke-linejoin:miter;stroke-opacity:1\"/>\n",
       "<path class=\"bond-0\" d=\"M 107.869,110.946 L 99.6384,93.8848\" style=\"fill:none;fill-rule:evenodd;stroke:#E5E5E5;stroke-width:2px;stroke-linecap:butt;stroke-linejoin:miter;stroke-opacity:1\"/>\n",
       "<path class=\"bond-1\" d=\"M 92.9393,88.1414 L 80.4326,85.8805\" style=\"fill:none;fill-rule:evenodd;stroke:#0000FF;stroke-width:2px;stroke-linecap:butt;stroke-linejoin:miter;stroke-opacity:1\"/>\n",
       "<path class=\"bond-1\" d=\"M 80.4326,85.8805 L 67.9259,83.6196\" style=\"fill:none;fill-rule:evenodd;stroke:#000000;stroke-width:2px;stroke-linecap:butt;stroke-linejoin:miter;stroke-opacity:1\"/>\n",
       "<path class=\"bond-10\" d=\"M 99.9107,83.954 L 111.343,62.6749\" style=\"fill:none;fill-rule:evenodd;stroke:#E5E5E5;stroke-width:2px;stroke-linecap:butt;stroke-linejoin:miter;stroke-opacity:1\"/>\n",
       "<path class=\"bond-2\" d=\"M 67.9259,83.6196 L 44.3704,101.86\" style=\"fill:none;fill-rule:evenodd;stroke:#000000;stroke-width:2px;stroke-linecap:butt;stroke-linejoin:miter;stroke-opacity:1\"/>\n",
       "<path class=\"bond-11\" d=\"M 67.9259,83.6196 L 63.9068,54.0996\" style=\"fill:none;fill-rule:evenodd;stroke:#000000;stroke-width:2px;stroke-linecap:butt;stroke-linejoin:miter;stroke-opacity:1\"/>\n",
       "<path class=\"bond-12\" d=\"M 68.0484,86.6266 L 69.206,86.3433\" style=\"fill:none;fill-rule:evenodd;stroke:#000000;stroke-width:2px;stroke-linecap:butt;stroke-linejoin:miter;stroke-opacity:1\"/>\n",
       "<path class=\"bond-12\" d=\"M 68.171,89.6336 L 70.486,89.067\" style=\"fill:none;fill-rule:evenodd;stroke:#000000;stroke-width:2px;stroke-linecap:butt;stroke-linejoin:miter;stroke-opacity:1\"/>\n",
       "<path class=\"bond-12\" d=\"M 68.2935,92.6406 L 71.7661,91.7907\" style=\"fill:none;fill-rule:evenodd;stroke:#000000;stroke-width:2px;stroke-linecap:butt;stroke-linejoin:miter;stroke-opacity:1\"/>\n",
       "<path class=\"bond-12\" d=\"M 68.4161,95.6476 L 73.0462,94.5144\" style=\"fill:none;fill-rule:evenodd;stroke:#000000;stroke-width:2px;stroke-linecap:butt;stroke-linejoin:miter;stroke-opacity:1\"/>\n",
       "<path class=\"bond-12\" d=\"M 68.5386,98.6546 L 74.3263,97.2381\" style=\"fill:none;fill-rule:evenodd;stroke:#000000;stroke-width:2px;stroke-linecap:butt;stroke-linejoin:miter;stroke-opacity:1\"/>\n",
       "<path class=\"bond-3\" d=\"M 44.3704,101.86 L 19.1145,91.5293\" style=\"fill:none;fill-rule:evenodd;stroke:#E5E5E5;stroke-width:2px;stroke-linecap:butt;stroke-linejoin:miter;stroke-opacity:1\"/>\n",
       "<path class=\"bond-4\" d=\"M 16.1197,85.6155 L 12.7767,61.0608\" style=\"fill:none;fill-rule:evenodd;stroke:#E5E5E5;stroke-width:2px;stroke-linecap:butt;stroke-linejoin:miter;stroke-opacity:1\"/>\n",
       "<path class=\"bond-5\" d=\"M 12.7767,61.0608 L 36.3322,42.8202\" style=\"fill:none;fill-rule:evenodd;stroke:#000000;stroke-width:2px;stroke-linecap:butt;stroke-linejoin:miter;stroke-opacity:1\"/>\n",
       "<path class=\"bond-6\" d=\"M 36.3322,42.8202 L 63.9068,54.0996\" style=\"fill:none;fill-rule:evenodd;stroke:#000000;stroke-width:2px;stroke-linecap:butt;stroke-linejoin:miter;stroke-opacity:1\"/>\n",
       "<path class=\"bond-7\" d=\"M 63.9068,54.0996 L 90.7401,41.155\" style=\"fill:none;fill-rule:evenodd;stroke:#000000;stroke-width:2px;stroke-linecap:butt;stroke-linejoin:miter;stroke-opacity:1\"/>\n",
       "<path class=\"bond-13\" d=\"M 64.4113,51.104 L 63.2201,51.1404\" style=\"fill:none;fill-rule:evenodd;stroke:#000000;stroke-width:2px;stroke-linecap:butt;stroke-linejoin:miter;stroke-opacity:1\"/>\n",
       "<path class=\"bond-13\" d=\"M 64.9157,48.1084 L 62.5335,48.1813\" style=\"fill:none;fill-rule:evenodd;stroke:#000000;stroke-width:2px;stroke-linecap:butt;stroke-linejoin:miter;stroke-opacity:1\"/>\n",
       "<path class=\"bond-13\" d=\"M 65.4202,45.1128 L 61.8468,45.2221\" style=\"fill:none;fill-rule:evenodd;stroke:#000000;stroke-width:2px;stroke-linecap:butt;stroke-linejoin:miter;stroke-opacity:1\"/>\n",
       "<path class=\"bond-13\" d=\"M 65.9246,42.1172 L 61.1601,42.263\" style=\"fill:none;fill-rule:evenodd;stroke:#000000;stroke-width:2px;stroke-linecap:butt;stroke-linejoin:miter;stroke-opacity:1\"/>\n",
       "<path class=\"bond-13\" d=\"M 66.4291,39.1216 L 60.4734,39.3038\" style=\"fill:none;fill-rule:evenodd;stroke:#000000;stroke-width:2px;stroke-linecap:butt;stroke-linejoin:miter;stroke-opacity:1\"/>\n",
       "<path class=\"bond-8\" d=\"M 90.7401,41.155 L 111.343,62.6749\" style=\"fill:none;fill-rule:evenodd;stroke:#000000;stroke-width:2px;stroke-linecap:butt;stroke-linejoin:miter;stroke-opacity:1\"/>\n",
       "<path class=\"bond-9\" d=\"M 111.343,62.6749 L 138.946,61.9235 L 138.142,56.0195 Z\" style=\"fill:#E5E5E5;fill-rule:evenodd;fill-opacity=1;stroke:#E5E5E5;stroke-width:2px;stroke-linecap:butt;stroke-linejoin:miter;stroke-opacity:1;\"/>\n",
       "<text dominant-baseline=\"central\" style=\"font-size:9px;font-style:normal;font-weight:normal;fill-opacity:1;stroke:none;font-family:sans-serif;fill:#7F7F7F\" text-anchor=\"start\" x=\"108.862\" y=\"117.242\"><tspan>*</tspan></text>\n",
       "<text dominant-baseline=\"central\" style=\"font-size:9px;font-style:normal;font-weight:normal;fill-opacity:1;stroke:none;font-family:sans-serif;fill:#0000FF\" text-anchor=\"start\" x=\"93.9324\" y=\"90.4091\"><tspan>N</tspan></text>\n",
       "<text dominant-baseline=\"central\" style=\"font-size:9px;font-style:normal;font-weight:normal;fill-opacity:1;stroke:none;font-family:sans-serif;fill:#7F7F7F\" text-anchor=\"end\" x=\"18.1214\" y=\"92.0705\"><tspan>*</tspan></text>\n",
       "<text dominant-baseline=\"central\" style=\"font-size:9px;font-style:normal;font-weight:normal;fill-opacity:1;stroke:none;font-family:sans-serif;fill:#7F7F7F\" text-anchor=\"start\" x=\"139.537\" y=\"60.1454\"><tspan>*</tspan></text>\n",
       "<text dominant-baseline=\"central\" style=\"font-size:9px;font-style:normal;font-weight:normal;fill-opacity:1;stroke:none;font-family:sans-serif;fill:#000000\" text-anchor=\"start\" x=\"69.3371\" y=\"104.401\"><tspan>H</tspan></text>\n",
       "<text dominant-baseline=\"central\" style=\"font-size:9px;font-style:normal;font-weight:normal;fill-opacity:1;stroke:none;font-family:sans-serif;fill:#000000\" text-anchor=\"start\" x=\"59.9886\" y=\"35.7369\"><tspan>H</tspan></text>\n",
       "</svg>"
      ],
      "text/plain": [
       "<IPython.core.display.SVG object>"
      ]
     },
     "metadata": {},
     "output_type": "display_data"
    },
    {
     "name": "stdout",
     "output_type": "stream",
     "text": [
      "found the bit in compound 28 aka siponimod\n",
      "it is likely to be a negative feature.\n"
     ]
    },
    {
     "data": {
      "image/svg+xml": [
       "<svg baseProfile=\"full\" height=\"150px\" version=\"1.1\" viewBox=\"0 0 150 150\" width=\"150px\" xml:space=\"preserve\" xmlns=\"http://www.w3.org/2000/svg\" xmlns:rdkit=\"http://www.rdkit.org/xml\" xmlns:xlink=\"http://www.w3.org/1999/xlink\">\n",
       "<!-- END OF HEADER -->\n",
       "<rect height=\"150\" style=\"opacity:1.0;fill:#FFFFFF;stroke:none\" width=\"150\" x=\"0\" y=\"0\"> </rect>\n",
       "<ellipse cx=\"67.4768\" cy=\"62.1965\" rx=\"5.83954\" ry=\"5.83954\" style=\"fill:#9999E5;fill-rule:evenodd;stroke:#9999E5;stroke-width:2px;stroke-linecap:butt;stroke-linejoin:miter;stroke-opacity:1\"/>\n",
       "<ellipse cx=\"52.4305\" cy=\"37.1742\" rx=\"5.83954\" ry=\"5.83954\" style=\"fill:#E5E533;fill-rule:evenodd;stroke:#E5E533;stroke-width:2px;stroke-linecap:butt;stroke-linejoin:miter;stroke-opacity:1\"/>\n",
       "<ellipse cx=\"23.2375\" cy=\"37.6935\" rx=\"5.83954\" ry=\"5.83954\" style=\"fill:#E5E533;fill-rule:evenodd;stroke:#E5E533;stroke-width:2px;stroke-linecap:butt;stroke-linejoin:miter;stroke-opacity:1\"/>\n",
       "<ellipse cx=\"24.137\" cy=\"88.2574\" rx=\"5.83954\" ry=\"5.83954\" style=\"fill:#E5E533;fill-rule:evenodd;stroke:#E5E533;stroke-width:2px;stroke-linecap:butt;stroke-linejoin:miter;stroke-opacity:1\"/>\n",
       "<ellipse cx=\"53.3301\" cy=\"87.7381\" rx=\"5.83954\" ry=\"5.83954\" style=\"fill:#E5E533;fill-rule:evenodd;stroke:#E5E533;stroke-width:2px;stroke-linecap:butt;stroke-linejoin:miter;stroke-opacity:1\"/>\n",
       "<path class=\"bond-0\" d=\"M 138.637,86.2205 L 116.261,86.6186\" style=\"fill:none;fill-rule:evenodd;stroke:#E5E5E5;stroke-width:2px;stroke-linecap:butt;stroke-linejoin:miter;stroke-opacity:1\"/>\n",
       "<path class=\"bond-1\" d=\"M 108.79,81.8331 L 102.73,71.7551\" style=\"fill:none;fill-rule:evenodd;stroke:#FF0000;stroke-width:2px;stroke-linecap:butt;stroke-linejoin:miter;stroke-opacity:1\"/>\n",
       "<path class=\"bond-1\" d=\"M 102.73,71.7551 L 96.6699,61.6771\" style=\"fill:none;fill-rule:evenodd;stroke:#000000;stroke-width:2px;stroke-linecap:butt;stroke-linejoin:miter;stroke-opacity:1\"/>\n",
       "<path class=\"bond-2\" d=\"M 96.6699,61.6771 L 67.4768,62.1965\" style=\"fill:none;fill-rule:evenodd;stroke:#000000;stroke-width:2px;stroke-linecap:butt;stroke-linejoin:miter;stroke-opacity:1\"/>\n",
       "<path class=\"bond-3\" d=\"M 67.4768,62.1965 L 52.4305,37.1742\" style=\"fill:none;fill-rule:evenodd;stroke:#000000;stroke-width:2px;stroke-linecap:butt;stroke-linejoin:miter;stroke-opacity:1\"/>\n",
       "<path class=\"bond-3\" d=\"M 60.2154,61.4524 L 49.683,43.9368\" style=\"fill:none;fill-rule:evenodd;stroke:#000000;stroke-width:2px;stroke-linecap:butt;stroke-linejoin:miter;stroke-opacity:1\"/>\n",
       "<path class=\"bond-9\" d=\"M 67.4768,62.1965 L 53.3301,87.7381\" style=\"fill:none;fill-rule:evenodd;stroke:#000000;stroke-width:2px;stroke-linecap:butt;stroke-linejoin:miter;stroke-opacity:1\"/>\n",
       "<path class=\"bond-4\" d=\"M 52.4305,37.1742 L 23.2375,37.6935\" style=\"fill:none;fill-rule:evenodd;stroke:#000000;stroke-width:2px;stroke-linecap:butt;stroke-linejoin:miter;stroke-opacity:1\"/>\n",
       "<path class=\"bond-5\" d=\"M 23.2375,37.6935 L 11.3632,59.1322\" style=\"fill:none;fill-rule:evenodd;stroke:#E5E5E5;stroke-width:2px;stroke-linecap:butt;stroke-linejoin:miter;stroke-opacity:1\"/>\n",
       "<path class=\"bond-5\" d=\"M 26.5646,43.7387 L 18.2526,58.7458\" style=\"fill:none;fill-rule:evenodd;stroke:#E5E5E5;stroke-width:2px;stroke-linecap:butt;stroke-linejoin:miter;stroke-opacity:1\"/>\n",
       "<path class=\"bond-6\" d=\"M 11.3632,67.0144 L 24.137,88.2574\" style=\"fill:none;fill-rule:evenodd;stroke:#E5E5E5;stroke-width:2px;stroke-linecap:butt;stroke-linejoin:miter;stroke-opacity:1\"/>\n",
       "<path class=\"bond-7\" d=\"M 24.137,88.2574 L 53.3301,87.7381\" style=\"fill:none;fill-rule:evenodd;stroke:#000000;stroke-width:2px;stroke-linecap:butt;stroke-linejoin:miter;stroke-opacity:1\"/>\n",
       "<path class=\"bond-7\" d=\"M 28.4121,82.3409 L 48.8472,81.9774\" style=\"fill:none;fill-rule:evenodd;stroke:#000000;stroke-width:2px;stroke-linecap:butt;stroke-linejoin:miter;stroke-opacity:1\"/>\n",
       "<path class=\"bond-8\" d=\"M 24.137,88.2574 L 12.2627,109.696\" style=\"fill:none;fill-rule:evenodd;stroke:#E5E5E5;stroke-width:2px;stroke-linecap:butt;stroke-linejoin:miter;stroke-opacity:1\"/>\n",
       "<text dominant-baseline=\"central\" style=\"font-size:9px;font-style:normal;font-weight:normal;fill-opacity:1;stroke:none;font-family:sans-serif;fill:#7F7F7F\" text-anchor=\"start\" x=\"139.61\" y=\"87.64\"><tspan>*</tspan></text>\n",
       "<text dominant-baseline=\"central\" style=\"font-size:9px;font-style:normal;font-weight:normal;fill-opacity:1;stroke:none;font-family:sans-serif;fill:#FF0000\" text-anchor=\"end\" x=\"115.288\" y=\"88.1593\"><tspan>O</tspan></text>\n",
       "<text dominant-baseline=\"central\" style=\"font-size:9px;font-style:normal;font-weight:normal;fill-opacity:1;stroke:none;font-family:sans-serif;fill:#7F7F7F\" text-anchor=\"end\" x=\"10.3899\" y=\"64.695\"><tspan>*</tspan></text>\n",
       "<text dominant-baseline=\"central\" style=\"font-size:9px;font-style:normal;font-weight:normal;fill-opacity:1;stroke:none;font-family:sans-serif;fill:#7F7F7F\" text-anchor=\"end\" x=\"11.2894\" y=\"115.259\"><tspan>*</tspan></text>\n",
       "</svg>"
      ],
      "text/plain": [
       "<IPython.core.display.SVG object>"
      ]
     },
     "metadata": {},
     "output_type": "display_data"
    },
    {
     "name": "stdout",
     "output_type": "stream",
     "text": [
      "found the bit in compound 1 aka RWJ-51084\n",
      "it is likely it is a positive feature.\n"
     ]
    },
    {
     "data": {
      "image/svg+xml": [
       "<svg baseProfile=\"full\" height=\"150px\" version=\"1.1\" viewBox=\"0 0 150 150\" width=\"150px\" xml:space=\"preserve\" xmlns=\"http://www.w3.org/2000/svg\" xmlns:rdkit=\"http://www.rdkit.org/xml\" xmlns:xlink=\"http://www.w3.org/1999/xlink\">\n",
       "<!-- END OF HEADER -->\n",
       "<rect height=\"150\" style=\"opacity:1.0;fill:#FFFFFF;stroke:none\" width=\"150\" x=\"0\" y=\"0\"> </rect>\n",
       "<ellipse cx=\"73.3774\" cy=\"84.9264\" rx=\"5.13596\" ry=\"5.13596\" style=\"fill:#9999E5;fill-rule:evenodd;stroke:#9999E5;stroke-width:2px;stroke-linecap:butt;stroke-linejoin:miter;stroke-opacity:1\"/>\n",
       "<path class=\"bond-0\" d=\"M 10.8156,65.2784 L 29.2553,79.3054\" style=\"fill:none;fill-rule:evenodd;stroke:#E5E5E5;stroke-width:2px;stroke-linecap:butt;stroke-linejoin:miter;stroke-opacity:1\"/>\n",
       "<path class=\"bond-1\" d=\"M 29.2553,79.3054 L 52.939,69.379\" style=\"fill:none;fill-rule:evenodd;stroke:#000000;stroke-width:2px;stroke-linecap:butt;stroke-linejoin:miter;stroke-opacity:1\"/>\n",
       "<path class=\"bond-2\" d=\"M 52.939,69.379 L 73.3774,84.9264\" style=\"fill:none;fill-rule:evenodd;stroke:#000000;stroke-width:2px;stroke-linecap:butt;stroke-linejoin:miter;stroke-opacity:1\"/>\n",
       "<path class=\"bond-3\" d=\"M 94.5934,75.7558 L 94.7919,76.2295\" style=\"fill:none;fill-rule:evenodd;stroke:#000000;stroke-width:2px;stroke-linecap:butt;stroke-linejoin:miter;stroke-opacity:1\"/>\n",
       "<path class=\"bond-3\" d=\"M 92.1258,76.5116 L 92.5228,77.459\" style=\"fill:none;fill-rule:evenodd;stroke:#000000;stroke-width:2px;stroke-linecap:butt;stroke-linejoin:miter;stroke-opacity:1\"/>\n",
       "<path class=\"bond-3\" d=\"M 89.6581,77.2674 L 90.2537,78.6884\" style=\"fill:none;fill-rule:evenodd;stroke:#000000;stroke-width:2px;stroke-linecap:butt;stroke-linejoin:miter;stroke-opacity:1\"/>\n",
       "<path class=\"bond-3\" d=\"M 87.1905,78.0232 L 87.9846,79.9179\" style=\"fill:none;fill-rule:evenodd;stroke:#000000;stroke-width:2px;stroke-linecap:butt;stroke-linejoin:miter;stroke-opacity:1\"/>\n",
       "<path class=\"bond-3\" d=\"M 84.7229,78.779 L 85.7155,81.1474\" style=\"fill:none;fill-rule:evenodd;stroke:#000000;stroke-width:2px;stroke-linecap:butt;stroke-linejoin:miter;stroke-opacity:1\"/>\n",
       "<path class=\"bond-3\" d=\"M 82.2552,79.5348 L 83.4464,82.3769\" style=\"fill:none;fill-rule:evenodd;stroke:#000000;stroke-width:2px;stroke-linecap:butt;stroke-linejoin:miter;stroke-opacity:1\"/>\n",
       "<path class=\"bond-3\" d=\"M 79.7876,80.2906 L 81.1773,83.6064\" style=\"fill:none;fill-rule:evenodd;stroke:#000000;stroke-width:2px;stroke-linecap:butt;stroke-linejoin:miter;stroke-opacity:1\"/>\n",
       "<path class=\"bond-3\" d=\"M 77.32,81.0465 L 78.9082,84.8358\" style=\"fill:none;fill-rule:evenodd;stroke:#000000;stroke-width:2px;stroke-linecap:butt;stroke-linejoin:miter;stroke-opacity:1\"/>\n",
       "<path class=\"bond-3\" d=\"M 74.8523,81.8023 L 76.6391,86.0653\" style=\"fill:none;fill-rule:evenodd;stroke:#000000;stroke-width:2px;stroke-linecap:butt;stroke-linejoin:miter;stroke-opacity:1\"/>\n",
       "<path class=\"bond-3\" d=\"M 72.3847,82.5581 L 74.37,87.2948\" style=\"fill:none;fill-rule:evenodd;stroke:#000000;stroke-width:2px;stroke-linecap:butt;stroke-linejoin:miter;stroke-opacity:1\"/>\n",
       "<path class=\"bond-4\" d=\"M 97.061,75 L 98.4111,64.403\" style=\"fill:none;fill-rule:evenodd;stroke:#000000;stroke-width:2px;stroke-linecap:butt;stroke-linejoin:miter;stroke-opacity:1\"/>\n",
       "<path class=\"bond-4\" d=\"M 98.4111,64.403 L 99.7611,53.8061\" style=\"fill:none;fill-rule:evenodd;stroke:#0000FF;stroke-width:2px;stroke-linecap:butt;stroke-linejoin:miter;stroke-opacity:1\"/>\n",
       "<path class=\"bond-6\" d=\"M 97.061,75 L 117.499,90.5475\" style=\"fill:none;fill-rule:evenodd;stroke:#000000;stroke-width:2px;stroke-linecap:butt;stroke-linejoin:miter;stroke-opacity:1\"/>\n",
       "<path class=\"bond-5\" d=\"M 96.5967,46.7042 L 81.8666,35.499\" style=\"fill:none;fill-rule:evenodd;stroke:#E5E5E5;stroke-width:2px;stroke-linecap:butt;stroke-linejoin:miter;stroke-opacity:1\"/>\n",
       "<path class=\"bond-7\" d=\"M 114.952,90.2229 L 112.252,111.417\" style=\"fill:none;fill-rule:evenodd;stroke:#E5E5E5;stroke-width:2px;stroke-linecap:butt;stroke-linejoin:miter;stroke-opacity:1\"/>\n",
       "<path class=\"bond-7\" d=\"M 120.047,90.872 L 117.347,112.066\" style=\"fill:none;fill-rule:evenodd;stroke:#E5E5E5;stroke-width:2px;stroke-linecap:butt;stroke-linejoin:miter;stroke-opacity:1\"/>\n",
       "<path class=\"bond-8\" d=\"M 117.499,90.5475 L 139.184,81.4587\" style=\"fill:none;fill-rule:evenodd;stroke:#E5E5E5;stroke-width:2px;stroke-linecap:butt;stroke-linejoin:miter;stroke-opacity:1\"/>\n",
       "<text dominant-baseline=\"central\" style=\"font-size:8px;font-style:normal;font-weight:normal;fill-opacity:1;stroke:none;font-family:sans-serif;fill:#7F7F7F\" text-anchor=\"end\" x=\"9.95956\" y=\"65.0419\"><tspan>*</tspan></text>\n",
       "<text dominant-baseline=\"central\" style=\"font-size:8px;font-style:normal;font-weight:normal;fill-opacity:1;stroke:none;font-family:sans-serif;fill:#0000FF\" text-anchor=\"start\" x=\"97.4527\" y=\"50.8101\"><tspan>NH</tspan></text>\n",
       "<text dominant-baseline=\"central\" style=\"font-size:8px;font-style:normal;font-weight:normal;fill-opacity:1;stroke:none;font-family:sans-serif;fill:#7F7F7F\" text-anchor=\"end\" x=\"81.0106\" y=\"35.2626\"><tspan>*</tspan></text>\n",
       "<text dominant-baseline=\"central\" style=\"font-size:8px;font-style:normal;font-weight:normal;fill-opacity:1;stroke:none;font-family:sans-serif;fill:#7F7F7F\" text-anchor=\"start\" x=\"113.111\" y=\"117.305\"><tspan>*</tspan></text>\n",
       "<text dominant-baseline=\"central\" style=\"font-size:8px;font-style:normal;font-weight:normal;fill-opacity:1;stroke:none;font-family:sans-serif;fill:#7F7F7F\" text-anchor=\"start\" x=\"140.04\" y=\"81.905\"><tspan>*</tspan></text>\n",
       "</svg>"
      ],
      "text/plain": [
       "<IPython.core.display.SVG object>"
      ]
     },
     "metadata": {},
     "output_type": "display_data"
    },
    {
     "name": "stdout",
     "output_type": "stream",
     "text": [
      "found the bit in compound 138 aka Cyclosporine\n",
      "it is likely to be a negative feature.\n"
     ]
    },
    {
     "data": {
      "image/svg+xml": [
       "<svg baseProfile=\"full\" height=\"150px\" version=\"1.1\" viewBox=\"0 0 150 150\" width=\"150px\" xml:space=\"preserve\" xmlns=\"http://www.w3.org/2000/svg\" xmlns:rdkit=\"http://www.rdkit.org/xml\" xmlns:xlink=\"http://www.w3.org/1999/xlink\">\n",
       "<!-- END OF HEADER -->\n",
       "<rect height=\"150\" style=\"opacity:1.0;fill:#FFFFFF;stroke:none\" width=\"150\" x=\"0\" y=\"0\"> </rect>\n",
       "<ellipse cx=\"62.2324\" cy=\"119.325\" rx=\"4.5297\" ry=\"4.5297\" style=\"fill:#CCCCCC;fill-rule:evenodd;stroke:#CCCCCC;stroke-width:2px;stroke-linecap:butt;stroke-linejoin:miter;stroke-opacity:1\"/>\n",
       "<ellipse cx=\"68.7147\" cy=\"97.624\" rx=\"4.5297\" ry=\"4.5297\" style=\"fill:#CCCCCC;fill-rule:evenodd;stroke:#CCCCCC;stroke-width:2px;stroke-linecap:butt;stroke-linejoin:miter;stroke-opacity:1\"/>\n",
       "<ellipse cx=\"70.9729\" cy=\"75.0884\" rx=\"4.5297\" ry=\"4.5297\" style=\"fill:#9999E5;fill-rule:evenodd;stroke:#9999E5;stroke-width:2px;stroke-linecap:butt;stroke-linejoin:miter;stroke-opacity:1\"/>\n",
       "<ellipse cx=\"68.9254\" cy=\"52.5326\" rx=\"4.5297\" ry=\"4.5297\" style=\"fill:#CCCCCC;fill-rule:evenodd;stroke:#CCCCCC;stroke-width:2px;stroke-linecap:butt;stroke-linejoin:miter;stroke-opacity:1\"/>\n",
       "<ellipse cx=\"62.6462\" cy=\"30.772\" rx=\"4.5297\" ry=\"4.5297\" style=\"fill:#CCCCCC;fill-rule:evenodd;stroke:#CCCCCC;stroke-width:2px;stroke-linecap:butt;stroke-linejoin:miter;stroke-opacity:1\"/>\n",
       "<path class=\"bond-0\" d=\"M 53.7287,135.632 L 62.2722,124.147 L 58.2558,122.053 Z\" style=\"fill:#E5E5E5;fill-rule:evenodd;fill-opacity=1;stroke:#E5E5E5;stroke-width:2px;stroke-linecap:butt;stroke-linejoin:miter;stroke-opacity:1;\"/>\n",
       "<path class=\"bond-1\" d=\"M 65.5042,120.653 L 81.4562,127.125\" style=\"fill:none;fill-rule:evenodd;stroke:#E5E5E5;stroke-width:2px;stroke-linecap:butt;stroke-linejoin:miter;stroke-opacity:1\"/>\n",
       "<path class=\"bond-2\" d=\"M 63.36,115.55 L 66.0373,106.587\" style=\"fill:none;fill-rule:evenodd;stroke:#0000FF;stroke-width:2px;stroke-linecap:butt;stroke-linejoin:miter;stroke-opacity:1\"/>\n",
       "<path class=\"bond-2\" d=\"M 66.0373,106.587 L 68.7147,97.624\" style=\"fill:none;fill-rule:evenodd;stroke:#000000;stroke-width:2px;stroke-linecap:butt;stroke-linejoin:miter;stroke-opacity:1\"/>\n",
       "<path class=\"bond-3\" d=\"M 68.2757,99.8459 L 77.6224,101.693\" style=\"fill:none;fill-rule:evenodd;stroke:#000000;stroke-width:2px;stroke-linecap:butt;stroke-linejoin:miter;stroke-opacity:1\"/>\n",
       "<path class=\"bond-3\" d=\"M 77.6224,101.693 L 86.9691,103.539\" style=\"fill:none;fill-rule:evenodd;stroke:#FF0000;stroke-width:2px;stroke-linecap:butt;stroke-linejoin:miter;stroke-opacity:1\"/>\n",
       "<path class=\"bond-3\" d=\"M 69.1537,95.4021 L 78.5004,97.2489\" style=\"fill:none;fill-rule:evenodd;stroke:#000000;stroke-width:2px;stroke-linecap:butt;stroke-linejoin:miter;stroke-opacity:1\"/>\n",
       "<path class=\"bond-3\" d=\"M 78.5004,97.2489 L 87.8471,99.0956\" style=\"fill:none;fill-rule:evenodd;stroke:#FF0000;stroke-width:2px;stroke-linecap:butt;stroke-linejoin:miter;stroke-opacity:1\"/>\n",
       "<path class=\"bond-4\" d=\"M 70.9729,75.0884 L 66.4612,97.3982 L 70.9683,97.8498 Z\" style=\"fill:#000000;fill-rule:evenodd;fill-opacity=1;stroke:#000000;stroke-width:2px;stroke-linecap:butt;stroke-linejoin:miter;stroke-opacity:1;\"/>\n",
       "<path class=\"bond-5\" d=\"M 70.9729,75.0884 L 93.6212,75.1942\" style=\"fill:none;fill-rule:evenodd;stroke:#000000;stroke-width:2px;stroke-linecap:butt;stroke-linejoin:miter;stroke-opacity:1\"/>\n",
       "<path class=\"bond-8\" d=\"M 70.9729,75.0884 L 70.1205,65.6979\" style=\"fill:none;fill-rule:evenodd;stroke:#000000;stroke-width:2px;stroke-linecap:butt;stroke-linejoin:miter;stroke-opacity:1\"/>\n",
       "<path class=\"bond-8\" d=\"M 70.1205,65.6979 L 69.2681,56.3074\" style=\"fill:none;fill-rule:evenodd;stroke:#0000FF;stroke-width:2px;stroke-linecap:butt;stroke-linejoin:miter;stroke-opacity:1\"/>\n",
       "<path class=\"bond-6\" d=\"M 93.6212,75.1942 L 104.854,94.8611\" style=\"fill:none;fill-rule:evenodd;stroke:#000000;stroke-width:2px;stroke-linecap:butt;stroke-linejoin:miter;stroke-opacity:1\"/>\n",
       "<path class=\"bond-7\" d=\"M 93.6212,75.1942 L 105.037,55.6332\" style=\"fill:none;fill-rule:evenodd;stroke:#000000;stroke-width:2px;stroke-linecap:butt;stroke-linejoin:miter;stroke-opacity:1\"/>\n",
       "<path class=\"bond-9\" d=\"M 72.1972,51.9179 L 81.6908,50.1341\" style=\"fill:none;fill-rule:evenodd;stroke:#0000FF;stroke-width:2px;stroke-linecap:butt;stroke-linejoin:miter;stroke-opacity:1\"/>\n",
       "<path class=\"bond-9\" d=\"M 81.6908,50.1341 L 91.1844,48.3503\" style=\"fill:none;fill-rule:evenodd;stroke:#000000;stroke-width:2px;stroke-linecap:butt;stroke-linejoin:miter;stroke-opacity:1\"/>\n",
       "<path class=\"bond-10\" d=\"M 67.8362,48.7579 L 65.2412,39.7649\" style=\"fill:none;fill-rule:evenodd;stroke:#0000FF;stroke-width:2px;stroke-linecap:butt;stroke-linejoin:miter;stroke-opacity:1\"/>\n",
       "<path class=\"bond-10\" d=\"M 65.2412,39.7649 L 62.6462,30.772\" style=\"fill:none;fill-rule:evenodd;stroke:#000000;stroke-width:2px;stroke-linecap:butt;stroke-linejoin:miter;stroke-opacity:1\"/>\n",
       "<path class=\"bond-11\" d=\"M 63.4781,32.8785 L 82.7806,25.2554\" style=\"fill:none;fill-rule:evenodd;stroke:#E5E5E5;stroke-width:2px;stroke-linecap:butt;stroke-linejoin:miter;stroke-opacity:1\"/>\n",
       "<path class=\"bond-11\" d=\"M 61.8143,28.6655 L 81.1168,21.0424\" style=\"fill:none;fill-rule:evenodd;stroke:#E5E5E5;stroke-width:2px;stroke-linecap:butt;stroke-linejoin:miter;stroke-opacity:1\"/>\n",
       "<path class=\"bond-12\" d=\"M 54.286,14.3677 L 60.6283,31.8004 L 64.6641,29.7436 Z\" style=\"fill:#E5E5E5;fill-rule:evenodd;fill-opacity=1;stroke:#E5E5E5;stroke-width:2px;stroke-linecap:butt;stroke-linejoin:miter;stroke-opacity:1;\"/>\n",
       "<text dominant-baseline=\"central\" style=\"font-size:7px;font-style:normal;font-weight:normal;fill-opacity:1;stroke:none;font-family:sans-serif;fill:#7F7F7F\" text-anchor=\"end\" x=\"52.7681\" y=\"140.539\"><tspan>H*</tspan></text>\n",
       "<text dominant-baseline=\"central\" style=\"font-size:7px;font-style:normal;font-weight:normal;fill-opacity:1;stroke:none;font-family:sans-serif;fill:#0000FF\" text-anchor=\"end\" x=\"64.7492\" y=\"120.457\"><tspan>N</tspan></text>\n",
       "<text dominant-baseline=\"central\" style=\"font-size:7px;font-style:normal;font-weight:normal;fill-opacity:1;stroke:none;font-family:sans-serif;fill:#7F7F7F\" text-anchor=\"start\" x=\"82.2112\" y=\"128.973\"><tspan>*</tspan></text>\n",
       "<text dominant-baseline=\"central\" style=\"font-size:7px;font-style:normal;font-weight:normal;fill-opacity:1;stroke:none;font-family:sans-serif;fill:#FF0000\" text-anchor=\"start\" x=\"88.1631\" y=\"103.147\"><tspan>O</tspan></text>\n",
       "<text dominant-baseline=\"central\" style=\"font-size:7px;font-style:normal;font-weight:normal;fill-opacity:1;stroke:none;font-family:sans-serif;fill:#0000FF\" text-anchor=\"end\" x=\"71.4422\" y=\"53.665\"><tspan>N</tspan></text>\n",
       "<text dominant-baseline=\"central\" style=\"font-size:7px;font-style:normal;font-weight:normal;fill-opacity:1;stroke:none;font-family:sans-serif;fill:#7F7F7F\" text-anchor=\"start\" x=\"82.7036\" y=\"23.5852\"><tspan>*</tspan></text>\n",
       "<text dominant-baseline=\"central\" style=\"font-size:7px;font-style:normal;font-weight:normal;fill-opacity:1;stroke:none;font-family:sans-serif;fill:#7F7F7F\" text-anchor=\"end\" x=\"53.3701\" y=\"11.7254\"><tspan>H*</tspan></text>\n",
       "</svg>"
      ],
      "text/plain": [
       "<IPython.core.display.SVG object>"
      ]
     },
     "metadata": {},
     "output_type": "display_data"
    },
    {
     "name": "stdout",
     "output_type": "stream",
     "text": [
      "found the bit in compound 66 aka nisin\n",
      "it is likely to be a negative feature.\n"
     ]
    },
    {
     "data": {
      "image/svg+xml": [
       "<svg baseProfile=\"full\" height=\"150px\" version=\"1.1\" viewBox=\"0 0 150 150\" width=\"150px\" xml:space=\"preserve\" xmlns=\"http://www.w3.org/2000/svg\" xmlns:rdkit=\"http://www.rdkit.org/xml\" xmlns:xlink=\"http://www.w3.org/1999/xlink\">\n",
       "<!-- END OF HEADER -->\n",
       "<rect height=\"150\" style=\"opacity:1.0;fill:#FFFFFF;stroke:none\" width=\"150\" x=\"0\" y=\"0\"> </rect>\n",
       "<ellipse cx=\"79.67\" cy=\"58.2475\" rx=\"8.44605\" ry=\"8.44605\" style=\"fill:#9999E5;fill-rule:evenodd;stroke:#9999E5;stroke-width:2px;stroke-linecap:butt;stroke-linejoin:miter;stroke-opacity:1\"/>\n",
       "<ellipse cx=\"37.5745\" cy=\"54.8776\" rx=\"8.44605\" ry=\"8.44605\" style=\"fill:#E5E533;fill-rule:evenodd;stroke:#E5E533;stroke-width:2px;stroke-linecap:butt;stroke-linejoin:miter;stroke-opacity:1\"/>\n",
       "<path class=\"bond-0\" d=\"M 136.608,99.495 L 97.7994,96.3883\" style=\"fill:none;fill-rule:evenodd;stroke:#E5E5E5;stroke-width:2px;stroke-linecap:butt;stroke-linejoin:miter;stroke-opacity:1\"/>\n",
       "<path class=\"bond-1\" d=\"M 97.7994,96.3883 L 79.67,58.2475\" style=\"fill:none;fill-rule:evenodd;stroke:#000000;stroke-width:2px;stroke-linecap:butt;stroke-linejoin:miter;stroke-opacity:1\"/>\n",
       "<path class=\"bond-4\" d=\"M 97.7994,96.3883 L 77.1201,126.391\" style=\"fill:none;fill-rule:evenodd;stroke:#E5E5E5;stroke-width:2px;stroke-linecap:butt;stroke-linejoin:miter;stroke-opacity:1\"/>\n",
       "<path class=\"bond-2\" d=\"M 79.67,58.2475 L 37.5745,54.8776\" style=\"fill:none;fill-rule:evenodd;stroke:#000000;stroke-width:2px;stroke-linecap:butt;stroke-linejoin:miter;stroke-opacity:1\"/>\n",
       "<path class=\"bond-3\" d=\"M 34.3669,52.1307 L 10.1843,80.368\" style=\"fill:none;fill-rule:evenodd;stroke:#E5E5E5;stroke-width:2px;stroke-linecap:butt;stroke-linejoin:miter;stroke-opacity:1\"/>\n",
       "<path class=\"bond-3\" d=\"M 40.782,57.6246 L 16.5994,85.8619\" style=\"fill:none;fill-rule:evenodd;stroke:#E5E5E5;stroke-width:2px;stroke-linecap:butt;stroke-linejoin:miter;stroke-opacity:1;stroke-dasharray:6,6\"/>\n",
       "<path class=\"bond-5\" d=\"M 41.1781,52.6759 L 22.4481,22.019\" style=\"fill:none;fill-rule:evenodd;stroke:#E5E5E5;stroke-width:2px;stroke-linecap:butt;stroke-linejoin:miter;stroke-opacity:1\"/>\n",
       "<path class=\"bond-5\" d=\"M 33.9708,57.0793 L 15.2407,26.4223\" style=\"fill:none;fill-rule:evenodd;stroke:#E5E5E5;stroke-width:2px;stroke-linecap:butt;stroke-linejoin:miter;stroke-opacity:1;stroke-dasharray:6,6\"/>\n",
       "<text dominant-baseline=\"central\" style=\"font-size:14px;font-style:normal;font-weight:normal;fill-opacity:1;stroke:none;font-family:sans-serif;fill:#7F7F7F\" text-anchor=\"start\" x=\"138.016\" y=\"101.87\"><tspan>*</tspan></text>\n",
       "<text dominant-baseline=\"central\" style=\"font-size:14px;font-style:normal;font-weight:normal;fill-opacity:1;stroke:none;font-family:sans-serif;fill:#7F7F7F\" text-anchor=\"end\" x=\"11.9842\" y=\"89.0644\"><tspan>*</tspan></text>\n",
       "<text dominant-baseline=\"central\" style=\"font-size:14px;font-style:normal;font-weight:normal;fill-opacity:1;stroke:none;font-family:sans-serif;fill:#7F7F7F\" text-anchor=\"end\" x=\"75.7124\" y=\"133.271\"><tspan>*</tspan></text>\n",
       "<text dominant-baseline=\"central\" style=\"font-size:14px;font-style:normal;font-weight:normal;fill-opacity:1;stroke:none;font-family:sans-serif;fill:#7F7F7F\" text-anchor=\"end\" x=\"17.4367\" y=\"20.9523\"><tspan>*</tspan></text>\n",
       "</svg>"
      ],
      "text/plain": [
       "<IPython.core.display.SVG object>"
      ]
     },
     "metadata": {},
     "output_type": "display_data"
    },
    {
     "name": "stdout",
     "output_type": "stream",
     "text": [
      "found the bit in compound 1 aka RWJ-51084\n",
      "it is likely it is a positive feature.\n"
     ]
    },
    {
     "data": {
      "image/svg+xml": [
       "<svg baseProfile=\"full\" height=\"150px\" version=\"1.1\" viewBox=\"0 0 150 150\" width=\"150px\" xml:space=\"preserve\" xmlns=\"http://www.w3.org/2000/svg\" xmlns:rdkit=\"http://www.rdkit.org/xml\" xmlns:xlink=\"http://www.w3.org/1999/xlink\">\n",
       "<!-- END OF HEADER -->\n",
       "<rect height=\"150\" style=\"opacity:1.0;fill:#FFFFFF;stroke:none\" width=\"150\" x=\"0\" y=\"0\"> </rect>\n",
       "<ellipse cx=\"75\" cy=\"75\" rx=\"7.59265\" ry=\"7.59265\" style=\"fill:#9999E5;fill-rule:evenodd;stroke:#9999E5;stroke-width:2px;stroke-linecap:butt;stroke-linejoin:miter;stroke-opacity:1\"/>\n",
       "<path class=\"bond-0\" d=\"M 12.7276,68.9379 L 39.9876,89.6746\" style=\"fill:none;fill-rule:evenodd;stroke:#E5E5E5;stroke-width:2px;stroke-linecap:butt;stroke-linejoin:miter;stroke-opacity:1\"/>\n",
       "<path class=\"bond-1\" d=\"M 71.352,76.1173 L 71.6455,76.8176\" style=\"fill:none;fill-rule:evenodd;stroke:#000000;stroke-width:2px;stroke-linecap:butt;stroke-linejoin:miter;stroke-opacity:1\"/>\n",
       "<path class=\"bond-1\" d=\"M 67.704,77.2347 L 68.291,78.6352\" style=\"fill:none;fill-rule:evenodd;stroke:#000000;stroke-width:2px;stroke-linecap:butt;stroke-linejoin:miter;stroke-opacity:1\"/>\n",
       "<path class=\"bond-1\" d=\"M 64.0561,78.352 L 64.9365,80.4527\" style=\"fill:none;fill-rule:evenodd;stroke:#000000;stroke-width:2px;stroke-linecap:butt;stroke-linejoin:miter;stroke-opacity:1\"/>\n",
       "<path class=\"bond-1\" d=\"M 60.4081,79.4693 L 61.582,82.2703\" style=\"fill:none;fill-rule:evenodd;stroke:#000000;stroke-width:2px;stroke-linecap:butt;stroke-linejoin:miter;stroke-opacity:1\"/>\n",
       "<path class=\"bond-1\" d=\"M 56.7601,80.5867 L 58.2275,84.0879\" style=\"fill:none;fill-rule:evenodd;stroke:#000000;stroke-width:2px;stroke-linecap:butt;stroke-linejoin:miter;stroke-opacity:1\"/>\n",
       "<path class=\"bond-1\" d=\"M 53.1121,81.704 L 54.8731,85.9055\" style=\"fill:none;fill-rule:evenodd;stroke:#000000;stroke-width:2px;stroke-linecap:butt;stroke-linejoin:miter;stroke-opacity:1\"/>\n",
       "<path class=\"bond-1\" d=\"M 49.4641,82.8213 L 51.5186,87.7231\" style=\"fill:none;fill-rule:evenodd;stroke:#000000;stroke-width:2px;stroke-linecap:butt;stroke-linejoin:miter;stroke-opacity:1\"/>\n",
       "<path class=\"bond-1\" d=\"M 45.8161,83.9387 L 48.1641,89.5406\" style=\"fill:none;fill-rule:evenodd;stroke:#000000;stroke-width:2px;stroke-linecap:butt;stroke-linejoin:miter;stroke-opacity:1\"/>\n",
       "<path class=\"bond-1\" d=\"M 42.1682,85.056 L 44.8096,91.3582\" style=\"fill:none;fill-rule:evenodd;stroke:#000000;stroke-width:2px;stroke-linecap:butt;stroke-linejoin:miter;stroke-opacity:1\"/>\n",
       "<path class=\"bond-1\" d=\"M 38.5202,86.1733 L 41.4551,93.1758\" style=\"fill:none;fill-rule:evenodd;stroke:#000000;stroke-width:2px;stroke-linecap:butt;stroke-linejoin:miter;stroke-opacity:1\"/>\n",
       "<path class=\"bond-2\" d=\"M 75,75 L 76.9958,59.3342\" style=\"fill:none;fill-rule:evenodd;stroke:#000000;stroke-width:2px;stroke-linecap:butt;stroke-linejoin:miter;stroke-opacity:1\"/>\n",
       "<path class=\"bond-2\" d=\"M 76.9958,59.3342 L 78.9916,43.6683\" style=\"fill:none;fill-rule:evenodd;stroke:#0000FF;stroke-width:2px;stroke-linecap:butt;stroke-linejoin:miter;stroke-opacity:1\"/>\n",
       "<path class=\"bond-4\" d=\"M 75,75 L 105.215,97.9843\" style=\"fill:none;fill-rule:evenodd;stroke:#000000;stroke-width:2px;stroke-linecap:butt;stroke-linejoin:miter;stroke-opacity:1\"/>\n",
       "<path class=\"bond-3\" d=\"M 74.3135,33.1694 L 52.5376,16.6045\" style=\"fill:none;fill-rule:evenodd;stroke:#E5E5E5;stroke-width:2px;stroke-linecap:butt;stroke-linejoin:miter;stroke-opacity:1\"/>\n",
       "<path class=\"bond-5\" d=\"M 101.449,97.5045 L 97.4573,128.836\" style=\"fill:none;fill-rule:evenodd;stroke:#E5E5E5;stroke-width:2px;stroke-linecap:butt;stroke-linejoin:miter;stroke-opacity:1\"/>\n",
       "<path class=\"bond-5\" d=\"M 108.981,98.4641 L 104.989,129.796\" style=\"fill:none;fill-rule:evenodd;stroke:#E5E5E5;stroke-width:2px;stroke-linecap:butt;stroke-linejoin:miter;stroke-opacity:1\"/>\n",
       "<path class=\"bond-6\" d=\"M 105.215,97.9843 L 137.272,84.5481\" style=\"fill:none;fill-rule:evenodd;stroke:#E5E5E5;stroke-width:2px;stroke-linecap:butt;stroke-linejoin:miter;stroke-opacity:1\"/>\n",
       "<text dominant-baseline=\"central\" style=\"font-size:12px;font-style:normal;font-weight:normal;fill-opacity:1;stroke:none;font-family:sans-serif;fill:#7F7F7F\" text-anchor=\"end\" x=\"11.4622\" y=\"68.5884\"><tspan>*</tspan></text>\n",
       "<text dominant-baseline=\"central\" style=\"font-size:12px;font-style:normal;font-weight:normal;fill-opacity:1;stroke:none;font-family:sans-serif;fill:#0000FF\" text-anchor=\"start\" x=\"75.579\" y=\"39.2393\"><tspan>NH</tspan></text>\n",
       "<text dominant-baseline=\"central\" style=\"font-size:12px;font-style:normal;font-weight:normal;fill-opacity:1;stroke:none;font-family:sans-serif;fill:#7F7F7F\" text-anchor=\"end\" x=\"51.2722\" y=\"16.255\"><tspan>*</tspan></text>\n",
       "<text dominant-baseline=\"central\" style=\"font-size:12px;font-style:normal;font-weight:normal;fill-opacity:1;stroke:none;font-family:sans-serif;fill:#7F7F7F\" text-anchor=\"start\" x=\"98.7278\" y=\"137.541\"><tspan>*</tspan></text>\n",
       "<text dominant-baseline=\"central\" style=\"font-size:12px;font-style:normal;font-weight:normal;fill-opacity:1;stroke:none;font-family:sans-serif;fill:#7F7F7F\" text-anchor=\"start\" x=\"138.538\" y=\"85.2079\"><tspan>*</tspan></text>\n",
       "</svg>"
      ],
      "text/plain": [
       "<IPython.core.display.SVG object>"
      ]
     },
     "metadata": {},
     "output_type": "display_data"
    },
    {
     "name": "stdout",
     "output_type": "stream",
     "text": [
      "found the bit in compound 109 aka U-75799E\n",
      "it is likely to be a negative feature.\n"
     ]
    },
    {
     "data": {
      "image/svg+xml": [
       "<svg baseProfile=\"full\" height=\"150px\" version=\"1.1\" viewBox=\"0 0 150 150\" width=\"150px\" xml:space=\"preserve\" xmlns=\"http://www.w3.org/2000/svg\" xmlns:rdkit=\"http://www.rdkit.org/xml\" xmlns:xlink=\"http://www.w3.org/1999/xlink\">\n",
       "<!-- END OF HEADER -->\n",
       "<rect height=\"150\" style=\"opacity:1.0;fill:#FFFFFF;stroke:none\" width=\"150\" x=\"0\" y=\"0\"> </rect>\n",
       "<ellipse cx=\"78.4186\" cy=\"64.0799\" rx=\"6.51283\" ry=\"6.51283\" style=\"fill:#9999E5;fill-rule:evenodd;stroke:#9999E5;stroke-width:2px;stroke-linecap:butt;stroke-linejoin:miter;stroke-opacity:1\"/>\n",
       "<path class=\"bond-0\" d=\"M 116.247,105.916 L 140.051,88.783 L 135.683,83.9522 Z\" style=\"fill:#E5E5E5;fill-rule:evenodd;fill-opacity=1;stroke:#E5E5E5;stroke-width:2px;stroke-linecap:butt;stroke-linejoin:miter;stroke-opacity:1;\"/>\n",
       "<path class=\"bond-1\" d=\"M 116.247,105.916 L 121.919,132.327\" style=\"fill:none;fill-rule:evenodd;stroke:#E5E5E5;stroke-width:2px;stroke-linecap:butt;stroke-linejoin:miter;stroke-opacity:1\"/>\n",
       "<path class=\"bond-2\" d=\"M 116.247,105.916 L 103.103,101.676\" style=\"fill:none;fill-rule:evenodd;stroke:#000000;stroke-width:2px;stroke-linecap:butt;stroke-linejoin:miter;stroke-opacity:1\"/>\n",
       "<path class=\"bond-2\" d=\"M 103.103,101.676 L 89.9598,97.4357\" style=\"fill:none;fill-rule:evenodd;stroke:#0000FF;stroke-width:2px;stroke-linecap:butt;stroke-linejoin:miter;stroke-opacity:1\"/>\n",
       "<path class=\"bond-3\" d=\"M 84.0902,90.4908 L 81.2544,77.2853\" style=\"fill:none;fill-rule:evenodd;stroke:#0000FF;stroke-width:2px;stroke-linecap:butt;stroke-linejoin:miter;stroke-opacity:1\"/>\n",
       "<path class=\"bond-3\" d=\"M 81.2544,77.2853 L 78.4186,64.0799\" style=\"fill:none;fill-rule:evenodd;stroke:#000000;stroke-width:2px;stroke-linecap:butt;stroke-linejoin:miter;stroke-opacity:1\"/>\n",
       "<path class=\"bond-4\" d=\"M 80.6026,66.4953 L 90.1452,57.8669\" style=\"fill:none;fill-rule:evenodd;stroke:#000000;stroke-width:2px;stroke-linecap:butt;stroke-linejoin:miter;stroke-opacity:1\"/>\n",
       "<path class=\"bond-4\" d=\"M 90.1452,57.8669 L 99.6878,49.2384\" style=\"fill:none;fill-rule:evenodd;stroke:#FF0000;stroke-width:2px;stroke-linecap:butt;stroke-linejoin:miter;stroke-opacity:1\"/>\n",
       "<path class=\"bond-4\" d=\"M 76.2345,61.6645 L 85.7771,53.036\" style=\"fill:none;fill-rule:evenodd;stroke:#000000;stroke-width:2px;stroke-linecap:butt;stroke-linejoin:miter;stroke-opacity:1\"/>\n",
       "<path class=\"bond-4\" d=\"M 85.7771,53.036 L 95.3197,44.4076\" style=\"fill:none;fill-rule:evenodd;stroke:#FF0000;stroke-width:2px;stroke-linecap:butt;stroke-linejoin:miter;stroke-opacity:1\"/>\n",
       "<path class=\"bond-5\" d=\"M 78.4186,64.0799 L 47.4272,54.0818\" style=\"fill:none;fill-rule:evenodd;stroke:#000000;stroke-width:2px;stroke-linecap:butt;stroke-linejoin:miter;stroke-opacity:1\"/>\n",
       "<path class=\"bond-6\" d=\"M 47.4272,54.0818 L 37.5158,60.8486 L 39.6999,63.2641 Z\" style=\"fill:#000000;fill-rule:evenodd;fill-opacity=1;stroke:#000000;stroke-width:2px;stroke-linecap:butt;stroke-linejoin:miter;stroke-opacity:1;\"/>\n",
       "<path class=\"bond-6\" d=\"M 37.5158,60.8486 L 31.9725,72.4463 L 27.6044,67.6154 Z\" style=\"fill:#0000FF;fill-rule:evenodd;fill-opacity=1;stroke:#0000FF;stroke-width:2px;stroke-linecap:butt;stroke-linejoin:miter;stroke-opacity:1;\"/>\n",
       "<path class=\"bond-6\" d=\"M 37.5158,60.8486 L 39.6999,63.2641 L 31.9725,72.4463 Z\" style=\"fill:#0000FF;fill-rule:evenodd;fill-opacity=1;stroke:#0000FF;stroke-width:2px;stroke-linecap:butt;stroke-linejoin:miter;stroke-opacity:1;\"/>\n",
       "<path class=\"bond-7\" d=\"M 47.4272,54.0818 L 40.5901,22.2436\" style=\"fill:none;fill-rule:evenodd;stroke:#000000;stroke-width:2px;stroke-linecap:butt;stroke-linejoin:miter;stroke-opacity:1\"/>\n",
       "<path class=\"bond-8\" d=\"M 40.5901,22.2436 L 12.1333,13.0632\" style=\"fill:none;fill-rule:evenodd;stroke:#E5E5E5;stroke-width:2px;stroke-linecap:butt;stroke-linejoin:miter;stroke-opacity:1\"/>\n",
       "<text dominant-baseline=\"central\" style=\"font-size:10px;font-style:normal;font-weight:normal;fill-opacity:1;stroke:none;font-family:sans-serif;fill:#7F7F7F\" text-anchor=\"start\" x=\"138.952\" y=\"85.7041\"><tspan>*</tspan></text>\n",
       "<text dominant-baseline=\"central\" style=\"font-size:10px;font-style:normal;font-weight:normal;fill-opacity:1;stroke:none;font-family:sans-serif;fill:#7F7F7F\" text-anchor=\"start\" x=\"121.635\" y=\"139.383\"><tspan>*</tspan></text>\n",
       "<text dominant-baseline=\"central\" style=\"font-size:10px;font-style:normal;font-weight:normal;fill-opacity:1;stroke:none;font-family:sans-serif;fill:#0000FF\" text-anchor=\"end\" x=\"88.8743\" y=\"97.5464\"><tspan>HN</tspan></text>\n",
       "<text dominant-baseline=\"central\" style=\"font-size:10px;font-style:normal;font-weight:normal;fill-opacity:1;stroke:none;font-family:sans-serif;fill:#FF0000\" text-anchor=\"start\" x=\"98.5892\" y=\"43.8678\"><tspan>O</tspan></text>\n",
       "<text dominant-baseline=\"central\" style=\"font-size:10px;font-style:normal;font-weight:normal;fill-opacity:1;stroke:none;font-family:sans-serif;fill:#0000FF\" text-anchor=\"end\" x=\"26.7832\" y=\"77.7131\"><tspan>H</tspan><tspan style=\"baseline-shift:sub;font-size:7.5px;\">2</tspan><tspan>N</tspan></text>\n",
       "<text dominant-baseline=\"central\" style=\"font-size:10px;font-style:normal;font-weight:normal;fill-opacity:1;stroke:none;font-family:sans-serif;fill:#7F7F7F\" text-anchor=\"end\" x=\"11.0478\" y=\"13.8737\"><tspan>*</tspan></text>\n",
       "</svg>"
      ],
      "text/plain": [
       "<IPython.core.display.SVG object>"
      ]
     },
     "metadata": {},
     "output_type": "display_data"
    },
    {
     "name": "stdout",
     "output_type": "stream",
     "text": [
      "found the bit in compound 1 aka RWJ-51084\n",
      "it is likely it is a positive feature.\n"
     ]
    },
    {
     "data": {
      "image/svg+xml": [
       "<svg baseProfile=\"full\" height=\"150px\" version=\"1.1\" viewBox=\"0 0 150 150\" width=\"150px\" xml:space=\"preserve\" xmlns=\"http://www.w3.org/2000/svg\" xmlns:rdkit=\"http://www.rdkit.org/xml\" xmlns:xlink=\"http://www.w3.org/1999/xlink\">\n",
       "<!-- END OF HEADER -->\n",
       "<rect height=\"150\" style=\"opacity:1.0;fill:#FFFFFF;stroke:none\" width=\"150\" x=\"0\" y=\"0\"> </rect>\n",
       "<ellipse cx=\"75\" cy=\"97.0119\" rx=\"7.59265\" ry=\"7.59265\" style=\"fill:#9999E5;fill-rule:evenodd;stroke:#9999E5;stroke-width:2px;stroke-linecap:butt;stroke-linejoin:miter;stroke-opacity:1\"/>\n",
       "<path class=\"bond-0\" d=\"M 12.7276,87.4637 L 44.7853,74.0275\" style=\"fill:none;fill-rule:evenodd;stroke:#E5E5E5;stroke-width:2px;stroke-linecap:butt;stroke-linejoin:miter;stroke-opacity:1\"/>\n",
       "<path class=\"bond-1\" d=\"M 44.7853,74.0275 L 75,97.0119\" style=\"fill:none;fill-rule:evenodd;stroke:#000000;stroke-width:2px;stroke-linecap:butt;stroke-linejoin:miter;stroke-opacity:1\"/>\n",
       "<path class=\"bond-2\" d=\"M 75,97.0119 L 110.012,82.3373\" style=\"fill:none;fill-rule:evenodd;stroke:#000000;stroke-width:2px;stroke-linecap:butt;stroke-linejoin:miter;stroke-opacity:1\"/>\n",
       "<path class=\"bond-3\" d=\"M 110.788,79.2521 L 110.035,79.1561\" style=\"fill:none;fill-rule:evenodd;stroke:#E5E5E5;stroke-width:2px;stroke-linecap:butt;stroke-linejoin:miter;stroke-opacity:1\"/>\n",
       "<path class=\"bond-3\" d=\"M 111.564,76.1669 L 110.057,75.975\" style=\"fill:none;fill-rule:evenodd;stroke:#E5E5E5;stroke-width:2px;stroke-linecap:butt;stroke-linejoin:miter;stroke-opacity:1\"/>\n",
       "<path class=\"bond-3\" d=\"M 112.34,73.0817 L 110.08,72.7939\" style=\"fill:none;fill-rule:evenodd;stroke:#E5E5E5;stroke-width:2px;stroke-linecap:butt;stroke-linejoin:miter;stroke-opacity:1\"/>\n",
       "<path class=\"bond-3\" d=\"M 113.115,69.9965 L 110.103,69.6127\" style=\"fill:none;fill-rule:evenodd;stroke:#E5E5E5;stroke-width:2px;stroke-linecap:butt;stroke-linejoin:miter;stroke-opacity:1\"/>\n",
       "<path class=\"bond-3\" d=\"M 113.891,66.9113 L 110.125,66.4316\" style=\"fill:none;fill-rule:evenodd;stroke:#E5E5E5;stroke-width:2px;stroke-linecap:butt;stroke-linejoin:miter;stroke-opacity:1\"/>\n",
       "<path class=\"bond-3\" d=\"M 114.667,63.8261 L 110.148,63.2504\" style=\"fill:none;fill-rule:evenodd;stroke:#E5E5E5;stroke-width:2px;stroke-linecap:butt;stroke-linejoin:miter;stroke-opacity:1\"/>\n",
       "<path class=\"bond-3\" d=\"M 115.443,60.7409 L 110.17,60.0693\" style=\"fill:none;fill-rule:evenodd;stroke:#E5E5E5;stroke-width:2px;stroke-linecap:butt;stroke-linejoin:miter;stroke-opacity:1\"/>\n",
       "<path class=\"bond-3\" d=\"M 116.218,57.6558 L 110.193,56.8881\" style=\"fill:none;fill-rule:evenodd;stroke:#E5E5E5;stroke-width:2px;stroke-linecap:butt;stroke-linejoin:miter;stroke-opacity:1\"/>\n",
       "<path class=\"bond-3\" d=\"M 116.994,54.5706 L 110.215,53.707\" style=\"fill:none;fill-rule:evenodd;stroke:#E5E5E5;stroke-width:2px;stroke-linecap:butt;stroke-linejoin:miter;stroke-opacity:1\"/>\n",
       "<path class=\"bond-3\" d=\"M 117.77,51.4854 L 110.238,50.5259\" style=\"fill:none;fill-rule:evenodd;stroke:#E5E5E5;stroke-width:2px;stroke-linecap:butt;stroke-linejoin:miter;stroke-opacity:1\"/>\n",
       "<path class=\"bond-4\" d=\"M 110.012,82.3373 L 137.272,103.074\" style=\"fill:none;fill-rule:evenodd;stroke:#E5E5E5;stroke-width:2px;stroke-linecap:butt;stroke-linejoin:miter;stroke-opacity:1\"/>\n",
       "<text dominant-baseline=\"central\" style=\"font-size:12px;font-style:normal;font-weight:normal;fill-opacity:1;stroke:none;font-family:sans-serif;fill:#7F7F7F\" text-anchor=\"end\" x=\"11.4622\" y=\"90.6003\"><tspan>*</tspan></text>\n",
       "<text dominant-baseline=\"central\" style=\"font-size:12px;font-style:normal;font-weight:normal;fill-opacity:1;stroke:none;font-family:sans-serif;fill:#7F7F7F\" text-anchor=\"start\" x=\"113.121\" y=\"46.5766\"><tspan>*H</tspan></text>\n",
       "<text dominant-baseline=\"central\" style=\"font-size:12px;font-style:normal;font-weight:normal;fill-opacity:1;stroke:none;font-family:sans-serif;fill:#7F7F7F\" text-anchor=\"start\" x=\"138.538\" y=\"107.22\"><tspan>*</tspan></text>\n",
       "</svg>"
      ],
      "text/plain": [
       "<IPython.core.display.SVG object>"
      ]
     },
     "metadata": {},
     "output_type": "display_data"
    },
    {
     "name": "stdout",
     "output_type": "stream",
     "text": [
      "found the bit in compound 153 aka Laniquidar\n",
      "it is likely to be a negative feature.\n"
     ]
    },
    {
     "data": {
      "image/svg+xml": [
       "<svg baseProfile=\"full\" height=\"150px\" version=\"1.1\" viewBox=\"0 0 150 150\" width=\"150px\" xml:space=\"preserve\" xmlns=\"http://www.w3.org/2000/svg\" xmlns:rdkit=\"http://www.rdkit.org/xml\" xmlns:xlink=\"http://www.w3.org/1999/xlink\">\n",
       "<!-- END OF HEADER -->\n",
       "<rect height=\"150\" style=\"opacity:1.0;fill:#FFFFFF;stroke:none\" width=\"150\" x=\"0\" y=\"0\"> </rect>\n",
       "<ellipse cx=\"84.7235\" cy=\"81.2268\" rx=\"5.75804\" ry=\"5.75804\" style=\"fill:#9999E5;fill-rule:evenodd;stroke:#9999E5;stroke-width:2px;stroke-linecap:butt;stroke-linejoin:miter;stroke-opacity:1\"/>\n",
       "<ellipse cx=\"104.17\" cy=\"102.456\" rx=\"5.75804\" ry=\"5.75804\" style=\"fill:#E5E533;fill-rule:evenodd;stroke:#E5E533;stroke-width:2px;stroke-linecap:butt;stroke-linejoin:miter;stroke-opacity:1\"/>\n",
       "<ellipse cx=\"132.279\" cy=\"96.2295\" rx=\"5.75804\" ry=\"5.75804\" style=\"fill:#E5E533;fill-rule:evenodd;stroke:#E5E533;stroke-width:2px;stroke-linecap:butt;stroke-linejoin:miter;stroke-opacity:1\"/>\n",
       "<ellipse cx=\"121.494\" cy=\"47.5437\" rx=\"5.75804\" ry=\"5.75804\" style=\"fill:#E5E533;fill-rule:evenodd;stroke:#E5E533;stroke-width:2px;stroke-linecap:butt;stroke-linejoin:miter;stroke-opacity:1\"/>\n",
       "<ellipse cx=\"93.3853\" cy=\"53.7705\" rx=\"5.75804\" ry=\"5.75804\" style=\"fill:#E5E533;fill-rule:evenodd;stroke:#E5E533;stroke-width:2px;stroke-linecap:butt;stroke-linejoin:miter;stroke-opacity:1\"/>\n",
       "<path class=\"bond-0\" d=\"M 11.2997,71.9545 L 37.1677,66.2241\" style=\"fill:none;fill-rule:evenodd;stroke:#E5E5E5;stroke-width:2px;stroke-linecap:butt;stroke-linejoin:miter;stroke-opacity:1\"/>\n",
       "<path class=\"bond-1\" d=\"M 37.1677,66.2241 L 56.6147,87.4536\" style=\"fill:none;fill-rule:evenodd;stroke:#000000;stroke-width:2px;stroke-linecap:butt;stroke-linejoin:miter;stroke-opacity:1\"/>\n",
       "<path class=\"bond-2\" d=\"M 56.6147,87.4536 L 84.7235,81.2268\" style=\"fill:none;fill-rule:evenodd;stroke:#000000;stroke-width:2px;stroke-linecap:butt;stroke-linejoin:miter;stroke-opacity:1\"/>\n",
       "<path class=\"bond-3\" d=\"M 84.7235,81.2268 L 104.17,102.456\" style=\"fill:none;fill-rule:evenodd;stroke:#000000;stroke-width:2px;stroke-linecap:butt;stroke-linejoin:miter;stroke-opacity:1\"/>\n",
       "<path class=\"bond-3\" d=\"M 91.8864,80.5218 L 105.499,95.3825\" style=\"fill:none;fill-rule:evenodd;stroke:#000000;stroke-width:2px;stroke-linecap:butt;stroke-linejoin:miter;stroke-opacity:1\"/>\n",
       "<path class=\"bond-8\" d=\"M 84.7235,81.2268 L 93.3853,53.7705\" style=\"fill:none;fill-rule:evenodd;stroke:#000000;stroke-width:2px;stroke-linecap:butt;stroke-linejoin:miter;stroke-opacity:1\"/>\n",
       "<path class=\"bond-4\" d=\"M 104.17,102.456 L 132.279,96.2295\" style=\"fill:none;fill-rule:evenodd;stroke:#000000;stroke-width:2px;stroke-linecap:butt;stroke-linejoin:miter;stroke-opacity:1\"/>\n",
       "<path class=\"bond-5\" d=\"M 132.279,96.2295 L 139.427,73.5716\" style=\"fill:none;fill-rule:evenodd;stroke:#E5E5E5;stroke-width:2px;stroke-linecap:butt;stroke-linejoin:miter;stroke-opacity:1\"/>\n",
       "<path class=\"bond-5\" d=\"M 127.86,91.0985 L 132.864,75.2379\" style=\"fill:none;fill-rule:evenodd;stroke:#E5E5E5;stroke-width:2px;stroke-linecap:butt;stroke-linejoin:miter;stroke-opacity:1\"/>\n",
       "<path class=\"bond-6\" d=\"M 138.7,66.327 L 121.494,47.5437\" style=\"fill:none;fill-rule:evenodd;stroke:#E5E5E5;stroke-width:2px;stroke-linecap:butt;stroke-linejoin:miter;stroke-opacity:1\"/>\n",
       "<path class=\"bond-7\" d=\"M 121.494,47.5437 L 93.3853,53.7705\" style=\"fill:none;fill-rule:evenodd;stroke:#000000;stroke-width:2px;stroke-linecap:butt;stroke-linejoin:miter;stroke-opacity:1\"/>\n",
       "<path class=\"bond-7\" d=\"M 118.523,54.0995 L 98.847,58.4582\" style=\"fill:none;fill-rule:evenodd;stroke:#000000;stroke-width:2px;stroke-linecap:butt;stroke-linejoin:miter;stroke-opacity:1\"/>\n",
       "<text dominant-baseline=\"central\" style=\"font-size:9px;font-style:normal;font-weight:normal;fill-opacity:1;stroke:none;font-family:sans-serif;fill:#7F7F7F\" text-anchor=\"end\" x=\"10.3401\" y=\"73.8904\"><tspan>*</tspan></text>\n",
       "<text dominant-baseline=\"central\" style=\"font-size:9px;font-style:normal;font-weight:normal;fill-opacity:1;stroke:none;font-family:sans-serif;fill:#7F7F7F\" text-anchor=\"start\" x=\"139.66\" y=\"70.2127\"><tspan>*</tspan></text>\n",
       "</svg>"
      ],
      "text/plain": [
       "<IPython.core.display.SVG object>"
      ]
     },
     "metadata": {},
     "output_type": "display_data"
    },
    {
     "name": "stdout",
     "output_type": "stream",
     "text": [
      "found the bit in compound 0 aka Nafamostat\n",
      "it is likely it is a positive feature.\n"
     ]
    },
    {
     "data": {
      "image/svg+xml": [
       "<svg baseProfile=\"full\" height=\"150px\" version=\"1.1\" viewBox=\"0 0 150 150\" width=\"150px\" xml:space=\"preserve\" xmlns=\"http://www.w3.org/2000/svg\" xmlns:rdkit=\"http://www.rdkit.org/xml\" xmlns:xlink=\"http://www.w3.org/1999/xlink\">\n",
       "<!-- END OF HEADER -->\n",
       "<rect height=\"150\" style=\"opacity:1.0;fill:#FFFFFF;stroke:none\" width=\"150\" x=\"0\" y=\"0\"> </rect>\n",
       "<ellipse cx=\"30.1822\" cy=\"60.9907\" rx=\"5.98933\" ry=\"5.98933\" style=\"fill:#E5E533;fill-rule:evenodd;stroke:#E5E533;stroke-width:2px;stroke-linecap:butt;stroke-linejoin:miter;stroke-opacity:1\"/>\n",
       "<ellipse cx=\"59.1597\" cy=\"53.4337\" rx=\"5.98933\" ry=\"5.98933\" style=\"fill:#E5E533;fill-rule:evenodd;stroke:#E5E533;stroke-width:2px;stroke-linecap:butt;stroke-linejoin:miter;stroke-opacity:1\"/>\n",
       "<ellipse cx=\"80.193\" cy=\"74.7504\" rx=\"5.98933\" ry=\"5.98933\" style=\"fill:#9999E5;fill-rule:evenodd;stroke:#9999E5;stroke-width:2px;stroke-linecap:butt;stroke-linejoin:miter;stroke-opacity:1\"/>\n",
       "<ellipse cx=\"72.2488\" cy=\"103.624\" rx=\"5.98933\" ry=\"5.98933\" style=\"fill:#E5E533;fill-rule:evenodd;stroke:#E5E533;stroke-width:2px;stroke-linecap:butt;stroke-linejoin:miter;stroke-opacity:1\"/>\n",
       "<ellipse cx=\"43.2713\" cy=\"111.181\" rx=\"5.98933\" ry=\"5.98933\" style=\"fill:#E5E533;fill-rule:evenodd;stroke:#E5E533;stroke-width:2px;stroke-linecap:butt;stroke-linejoin:miter;stroke-opacity:1\"/>\n",
       "<path class=\"bond-0\" d=\"M 23.6113,84.8733 L 30.1822,60.9907\" style=\"fill:none;fill-rule:evenodd;stroke:#E5E5E5;stroke-width:2px;stroke-linecap:butt;stroke-linejoin:miter;stroke-opacity:1\"/>\n",
       "<path class=\"bond-0\" d=\"M 30.3717,82.8798 L 34.9713,66.1619\" style=\"fill:none;fill-rule:evenodd;stroke:#E5E5E5;stroke-width:2px;stroke-linecap:butt;stroke-linejoin:miter;stroke-opacity:1\"/>\n",
       "<path class=\"bond-9\" d=\"M 24.5688,92.2266 L 43.2713,111.181\" style=\"fill:none;fill-rule:evenodd;stroke:#E5E5E5;stroke-width:2px;stroke-linecap:butt;stroke-linejoin:miter;stroke-opacity:1\"/>\n",
       "<path class=\"bond-1\" d=\"M 30.1822,60.9907 L 11.4797,42.0362\" style=\"fill:none;fill-rule:evenodd;stroke:#E5E5E5;stroke-width:2px;stroke-linecap:butt;stroke-linejoin:miter;stroke-opacity:1\"/>\n",
       "<path class=\"bond-2\" d=\"M 30.1822,60.9907 L 59.1597,53.4337\" style=\"fill:none;fill-rule:evenodd;stroke:#000000;stroke-width:2px;stroke-linecap:butt;stroke-linejoin:miter;stroke-opacity:1\"/>\n",
       "<path class=\"bond-3\" d=\"M 59.1597,53.4337 L 80.193,74.7504\" style=\"fill:none;fill-rule:evenodd;stroke:#000000;stroke-width:2px;stroke-linecap:butt;stroke-linejoin:miter;stroke-opacity:1\"/>\n",
       "<path class=\"bond-3\" d=\"M 58.0514,60.8379 L 72.7747,75.7596\" style=\"fill:none;fill-rule:evenodd;stroke:#000000;stroke-width:2px;stroke-linecap:butt;stroke-linejoin:miter;stroke-opacity:1\"/>\n",
       "<path class=\"bond-4\" d=\"M 80.193,74.7504 L 72.2488,103.624\" style=\"fill:none;fill-rule:evenodd;stroke:#000000;stroke-width:2px;stroke-linecap:butt;stroke-linejoin:miter;stroke-opacity:1\"/>\n",
       "<path class=\"bond-6\" d=\"M 80.193,74.7504 L 109.17,67.1935\" style=\"fill:none;fill-rule:evenodd;stroke:#000000;stroke-width:2px;stroke-linecap:butt;stroke-linejoin:miter;stroke-opacity:1\"/>\n",
       "<path class=\"bond-5\" d=\"M 72.2488,103.624 L 43.2713,111.181\" style=\"fill:none;fill-rule:evenodd;stroke:#000000;stroke-width:2px;stroke-linecap:butt;stroke-linejoin:miter;stroke-opacity:1\"/>\n",
       "<path class=\"bond-5\" d=\"M 66.3908,98.9622 L 46.1066,104.252\" style=\"fill:none;fill-rule:evenodd;stroke:#000000;stroke-width:2px;stroke-linecap:butt;stroke-linejoin:miter;stroke-opacity:1\"/>\n",
       "<path class=\"bond-7\" d=\"M 107.039,69.2968 L 115.392,77.763\" style=\"fill:none;fill-rule:evenodd;stroke:#000000;stroke-width:2px;stroke-linecap:butt;stroke-linejoin:miter;stroke-opacity:1\"/>\n",
       "<path class=\"bond-7\" d=\"M 115.392,77.763 L 123.746,86.2292\" style=\"fill:none;fill-rule:evenodd;stroke:#0000FF;stroke-width:2px;stroke-linecap:butt;stroke-linejoin:miter;stroke-opacity:1\"/>\n",
       "<path class=\"bond-7\" d=\"M 111.302,65.0901 L 119.656,73.5563\" style=\"fill:none;fill-rule:evenodd;stroke:#000000;stroke-width:2px;stroke-linecap:butt;stroke-linejoin:miter;stroke-opacity:1\"/>\n",
       "<path class=\"bond-7\" d=\"M 119.656,73.5563 L 128.009,82.0225\" style=\"fill:none;fill-rule:evenodd;stroke:#0000FF;stroke-width:2px;stroke-linecap:butt;stroke-linejoin:miter;stroke-opacity:1\"/>\n",
       "<path class=\"bond-8\" d=\"M 109.17,67.1935 L 112.387,55.5017\" style=\"fill:none;fill-rule:evenodd;stroke:#000000;stroke-width:2px;stroke-linecap:butt;stroke-linejoin:miter;stroke-opacity:1\"/>\n",
       "<path class=\"bond-8\" d=\"M 112.387,55.5017 L 115.604,43.81\" style=\"fill:none;fill-rule:evenodd;stroke:#0000FF;stroke-width:2px;stroke-linecap:butt;stroke-linejoin:miter;stroke-opacity:1\"/>\n",
       "<text dominant-baseline=\"central\" style=\"font-size:9px;font-style:normal;font-weight:normal;fill-opacity:1;stroke:none;font-family:sans-serif;fill:#7F7F7F\" text-anchor=\"end\" x=\"23.5706\" y=\"91.3618\"><tspan>*</tspan></text>\n",
       "<text dominant-baseline=\"central\" style=\"font-size:9px;font-style:normal;font-weight:normal;fill-opacity:1;stroke:none;font-family:sans-serif;fill:#7F7F7F\" text-anchor=\"end\" x=\"10.4815\" y=\"41.1713\"><tspan>*</tspan></text>\n",
       "<text dominant-baseline=\"central\" style=\"font-size:9px;font-style:normal;font-weight:normal;fill-opacity:1;stroke:none;font-family:sans-serif;fill:#0000FF\" text-anchor=\"start\" x=\"126.876\" y=\"90.0075\"><tspan>NH</tspan></text>\n",
       "<text dominant-baseline=\"central\" style=\"font-size:9px;font-style:normal;font-weight:normal;fill-opacity:1;stroke:none;font-family:sans-serif;fill:#0000FF\" text-anchor=\"start\" x=\"113.887\" y=\"39.9668\"><tspan>NH</tspan><tspan style=\"baseline-shift:sub;font-size:6.75px;\">2</tspan><tspan/></text>\n",
       "</svg>"
      ],
      "text/plain": [
       "<IPython.core.display.SVG object>"
      ]
     },
     "metadata": {},
     "output_type": "display_data"
    },
    {
     "name": "stdout",
     "output_type": "stream",
     "text": [
      "found the bit in compound 7 aka PGL5001\n",
      "it is likely it is a positive feature.\n"
     ]
    },
    {
     "data": {
      "image/svg+xml": [
       "<svg baseProfile=\"full\" height=\"150px\" version=\"1.1\" viewBox=\"0 0 150 150\" width=\"150px\" xml:space=\"preserve\" xmlns=\"http://www.w3.org/2000/svg\" xmlns:rdkit=\"http://www.rdkit.org/xml\" xmlns:xlink=\"http://www.w3.org/1999/xlink\">\n",
       "<!-- END OF HEADER -->\n",
       "<rect height=\"150\" style=\"opacity:1.0;fill:#FFFFFF;stroke:none\" width=\"150\" x=\"0\" y=\"0\"> </rect>\n",
       "<ellipse cx=\"107.088\" cy=\"40.7561\" rx=\"6.00409\" ry=\"6.00409\" style=\"fill:#E5E533;fill-rule:evenodd;stroke:#E5E533;stroke-width:2px;stroke-linecap:butt;stroke-linejoin:miter;stroke-opacity:1\"/>\n",
       "<ellipse cx=\"82.6049\" cy=\"58.1282\" rx=\"6.00409\" ry=\"6.00409\" style=\"fill:#E5E533;fill-rule:evenodd;stroke:#E5E533;stroke-width:2px;stroke-linecap:butt;stroke-linejoin:miter;stroke-opacity:1\"/>\n",
       "<ellipse cx=\"85.4079\" cy=\"88.0175\" rx=\"6.00409\" ry=\"6.00409\" style=\"fill:#9999E5;fill-rule:evenodd;stroke:#9999E5;stroke-width:2px;stroke-linecap:butt;stroke-linejoin:miter;stroke-opacity:1\"/>\n",
       "<ellipse cx=\"33.6381\" cy=\"92.8725\" rx=\"6.00409\" ry=\"6.00409\" style=\"fill:#CCCCCC;fill-rule:evenodd;stroke:#CCCCCC;stroke-width:2px;stroke-linecap:butt;stroke-linejoin:miter;stroke-opacity:1\"/>\n",
       "<ellipse cx=\"112.694\" cy=\"100.535\" rx=\"6.00409\" ry=\"6.00409\" style=\"fill:#E5E533;fill-rule:evenodd;stroke:#E5E533;stroke-width:2px;stroke-linecap:butt;stroke-linejoin:miter;stroke-opacity:1\"/>\n",
       "<ellipse cx=\"137.178\" cy=\"83.1626\" rx=\"6.00409\" ry=\"6.00409\" style=\"fill:#E5E533;fill-rule:evenodd;stroke:#E5E533;stroke-width:2px;stroke-linecap:butt;stroke-linejoin:miter;stroke-opacity:1\"/>\n",
       "<path class=\"bond-0\" d=\"M 132.038,52.2014 L 107.088,40.7561\" style=\"fill:none;fill-rule:evenodd;stroke:#E5E5E5;stroke-width:2px;stroke-linecap:butt;stroke-linejoin:miter;stroke-opacity:1\"/>\n",
       "<path class=\"bond-0\" d=\"M 125.792,55.9419 L 108.327,47.9302\" style=\"fill:none;fill-rule:evenodd;stroke:#E5E5E5;stroke-width:2px;stroke-linecap:butt;stroke-linejoin:miter;stroke-opacity:1\"/>\n",
       "<path class=\"bond-8\" d=\"M 134.844,58.2767 L 137.178,83.1626\" style=\"fill:none;fill-rule:evenodd;stroke:#E5E5E5;stroke-width:2px;stroke-linecap:butt;stroke-linejoin:miter;stroke-opacity:1\"/>\n",
       "<path class=\"bond-1\" d=\"M 107.088,40.7561 L 82.6049,58.1282\" style=\"fill:none;fill-rule:evenodd;stroke:#000000;stroke-width:2px;stroke-linecap:butt;stroke-linejoin:miter;stroke-opacity:1\"/>\n",
       "<path class=\"bond-2\" d=\"M 82.6049,58.1282 L 85.4079,88.0175\" style=\"fill:none;fill-rule:evenodd;stroke:#000000;stroke-width:2px;stroke-linecap:butt;stroke-linejoin:miter;stroke-opacity:1\"/>\n",
       "<path class=\"bond-2\" d=\"M 89.0032,62.051 L 90.9653,82.9735\" style=\"fill:none;fill-rule:evenodd;stroke:#000000;stroke-width:2px;stroke-linecap:butt;stroke-linejoin:miter;stroke-opacity:1\"/>\n",
       "<path class=\"bond-3\" d=\"M 85.4079,88.0175 L 60.9245,105.39\" style=\"fill:none;fill-rule:evenodd;stroke:#000000;stroke-width:2px;stroke-linecap:butt;stroke-linejoin:miter;stroke-opacity:1\"/>\n",
       "<path class=\"bond-6\" d=\"M 85.4079,88.0175 L 112.694,100.535\" style=\"fill:none;fill-rule:evenodd;stroke:#000000;stroke-width:2px;stroke-linecap:butt;stroke-linejoin:miter;stroke-opacity:1\"/>\n",
       "<path class=\"bond-4\" d=\"M 60.9245,105.39 L 49.4497,100.126\" style=\"fill:none;fill-rule:evenodd;stroke:#000000;stroke-width:2px;stroke-linecap:butt;stroke-linejoin:miter;stroke-opacity:1\"/>\n",
       "<path class=\"bond-4\" d=\"M 49.4497,100.126 L 37.9748,94.8619\" style=\"fill:none;fill-rule:evenodd;stroke:#0000FF;stroke-width:2px;stroke-linecap:butt;stroke-linejoin:miter;stroke-opacity:1\"/>\n",
       "<path class=\"bond-5\" d=\"M 33.1689,87.8691 L 31.3043,67.9866\" style=\"fill:none;fill-rule:evenodd;stroke:#E5E5E5;stroke-width:2px;stroke-linecap:butt;stroke-linejoin:miter;stroke-opacity:1\"/>\n",
       "<path class=\"bond-9\" d=\"M 29.3014,95.9496 L 11.4912,108.587\" style=\"fill:none;fill-rule:evenodd;stroke:#E5E5E5;stroke-width:2px;stroke-linecap:butt;stroke-linejoin:miter;stroke-opacity:1\"/>\n",
       "<path class=\"bond-7\" d=\"M 112.694,100.535 L 137.178,83.1626\" style=\"fill:none;fill-rule:evenodd;stroke:#000000;stroke-width:2px;stroke-linecap:butt;stroke-linejoin:miter;stroke-opacity:1\"/>\n",
       "<path class=\"bond-7\" d=\"M 112.892,93.0322 L 130.031,80.8717\" style=\"fill:none;fill-rule:evenodd;stroke:#000000;stroke-width:2px;stroke-linecap:butt;stroke-linejoin:miter;stroke-opacity:1\"/>\n",
       "<text dominant-baseline=\"central\" style=\"font-size:10px;font-style:normal;font-weight:normal;fill-opacity:1;stroke:none;font-family:sans-serif;fill:#7F7F7F\" text-anchor=\"start\" x=\"133.039\" y=\"54.7743\"><tspan>*</tspan></text>\n",
       "<text dominant-baseline=\"central\" style=\"font-size:10px;font-style:normal;font-weight:normal;fill-opacity:1;stroke:none;font-family:sans-serif;fill:#0000FF\" text-anchor=\"middle\" x=\"33.6381\" y=\"94.3735\"><tspan>N</tspan></text>\n",
       "<text dominant-baseline=\"central\" style=\"font-size:10px;font-style:normal;font-weight:normal;fill-opacity:1;stroke:none;font-family:sans-serif;fill:#7F7F7F\" text-anchor=\"start\" x=\"29.4993\" y=\"64.4842\"><tspan>*</tspan></text>\n",
       "<text dominant-baseline=\"central\" style=\"font-size:10px;font-style:normal;font-weight:normal;fill-opacity:1;stroke:none;font-family:sans-serif;fill:#7F7F7F\" text-anchor=\"end\" x=\"10.4906\" y=\"111.746\"><tspan>*</tspan></text>\n",
       "</svg>"
      ],
      "text/plain": [
       "<IPython.core.display.SVG object>"
      ]
     },
     "metadata": {},
     "output_type": "display_data"
    },
    {
     "name": "stdout",
     "output_type": "stream",
     "text": [
      "found the bit in compound 0 aka Nafamostat\n",
      "it is likely it is a positive feature.\n"
     ]
    },
    {
     "data": {
      "image/svg+xml": [
       "<svg baseProfile=\"full\" height=\"150px\" version=\"1.1\" viewBox=\"0 0 150 150\" width=\"150px\" xml:space=\"preserve\" xmlns=\"http://www.w3.org/2000/svg\" xmlns:rdkit=\"http://www.rdkit.org/xml\" xmlns:xlink=\"http://www.w3.org/1999/xlink\">\n",
       "<!-- END OF HEADER -->\n",
       "<rect height=\"150\" style=\"opacity:1.0;fill:#FFFFFF;stroke:none\" width=\"150\" x=\"0\" y=\"0\"> </rect>\n",
       "<ellipse cx=\"52.9576\" cy=\"75.1569\" rx=\"5.27963\" ry=\"5.27963\" style=\"fill:#E5E533;fill-rule:evenodd;stroke:#E5E533;stroke-width:2px;stroke-linecap:butt;stroke-linejoin:miter;stroke-opacity:1\"/>\n",
       "<ellipse cx=\"71.4986\" cy=\"93.9478\" rx=\"5.27963\" ry=\"5.27963\" style=\"fill:#9999E5;fill-rule:evenodd;stroke:#9999E5;stroke-width:2px;stroke-linecap:butt;stroke-linejoin:miter;stroke-opacity:1\"/>\n",
       "<ellipse cx=\"97.0424\" cy=\"87.2862\" rx=\"5.27963\" ry=\"5.27963\" style=\"fill:#E5E533;fill-rule:evenodd;stroke:#E5E533;stroke-width:2px;stroke-linecap:butt;stroke-linejoin:miter;stroke-opacity:1\"/>\n",
       "<ellipse cx=\"104.045\" cy=\"61.8338\" rx=\"5.27963\" ry=\"5.27963\" style=\"fill:#E5E533;fill-rule:evenodd;stroke:#E5E533;stroke-width:2px;stroke-linecap:butt;stroke-linejoin:miter;stroke-opacity:1\"/>\n",
       "<ellipse cx=\"59.9605\" cy=\"49.7045\" rx=\"5.27963\" ry=\"5.27963\" style=\"fill:#E5E533;fill-rule:evenodd;stroke:#E5E533;stroke-width:2px;stroke-linecap:butt;stroke-linejoin:miter;stroke-opacity:1\"/>\n",
       "<ellipse cx=\"115.583\" cy=\"106.077\" rx=\"5.27963\" ry=\"5.27963\" style=\"fill:#E5E533;fill-rule:evenodd;stroke:#E5E533;stroke-width:2px;stroke-linecap:butt;stroke-linejoin:miter;stroke-opacity:1\"/>\n",
       "<path class=\"bond-0\" d=\"M 10.9274,65.1099 L 23.3046,77.6539\" style=\"fill:none;fill-rule:evenodd;stroke:#E5E5E5;stroke-width:2px;stroke-linecap:butt;stroke-linejoin:miter;stroke-opacity:1\"/>\n",
       "<path class=\"bond-1\" d=\"M 31.523,80.7468 L 42.2403,77.9519\" style=\"fill:none;fill-rule:evenodd;stroke:#FF0000;stroke-width:2px;stroke-linecap:butt;stroke-linejoin:miter;stroke-opacity:1\"/>\n",
       "<path class=\"bond-1\" d=\"M 42.2403,77.9519 L 52.9576,75.1569\" style=\"fill:none;fill-rule:evenodd;stroke:#000000;stroke-width:2px;stroke-linecap:butt;stroke-linejoin:miter;stroke-opacity:1\"/>\n",
       "<path class=\"bond-2\" d=\"M 52.9576,75.1569 L 71.4986,93.9478\" style=\"fill:none;fill-rule:evenodd;stroke:#000000;stroke-width:2px;stroke-linecap:butt;stroke-linejoin:miter;stroke-opacity:1\"/>\n",
       "<path class=\"bond-2\" d=\"M 59.4969,74.2673 L 72.4756,87.4209\" style=\"fill:none;fill-rule:evenodd;stroke:#000000;stroke-width:2px;stroke-linecap:butt;stroke-linejoin:miter;stroke-opacity:1\"/>\n",
       "<path class=\"bond-9\" d=\"M 52.9576,75.1569 L 59.9605,49.7045\" style=\"fill:none;fill-rule:evenodd;stroke:#000000;stroke-width:2px;stroke-linecap:butt;stroke-linejoin:miter;stroke-opacity:1\"/>\n",
       "<path class=\"bond-3\" d=\"M 71.4986,93.9478 L 97.0424,87.2862\" style=\"fill:none;fill-rule:evenodd;stroke:#000000;stroke-width:2px;stroke-linecap:butt;stroke-linejoin:miter;stroke-opacity:1\"/>\n",
       "<path class=\"bond-4\" d=\"M 97.0424,87.2862 L 104.045,61.8338\" style=\"fill:none;fill-rule:evenodd;stroke:#000000;stroke-width:2px;stroke-linecap:butt;stroke-linejoin:miter;stroke-opacity:1\"/>\n",
       "<path class=\"bond-4\" d=\"M 93.0024,82.0678 L 97.9044,64.2511\" style=\"fill:none;fill-rule:evenodd;stroke:#000000;stroke-width:2px;stroke-linecap:butt;stroke-linejoin:miter;stroke-opacity:1\"/>\n",
       "<path class=\"bond-10\" d=\"M 97.0424,87.2862 L 115.583,106.077\" style=\"fill:none;fill-rule:evenodd;stroke:#000000;stroke-width:2px;stroke-linecap:butt;stroke-linejoin:miter;stroke-opacity:1\"/>\n",
       "<path class=\"bond-5\" d=\"M 104.045,61.8338 L 87.5589,45.1253\" style=\"fill:none;fill-rule:evenodd;stroke:#E5E5E5;stroke-width:2px;stroke-linecap:butt;stroke-linejoin:miter;stroke-opacity:1\"/>\n",
       "<path class=\"bond-7\" d=\"M 104.045,61.8338 L 127.535,55.7081\" style=\"fill:none;fill-rule:evenodd;stroke:#E5E5E5;stroke-width:2px;stroke-linecap:butt;stroke-linejoin:miter;stroke-opacity:1\"/>\n",
       "<path class=\"bond-6\" d=\"M 83.4497,43.5788 L 59.9605,49.7045\" style=\"fill:none;fill-rule:evenodd;stroke:#E5E5E5;stroke-width:2px;stroke-linecap:butt;stroke-linejoin:miter;stroke-opacity:1\"/>\n",
       "<path class=\"bond-6\" d=\"M 81.2586,49.6064 L 64.8161,53.8944\" style=\"fill:none;fill-rule:evenodd;stroke:#E5E5E5;stroke-width:2px;stroke-linecap:butt;stroke-linejoin:miter;stroke-opacity:1\"/>\n",
       "<path class=\"bond-8\" d=\"M 138.406,97.397 L 114.917,103.523\" style=\"fill:none;fill-rule:evenodd;stroke:#E5E5E5;stroke-width:2px;stroke-linecap:butt;stroke-linejoin:miter;stroke-opacity:1\"/>\n",
       "<path class=\"bond-8\" d=\"M 139.739,102.506 L 116.25,108.631\" style=\"fill:none;fill-rule:evenodd;stroke:#E5E5E5;stroke-width:2px;stroke-linecap:butt;stroke-linejoin:miter;stroke-opacity:1;stroke-dasharray:6,6\"/>\n",
       "<text dominant-baseline=\"central\" style=\"font-size:8px;font-style:normal;font-weight:normal;fill-opacity:1;stroke:none;font-family:sans-serif;fill:#7F7F7F\" text-anchor=\"end\" x=\"10.0474\" y=\"64.3475\"><tspan>*</tspan></text>\n",
       "<text dominant-baseline=\"central\" style=\"font-size:8px;font-style:normal;font-weight:normal;fill-opacity:1;stroke:none;font-family:sans-serif;fill:#FF0000\" text-anchor=\"middle\" x=\"27.4138\" y=\"83.1384\"><tspan>O</tspan></text>\n",
       "<text dominant-baseline=\"central\" style=\"font-size:8px;font-style:normal;font-weight:normal;fill-opacity:1;stroke:none;font-family:sans-serif;fill:#7F7F7F\" text-anchor=\"middle\" x=\"85.5043\" y=\"44.3629\"><tspan>*</tspan></text>\n",
       "<text dominant-baseline=\"central\" style=\"font-size:8px;font-style:normal;font-weight:normal;fill-opacity:1;stroke:none;font-family:sans-serif;fill:#7F7F7F\" text-anchor=\"start\" x=\"128.414\" y=\"56.4922\"><tspan>*</tspan></text>\n",
       "<text dominant-baseline=\"central\" style=\"font-size:8px;font-style:normal;font-weight:normal;fill-opacity:1;stroke:none;font-family:sans-serif;fill:#7F7F7F\" text-anchor=\"start\" x=\"139.953\" y=\"100.735\"><tspan>*</tspan></text>\n",
       "</svg>"
      ],
      "text/plain": [
       "<IPython.core.display.SVG object>"
      ]
     },
     "metadata": {},
     "output_type": "display_data"
    },
    {
     "name": "stdout",
     "output_type": "stream",
     "text": [
      "found the bit in compound 0 aka Nafamostat\n",
      "it is likely it is a positive feature.\n"
     ]
    },
    {
     "data": {
      "image/svg+xml": [
       "<svg baseProfile=\"full\" height=\"150px\" version=\"1.1\" viewBox=\"0 0 150 150\" width=\"150px\" xml:space=\"preserve\" xmlns=\"http://www.w3.org/2000/svg\" xmlns:rdkit=\"http://www.rdkit.org/xml\" xmlns:xlink=\"http://www.w3.org/1999/xlink\">\n",
       "<!-- END OF HEADER -->\n",
       "<rect height=\"150\" style=\"opacity:1.0;fill:#FFFFFF;stroke:none\" width=\"150\" x=\"0\" y=\"0\"> </rect>\n",
       "<ellipse cx=\"133.287\" cy=\"98.0337\" rx=\"5.76765\" ry=\"5.76765\" style=\"fill:#E5E533;fill-rule:evenodd;stroke:#E5E533;stroke-width:2px;stroke-linecap:butt;stroke-linejoin:miter;stroke-opacity:1\"/>\n",
       "<ellipse cx=\"105.382\" cy=\"105.311\" rx=\"5.76765\" ry=\"5.76765\" style=\"fill:#E5E533;fill-rule:evenodd;stroke:#E5E533;stroke-width:2px;stroke-linecap:butt;stroke-linejoin:miter;stroke-opacity:1\"/>\n",
       "<ellipse cx=\"85.1274\" cy=\"84.7832\" rx=\"5.76765\" ry=\"5.76765\" style=\"fill:#9999E5;fill-rule:evenodd;stroke:#9999E5;stroke-width:2px;stroke-linecap:butt;stroke-linejoin:miter;stroke-opacity:1\"/>\n",
       "<ellipse cx=\"92.7776\" cy=\"56.9782\" rx=\"5.76765\" ry=\"5.76765\" style=\"fill:#E5E533;fill-rule:evenodd;stroke:#E5E533;stroke-width:2px;stroke-linecap:butt;stroke-linejoin:miter;stroke-opacity:1\"/>\n",
       "<ellipse cx=\"120.683\" cy=\"49.7009\" rx=\"5.76765\" ry=\"5.76765\" style=\"fill:#E5E533;fill-rule:evenodd;stroke:#E5E533;stroke-width:2px;stroke-linecap:butt;stroke-linejoin:miter;stroke-opacity:1\"/>\n",
       "<path class=\"bond-0\" d=\"M 133.287,98.0337 L 105.382,105.311\" style=\"fill:none;fill-rule:evenodd;stroke:#000000;stroke-width:2px;stroke-linecap:butt;stroke-linejoin:miter;stroke-opacity:1\"/>\n",
       "<path class=\"bond-0\" d=\"M 127.646,93.5443 L 108.112,98.6384\" style=\"fill:none;fill-rule:evenodd;stroke:#000000;stroke-width:2px;stroke-linecap:butt;stroke-linejoin:miter;stroke-opacity:1\"/>\n",
       "<path class=\"bond-9\" d=\"M 133.287,98.0337 L 139.615,75.035\" style=\"fill:none;fill-rule:evenodd;stroke:#E5E5E5;stroke-width:2px;stroke-linecap:butt;stroke-linejoin:miter;stroke-opacity:1\"/>\n",
       "<path class=\"bond-1\" d=\"M 105.382,105.311 L 85.1274,84.7832\" style=\"fill:none;fill-rule:evenodd;stroke:#000000;stroke-width:2px;stroke-linecap:butt;stroke-linejoin:miter;stroke-opacity:1\"/>\n",
       "<path class=\"bond-2\" d=\"M 85.1274,84.7832 L 92.7776,56.9782\" style=\"fill:none;fill-rule:evenodd;stroke:#000000;stroke-width:2px;stroke-linecap:butt;stroke-linejoin:miter;stroke-opacity:1\"/>\n",
       "<path class=\"bond-2\" d=\"M 91.8359,82.1425 L 97.191,62.679\" style=\"fill:none;fill-rule:evenodd;stroke:#000000;stroke-width:2px;stroke-linecap:butt;stroke-linejoin:miter;stroke-opacity:1\"/>\n",
       "<path class=\"bond-5\" d=\"M 85.1274,84.7832 L 73.2579,87.8787\" style=\"fill:none;fill-rule:evenodd;stroke:#000000;stroke-width:2px;stroke-linecap:butt;stroke-linejoin:miter;stroke-opacity:1\"/>\n",
       "<path class=\"bond-5\" d=\"M 73.2579,87.8787 L 61.3884,90.9741\" style=\"fill:none;fill-rule:evenodd;stroke:#0000FF;stroke-width:2px;stroke-linecap:butt;stroke-linejoin:miter;stroke-opacity:1\"/>\n",
       "<path class=\"bond-3\" d=\"M 92.7776,56.9782 L 120.683,49.7009\" style=\"fill:none;fill-rule:evenodd;stroke:#000000;stroke-width:2px;stroke-linecap:butt;stroke-linejoin:miter;stroke-opacity:1\"/>\n",
       "<path class=\"bond-4\" d=\"M 120.683,49.7009 L 138.693,67.9539\" style=\"fill:none;fill-rule:evenodd;stroke:#E5E5E5;stroke-width:2px;stroke-linecap:butt;stroke-linejoin:miter;stroke-opacity:1\"/>\n",
       "<path class=\"bond-4\" d=\"M 119.279,56.4898 L 131.886,69.2669\" style=\"fill:none;fill-rule:evenodd;stroke:#E5E5E5;stroke-width:2px;stroke-linecap:butt;stroke-linejoin:miter;stroke-opacity:1\"/>\n",
       "<path class=\"bond-6\" d=\"M 53.0565,87.8385 L 45.0121,79.6856\" style=\"fill:none;fill-rule:evenodd;stroke:#0000FF;stroke-width:2px;stroke-linecap:butt;stroke-linejoin:miter;stroke-opacity:1\"/>\n",
       "<path class=\"bond-6\" d=\"M 45.0121,79.6856 L 36.9677,71.5328\" style=\"fill:none;fill-rule:evenodd;stroke:#000000;stroke-width:2px;stroke-linecap:butt;stroke-linejoin:miter;stroke-opacity:1\"/>\n",
       "<path class=\"bond-6\" d=\"M 54.7488,81.3417 L 49.1176,75.6347\" style=\"fill:none;fill-rule:evenodd;stroke:#0000FF;stroke-width:2px;stroke-linecap:butt;stroke-linejoin:miter;stroke-opacity:1\"/>\n",
       "<path class=\"bond-6\" d=\"M 49.1176,75.6347 L 43.4865,69.9277\" style=\"fill:none;fill-rule:evenodd;stroke:#000000;stroke-width:2px;stroke-linecap:butt;stroke-linejoin:miter;stroke-opacity:1\"/>\n",
       "<path class=\"bond-7\" d=\"M 36.9677,71.5328 L 11.3072,78.2247\" style=\"fill:none;fill-rule:evenodd;stroke:#E5E5E5;stroke-width:2px;stroke-linecap:butt;stroke-linejoin:miter;stroke-opacity:1\"/>\n",
       "<path class=\"bond-8\" d=\"M 36.9677,71.5328 L 43.2954,48.5341\" style=\"fill:none;fill-rule:evenodd;stroke:#E5E5E5;stroke-width:2px;stroke-linecap:butt;stroke-linejoin:miter;stroke-opacity:1\"/>\n",
       "<text dominant-baseline=\"central\" style=\"font-size:9px;font-style:normal;font-weight:normal;fill-opacity:1;stroke:none;font-family:sans-serif;fill:#7F7F7F\" text-anchor=\"start\" x=\"139.654\" y=\"71.6706\"><tspan>*</tspan></text>\n",
       "<text dominant-baseline=\"central\" style=\"font-size:9px;font-style:normal;font-weight:normal;fill-opacity:1;stroke:none;font-family:sans-serif;fill:#0000FF\" text-anchor=\"middle\" x=\"57.2224\" y=\"93.5024\"><tspan>N</tspan></text>\n",
       "<text dominant-baseline=\"central\" style=\"font-size:9px;font-style:normal;font-weight:normal;fill-opacity:1;stroke:none;font-family:sans-serif;fill:#7F7F7F\" text-anchor=\"end\" x=\"10.3459\" y=\"80.252\"><tspan>*</tspan></text>\n",
       "<text dominant-baseline=\"central\" style=\"font-size:9px;font-style:normal;font-weight:normal;fill-opacity:1;stroke:none;font-family:sans-serif;fill:#7F7F7F\" text-anchor=\"start\" x=\"43.3346\" y=\"45.1696\"><tspan>*</tspan></text>\n",
       "</svg>"
      ],
      "text/plain": [
       "<IPython.core.display.SVG object>"
      ]
     },
     "metadata": {},
     "output_type": "display_data"
    },
    {
     "name": "stdout",
     "output_type": "stream",
     "text": [
      "found the bit in compound 1 aka RWJ-51084\n",
      "it is likely it is a positive feature.\n"
     ]
    },
    {
     "data": {
      "image/svg+xml": [
       "<svg baseProfile=\"full\" height=\"150px\" version=\"1.1\" viewBox=\"0 0 150 150\" width=\"150px\" xml:space=\"preserve\" xmlns=\"http://www.w3.org/2000/svg\" xmlns:rdkit=\"http://www.rdkit.org/xml\" xmlns:xlink=\"http://www.w3.org/1999/xlink\">\n",
       "<!-- END OF HEADER -->\n",
       "<rect height=\"150\" style=\"opacity:1.0;fill:#FFFFFF;stroke:none\" width=\"150\" x=\"0\" y=\"0\"> </rect>\n",
       "<ellipse cx=\"73.8996\" cy=\"86.3067\" rx=\"7.47011\" ry=\"7.47011\" style=\"fill:#9999E5;fill-rule:evenodd;stroke:#9999E5;stroke-width:2px;stroke-linecap:butt;stroke-linejoin:miter;stroke-opacity:1\"/>\n",
       "<ellipse cx=\"108.347\" cy=\"71.8689\" rx=\"7.47011\" ry=\"7.47011\" style=\"fill:#E5E533;fill-rule:evenodd;stroke:#E5E533;stroke-width:2px;stroke-linecap:butt;stroke-linejoin:miter;stroke-opacity:1\"/>\n",
       "<path class=\"bond-0\" d=\"M 40.8741,64.6708 L 41.1628,65.3597\" style=\"fill:none;fill-rule:evenodd;stroke:#E5E5E5;stroke-width:2px;stroke-linecap:butt;stroke-linejoin:miter;stroke-opacity:1\"/>\n",
       "<path class=\"bond-0\" d=\"M 37.5757,65.6482 L 38.1532,67.0261\" style=\"fill:none;fill-rule:evenodd;stroke:#E5E5E5;stroke-width:2px;stroke-linecap:butt;stroke-linejoin:miter;stroke-opacity:1\"/>\n",
       "<path class=\"bond-0\" d=\"M 34.2773,66.6257 L 35.1435,68.6925\" style=\"fill:none;fill-rule:evenodd;stroke:#E5E5E5;stroke-width:2px;stroke-linecap:butt;stroke-linejoin:miter;stroke-opacity:1\"/>\n",
       "<path class=\"bond-0\" d=\"M 30.9789,67.6032 L 32.1339,70.3589\" style=\"fill:none;fill-rule:evenodd;stroke:#E5E5E5;stroke-width:2px;stroke-linecap:butt;stroke-linejoin:miter;stroke-opacity:1\"/>\n",
       "<path class=\"bond-0\" d=\"M 27.6805,68.5806 L 29.1243,72.0253\" style=\"fill:none;fill-rule:evenodd;stroke:#E5E5E5;stroke-width:2px;stroke-linecap:butt;stroke-linejoin:miter;stroke-opacity:1\"/>\n",
       "<path class=\"bond-0\" d=\"M 24.3821,69.5581 L 26.1146,73.6918\" style=\"fill:none;fill-rule:evenodd;stroke:#E5E5E5;stroke-width:2px;stroke-linecap:butt;stroke-linejoin:miter;stroke-opacity:1\"/>\n",
       "<path class=\"bond-0\" d=\"M 21.0837,70.5355 L 23.105,75.3582\" style=\"fill:none;fill-rule:evenodd;stroke:#E5E5E5;stroke-width:2px;stroke-linecap:butt;stroke-linejoin:miter;stroke-opacity:1\"/>\n",
       "<path class=\"bond-0\" d=\"M 17.7853,71.513 L 20.0953,77.0246\" style=\"fill:none;fill-rule:evenodd;stroke:#E5E5E5;stroke-width:2px;stroke-linecap:butt;stroke-linejoin:miter;stroke-opacity:1\"/>\n",
       "<path class=\"bond-0\" d=\"M 14.4869,72.4905 L 17.0857,78.691\" style=\"fill:none;fill-rule:evenodd;stroke:#E5E5E5;stroke-width:2px;stroke-linecap:butt;stroke-linejoin:miter;stroke-opacity:1\"/>\n",
       "<path class=\"bond-0\" d=\"M 11.1885,73.4679 L 14.076,80.3574\" style=\"fill:none;fill-rule:evenodd;stroke:#E5E5E5;stroke-width:2px;stroke-linecap:butt;stroke-linejoin:miter;stroke-opacity:1\"/>\n",
       "<path class=\"bond-1\" d=\"M 44.1725,63.6933 L 48.0996,32.8673\" style=\"fill:none;fill-rule:evenodd;stroke:#E5E5E5;stroke-width:2px;stroke-linecap:butt;stroke-linejoin:miter;stroke-opacity:1\"/>\n",
       "<path class=\"bond-2\" d=\"M 44.1725,63.6933 L 73.8996,86.3067\" style=\"fill:none;fill-rule:evenodd;stroke:#000000;stroke-width:2px;stroke-linecap:butt;stroke-linejoin:miter;stroke-opacity:1\"/>\n",
       "<path class=\"bond-3\" d=\"M 70.1944,85.8347 L 68.2309,101.248\" style=\"fill:none;fill-rule:evenodd;stroke:#000000;stroke-width:2px;stroke-linecap:butt;stroke-linejoin:miter;stroke-opacity:1\"/>\n",
       "<path class=\"bond-3\" d=\"M 68.2309,101.248 L 66.2673,116.661\" style=\"fill:none;fill-rule:evenodd;stroke:#FF0000;stroke-width:2px;stroke-linecap:butt;stroke-linejoin:miter;stroke-opacity:1\"/>\n",
       "<path class=\"bond-3\" d=\"M 77.6047,86.7787 L 75.6411,102.192\" style=\"fill:none;fill-rule:evenodd;stroke:#000000;stroke-width:2px;stroke-linecap:butt;stroke-linejoin:miter;stroke-opacity:1\"/>\n",
       "<path class=\"bond-3\" d=\"M 75.6411,102.192 L 73.6775,117.605\" style=\"fill:none;fill-rule:evenodd;stroke:#FF0000;stroke-width:2px;stroke-linecap:butt;stroke-linejoin:miter;stroke-opacity:1\"/>\n",
       "<path class=\"bond-4\" d=\"M 73.8996,86.3067 L 108.347,71.8689\" style=\"fill:none;fill-rule:evenodd;stroke:#000000;stroke-width:2px;stroke-linecap:butt;stroke-linejoin:miter;stroke-opacity:1\"/>\n",
       "<path class=\"bond-5\" d=\"M 106.409,75.0617 L 135.43,92.6791\" style=\"fill:none;fill-rule:evenodd;stroke:#E5E5E5;stroke-width:2px;stroke-linecap:butt;stroke-linejoin:miter;stroke-opacity:1\"/>\n",
       "<path class=\"bond-5\" d=\"M 110.285,68.6762 L 139.306,86.2936\" style=\"fill:none;fill-rule:evenodd;stroke:#E5E5E5;stroke-width:2px;stroke-linecap:butt;stroke-linejoin:miter;stroke-opacity:1;stroke-dasharray:6,6\"/>\n",
       "<path class=\"bond-6\" d=\"M 111.982,72.7257 L 119.083,42.5961\" style=\"fill:none;fill-rule:evenodd;stroke:#E5E5E5;stroke-width:2px;stroke-linecap:butt;stroke-linejoin:miter;stroke-opacity:1\"/>\n",
       "<path class=\"bond-6\" d=\"M 104.711,71.0122 L 111.812,40.8826\" style=\"fill:none;fill-rule:evenodd;stroke:#E5E5E5;stroke-width:2px;stroke-linecap:butt;stroke-linejoin:miter;stroke-opacity:1;stroke-dasharray:6,6\"/>\n",
       "<text dominant-baseline=\"central\" style=\"font-size:12px;font-style:normal;font-weight:normal;fill-opacity:1;stroke:none;font-family:sans-serif;fill:#7F7F7F\" text-anchor=\"end\" x=\"11.3872\" y=\"79.9986\"><tspan>*</tspan></text>\n",
       "<text dominant-baseline=\"central\" style=\"font-size:12px;font-style:normal;font-weight:normal;fill-opacity:1;stroke:none;font-family:sans-serif;fill:#7F7F7F\" text-anchor=\"start\" x=\"47.2307\" y=\"28.5098\"><tspan>*H</tspan></text>\n",
       "<text dominant-baseline=\"central\" style=\"font-size:12px;font-style:normal;font-weight:normal;fill-opacity:1;stroke:none;font-family:sans-serif;fill:#FF0000\" text-anchor=\"start\" x=\"64.6103\" y=\"125.225\"><tspan>O</tspan></text>\n",
       "<text dominant-baseline=\"central\" style=\"font-size:12px;font-style:normal;font-weight:normal;fill-opacity:1;stroke:none;font-family:sans-serif;fill:#7F7F7F\" text-anchor=\"start\" x=\"138.613\" y=\"93.1186\"><tspan>*</tspan></text>\n",
       "<text dominant-baseline=\"central\" style=\"font-size:12px;font-style:normal;font-weight:normal;fill-opacity:1;stroke:none;font-family:sans-serif;fill:#7F7F7F\" text-anchor=\"start\" x=\"115.252\" y=\"37.3818\"><tspan>*</tspan></text>\n",
       "</svg>"
      ],
      "text/plain": [
       "<IPython.core.display.SVG object>"
      ]
     },
     "metadata": {},
     "output_type": "display_data"
    }
   ],
   "source": [
    "from rdkit.Chem import Draw\n",
    "from IPython.display import SVG, display\n",
    "for i,featurenum in enumerate(featurenums[indices]):\n",
    "    print('found the bit in compound ' + str(ilocs[i])+ ' aka '+compound_names[i])\n",
    "    if int(ilocs[i])<= 10:\n",
    "        print('it is likely it is a positive feature.')\n",
    "    else:\n",
    "        print('it is likely to be a negative feature.')\n",
    "    svg = Draw.DrawMorganBit(rdkit_mols_draw[i], int(featurenum), bitinfos_draw[i], useSVG=True)\n",
    "    display(svg)"
   ]
  }
 ],
 "metadata": {
  "kernelspec": {
   "display_name": "Python 3",
   "language": "python",
   "name": "python3"
  },
  "language_info": {
   "codemirror_mode": {
    "name": "ipython",
    "version": 3
   },
   "file_extension": ".py",
   "mimetype": "text/x-python",
   "name": "python",
   "nbconvert_exporter": "python",
   "pygments_lexer": "ipython3",
   "version": "3.7.6"
  },
  "varInspector": {
   "cols": {
    "lenName": 16,
    "lenType": 16,
    "lenVar": 40
   },
   "kernels_config": {
    "python": {
     "delete_cmd_postfix": "",
     "delete_cmd_prefix": "del ",
     "library": "var_list.py",
     "varRefreshCmd": "print(var_dic_list())"
    },
    "r": {
     "delete_cmd_postfix": ") ",
     "delete_cmd_prefix": "rm(",
     "library": "var_list.r",
     "varRefreshCmd": "cat(var_dic_list()) "
    }
   },
   "position": {
    "height": "402px",
    "left": "823px",
    "right": "20px",
    "top": "75px",
    "width": "300px"
   },
   "types_to_exclude": [
    "module",
    "function",
    "builtin_function_or_method",
    "instance",
    "_Feature"
   ],
   "window_display": false
  }
 },
 "nbformat": 4,
 "nbformat_minor": 4
}
