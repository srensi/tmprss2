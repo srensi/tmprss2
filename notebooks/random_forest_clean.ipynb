{
 "cells": [
  {
   "cell_type": "code",
   "execution_count": 1,
   "metadata": {},
   "outputs": [],
   "source": [
    "settings = {\n",
    "    \"xsrf_cookies\": False,\n",
    "}"
   ]
  },
  {
   "cell_type": "markdown",
   "metadata": {},
   "source": [
    "In this notebook we explore using random forest to determine activity values of molecules (using regression) and predicting an active/inactive molecule (using classification).  First we load the fingerprints from RDkit."
   ]
  },
  {
   "cell_type": "code",
   "execution_count": 2,
   "metadata": {},
   "outputs": [],
   "source": [
    "import pandas as pd\n",
    "import itertools\n",
    "from sklearn.ensemble import RandomForestClassifier, RandomForestRegressor\n",
    "#from sklearn.model_selection import train_test_split\n",
    "from sklearn.inspection import permutation_importance\n",
    "from sklearn.metrics import classification_report, confusion_matrix\n",
    "import matplotlib.pyplot as plt\n",
    "import numpy as np\n",
    "\n",
    "data = pd.read_pickle('../processed_data/combined_dataset.pkl')\n",
    "N=len(data.loc[data['target'] == 'TMPRSS2']) #number of compounds tested against TMPRSS2 itself\n",
    "fp_dark=pd.read_pickle('../processed_data/DarkChemicalMatter_processed.pkl.gz')\n",
    "fp_dark=np.stack(fp_dark['morgan_fingerprint'])"
   ]
  },
  {
   "cell_type": "markdown",
   "metadata": {},
   "source": [
    "We have two sets of activity values since not all compound assays were performed against TMPRSS2 (the protease of interest in this study).  Thus, some compounds' activity values have to be scaled via a correlation of the protease they were originally purposed for, against TMPRSS2.  We save the binary values of whether a compound was deemed active/inactive as \"activity\", and the numeric activity value as \"ac_merged\".  Also we note if the values are taken from the \"scaled\" dataset.  Ac values are converted to negative log10.  Finally we convert everything to numpy array to input into random forest."
   ]
  },
  {
   "cell_type": "markdown",
   "metadata": {},
   "source": [
    "Now we split the training and the test data.  To test how well the random forest works, we split the compounds with known TMPRSS2 activity (that is, their recorded ac value is from an assay against TMPRSS2) between the training and test sets.  Here I've used a 2/3 training 1/3 test split, which can be changed by changing variable \"n_test\".  The indices assigned by the split is randomly shuffled each time the code is run."
   ]
  },
  {
   "cell_type": "code",
   "execution_count": 3,
   "metadata": {},
   "outputs": [],
   "source": [
    "fps_merged=np.stack(data[data['acvalue_target'].notnull()]['morgan_fingerprint'])\n",
    "fps_merged_scaled=np.stack(data[data['acvalue_scaled_to_tmprss2'].notnull()]['morgan_fingerprint'])\n",
    "ac_merged_scaled=np.asarray(data[data['acvalue_scaled_to_tmprss2'].notnull()]['acvalue_scaled_to_tmprss2'])\n",
    "act_list=list(data[data['acvalue_target'].notnull()]['activity_target'])\n",
    "act_list_2=list(data[data['acvalue_scaled_to_tmprss2'].notnull()]['activity_target'])\n",
    "activity_scaled=[]\n",
    "activity=[]\n",
    "for i in range(len(act_list)):\n",
    "    if act_list[i] == 'Active':\n",
    "        activity.append(1)\n",
    "    else:\n",
    "        activity.append(0)\n",
    "for i in range(len(act_list_2)):\n",
    "    if act_list_2[i] == 'Active':\n",
    "        activity_scaled.append(1)\n",
    "    else:\n",
    "        activity_scaled.append(0)\n",
    "#alternatively\n",
    "ac_merged=np.asarray(data[data['acvalue_target'].notnull()]['acvalue_target'])\n",
    "activity=np.array(activity)\n",
    "ac_merged=-np.log10(ac_merged)\n",
    "activity_scaled=np.array(activity_scaled)\n",
    "ac_merged_scaled=-np.log10(ac_merged_scaled)"
   ]
  },
  {
   "cell_type": "code",
   "execution_count": 4,
   "metadata": {},
   "outputs": [],
   "source": [
    "#split train and test \n",
    "#split the tmprss2 active compounds into training and test\n",
    "import random\n",
    "s=np.arange(N)\n",
    "random.seed(33)#set seed for reproducibility\n",
    "random.shuffle(s)\n",
    "n_test=round(N/3) #percentage to withold for testing\n",
    "cut=n_test\n",
    "test=s[0:cut]\n",
    "train=s[cut::]"
   ]
  },
  {
   "cell_type": "markdown",
   "metadata": {},
   "source": [
    "Here we generate training and test sets for the classifier, which incorporates the \"dark chemical matter\" which is known to be inactive.  We split the dark chemical matter evenly between the test and training sets (same amount of data points as from the assays).  You can skip the following code block if not running the classifier.  The purpose of the classifier is to do a preliminary \"filtering\" of active/inactive molecules for the regressor."
   ]
  },
  {
   "cell_type": "code",
   "execution_count": 75,
   "metadata": {},
   "outputs": [
    {
     "name": "stdout",
     "output_type": "stream",
     "text": [
      "425\n",
      "403\n",
      "394\n"
     ]
    }
   ],
   "source": [
    "s=np.arange(len(fp_dark))\n",
    "random.seed(33)\n",
    "random.shuffle(s)\n",
    "test_dark=s[0:cut]\n",
    "train_dark=s[cut:len(activity_scaled)]\n",
    "X_test=np.concatenate((fps_merged_scaled[test], fp_dark[test_dark]))\n",
    "X_train=np.concatenate((fps_merged_scaled[train], fps_merged_scaled[N::], fp_dark[train_dark]))\n",
    "y_train=np.concatenate((activity_scaled[train], activity_scaled[N::], np.zeros([len(train_dark)])))\n",
    "y2_train=np.concatenate((ac_merged_scaled[train], ac_merged_scaled[N::], np.zeros([len(train_dark)])))\n",
    "y_test=np.concatenate((activity_scaled[test], np.zeros([len(test_dark)])))\n",
    "y2_test=np.concatenate((ac_merged_scaled[test],np.zeros([len(test_dark)])))\n",
    "\n",
    "X_test_u=np.concatenate((fps_merged[test], fp_dark[test_dark]))\n",
    "X_train_u=np.concatenate((fps_merged[train], fps_merged[N::], fp_dark[train_dark]))\n",
    "y_train_u=np.concatenate((activity[train], activity[N::], np.zeros([len(train_dark)])))\n",
    "y2_train_u=np.concatenate((ac_merged[train], ac_merged[N::], np.zeros([len(train_dark)])))\n",
    "y_test_u=np.concatenate((activity[test], np.zeros([len(test_dark)])))\n",
    "y2_test_u=np.concatenate((ac_merged[test],np.zeros([len(test_dark)])))\n",
    "#generate big training set\n",
    "#X_train_all=np.concatenate((fps_merged_scaled, fp_dark[train_dark]))\n",
    "X_train_all=np.concatenate((fps_merged, fp_dark[train_dark]))\n",
    "y2_train_all=np.concatenate((ac_merged_scaled, np.zeros([len(train_dark)])))\n",
    "#y_train_all=np.concatenate((activity_scaled, np.zeros([len(train_dark)])))\n",
    "y_train_all=np.concatenate((activity, np.zeros([len(train_dark)])))"
   ]
  },
  {
   "cell_type": "markdown",
   "metadata": {},
   "source": [
    "Here we run the classifier for the test case (where our test set has some compounds with known TMPRSS2 activity)."
   ]
  },
  {
   "cell_type": "code",
   "execution_count": 72,
   "metadata": {
    "scrolled": true
   },
   "outputs": [
    {
     "name": "stderr",
     "output_type": "stream",
     "text": [
      "[Parallel(n_jobs=1)]: Using backend SequentialBackend with 1 concurrent workers.\n",
      "[Parallel(n_jobs=1)]: Done   1 out of   1 | elapsed:    0.0s remaining:    0.0s\n"
     ]
    },
    {
     "name": "stdout",
     "output_type": "stream",
     "text": [
      "building tree 1 of 100\n",
      "building tree 2 of 100\n",
      "building tree 3 of 100\n",
      "building tree 4 of 100\n",
      "building tree 5 of 100\n",
      "building tree 6 of 100\n",
      "building tree 7 of 100\n",
      "building tree 8 of 100\n",
      "building tree 9 of 100\n",
      "building tree 10 of 100\n",
      "building tree 11 of 100\n",
      "building tree 12 of 100\n",
      "building tree 13 of 100\n",
      "building tree 14 of 100\n",
      "building tree 15 of 100\n",
      "building tree 16 of 100\n",
      "building tree 17 of 100\n",
      "building tree 18 of 100\n",
      "building tree 19 of 100\n",
      "building tree 20 of 100\n",
      "building tree 21 of 100\n",
      "building tree 22 of 100\n",
      "building tree 23 of 100\n",
      "building tree 24 of 100\n",
      "building tree 25 of 100\n",
      "building tree 26 of 100\n",
      "building tree 27 of 100\n",
      "building tree 28 of 100\n",
      "building tree 29 of 100\n",
      "building tree 30 of 100\n",
      "building tree 31 of 100\n",
      "building tree 32 of 100\n",
      "building tree 33 of 100\n",
      "building tree 34 of 100\n",
      "building tree 35 of 100\n",
      "building tree 36 of 100\n",
      "building tree 37 of 100\n",
      "building tree 38 of 100\n",
      "building tree 39 of 100\n",
      "building tree 40 of 100\n",
      "building tree 41 of 100\n",
      "building tree 42 of 100\n",
      "building tree 43 of 100\n",
      "building tree 44 of 100\n",
      "building tree 45 of 100\n",
      "building tree 46 of 100\n",
      "building tree 47 of 100\n",
      "building tree 48 of 100\n",
      "building tree 49 of 100\n",
      "building tree 50 of 100\n",
      "building tree 51 of 100\n",
      "building tree 52 of 100\n",
      "building tree 53 of 100\n",
      "building tree 54 of 100\n",
      "building tree 55 of 100\n",
      "building tree 56 of 100\n",
      "building tree 57 of 100\n",
      "building tree 58 of 100\n",
      "building tree 59 of 100\n",
      "building tree 60 of 100\n",
      "building tree 61 of 100\n",
      "building tree 62 of 100\n",
      "building tree 63 of 100\n",
      "building tree 64 of 100\n",
      "building tree 65 of 100\n",
      "building tree 66 of 100\n",
      "building tree 67 of 100\n",
      "building tree 68 of 100\n",
      "building tree 69 of 100\n",
      "building tree 70 of 100\n",
      "building tree 71 of 100\n",
      "building tree 72 of 100\n",
      "building tree 73 of 100\n",
      "building tree 74 of 100\n",
      "building tree 75 of 100\n",
      "building tree 76 of 100\n",
      "building tree 77 of 100\n",
      "building tree 78 of 100\n",
      "building tree 79 of 100\n",
      "building tree 80 of 100\n",
      "building tree 81 of 100\n",
      "building tree 82 of 100\n",
      "building tree 83 of 100\n",
      "building tree 84 of 100\n",
      "building tree 85 of 100\n",
      "building tree 86 of 100\n",
      "building tree 87 of 100\n",
      "building tree 88 of 100\n",
      "building tree 89 of 100\n",
      "building tree 90 of 100\n",
      "building tree 91 of 100\n",
      "building tree 92 of 100\n",
      "building tree 93 of 100\n",
      "building tree 94 of 100\n",
      "building tree 95 of 100\n",
      "building tree 96 of 100\n",
      "building tree 97 of 100\n",
      "building tree 98 of 100\n",
      "building tree 99 of 100\n",
      "building tree 100 of 100\n"
     ]
    },
    {
     "name": "stderr",
     "output_type": "stream",
     "text": [
      "[Parallel(n_jobs=1)]: Done 100 out of 100 | elapsed:    0.4s finished\n"
     ]
    },
    {
     "data": {
      "text/plain": [
       "RandomForestClassifier(bootstrap=True, ccp_alpha=0.0, class_weight=None,\n",
       "                       criterion='gini', max_depth=None, max_features='auto',\n",
       "                       max_leaf_nodes=None, max_samples=None,\n",
       "                       min_impurity_decrease=0.0, min_impurity_split=None,\n",
       "                       min_samples_leaf=1, min_samples_split=2,\n",
       "                       min_weight_fraction_leaf=0.0, n_estimators=100,\n",
       "                       n_jobs=None, oob_score=False, random_state=111,\n",
       "                       verbose=2, warm_start=False)"
      ]
     },
     "execution_count": 72,
     "metadata": {},
     "output_type": "execute_result"
    }
   ],
   "source": [
    "###YOU CAN SKIP THIS STEP IF NOT RUNNING THE CLASSIFIER###\n",
    "rf=RandomForestClassifier(verbose=2, n_estimators=100, random_state=111)\n",
    "rf.fit(np.asarray(X_train_u), np.asarray(y_train_u))"
   ]
  },
  {
   "cell_type": "code",
   "execution_count": 73,
   "metadata": {},
   "outputs": [
    {
     "name": "stdout",
     "output_type": "stream",
     "text": [
      "1.0\n"
     ]
    },
    {
     "name": "stderr",
     "output_type": "stream",
     "text": [
      "[Parallel(n_jobs=1)]: Using backend SequentialBackend with 1 concurrent workers.\n",
      "[Parallel(n_jobs=1)]: Done   1 out of   1 | elapsed:    0.0s remaining:    0.0s\n",
      "[Parallel(n_jobs=1)]: Done 100 out of 100 | elapsed:    0.0s finished\n",
      "[Parallel(n_jobs=1)]: Using backend SequentialBackend with 1 concurrent workers.\n",
      "[Parallel(n_jobs=1)]: Done   1 out of   1 | elapsed:    0.0s remaining:    0.0s\n",
      "[Parallel(n_jobs=1)]: Done 100 out of 100 | elapsed:    0.0s finished\n"
     ]
    }
   ],
   "source": [
    "y_pred=rf.predict(X_test_u)\n",
    "print(rf.score(X_test_u, y_test_u))"
   ]
  },
  {
   "cell_type": "markdown",
   "metadata": {},
   "source": [
    "and we see how well it does in terms of precision and recall."
   ]
  },
  {
   "cell_type": "code",
   "execution_count": 74,
   "metadata": {},
   "outputs": [
    {
     "data": {
      "image/png": "[encoded data removed]",
      "text/plain": [
       "<Figure size 432x288 with 1 Axes>"
      ]
     },
     "metadata": {
      "needs_background": "light"
     },
     "output_type": "display_data"
    },
    {
     "name": "stdout",
     "output_type": "stream",
     "text": [
      "              precision    recall  f1-score   support\n",
      "\n",
      "         0.0       1.00      1.00      1.00        31\n",
      "         1.0       1.00      1.00      1.00        31\n",
      "\n",
      "    accuracy                           1.00        62\n",
      "   macro avg       1.00      1.00      1.00        62\n",
      "weighted avg       1.00      1.00      1.00        62\n",
      "\n"
     ]
    }
   ],
   "source": [
    "#get the index of the features (of RDkit fingerprint) that were important\n",
    "importances = rf.feature_importances_\n",
    "featurenums = np.array([str(x).zfill(2) for x in range(len(importances))])\n",
    "indices = np.argsort(importances)[::-1][0:25]#get the 25 most important features\n",
    "plt.title('Feature Importances (train set)')\n",
    "plt.bar(range(len(indices)), importances[indices], align='center')\n",
    "plt.ylabel('Relative Importance')\n",
    "plt.xticks(range(len(indices)), featurenums[indices], rotation=90)\n",
    "plt.show()\n",
    "#output metrics\n",
    "print(classification_report(y_test, y_pred))"
   ]
  },
  {
   "cell_type": "markdown",
   "metadata": {},
   "source": [
    "Now we train the classifier on the full dataset.  Note that I'm using the unscaled dataset here to keep more possible actives.  Is this kosher?"
   ]
  },
  {
   "cell_type": "code",
   "execution_count": 76,
   "metadata": {},
   "outputs": [
    {
     "name": "stderr",
     "output_type": "stream",
     "text": [
      "[Parallel(n_jobs=1)]: Using backend SequentialBackend with 1 concurrent workers.\n",
      "[Parallel(n_jobs=1)]: Done   1 out of   1 | elapsed:    0.0s remaining:    0.0s\n"
     ]
    },
    {
     "name": "stdout",
     "output_type": "stream",
     "text": [
      "building tree 1 of 100\n",
      "building tree 2 of 100\n",
      "building tree 3 of 100\n",
      "building tree 4 of 100\n",
      "building tree 5 of 100\n",
      "building tree 6 of 100\n",
      "building tree 7 of 100\n",
      "building tree 8 of 100\n",
      "building tree 9 of 100\n",
      "building tree 10 of 100\n",
      "building tree 11 of 100\n",
      "building tree 12 of 100\n",
      "building tree 13 of 100\n",
      "building tree 14 of 100\n",
      "building tree 15 of 100\n",
      "building tree 16 of 100\n",
      "building tree 17 of 100\n",
      "building tree 18 of 100\n",
      "building tree 19 of 100\n",
      "building tree 20 of 100\n",
      "building tree 21 of 100\n",
      "building tree 22 of 100\n",
      "building tree 23 of 100\n",
      "building tree 24 of 100\n",
      "building tree 25 of 100\n",
      "building tree 26 of 100\n",
      "building tree 27 of 100\n",
      "building tree 28 of 100\n",
      "building tree 29 of 100\n",
      "building tree 30 of 100\n",
      "building tree 31 of 100\n",
      "building tree 32 of 100\n",
      "building tree 33 of 100\n",
      "building tree 34 of 100\n",
      "building tree 35 of 100\n",
      "building tree 36 of 100\n",
      "building tree 37 of 100\n",
      "building tree 38 of 100\n",
      "building tree 39 of 100\n",
      "building tree 40 of 100\n",
      "building tree 41 of 100\n",
      "building tree 42 of 100\n",
      "building tree 43 of 100\n",
      "building tree 44 of 100\n",
      "building tree 45 of 100\n",
      "building tree 46 of 100\n",
      "building tree 47 of 100\n",
      "building tree 48 of 100\n",
      "building tree 49 of 100\n",
      "building tree 50 of 100\n",
      "building tree 51 of 100\n",
      "building tree 52 of 100\n",
      "building tree 53 of 100\n",
      "building tree 54 of 100\n",
      "building tree 55 of 100\n",
      "building tree 56 of 100\n",
      "building tree 57 of 100\n",
      "building tree 58 of 100\n",
      "building tree 59 of 100\n",
      "building tree 60 of 100\n",
      "building tree 61 of 100\n",
      "building tree 62 of 100\n",
      "building tree 63 of 100\n",
      "building tree 64 of 100\n",
      "building tree 65 of 100\n",
      "building tree 66 of 100\n",
      "building tree 67 of 100\n",
      "building tree 68 of 100\n",
      "building tree 69 of 100\n",
      "building tree 70 of 100\n",
      "building tree 71 of 100\n",
      "building tree 72 of 100\n",
      "building tree 73 of 100\n",
      "building tree 74 of 100\n",
      "building tree 75 of 100\n",
      "building tree 76 of 100\n",
      "building tree 77 of 100\n",
      "building tree 78 of 100\n",
      "building tree 79 of 100\n",
      "building tree 80 of 100\n",
      "building tree 81 of 100\n",
      "building tree 82 of 100\n",
      "building tree 83 of 100\n",
      "building tree 84 of 100\n",
      "building tree 85 of 100\n",
      "building tree 86 of 100\n",
      "building tree 87 of 100\n",
      "building tree 88 of 100\n",
      "building tree 89 of 100\n",
      "building tree 90 of 100\n",
      "building tree 91 of 100\n",
      "building tree 92 of 100\n",
      "building tree 93 of 100\n",
      "building tree 94 of 100\n",
      "building tree 95 of 100\n",
      "building tree 96 of 100\n",
      "building tree 97 of 100\n",
      "building tree 98 of 100\n",
      "building tree 99 of 100\n",
      "building tree 100 of 100\n"
     ]
    },
    {
     "name": "stderr",
     "output_type": "stream",
     "text": [
      "[Parallel(n_jobs=1)]: Done 100 out of 100 | elapsed:    0.4s finished\n"
     ]
    },
    {
     "data": {
      "text/plain": [
       "RandomForestClassifier(bootstrap=True, ccp_alpha=0.0, class_weight=None,\n",
       "                       criterion='gini', max_depth=None, max_features='auto',\n",
       "                       max_leaf_nodes=None, max_samples=None,\n",
       "                       min_impurity_decrease=0.0, min_impurity_split=None,\n",
       "                       min_samples_leaf=1, min_samples_split=2,\n",
       "                       min_weight_fraction_leaf=0.0, n_estimators=100,\n",
       "                       n_jobs=None, oob_score=False, random_state=111,\n",
       "                       verbose=2, warm_start=False)"
      ]
     },
     "execution_count": 76,
     "metadata": {},
     "output_type": "execute_result"
    }
   ],
   "source": [
    "rf=RandomForestClassifier(verbose=2, n_estimators=100, random_state=111)\n",
    "rf.fit(np.asarray(X_train_all), np.asarray(y_train_all))"
   ]
  },
  {
   "cell_type": "markdown",
   "metadata": {},
   "source": [
    "REGRESSION\n",
    "Here we again take the same random splits of training and test set (set by the variable \"n_test\") as a proportion of compounds in the ground truth TMPSSR2 assay data, but we don't add the dark data, which can distort the results of regression. We train both the \"scaled\" version with scaled data and the version with unscaled data."
   ]
  },
  {
   "cell_type": "code",
   "execution_count": 5,
   "metadata": {},
   "outputs": [],
   "source": [
    "import random\n",
    "from sklearn.metrics import mean_squared_error\n",
    "n_bootstrap = 50\n",
    "mse_unscaled=np.zeros(n_bootstrap)\n",
    "mse_scaled=np.zeros(n_bootstrap)\n",
    "random.seed(33)\n",
    "for i in range(n_bootstrap):\n",
    "        s=np.arange(N)\n",
    "        #set seed for reproducibility\n",
    "        random.shuffle(s)\n",
    "        n_test=round(N/3) #percentage to withold for testing\n",
    "        cut=n_test\n",
    "        test=s[0:cut]\n",
    "        train=s[cut::]\n",
    "        X_test_reg=fps_merged[test]\n",
    "        X_train_reg=np.concatenate((fps_merged[train], fps_merged[N::]))\n",
    "        y2_train_reg=np.concatenate((ac_merged[train], ac_merged[N::]))\n",
    "        y2_test_reg=ac_merged[test]\n",
    "        nan_array=np.isnan(y2_train_reg)\n",
    "        X_train_reg=X_train_reg[~nan_array]\n",
    "        y2_train_reg=y2_train_reg[~nan_array]\n",
    "        #and generate for scaled arrays\n",
    "        #don't use the dark data for regressor, hence 'pos only'\n",
    "        X_train_reg_scaled=np.concatenate((fps_merged_scaled[train], fps_merged_scaled[92::]))\n",
    "        y2_train_reg_scaled=np.concatenate((ac_merged_scaled[train], ac_merged_scaled[92::]))\n",
    "        rg_pos_only=RandomForestRegressor(verbose=0, n_estimators=100, random_state=111)\n",
    "        rg_pos_only_scaled=RandomForestRegressor(verbose=0, n_estimators=100, random_state=111)\n",
    "        rg_pos_only.fit(np.asarray(X_train_reg), np.asarray(y2_train_reg))\n",
    "        rg_pos_only_scaled.fit(np.asarray(X_train_reg_scaled), np.asarray(y2_train_reg_scaled))\n",
    "        y_pred_regr_pos=rg_pos_only.predict(X_test_reg)\n",
    "        mse_unscaled[i]=mean_squared_error(y2_test_reg, y_pred_regr_pos)\n",
    "        y_pred_regr_scaled_pos=rg_pos_only_scaled.predict(X_test_reg)\n",
    "        mse_scaled[i]=mean_squared_error(y2_test_reg, y_pred_regr_scaled_pos)"
   ]
  },
  {
   "cell_type": "markdown",
   "metadata": {},
   "source": [
    "Examine mean squared error (MSE) for both scaled and unscaled dataset, with 50 bootstrap random resamplings of the training set.  The scaled version appears to do slightly better (lower mean MSE) so we will use that.  Can someone please check if \"%store -r mse_unscaled\" will retrieve the variable on their computer?"
   ]
  },
  {
   "cell_type": "code",
   "execution_count": 11,
   "metadata": {},
   "outputs": [
    {
     "name": "stdout",
     "output_type": "stream",
     "text": [
      "0.6522259685038808\n",
      "0.34818155556849\n",
      "Stored 'mse_unscaled' (ndarray)\n",
      "Stored 'mse_scaled' (ndarray)\n"
     ]
    },
    {
     "data": {
      "image/png": "[encoded data removed]",
      "text/plain": [
       "<Figure size 432x288 with 1 Axes>"
      ]
     },
     "metadata": {
      "needs_background": "light"
     },
     "output_type": "display_data"
    }
   ],
   "source": [
    "plt.hist(mse_unscaled, bins=33, label='unscaled')\n",
    "plt.hist(mse_scaled, bins=33, label='scaled')\n",
    "plt.legend()\n",
    "print(np.mean(mse_unscaled))\n",
    "print(np.mean(mse_scaled))\n",
    "\n",
    "mses=pd.DataFrame({\"unscaled\": mse_unscaled, \"scaled\": mse_scaled})\n",
    "mses.to_pickle(\"mses.pkl\")\n",
    "#%store mse_unscaled\n",
    "#%store mse_scaled"
   ]
  },
  {
   "cell_type": "markdown",
   "metadata": {},
   "source": [
    "Plotting the predicted vs actual regression values (-log ac) from the validation set.  The red line denotes 1-to-1 correlation.  For smaller activity values (large negative log) the regressor appears to overpredict the AC values somewhat."
   ]
  },
  {
   "cell_type": "code",
   "execution_count": 10,
   "metadata": {},
   "outputs": [
    {
     "data": {
      "text/plain": [
       "[<matplotlib.lines.Line2D at 0x11bb25cd0>]"
      ]
     },
     "execution_count": 10,
     "metadata": {},
     "output_type": "execute_result"
    },
    {
     "data": {
      "image/png": "[encoded data removed]",
      "text/plain": [
       "<Figure size 432x288 with 1 Axes>"
      ]
     },
     "metadata": {
      "needs_background": "light"
     },
     "output_type": "display_data"
    }
   ],
   "source": [
    "plt.plot(y2_test_reg, y_pred_regr_pos, '*')\n",
    "plt.plot(y2_test_reg, y2_test_reg,'r--')\n",
    "plt.set_xlabel('')"
   ]
  },
  {
   "cell_type": "markdown",
   "metadata": {},
   "source": [
    "Here we select the 25 most important features from the morgan fingerprints."
   ]
  },
  {
   "cell_type": "code",
   "execution_count": 51,
   "metadata": {},
   "outputs": [
    {
     "data": {
      "image/png": "[encoded data removed]",
      "text/plain": [
       "<Figure size 432x288 with 1 Axes>"
      ]
     },
     "metadata": {
      "needs_background": "light"
     },
     "output_type": "display_data"
    }
   ],
   "source": [
    "importances = rg_pos_only_scaled.feature_importances_\n",
    "featurenums = np.array([str(x).zfill(2) for x in range(len(importances))])\n",
    "indices = np.argsort(importances)[::-1][0:25]#get the 25 most important features\n",
    "plt.title('Feature Importances (train set)')\n",
    "plt.bar(range(len(indices)), importances[indices], align='center')\n",
    "plt.ylabel('Relative Importance')\n",
    "plt.xticks(range(len(indices)), featurenums[indices], rotation=90)\n",
    "plt.show()"
   ]
  },
  {
   "cell_type": "markdown",
   "metadata": {},
   "source": [
    "When we're satisfied with tuning the random forest regressor, we can build the regressor with all of the data combined to run on an unknown screening set.  First we load the screening dataset"
   ]
  },
  {
   "cell_type": "code",
   "execution_count": 66,
   "metadata": {},
   "outputs": [],
   "source": [
    "screening_fp=pd.read_pickle('../processed_data/screening_data_processed.pkl')\n",
    "screening_fp.head()\n",
    "molnames_all=list(screening_fp['name'])\n",
    "molnames_all=np.asarray(molnames_all)\n",
    "screening=np.stack(screening_fp['morgan_fingerprint'])\n",
    "sources=list(screening_fp['source'])\n",
    "bitinfo=screening_fp['bitinfo']"
   ]
  },
  {
   "cell_type": "markdown",
   "metadata": {},
   "source": [
    "Then we run the classifier and truncate the screening dataset to classified actives."
   ]
  },
  {
   "cell_type": "code",
   "execution_count": 80,
   "metadata": {},
   "outputs": [
    {
     "name": "stderr",
     "output_type": "stream",
     "text": [
      "[Parallel(n_jobs=1)]: Using backend SequentialBackend with 1 concurrent workers.\n",
      "[Parallel(n_jobs=1)]: Done   1 out of   1 | elapsed:    0.0s remaining:    0.0s\n"
     ]
    },
    {
     "name": "stdout",
     "output_type": "stream",
     "text": [
      "659\n"
     ]
    },
    {
     "name": "stderr",
     "output_type": "stream",
     "text": [
      "[Parallel(n_jobs=1)]: Done 100 out of 100 | elapsed:    0.3s finished\n"
     ]
    }
   ],
   "source": [
    "y_pred=rf.predict(screening)\n",
    "print(len(y_pred[y_pred>0])) #number of active compounds\n",
    "screening_fp['active'] = y_pred\n",
    "screening_fp_trunc=screening_fp.loc[screening_fp['active']>0.0]"
   ]
  },
  {
   "cell_type": "markdown",
   "metadata": {},
   "source": [
    "Then build the regressor based on the scaled dataset"
   ]
  },
  {
   "cell_type": "code",
   "execution_count": 37,
   "metadata": {},
   "outputs": [
    {
     "name": "stderr",
     "output_type": "stream",
     "text": [
      "[Parallel(n_jobs=1)]: Using backend SequentialBackend with 1 concurrent workers.\n",
      "[Parallel(n_jobs=1)]: Done   1 out of   1 | elapsed:    0.0s remaining:    0.0s\n"
     ]
    },
    {
     "name": "stdout",
     "output_type": "stream",
     "text": [
      "building tree 1 of 100\n",
      "building tree 2 of 100\n",
      "building tree 3 of 100\n",
      "building tree 4 of 100\n",
      "building tree 5 of 100\n",
      "building tree 6 of 100\n",
      "building tree 7 of 100\n",
      "building tree 8 of 100\n",
      "building tree 9 of 100\n",
      "building tree 10 of 100\n",
      "building tree 11 of 100\n",
      "building tree 12 of 100\n",
      "building tree 13 of 100\n",
      "building tree 14 of 100\n",
      "building tree 15 of 100\n",
      "building tree 16 of 100\n",
      "building tree 17 of 100\n",
      "building tree 18 of 100\n",
      "building tree 19 of 100\n",
      "building tree 20 of 100\n",
      "building tree 21 of 100\n",
      "building tree 22 of 100\n",
      "building tree 23 of 100\n",
      "building tree 24 of 100\n",
      "building tree 25 of 100\n",
      "building tree 26 of 100\n",
      "building tree 27 of 100\n",
      "building tree 28 of 100\n",
      "building tree 29 of 100\n",
      "building tree 30 of 100\n",
      "building tree 31 of 100\n",
      "building tree 32 of 100\n",
      "building tree 33 of 100\n",
      "building tree 34 of 100\n",
      "building tree 35 of 100\n",
      "building tree 36 of 100\n",
      "building tree 37 of 100\n",
      "building tree 38 of 100\n",
      "building tree 39 of 100\n",
      "building tree 40 of 100\n",
      "building tree 41 of 100\n",
      "building tree 42 of 100\n",
      "building tree 43 of 100\n",
      "building tree 44 of 100\n",
      "building tree 45 of 100\n",
      "building tree 46 of 100\n",
      "building tree 47 of 100\n",
      "building tree 48 of 100\n",
      "building tree 49 of 100\n",
      "building tree 50 of 100\n",
      "building tree 51 of 100\n",
      "building tree 52 of 100\n",
      "building tree 53 of 100\n",
      "building tree 54 of 100\n",
      "building tree 55 of 100\n",
      "building tree 56 of 100\n",
      "building tree 57 of 100\n",
      "building tree 58 of 100\n",
      "building tree 59 of 100\n",
      "building tree 60 of 100\n",
      "building tree 61 of 100\n",
      "building tree 62 of 100\n",
      "building tree 63 of 100\n",
      "building tree 64 of 100\n",
      "building tree 65 of 100\n",
      "building tree 66 of 100\n",
      "building tree 67 of 100\n",
      "building tree 68 of 100\n",
      "building tree 69 of 100\n",
      "building tree 70 of 100\n",
      "building tree 71 of 100\n",
      "building tree 72 of 100\n",
      "building tree 73 of 100\n",
      "building tree 74 of 100\n",
      "building tree 75 of 100\n",
      "building tree 76 of 100\n",
      "building tree 77 of 100\n",
      "building tree 78 of 100\n",
      "building tree 79 of 100\n",
      "building tree 80 of 100\n",
      "building tree 81 of 100\n",
      "building tree 82 of 100\n",
      "building tree 83 of 100\n",
      "building tree 84 of 100\n",
      "building tree 85 of 100\n",
      "building tree 86 of 100\n",
      "building tree 87 of 100\n",
      "building tree 88 of 100\n",
      "building tree 89 of 100\n",
      "building tree 90 of 100\n",
      "building tree 91 of 100\n",
      "building tree 92 of 100\n",
      "building tree 93 of 100\n",
      "building tree 94 of 100\n",
      "building tree 95 of 100\n",
      "building tree 96 of 100\n",
      "building tree 97 of 100\n",
      "building tree 98 of 100\n",
      "building tree 99 of 100\n",
      "building tree 100 of 100\n"
     ]
    },
    {
     "name": "stderr",
     "output_type": "stream",
     "text": [
      "[Parallel(n_jobs=1)]: Done 100 out of 100 | elapsed:    1.9s finished\n"
     ]
    },
    {
     "data": {
      "text/plain": [
       "RandomForestRegressor(bootstrap=True, ccp_alpha=0.0, criterion='mse',\n",
       "                      max_depth=None, max_features='auto', max_leaf_nodes=None,\n",
       "                      max_samples=None, min_impurity_decrease=0.0,\n",
       "                      min_impurity_split=None, min_samples_leaf=1,\n",
       "                      min_samples_split=2, min_weight_fraction_leaf=0.0,\n",
       "                      n_estimators=100, n_jobs=None, oob_score=False,\n",
       "                      random_state=111, verbose=2, warm_start=False)"
      ]
     },
     "execution_count": 37,
     "metadata": {},
     "output_type": "execute_result"
    }
   ],
   "source": [
    "rg_all=RandomForestRegressor(verbose=2, n_estimators=100, random_state=111)\n",
    "rg_all.fit(np.asarray(fps_merged_scaled), np.asarray(ac_merged_scaled))"
   ]
  },
  {
   "cell_type": "markdown",
   "metadata": {},
   "source": [
    "Run regression on screening dataset that was pre-filtered by the lassifier."
   ]
  },
  {
   "cell_type": "code",
   "execution_count": 83,
   "metadata": {
    "scrolled": true
   },
   "outputs": [
    {
     "name": "stderr",
     "output_type": "stream",
     "text": [
      "[Parallel(n_jobs=1)]: Using backend SequentialBackend with 1 concurrent workers.\n",
      "[Parallel(n_jobs=1)]: Done   1 out of   1 | elapsed:    0.0s remaining:    0.0s\n",
      "[Parallel(n_jobs=1)]: Done 100 out of 100 | elapsed:    0.0s finished\n",
      "/Users/schu3/.conda/envs/covid/lib/python3.7/site-packages/ipykernel_launcher.py:2: SettingWithCopyWarning: \n",
      "A value is trying to be set on a copy of a slice from a DataFrame.\n",
      "Try using .loc[row_indexer,col_indexer] = value instead\n",
      "\n",
      "See the caveats in the documentation: https://pandas.pydata.org/pandas-docs/stable/user_guide/indexing.html#returning-a-view-versus-a-copy\n",
      "  \n"
     ]
    }
   ],
   "source": [
    "predicted_activity=rg_all.predict(screening[y_pred>0])\n",
    "screening_fp_trunc['predicted_activity(log10)'] = predicted_activity"
   ]
  },
  {
   "cell_type": "code",
   "execution_count": 84,
   "metadata": {},
   "outputs": [
    {
     "data": {
      "image/png": "[encoded data removed]",
      "text/plain": [
       "<Figure size 432x288 with 1 Axes>"
      ]
     },
     "metadata": {
      "needs_background": "light"
     },
     "output_type": "display_data"
    }
   ],
   "source": [
    "importances = rg_all.feature_importances_\n",
    "featurenums = np.array([str(x).zfill(2) for x in range(len(importances))])\n",
    "indices = np.argsort(importances)[::-1][0:25]#get the 25 most important features\n",
    "plt.title('Feature Importances (train set)')\n",
    "plt.bar(range(len(indices)), importances[indices], align='center')\n",
    "plt.ylabel('Relative Importance')\n",
    "plt.xticks(range(len(indices)), featurenums[indices], rotation=90)\n",
    "plt.show()"
   ]
  },
  {
   "cell_type": "markdown",
   "metadata": {},
   "source": [
    "Predict the activities from screening library and print the top 20 hits.  We also plot the predicted activity values color coded by screening library."
   ]
  },
  {
   "cell_type": "code",
   "execution_count": 85,
   "metadata": {
    "scrolled": true
   },
   "outputs": [
    {
     "data": {
      "text/plain": [
       "<matplotlib.axes._subplots.AxesSubplot at 0x1374340d0>"
      ]
     },
     "execution_count": 85,
     "metadata": {},
     "output_type": "execute_result"
    },
    {
     "data": {
      "image/png": "[encoded data removed]",
      "text/plain": [
       "<Figure size 432x288 with 1 Axes>"
      ]
     },
     "metadata": {
      "needs_background": "light"
     },
     "output_type": "display_data"
    }
   ],
   "source": [
    "from seaborn import violinplot \n",
    "violinplot(x='source', y='predicted_activity(log10)', data=screening_fp_trunc)"
   ]
  },
  {
   "cell_type": "markdown",
   "metadata": {},
   "source": [
    "Drop the duplicate tautomers in the top hits, keeping the \"first\" or lowest predicted activity value."
   ]
  },
  {
   "cell_type": "code",
   "execution_count": 102,
   "metadata": {},
   "outputs": [
    {
     "data": {
      "text/html": [
       "<div>\n",
       "<style scoped>\n",
       "    .dataframe tbody tr th:only-of-type {\n",
       "        vertical-align: middle;\n",
       "    }\n",
       "\n",
       "    .dataframe tbody tr th {\n",
       "        vertical-align: top;\n",
       "    }\n",
       "\n",
       "    .dataframe thead th {\n",
       "        text-align: right;\n",
       "    }\n",
       "</style>\n",
       "<table border=\"1\" class=\"dataframe\">\n",
       "  <thead>\n",
       "    <tr style=\"text-align: right;\">\n",
       "      <th></th>\n",
       "      <th>name</th>\n",
       "      <th>smiles</th>\n",
       "      <th>predicted_activity(log10)</th>\n",
       "    </tr>\n",
       "  </thead>\n",
       "  <tbody>\n",
       "    <tr>\n",
       "      <th>10797</th>\n",
       "      <td>NAFAMOSTAT</td>\n",
       "      <td>NC(N)=Nc1ccc(cc1)C(=O)Oc1cc2ccc(cc2cc1)C(N)=N</td>\n",
       "      <td>2.797827</td>\n",
       "    </tr>\n",
       "    <tr>\n",
       "      <th>2928</th>\n",
       "      <td>RWJ-51084</td>\n",
       "      <td>NC(N)=NCCC[C@H](NC(=O)C1CCCC1)C(=O)c1[n]c2cccc...</td>\n",
       "      <td>2.499190</td>\n",
       "    </tr>\n",
       "    <tr>\n",
       "      <th>2513</th>\n",
       "      <td>RWJ-56423</td>\n",
       "      <td>CC(=O)N1C[C@H](O)C[C@H]1C(=O)N[C@@H](CCCN=C(N)...</td>\n",
       "      <td>2.365654</td>\n",
       "    </tr>\n",
       "    <tr>\n",
       "      <th>10749</th>\n",
       "      <td>CAMOSTAT</td>\n",
       "      <td>CN(C)C(=O)COC(=O)Cc1ccc(cc1)OC(=O)c1ccc(cc1)N=...</td>\n",
       "      <td>2.212964</td>\n",
       "    </tr>\n",
       "    <tr>\n",
       "      <th>6887</th>\n",
       "      <td>1-[(4S)-4-AMINO-5-(1,3-BENZOTHIAZOL-2-YL)-5-OX...</td>\n",
       "      <td>NC(=N)NCCC[C@H](N)C(=O)c1[n]c2ccccc2[s]1</td>\n",
       "      <td>1.974841</td>\n",
       "    </tr>\n",
       "    <tr>\n",
       "      <th>10789</th>\n",
       "      <td>RWJ-58643</td>\n",
       "      <td>CC(=O)N1C[C@H](O)C[C@H]1C(=O)NC(CCCNC(N)=N)C(=...</td>\n",
       "      <td>1.959521</td>\n",
       "    </tr>\n",
       "    <tr>\n",
       "      <th>3415</th>\n",
       "      <td>N-(1-ADAMANTYL)-N'-(4-GUANIDINOBENZYL)UREA</td>\n",
       "      <td>NC(N)=Nc1ccc(CNC(=O)NC23CC4CC(C2)CC(C3)C4)cc1</td>\n",
       "      <td>1.320940</td>\n",
       "    </tr>\n",
       "    <tr>\n",
       "      <th>12704</th>\n",
       "      <td>CAMOSTAT-MESILATE</td>\n",
       "      <td>CN(C)C(=O)COC(=O)Cc1ccc(cc1)OC(=O)c1ccc(cc1)NC...</td>\n",
       "      <td>1.237724</td>\n",
       "    </tr>\n",
       "    <tr>\n",
       "      <th>10855</th>\n",
       "      <td>TO-195</td>\n",
       "      <td>NC(=N)c1cc2ccc(cc2cc1)OC(=O)c1ccc(CNC(=O)CCCC(...</td>\n",
       "      <td>1.235729</td>\n",
       "    </tr>\n",
       "    <tr>\n",
       "      <th>15066</th>\n",
       "      <td>GEPON</td>\n",
       "      <td>CC(C)[C@@H](NC(=O)C(NC(=O)[C@@H](CCC(O)=O)NC(=...</td>\n",
       "      <td>1.232370</td>\n",
       "    </tr>\n",
       "    <tr>\n",
       "      <th>19603</th>\n",
       "      <td>SUBSTANCE-P</td>\n",
       "      <td>CC(C)C[C@H](NC(=O)CNC(=O)[C@H](Cc1ccccc1)NC(=O...</td>\n",
       "      <td>1.214972</td>\n",
       "    </tr>\n",
       "    <tr>\n",
       "      <th>4631</th>\n",
       "      <td>CZEN 002</td>\n",
       "      <td>CC(=O)N[C@@H](CO)C(=O)N[C@@H](Cc1ccc(O)cc1)C(=...</td>\n",
       "      <td>1.199445</td>\n",
       "    </tr>\n",
       "    <tr>\n",
       "      <th>15506</th>\n",
       "      <td>ICATIBANT-ACETATE</td>\n",
       "      <td>N[C@H](CCCNC(N)=N)C(=O)N[C@@H](CCCNC(N)=N)C(=O...</td>\n",
       "      <td>1.196106</td>\n",
       "    </tr>\n",
       "    <tr>\n",
       "      <th>10549</th>\n",
       "      <td>MODIMELANOTIDE</td>\n",
       "      <td>CC(=O)N[C@@H](CCCCN)C(=O)N[C@@H](CCCCN)C(=O)N[...</td>\n",
       "      <td>1.166364</td>\n",
       "    </tr>\n",
       "    <tr>\n",
       "      <th>8189</th>\n",
       "      <td>ELAMIPRETIDE</td>\n",
       "      <td>Cc1cc(O)cc(C)c1C[C@H](NC(=O)[C@H](N)CCCNC(N)=N...</td>\n",
       "      <td>1.163276</td>\n",
       "    </tr>\n",
       "    <tr>\n",
       "      <th>3985</th>\n",
       "      <td>AERUGINOSIN 98-B</td>\n",
       "      <td>C[C@H](CC)[C@@H](NC(=O)[C@H](O)Cc1ccc(O)cc1)C(...</td>\n",
       "      <td>1.156905</td>\n",
       "    </tr>\n",
       "    <tr>\n",
       "      <th>20508</th>\n",
       "      <td>U-75799E</td>\n",
       "      <td>C[C@H](NC(=O)[C@@H](Cc1c[nH]c2ccccc12)NC(=O)[C...</td>\n",
       "      <td>1.156762</td>\n",
       "    </tr>\n",
       "    <tr>\n",
       "      <th>4479</th>\n",
       "      <td>AFAMELANOTIDE</td>\n",
       "      <td>CC(=O)N[C@@H](CO)C(=O)N[C@@H](Cc1ccc(O)cc1)C(=...</td>\n",
       "      <td>1.146288</td>\n",
       "    </tr>\n",
       "    <tr>\n",
       "      <th>5429</th>\n",
       "      <td>2-[2-(4-CHLORO-PHENYLSULFANYL)-ACETYLAMINO]-3-...</td>\n",
       "      <td>NC(N)=Nc1ccc(CC(NC(=O)CSc2ccc(Cl)cc2)C(N)=O)cc1</td>\n",
       "      <td>1.145148</td>\n",
       "    </tr>\n",
       "    <tr>\n",
       "      <th>4725</th>\n",
       "      <td>SAR9, MET (O2)11-SUBSTANCE P</td>\n",
       "      <td>CN(CC(=O)N[C@@H](CC(C)C)C(=O)N[C@@H](CCS(C)(=O...</td>\n",
       "      <td>1.144704</td>\n",
       "    </tr>\n",
       "    <tr>\n",
       "      <th>2434</th>\n",
       "      <td>DELTA-2-ALBOMYCIN A1</td>\n",
       "      <td>CN1/C(/C=CN([C@@H]2S[C@H]([C@H](O)[C@@H](NC(=O...</td>\n",
       "      <td>1.139417</td>\n",
       "    </tr>\n",
       "    <tr>\n",
       "      <th>7973</th>\n",
       "      <td>BOMBESIN</td>\n",
       "      <td>C[C@H](NC(=O)[C@H](Cc1c[nH]c2ccccc12)NC(=O)[C@...</td>\n",
       "      <td>1.129983</td>\n",
       "    </tr>\n",
       "    <tr>\n",
       "      <th>14604</th>\n",
       "      <td>EXAMORELIN</td>\n",
       "      <td>Cc1[nH]c2ccccc2c1C[C@@H](NC(=O)[C@@H](N)Cc1c[n...</td>\n",
       "      <td>1.125477</td>\n",
       "    </tr>\n",
       "    <tr>\n",
       "      <th>5154</th>\n",
       "      <td>TRIPTORELIN</td>\n",
       "      <td>CC(C)C[C@H](NC(=O)[C@@H](Cc1c[nH]c2ccccc12)NC(...</td>\n",
       "      <td>1.121105</td>\n",
       "    </tr>\n",
       "    <tr>\n",
       "      <th>16096</th>\n",
       "      <td>LEUPROLIDE</td>\n",
       "      <td>CCNC(=O)[C@@H]1CCCN1C(=O)[C@H](CCCNC(N)=N)NC(=...</td>\n",
       "      <td>1.119606</td>\n",
       "    </tr>\n",
       "  </tbody>\n",
       "</table>\n",
       "</div>"
      ],
      "text/plain": [
       "                                                    name  \\\n",
       "10797                                         NAFAMOSTAT   \n",
       "2928                                           RWJ-51084   \n",
       "2513                                           RWJ-56423   \n",
       "10749                                           CAMOSTAT   \n",
       "6887   1-[(4S)-4-AMINO-5-(1,3-BENZOTHIAZOL-2-YL)-5-OX...   \n",
       "10789                                          RWJ-58643   \n",
       "3415          N-(1-ADAMANTYL)-N'-(4-GUANIDINOBENZYL)UREA   \n",
       "12704                                  CAMOSTAT-MESILATE   \n",
       "10855                                             TO-195   \n",
       "15066                                              GEPON   \n",
       "19603                                        SUBSTANCE-P   \n",
       "4631                                            CZEN 002   \n",
       "15506                                  ICATIBANT-ACETATE   \n",
       "10549                                     MODIMELANOTIDE   \n",
       "8189                                        ELAMIPRETIDE   \n",
       "3985                                    AERUGINOSIN 98-B   \n",
       "20508                                           U-75799E   \n",
       "4479                                       AFAMELANOTIDE   \n",
       "5429   2-[2-(4-CHLORO-PHENYLSULFANYL)-ACETYLAMINO]-3-...   \n",
       "4725                        SAR9, MET (O2)11-SUBSTANCE P   \n",
       "2434                                DELTA-2-ALBOMYCIN A1   \n",
       "7973                                            BOMBESIN   \n",
       "14604                                         EXAMORELIN   \n",
       "5154                                         TRIPTORELIN   \n",
       "16096                                         LEUPROLIDE   \n",
       "\n",
       "                                                  smiles  \\\n",
       "10797      NC(N)=Nc1ccc(cc1)C(=O)Oc1cc2ccc(cc2cc1)C(N)=N   \n",
       "2928   NC(N)=NCCC[C@H](NC(=O)C1CCCC1)C(=O)c1[n]c2cccc...   \n",
       "2513   CC(=O)N1C[C@H](O)C[C@H]1C(=O)N[C@@H](CCCN=C(N)...   \n",
       "10749  CN(C)C(=O)COC(=O)Cc1ccc(cc1)OC(=O)c1ccc(cc1)N=...   \n",
       "6887            NC(=N)NCCC[C@H](N)C(=O)c1[n]c2ccccc2[s]1   \n",
       "10789  CC(=O)N1C[C@H](O)C[C@H]1C(=O)NC(CCCNC(N)=N)C(=...   \n",
       "3415       NC(N)=Nc1ccc(CNC(=O)NC23CC4CC(C2)CC(C3)C4)cc1   \n",
       "12704  CN(C)C(=O)COC(=O)Cc1ccc(cc1)OC(=O)c1ccc(cc1)NC...   \n",
       "10855  NC(=N)c1cc2ccc(cc2cc1)OC(=O)c1ccc(CNC(=O)CCCC(...   \n",
       "15066  CC(C)[C@@H](NC(=O)C(NC(=O)[C@@H](CCC(O)=O)NC(=...   \n",
       "19603  CC(C)C[C@H](NC(=O)CNC(=O)[C@H](Cc1ccccc1)NC(=O...   \n",
       "4631   CC(=O)N[C@@H](CO)C(=O)N[C@@H](Cc1ccc(O)cc1)C(=...   \n",
       "15506  N[C@H](CCCNC(N)=N)C(=O)N[C@@H](CCCNC(N)=N)C(=O...   \n",
       "10549  CC(=O)N[C@@H](CCCCN)C(=O)N[C@@H](CCCCN)C(=O)N[...   \n",
       "8189   Cc1cc(O)cc(C)c1C[C@H](NC(=O)[C@H](N)CCCNC(N)=N...   \n",
       "3985   C[C@H](CC)[C@@H](NC(=O)[C@H](O)Cc1ccc(O)cc1)C(...   \n",
       "20508  C[C@H](NC(=O)[C@@H](Cc1c[nH]c2ccccc12)NC(=O)[C...   \n",
       "4479   CC(=O)N[C@@H](CO)C(=O)N[C@@H](Cc1ccc(O)cc1)C(=...   \n",
       "5429     NC(N)=Nc1ccc(CC(NC(=O)CSc2ccc(Cl)cc2)C(N)=O)cc1   \n",
       "4725   CN(CC(=O)N[C@@H](CC(C)C)C(=O)N[C@@H](CCS(C)(=O...   \n",
       "2434   CN1/C(/C=CN([C@@H]2S[C@H]([C@H](O)[C@@H](NC(=O...   \n",
       "7973   C[C@H](NC(=O)[C@H](Cc1c[nH]c2ccccc12)NC(=O)[C@...   \n",
       "14604  Cc1[nH]c2ccccc2c1C[C@@H](NC(=O)[C@@H](N)Cc1c[n...   \n",
       "5154   CC(C)C[C@H](NC(=O)[C@@H](Cc1c[nH]c2ccccc12)NC(...   \n",
       "16096  CCNC(=O)[C@@H]1CCCN1C(=O)[C@H](CCCNC(N)=N)NC(=...   \n",
       "\n",
       "       predicted_activity(log10)  \n",
       "10797                   2.797827  \n",
       "2928                    2.499190  \n",
       "2513                    2.365654  \n",
       "10749                   2.212964  \n",
       "6887                    1.974841  \n",
       "10789                   1.959521  \n",
       "3415                    1.320940  \n",
       "12704                   1.237724  \n",
       "10855                   1.235729  \n",
       "15066                   1.232370  \n",
       "19603                   1.214972  \n",
       "4631                    1.199445  \n",
       "15506                   1.196106  \n",
       "10549                   1.166364  \n",
       "8189                    1.163276  \n",
       "3985                    1.156905  \n",
       "20508                   1.156762  \n",
       "4479                    1.146288  \n",
       "5429                    1.145148  \n",
       "4725                    1.144704  \n",
       "2434                    1.139417  \n",
       "7973                    1.129983  \n",
       "14604                   1.125477  \n",
       "5154                    1.121105  \n",
       "16096                   1.119606  "
      ]
     },
     "execution_count": 102,
     "metadata": {},
     "output_type": "execute_result"
    }
   ],
   "source": [
    "from rdkit.Chem import MolToSmiles\n",
    "from indigo import *\n",
    "indigo = Indigo()\n",
    "canonical_smiles=[]\n",
    "for smile in screening_fp_trunc['smiles']:\n",
    "    mol1 = indigo.loadMolecule(smile)\n",
    "    mol1.aromatize()\n",
    "    canonical_smiles.append(mol1.canonicalSmiles())\n",
    "test_smiles=screening_fp_trunc['smiles']\n",
    "screening_fp_trunc['smiles']=canonical_smiles\n",
    "screening_fp_trunc=screening_fp_trunc.sort_values(by='predicted_activity(log10)', ascending=False)\n",
    "screening_fp_trunc['name'] =screening_fp_trunc['name'].str.upper() \n",
    "screening_fp_trunc=screening_fp_trunc.drop_duplicates(subset=['name'])\n",
    "screening_fp_trunc=screening_fp_trunc.drop_duplicates(subset=['smiles'])\n",
    "screening_fp_trunc.loc[:, [\"name\", \"smiles\", \"predicted_activity(log10)\"]].to_csv('../results/random_forest_results.csv')\n",
    "screening_fp_trunc.loc[:, [\"name\", \"smiles\", \"predicted_activity(log10)\"]].head(25)"
   ]
  },
  {
   "cell_type": "markdown",
   "metadata": {},
   "source": [
    "Information in the bits appears to be set to 1 when the structure is present in one of the compound's atoms, 0 if not.  Many of the features deemed \"important\" by the random forest are actually lack of structures (0 in a bit location), so here we try to determine what positive and/or negative structures were important by retrieving these from the bit info of our top hits."
   ]
  },
  {
   "cell_type": "code",
   "execution_count": 89,
   "metadata": {},
   "outputs": [],
   "source": [
    "bitinfo=screening_fp_trunc['bitinfo']\n",
    "keys1=[bitinfo[key] for key in bitinfo.keys()]\n",
    "rdkit_mols_draw=[]\n",
    "bitinfos_draw=[]\n",
    "compound_names=[]\n",
    "ilocs=[]\n",
    "for featurenum in featurenums[indices]:\n",
    "    flag=0        \n",
    "    location=0\n",
    "    while flag == 0:\n",
    "        ibit=screening_fp_trunc.iloc[location,:]['bitinfo']\n",
    "        if int(featurenum) in list(ibit.keys()):\n",
    "            compound_names.append(screening_fp_trunc.iloc[location,:]['name'])\n",
    "            rdkit_mols_draw.append(screening_fp_trunc.iloc[location,:]['rdkit_mol'])\n",
    "            bitinfos_draw.append(screening_fp_trunc.iloc[location,:]['bitinfo'])\n",
    "            ilocs.append(location)\n",
    "            flag=1\n",
    "        else:\n",
    "            location=location+1\n",
    "          #  print('still searching for '+featurenum)"
   ]
  },
  {
   "cell_type": "markdown",
   "metadata": {},
   "source": [
    "Now we draw the snippets of the relevant \"top hits\"."
   ]
  },
  {
   "cell_type": "code",
   "execution_count": 90,
   "metadata": {},
   "outputs": [
    {
     "name": "stdout",
     "output_type": "stream",
     "text": [
      "found the bit in compound 67 aka N-ALPHA-(2-NAPHTHYLSULFONYL)-N(3-AMIDINO-L-PHENYLALANINYL)ISOPIPECOLINIC ACID METHYL ESTER\n",
      "it is likely to be a negative feature.\n"
     ]
    },
    {
     "data": {
      "image/svg+xml": [
       "<svg baseProfile=\"full\" height=\"150px\" version=\"1.1\" viewBox=\"0 0 150 150\" width=\"150px\" xml:space=\"preserve\" xmlns=\"http://www.w3.org/2000/svg\" xmlns:rdkit=\"http://www.rdkit.org/xml\" xmlns:xlink=\"http://www.w3.org/1999/xlink\">\n",
       "<!-- END OF HEADER -->\n",
       "<rect height=\"150\" style=\"opacity:1.0;fill:#FFFFFF;stroke:none\" width=\"150\" x=\"0\" y=\"0\"> </rect>\n",
       "<ellipse cx=\"35.1475\" cy=\"107.778\" rx=\"6.22471\" ry=\"6.22471\" style=\"fill:#CCCCCC;fill-rule:evenodd;stroke:#CCCCCC;stroke-width:2px;stroke-linecap:butt;stroke-linejoin:miter;stroke-opacity:1\"/>\n",
       "<ellipse cx=\"33.1635\" cy=\"76.7182\" rx=\"6.22471\" ry=\"6.22471\" style=\"fill:#CCCCCC;fill-rule:evenodd;stroke:#CCCCCC;stroke-width:2px;stroke-linecap:butt;stroke-linejoin:miter;stroke-opacity:1\"/>\n",
       "<ellipse cx=\"59.0705\" cy=\"59.4699\" rx=\"6.22471\" ry=\"6.22471\" style=\"fill:#9999E5;fill-rule:evenodd;stroke:#9999E5;stroke-width:2px;stroke-linecap:butt;stroke-linejoin:miter;stroke-opacity:1\"/>\n",
       "<ellipse cx=\"86.9615\" cy=\"73.2818\" rx=\"6.22471\" ry=\"6.22471\" style=\"fill:#CCCCCC;fill-rule:evenodd;stroke:#CCCCCC;stroke-width:2px;stroke-linecap:butt;stroke-linejoin:miter;stroke-opacity:1\"/>\n",
       "<ellipse cx=\"88.9455\" cy=\"104.342\" rx=\"6.22471\" ry=\"6.22471\" style=\"fill:#CCCCCC;fill-rule:evenodd;stroke:#CCCCCC;stroke-width:2px;stroke-linecap:butt;stroke-linejoin:miter;stroke-opacity:1\"/>\n",
       "<path class=\"bond-0\" d=\"M 11.6629,123.414 L 35.1475,107.778\" style=\"fill:none;fill-rule:evenodd;stroke:#E5E5E5;stroke-width:2px;stroke-linecap:butt;stroke-linejoin:miter;stroke-opacity:1\"/>\n",
       "<path class=\"bond-1\" d=\"M 35.1475,107.778 L 33.1635,76.7182\" style=\"fill:none;fill-rule:evenodd;stroke:#000000;stroke-width:2px;stroke-linecap:butt;stroke-linejoin:miter;stroke-opacity:1\"/>\n",
       "<path class=\"bond-9\" d=\"M 35.1475,107.778 L 60.6161,120.391\" style=\"fill:none;fill-rule:evenodd;stroke:#E5E5E5;stroke-width:2px;stroke-linecap:butt;stroke-linejoin:miter;stroke-opacity:1\"/>\n",
       "<path class=\"bond-2\" d=\"M 33.1635,76.7182 L 59.0705,59.4699\" style=\"fill:none;fill-rule:evenodd;stroke:#000000;stroke-width:2px;stroke-linecap:butt;stroke-linejoin:miter;stroke-opacity:1\"/>\n",
       "<path class=\"bond-3\" d=\"M 59.0705,59.4699 L 70.768,65.2626\" style=\"fill:none;fill-rule:evenodd;stroke:#000000;stroke-width:2px;stroke-linecap:butt;stroke-linejoin:miter;stroke-opacity:1\"/>\n",
       "<path class=\"bond-3\" d=\"M 70.768,65.2626 L 82.4654,71.0553\" style=\"fill:none;fill-rule:evenodd;stroke:#0000FF;stroke-width:2px;stroke-linecap:butt;stroke-linejoin:miter;stroke-opacity:1\"/>\n",
       "<path class=\"bond-4\" d=\"M 87.2928,78.469 L 88.1192,91.4055\" style=\"fill:none;fill-rule:evenodd;stroke:#0000FF;stroke-width:2px;stroke-linecap:butt;stroke-linejoin:miter;stroke-opacity:1\"/>\n",
       "<path class=\"bond-4\" d=\"M 88.1192,91.4055 L 88.9455,104.342\" style=\"fill:none;fill-rule:evenodd;stroke:#000000;stroke-width:2px;stroke-linecap:butt;stroke-linejoin:miter;stroke-opacity:1\"/>\n",
       "<path class=\"bond-6\" d=\"M 91.4575,70.2884 L 102.163,63.1609\" style=\"fill:none;fill-rule:evenodd;stroke:#0000FF;stroke-width:2px;stroke-linecap:butt;stroke-linejoin:miter;stroke-opacity:1\"/>\n",
       "<path class=\"bond-6\" d=\"M 102.163,63.1609 L 112.868,56.0334\" style=\"fill:none;fill-rule:evenodd;stroke:#000000;stroke-width:2px;stroke-linecap:butt;stroke-linejoin:miter;stroke-opacity:1\"/>\n",
       "<path class=\"bond-5\" d=\"M 88.9455,104.342 L 65.4609,119.978\" style=\"fill:none;fill-rule:evenodd;stroke:#E5E5E5;stroke-width:2px;stroke-linecap:butt;stroke-linejoin:miter;stroke-opacity:1\"/>\n",
       "<path class=\"bond-7\" d=\"M 111.487,58.8225 L 136.956,71.4349\" style=\"fill:none;fill-rule:evenodd;stroke:#E5E5E5;stroke-width:2px;stroke-linecap:butt;stroke-linejoin:miter;stroke-opacity:1\"/>\n",
       "<path class=\"bond-7\" d=\"M 114.25,53.2443 L 139.718,65.8567\" style=\"fill:none;fill-rule:evenodd;stroke:#E5E5E5;stroke-width:2px;stroke-linecap:butt;stroke-linejoin:miter;stroke-opacity:1\"/>\n",
       "<path class=\"bond-8\" d=\"M 111.216,30.1604 L 109.762,56.2318 L 115.974,55.835 Z\" style=\"fill:#E5E5E5;fill-rule:evenodd;fill-opacity=1;stroke:#E5E5E5;stroke-width:2px;stroke-linecap:butt;stroke-linejoin:miter;stroke-opacity:1;\"/>\n",
       "<text dominant-baseline=\"central\" style=\"font-size:10px;font-style:normal;font-weight:normal;fill-opacity:1;stroke:none;font-family:sans-serif;fill:#7F7F7F\" text-anchor=\"end\" x=\"10.6255\" y=\"126.583\"><tspan>*</tspan></text>\n",
       "<text dominant-baseline=\"central\" style=\"font-size:10px;font-style:normal;font-weight:normal;fill-opacity:1;stroke:none;font-family:sans-serif;fill:#0000FF\" text-anchor=\"middle\" x=\"86.9615\" y=\"74.838\"><tspan>N</tspan></text>\n",
       "<text dominant-baseline=\"central\" style=\"font-size:10px;font-style:normal;font-weight:normal;fill-opacity:1;stroke:none;font-family:sans-serif;fill:#7F7F7F\" text-anchor=\"middle\" x=\"63.0385\" y=\"123.147\"><tspan>*</tspan></text>\n",
       "<text dominant-baseline=\"central\" style=\"font-size:10px;font-style:normal;font-weight:normal;fill-opacity:1;stroke:none;font-family:sans-serif;fill:#7F7F7F\" text-anchor=\"start\" x=\"139.375\" y=\"71.4015\"><tspan>*</tspan></text>\n",
       "<text dominant-baseline=\"central\" style=\"font-size:10px;font-style:normal;font-weight:normal;fill-opacity:1;stroke:none;font-family:sans-serif;fill:#7F7F7F\" text-anchor=\"start\" x=\"109.499\" y=\"26.5293\"><tspan>*H</tspan></text>\n",
       "</svg>"
      ],
      "text/plain": [
       "<IPython.core.display.SVG object>"
      ]
     },
     "metadata": {},
     "output_type": "display_data"
    },
    {
     "name": "stdout",
     "output_type": "stream",
     "text": [
      "found the bit in compound 1 aka RWJ-51084\n",
      "it is likely it is a positive feature.\n"
     ]
    },
    {
     "data": {
      "image/svg+xml": [
       "<svg baseProfile=\"full\" height=\"150px\" version=\"1.1\" viewBox=\"0 0 150 150\" width=\"150px\" xml:space=\"preserve\" xmlns=\"http://www.w3.org/2000/svg\" xmlns:rdkit=\"http://www.rdkit.org/xml\" xmlns:xlink=\"http://www.w3.org/1999/xlink\">\n",
       "<!-- END OF HEADER -->\n",
       "<rect height=\"150\" style=\"opacity:1.0;fill:#FFFFFF;stroke:none\" width=\"150\" x=\"0\" y=\"0\"> </rect>\n",
       "<ellipse cx=\"75.4539\" cy=\"80.9758\" rx=\"5.04996\" ry=\"5.04996\" style=\"fill:#9999E5;fill-rule:evenodd;stroke:#9999E5;stroke-width:2px;stroke-linecap:butt;stroke-linejoin:miter;stroke-opacity:1\"/>\n",
       "<ellipse cx=\"97.0379\" cy=\"94.0786\" rx=\"5.04996\" ry=\"5.04996\" style=\"fill:#E5E533;fill-rule:evenodd;stroke:#E5E533;stroke-width:2px;stroke-linecap:butt;stroke-linejoin:miter;stroke-opacity:1\"/>\n",
       "<ellipse cx=\"116.169\" cy=\"77.5999\" rx=\"5.04996\" ry=\"5.04996\" style=\"fill:#E5E533;fill-rule:evenodd;stroke:#E5E533;stroke-width:2px;stroke-linecap:butt;stroke-linejoin:miter;stroke-opacity:1\"/>\n",
       "<ellipse cx=\"106.409\" cy=\"54.3128\" rx=\"5.04996\" ry=\"5.04996\" style=\"fill:#E5E533;fill-rule:evenodd;stroke:#E5E533;stroke-width:2px;stroke-linecap:butt;stroke-linejoin:miter;stroke-opacity:1\"/>\n",
       "<ellipse cx=\"81.2455\" cy=\"56.3992\" rx=\"5.04996\" ry=\"5.04996\" style=\"fill:#E5E533;fill-rule:evenodd;stroke:#E5E533;stroke-width:2px;stroke-linecap:butt;stroke-linejoin:miter;stroke-opacity:1\"/>\n",
       "<path class=\"bond-0\" d=\"M 29.8408,76.1097 L 30.036,76.5754\" style=\"fill:none;fill-rule:evenodd;stroke:#E5E5E5;stroke-width:2px;stroke-linecap:butt;stroke-linejoin:miter;stroke-opacity:1\"/>\n",
       "<path class=\"bond-0\" d=\"M 27.611,76.7705 L 28.0014,77.7019\" style=\"fill:none;fill-rule:evenodd;stroke:#E5E5E5;stroke-width:2px;stroke-linecap:butt;stroke-linejoin:miter;stroke-opacity:1\"/>\n",
       "<path class=\"bond-0\" d=\"M 25.3812,77.4312 L 25.9668,78.8285\" style=\"fill:none;fill-rule:evenodd;stroke:#E5E5E5;stroke-width:2px;stroke-linecap:butt;stroke-linejoin:miter;stroke-opacity:1\"/>\n",
       "<path class=\"bond-0\" d=\"M 23.1514,78.092 L 23.9322,79.955\" style=\"fill:none;fill-rule:evenodd;stroke:#E5E5E5;stroke-width:2px;stroke-linecap:butt;stroke-linejoin:miter;stroke-opacity:1\"/>\n",
       "<path class=\"bond-0\" d=\"M 20.9216,78.7528 L 21.8976,81.0815\" style=\"fill:none;fill-rule:evenodd;stroke:#E5E5E5;stroke-width:2px;stroke-linecap:butt;stroke-linejoin:miter;stroke-opacity:1\"/>\n",
       "<path class=\"bond-0\" d=\"M 18.6918,79.4136 L 19.863,82.2081\" style=\"fill:none;fill-rule:evenodd;stroke:#E5E5E5;stroke-width:2px;stroke-linecap:butt;stroke-linejoin:miter;stroke-opacity:1\"/>\n",
       "<path class=\"bond-0\" d=\"M 16.462,80.0744 L 17.8284,83.3346\" style=\"fill:none;fill-rule:evenodd;stroke:#E5E5E5;stroke-width:2px;stroke-linecap:butt;stroke-linejoin:miter;stroke-opacity:1\"/>\n",
       "<path class=\"bond-0\" d=\"M 14.2322,80.7352 L 15.7938,84.4611\" style=\"fill:none;fill-rule:evenodd;stroke:#E5E5E5;stroke-width:2px;stroke-linecap:butt;stroke-linejoin:miter;stroke-opacity:1\"/>\n",
       "<path class=\"bond-0\" d=\"M 12.0024,81.396 L 13.7592,85.5876\" style=\"fill:none;fill-rule:evenodd;stroke:#E5E5E5;stroke-width:2px;stroke-linecap:butt;stroke-linejoin:miter;stroke-opacity:1\"/>\n",
       "<path class=\"bond-0\" d=\"M 9.7726,82.0567 L 11.7246,86.7142\" style=\"fill:none;fill-rule:evenodd;stroke:#E5E5E5;stroke-width:2px;stroke-linecap:butt;stroke-linejoin:miter;stroke-opacity:1\"/>\n",
       "<path class=\"bond-1\" d=\"M 32.0705,75.4489 L 34.7254,54.6098\" style=\"fill:none;fill-rule:evenodd;stroke:#E5E5E5;stroke-width:2px;stroke-linecap:butt;stroke-linejoin:miter;stroke-opacity:1\"/>\n",
       "<path class=\"bond-2\" d=\"M 32.0705,75.4489 L 52.1667,90.736\" style=\"fill:none;fill-rule:evenodd;stroke:#000000;stroke-width:2px;stroke-linecap:butt;stroke-linejoin:miter;stroke-opacity:1\"/>\n",
       "<path class=\"bond-3\" d=\"M 49.662,90.4169 L 48.3346,100.836\" style=\"fill:none;fill-rule:evenodd;stroke:#000000;stroke-width:2px;stroke-linecap:butt;stroke-linejoin:miter;stroke-opacity:1\"/>\n",
       "<path class=\"bond-3\" d=\"M 48.3346,100.836 L 47.0072,111.256\" style=\"fill:none;fill-rule:evenodd;stroke:#FF0000;stroke-width:2px;stroke-linecap:butt;stroke-linejoin:miter;stroke-opacity:1\"/>\n",
       "<path class=\"bond-3\" d=\"M 54.6715,91.0551 L 53.344,101.475\" style=\"fill:none;fill-rule:evenodd;stroke:#000000;stroke-width:2px;stroke-linecap:butt;stroke-linejoin:miter;stroke-opacity:1\"/>\n",
       "<path class=\"bond-3\" d=\"M 53.344,101.475 L 52.0166,111.894\" style=\"fill:none;fill-rule:evenodd;stroke:#FF0000;stroke-width:2px;stroke-linecap:butt;stroke-linejoin:miter;stroke-opacity:1\"/>\n",
       "<path class=\"bond-4\" d=\"M 52.1667,90.736 L 75.4539,80.9758\" style=\"fill:none;fill-rule:evenodd;stroke:#000000;stroke-width:2px;stroke-linecap:butt;stroke-linejoin:miter;stroke-opacity:1\"/>\n",
       "<path class=\"bond-5\" d=\"M 75.4539,80.9758 L 84.4221,86.4201\" style=\"fill:none;fill-rule:evenodd;stroke:#000000;stroke-width:2px;stroke-linecap:butt;stroke-linejoin:miter;stroke-opacity:1\"/>\n",
       "<path class=\"bond-5\" d=\"M 84.4221,86.4201 L 93.3904,91.8643\" style=\"fill:none;fill-rule:evenodd;stroke:#0000FF;stroke-width:2px;stroke-linecap:butt;stroke-linejoin:miter;stroke-opacity:1\"/>\n",
       "<path class=\"bond-5\" d=\"M 80.7649,78.2923 L 87.0427,82.1032\" style=\"fill:none;fill-rule:evenodd;stroke:#000000;stroke-width:2px;stroke-linecap:butt;stroke-linejoin:miter;stroke-opacity:1\"/>\n",
       "<path class=\"bond-5\" d=\"M 87.0427,82.1032 L 93.3205,85.9142\" style=\"fill:none;fill-rule:evenodd;stroke:#0000FF;stroke-width:2px;stroke-linecap:butt;stroke-linejoin:miter;stroke-opacity:1\"/>\n",
       "<path class=\"bond-10\" d=\"M 75.4539,80.9758 L 77.8538,70.7916\" style=\"fill:none;fill-rule:evenodd;stroke:#000000;stroke-width:2px;stroke-linecap:butt;stroke-linejoin:miter;stroke-opacity:1\"/>\n",
       "<path class=\"bond-10\" d=\"M 77.8538,70.7916 L 80.2538,60.6075\" style=\"fill:none;fill-rule:evenodd;stroke:#CCCC00;stroke-width:2px;stroke-linecap:butt;stroke-linejoin:miter;stroke-opacity:1\"/>\n",
       "<path class=\"bond-6\" d=\"M 100.685,90.9368 L 108.427,84.2684\" style=\"fill:none;fill-rule:evenodd;stroke:#0000FF;stroke-width:2px;stroke-linecap:butt;stroke-linejoin:miter;stroke-opacity:1\"/>\n",
       "<path class=\"bond-6\" d=\"M 108.427,84.2684 L 116.169,77.5999\" style=\"fill:none;fill-rule:evenodd;stroke:#000000;stroke-width:2px;stroke-linecap:butt;stroke-linejoin:miter;stroke-opacity:1\"/>\n",
       "<path class=\"bond-7\" d=\"M 116.169,77.5999 L 139.251,80.5405\" style=\"fill:none;fill-rule:evenodd;stroke:#E5E5E5;stroke-width:2px;stroke-linecap:butt;stroke-linejoin:miter;stroke-opacity:1\"/>\n",
       "<path class=\"bond-11\" d=\"M 116.169,77.5999 L 106.409,54.3128\" style=\"fill:none;fill-rule:evenodd;stroke:#E5E5E5;stroke-width:2px;stroke-linecap:butt;stroke-linejoin:miter;stroke-opacity:1\"/>\n",
       "<path class=\"bond-11\" d=\"M 110.048,76.0589 L 103.216,59.7579\" style=\"fill:none;fill-rule:evenodd;stroke:#E5E5E5;stroke-width:2px;stroke-linecap:butt;stroke-linejoin:miter;stroke-opacity:1\"/>\n",
       "<path class=\"bond-8\" d=\"M 119.731,36.8 L 106.409,54.3128\" style=\"fill:none;fill-rule:evenodd;stroke:#E5E5E5;stroke-width:2px;stroke-linecap:butt;stroke-linejoin:miter;stroke-opacity:1\"/>\n",
       "<path class=\"bond-9\" d=\"M 106.409,54.3128 L 95.5121,55.2163\" style=\"fill:none;fill-rule:evenodd;stroke:#000000;stroke-width:2px;stroke-linecap:butt;stroke-linejoin:miter;stroke-opacity:1\"/>\n",
       "<path class=\"bond-9\" d=\"M 95.5121,55.2163 L 84.6152,56.1198\" style=\"fill:none;fill-rule:evenodd;stroke:#CCCC00;stroke-width:2px;stroke-linecap:butt;stroke-linejoin:miter;stroke-opacity:1\"/>\n",
       "<text dominant-baseline=\"central\" style=\"font-size:8px;font-style:normal;font-weight:normal;fill-opacity:1;stroke:none;font-family:sans-serif;fill:#7F7F7F\" text-anchor=\"end\" x=\"9.90696\" y=\"86.4716\"><tspan>*</tspan></text>\n",
       "<text dominant-baseline=\"central\" style=\"font-size:8px;font-style:normal;font-weight:normal;fill-opacity:1;stroke:none;font-family:sans-serif;fill:#7F7F7F\" text-anchor=\"start\" x=\"34.1379\" y=\"51.664\"><tspan>*H</tspan></text>\n",
       "<text dominant-baseline=\"central\" style=\"font-size:8px;font-style:normal;font-weight:normal;fill-opacity:1;stroke:none;font-family:sans-serif;fill:#FF0000\" text-anchor=\"start\" x=\"45.887\" y=\"117.046\"><tspan>O</tspan></text>\n",
       "<text dominant-baseline=\"central\" style=\"font-size:8px;font-style:normal;font-weight:normal;fill-opacity:1;stroke:none;font-family:sans-serif;fill:#0000FF\" text-anchor=\"middle\" x=\"97.0379\" y=\"95.3411\"><tspan>N</tspan></text>\n",
       "<text dominant-baseline=\"central\" style=\"font-size:8px;font-style:normal;font-weight:normal;fill-opacity:1;stroke:none;font-family:sans-serif;fill:#7F7F7F\" text-anchor=\"start\" x=\"140.093\" y=\"82.0534\"><tspan>*</tspan></text>\n",
       "<text dominant-baseline=\"central\" style=\"font-size:8px;font-style:normal;font-weight:normal;fill-opacity:1;stroke:none;font-family:sans-serif;fill:#7F7F7F\" text-anchor=\"start\" x=\"120.573\" y=\"35.4791\"><tspan>*</tspan></text>\n",
       "<text dominant-baseline=\"central\" style=\"font-size:8px;font-style:normal;font-weight:normal;fill-opacity:1;stroke:none;font-family:sans-serif;fill:#CCCC00\" text-anchor=\"end\" x=\"83.7735\" y=\"57.6617\"><tspan>S</tspan></text>\n",
       "</svg>"
      ],
      "text/plain": [
       "<IPython.core.display.SVG object>"
      ]
     },
     "metadata": {},
     "output_type": "display_data"
    },
    {
     "name": "stdout",
     "output_type": "stream",
     "text": [
      "found the bit in compound 9 aka GEPON\n",
      "it is likely it is a positive feature.\n"
     ]
    },
    {
     "data": {
      "image/svg+xml": [
       "<svg baseProfile=\"full\" height=\"150px\" version=\"1.1\" viewBox=\"0 0 150 150\" width=\"150px\" xml:space=\"preserve\" xmlns=\"http://www.w3.org/2000/svg\" xmlns:rdkit=\"http://www.rdkit.org/xml\" xmlns:xlink=\"http://www.w3.org/1999/xlink\">\n",
       "<!-- END OF HEADER -->\n",
       "<rect height=\"150\" style=\"opacity:1.0;fill:#FFFFFF;stroke:none\" width=\"150\" x=\"0\" y=\"0\"> </rect>\n",
       "<ellipse cx=\"63.4086\" cy=\"75\" rx=\"8.47598\" ry=\"8.47598\" style=\"fill:#9999E5;fill-rule:evenodd;stroke:#9999E5;stroke-width:2px;stroke-linecap:butt;stroke-linejoin:miter;stroke-opacity:1\"/>\n",
       "<path class=\"bond-0\" d=\"M 31.2616,18.5716 L 31.6381,17.8122\" style=\"fill:none;fill-rule:evenodd;stroke:#E5E5E5;stroke-width:2px;stroke-linecap:butt;stroke-linejoin:miter;stroke-opacity:1\"/>\n",
       "<path class=\"bond-0\" d=\"M 33.646,20.2266 L 34.3989,18.7078\" style=\"fill:none;fill-rule:evenodd;stroke:#E5E5E5;stroke-width:2px;stroke-linecap:butt;stroke-linejoin:miter;stroke-opacity:1\"/>\n",
       "<path class=\"bond-0\" d=\"M 36.0303,21.8817 L 37.1597,19.6035\" style=\"fill:none;fill-rule:evenodd;stroke:#E5E5E5;stroke-width:2px;stroke-linecap:butt;stroke-linejoin:miter;stroke-opacity:1\"/>\n",
       "<path class=\"bond-0\" d=\"M 38.4147,23.5368 L 39.9206,20.4992\" style=\"fill:none;fill-rule:evenodd;stroke:#E5E5E5;stroke-width:2px;stroke-linecap:butt;stroke-linejoin:miter;stroke-opacity:1\"/>\n",
       "<path class=\"bond-0\" d=\"M 40.799,25.1918 L 42.6814,21.3948\" style=\"fill:none;fill-rule:evenodd;stroke:#E5E5E5;stroke-width:2px;stroke-linecap:butt;stroke-linejoin:miter;stroke-opacity:1\"/>\n",
       "<path class=\"bond-0\" d=\"M 43.1834,26.8469 L 45.4422,22.2905\" style=\"fill:none;fill-rule:evenodd;stroke:#E5E5E5;stroke-width:2px;stroke-linecap:butt;stroke-linejoin:miter;stroke-opacity:1\"/>\n",
       "<path class=\"bond-0\" d=\"M 45.5677,28.5019 L 48.203,23.1861\" style=\"fill:none;fill-rule:evenodd;stroke:#E5E5E5;stroke-width:2px;stroke-linecap:butt;stroke-linejoin:miter;stroke-opacity:1\"/>\n",
       "<path class=\"bond-0\" d=\"M 47.9521,30.157 L 50.9639,24.0818\" style=\"fill:none;fill-rule:evenodd;stroke:#E5E5E5;stroke-width:2px;stroke-linecap:butt;stroke-linejoin:miter;stroke-opacity:1\"/>\n",
       "<path class=\"bond-0\" d=\"M 50.3364,31.812 L 53.7247,24.9774\" style=\"fill:none;fill-rule:evenodd;stroke:#E5E5E5;stroke-width:2px;stroke-linecap:butt;stroke-linejoin:miter;stroke-opacity:1\"/>\n",
       "<path class=\"bond-0\" d=\"M 52.7208,33.4671 L 56.4855,25.8731\" style=\"fill:none;fill-rule:evenodd;stroke:#E5E5E5;stroke-width:2px;stroke-linecap:butt;stroke-linejoin:miter;stroke-opacity:1\"/>\n",
       "<path class=\"bond-1\" d=\"M 61.1734,39.7684 L 62.291,57.3842\" style=\"fill:none;fill-rule:evenodd;stroke:#0000FF;stroke-width:2px;stroke-linecap:butt;stroke-linejoin:miter;stroke-opacity:1\"/>\n",
       "<path class=\"bond-1\" d=\"M 62.291,57.3842 L 63.4086,75\" style=\"fill:none;fill-rule:evenodd;stroke:#000000;stroke-width:2px;stroke-linecap:butt;stroke-linejoin:miter;stroke-opacity:1\"/>\n",
       "<path class=\"bond-2\" d=\"M 61.0614,71.4713 L 46.7165,81.0129\" style=\"fill:none;fill-rule:evenodd;stroke:#000000;stroke-width:2px;stroke-linecap:butt;stroke-linejoin:miter;stroke-opacity:1\"/>\n",
       "<path class=\"bond-2\" d=\"M 46.7165,81.0129 L 32.3716,90.5546\" style=\"fill:none;fill-rule:evenodd;stroke:#FF0000;stroke-width:2px;stroke-linecap:butt;stroke-linejoin:miter;stroke-opacity:1\"/>\n",
       "<path class=\"bond-2\" d=\"M 65.7557,78.5287 L 51.4108,88.0703\" style=\"fill:none;fill-rule:evenodd;stroke:#000000;stroke-width:2px;stroke-linecap:butt;stroke-linejoin:miter;stroke-opacity:1\"/>\n",
       "<path class=\"bond-2\" d=\"M 51.4108,88.0703 L 37.0658,97.6119\" style=\"fill:none;fill-rule:evenodd;stroke:#FF0000;stroke-width:2px;stroke-linecap:butt;stroke-linejoin:miter;stroke-opacity:1\"/>\n",
       "<path class=\"bond-3\" d=\"M 63.4086,75 L 101.379,93.8236\" style=\"fill:none;fill-rule:evenodd;stroke:#000000;stroke-width:2px;stroke-linecap:butt;stroke-linejoin:miter;stroke-opacity:1\"/>\n",
       "<path class=\"bond-4\" d=\"M 101.379,93.8236 L 133.367,72.5464\" style=\"fill:none;fill-rule:evenodd;stroke:#E5E5E5;stroke-width:2px;stroke-linecap:butt;stroke-linejoin:miter;stroke-opacity:1\"/>\n",
       "<path class=\"bond-5\" d=\"M 101.379,93.8236 L 103.614,129.055\" style=\"fill:none;fill-rule:evenodd;stroke:#E5E5E5;stroke-width:2px;stroke-linecap:butt;stroke-linejoin:miter;stroke-opacity:1\"/>\n",
       "<text dominant-baseline=\"central\" style=\"font-size:14px;font-style:normal;font-weight:normal;fill-opacity:1;stroke:none;font-family:sans-serif;fill:#7F7F7F\" text-anchor=\"end\" x=\"24.641\" y=\"16.0005\"><tspan>H*</tspan></text>\n",
       "<text dominant-baseline=\"central\" style=\"font-size:14px;font-style:normal;font-weight:normal;fill-opacity:1;stroke:none;font-family:sans-serif;fill:#0000FF\" text-anchor=\"start\" x=\"56.0158\" y=\"34.8241\"><tspan>NH</tspan></text>\n",
       "<text dominant-baseline=\"central\" style=\"font-size:14px;font-style:normal;font-weight:normal;fill-opacity:1;stroke:none;font-family:sans-serif;fill:#FF0000\" text-anchor=\"end\" x=\"33.3061\" y=\"100.59\"><tspan>O</tspan></text>\n",
       "<text dominant-baseline=\"central\" style=\"font-size:14px;font-style:normal;font-weight:normal;fill-opacity:1;stroke:none;font-family:sans-serif;fill:#7F7F7F\" text-anchor=\"start\" x=\"134.78\" y=\"72.4714\"><tspan>*</tspan></text>\n",
       "<text dominant-baseline=\"central\" style=\"font-size:14px;font-style:normal;font-weight:normal;fill-opacity:1;stroke:none;font-family:sans-serif;fill:#7F7F7F\" text-anchor=\"start\" x=\"102.176\" y=\"138.237\"><tspan>*</tspan></text>\n",
       "</svg>"
      ],
      "text/plain": [
       "<IPython.core.display.SVG object>"
      ]
     },
     "metadata": {},
     "output_type": "display_data"
    },
    {
     "name": "stdout",
     "output_type": "stream",
     "text": [
      "found the bit in compound 1 aka RWJ-51084\n",
      "it is likely it is a positive feature.\n"
     ]
    },
    {
     "data": {
      "image/svg+xml": [
       "<svg baseProfile=\"full\" height=\"150px\" version=\"1.1\" viewBox=\"0 0 150 150\" width=\"150px\" xml:space=\"preserve\" xmlns=\"http://www.w3.org/2000/svg\" xmlns:rdkit=\"http://www.rdkit.org/xml\" xmlns:xlink=\"http://www.w3.org/1999/xlink\">\n",
       "<!-- END OF HEADER -->\n",
       "<rect height=\"150\" style=\"opacity:1.0;fill:#FFFFFF;stroke:none\" width=\"150\" x=\"0\" y=\"0\"> </rect>\n",
       "<ellipse cx=\"79.4628\" cy=\"88.6504\" rx=\"14.1254\" ry=\"14.1254\" style=\"fill:#9999E5;fill-rule:evenodd;stroke:#9999E5;stroke-width:2px;stroke-linecap:butt;stroke-linejoin:miter;stroke-opacity:1\"/>\n",
       "<path class=\"bond-0\" d=\"M 73.3349,90.7592 L 73.6625,91.5409\" style=\"fill:none;fill-rule:evenodd;stroke:#E5E5E5;stroke-width:2px;stroke-linecap:butt;stroke-linejoin:miter;stroke-opacity:1\"/>\n",
       "<path class=\"bond-0\" d=\"M 67.2071,92.8681 L 67.8623,94.4314\" style=\"fill:none;fill-rule:evenodd;stroke:#E5E5E5;stroke-width:2px;stroke-linecap:butt;stroke-linejoin:miter;stroke-opacity:1\"/>\n",
       "<path class=\"bond-0\" d=\"M 61.0793,94.9769 L 62.0621,97.3219\" style=\"fill:none;fill-rule:evenodd;stroke:#E5E5E5;stroke-width:2px;stroke-linecap:butt;stroke-linejoin:miter;stroke-opacity:1\"/>\n",
       "<path class=\"bond-0\" d=\"M 54.9514,97.0858 L 56.2619,100.212\" style=\"fill:none;fill-rule:evenodd;stroke:#E5E5E5;stroke-width:2px;stroke-linecap:butt;stroke-linejoin:miter;stroke-opacity:1\"/>\n",
       "<path class=\"bond-0\" d=\"M 48.8236,99.1946 L 50.4616,103.103\" style=\"fill:none;fill-rule:evenodd;stroke:#E5E5E5;stroke-width:2px;stroke-linecap:butt;stroke-linejoin:miter;stroke-opacity:1\"/>\n",
       "<path class=\"bond-0\" d=\"M 42.6957,101.303 L 44.6614,105.993\" style=\"fill:none;fill-rule:evenodd;stroke:#E5E5E5;stroke-width:2px;stroke-linecap:butt;stroke-linejoin:miter;stroke-opacity:1\"/>\n",
       "<path class=\"bond-0\" d=\"M 36.5679,103.412 L 38.8612,108.884\" style=\"fill:none;fill-rule:evenodd;stroke:#E5E5E5;stroke-width:2px;stroke-linecap:butt;stroke-linejoin:miter;stroke-opacity:1\"/>\n",
       "<path class=\"bond-0\" d=\"M 30.4401,105.521 L 33.0609,111.774\" style=\"fill:none;fill-rule:evenodd;stroke:#E5E5E5;stroke-width:2px;stroke-linecap:butt;stroke-linejoin:miter;stroke-opacity:1\"/>\n",
       "<path class=\"bond-0\" d=\"M 24.3122,107.63 L 27.2607,114.665\" style=\"fill:none;fill-rule:evenodd;stroke:#E5E5E5;stroke-width:2px;stroke-linecap:butt;stroke-linejoin:miter;stroke-opacity:1\"/>\n",
       "<path class=\"bond-0\" d=\"M 18.1844,109.739 L 21.4605,117.555\" style=\"fill:none;fill-rule:evenodd;stroke:#E5E5E5;stroke-width:2px;stroke-linecap:butt;stroke-linejoin:miter;stroke-opacity:1\"/>\n",
       "<path class=\"bond-1\" d=\"M 79.4628,88.6504 L 86.8887,30.3606\" style=\"fill:none;fill-rule:evenodd;stroke:#E5E5E5;stroke-width:3px;stroke-linecap:butt;stroke-linejoin:miter;stroke-opacity:1\"/>\n",
       "<path class=\"bond-2\" d=\"M 79.4628,88.6504 L 130.178,127.229\" style=\"fill:none;fill-rule:evenodd;stroke:#E5E5E5;stroke-width:3px;stroke-linecap:butt;stroke-linejoin:miter;stroke-opacity:1\"/>\n",
       "<text dominant-baseline=\"central\" style=\"font-size:23px;font-style:normal;font-weight:normal;fill-opacity:1;stroke:none;font-family:sans-serif;fill:#7F7F7F\" text-anchor=\"end\" x=\"17.4682\" y=\"119.482\"><tspan>*</tspan></text>\n",
       "<text dominant-baseline=\"central\" style=\"font-size:23px;font-style:normal;font-weight:normal;fill-opacity:1;stroke:none;font-family:sans-serif;fill:#7F7F7F\" text-anchor=\"start\" x=\"85.2456\" y=\"22.1207\"><tspan>*H</tspan></text>\n",
       "<text dominant-baseline=\"central\" style=\"font-size:23px;font-style:normal;font-weight:normal;fill-opacity:1;stroke:none;font-family:sans-serif;fill:#7F7F7F\" text-anchor=\"start\" x=\"132.532\" y=\"134.942\"><tspan>*</tspan></text>\n",
       "</svg>"
      ],
      "text/plain": [
       "<IPython.core.display.SVG object>"
      ]
     },
     "metadata": {},
     "output_type": "display_data"
    },
    {
     "name": "stdout",
     "output_type": "stream",
     "text": [
      "found the bit in compound 1 aka RWJ-51084\n",
      "it is likely it is a positive feature.\n"
     ]
    },
    {
     "data": {
      "image/svg+xml": [
       "<svg baseProfile=\"full\" height=\"150px\" version=\"1.1\" viewBox=\"0 0 150 150\" width=\"150px\" xml:space=\"preserve\" xmlns=\"http://www.w3.org/2000/svg\" xmlns:rdkit=\"http://www.rdkit.org/xml\" xmlns:xlink=\"http://www.w3.org/1999/xlink\">\n",
       "<!-- END OF HEADER -->\n",
       "<rect height=\"150\" style=\"opacity:1.0;fill:#FFFFFF;stroke:none\" width=\"150\" x=\"0\" y=\"0\"> </rect>\n",
       "<ellipse cx=\"44.6065\" cy=\"121.63\" rx=\"8.10342\" ry=\"8.10342\" style=\"fill:#E5E533;fill-rule:evenodd;stroke:#E5E533;stroke-width:2px;stroke-linecap:butt;stroke-linejoin:miter;stroke-opacity:1\"/>\n",
       "<ellipse cx=\"75.3055\" cy=\"95.1877\" rx=\"8.10342\" ry=\"8.10342\" style=\"fill:#9999E5;fill-rule:evenodd;stroke:#9999E5;stroke-width:2px;stroke-linecap:butt;stroke-linejoin:miter;stroke-opacity:1\"/>\n",
       "<ellipse cx=\"115.498\" cy=\"100.308\" rx=\"8.10342\" ry=\"8.10342\" style=\"fill:#E5E533;fill-rule:evenodd;stroke:#E5E533;stroke-width:2px;stroke-linecap:butt;stroke-linejoin:miter;stroke-opacity:1\"/>\n",
       "<ellipse cx=\"59.6438\" cy=\"57.82\" rx=\"8.10342\" ry=\"8.10342\" style=\"fill:#E5E533;fill-rule:evenodd;stroke:#E5E533;stroke-width:2px;stroke-linecap:butt;stroke-linejoin:miter;stroke-opacity:1\"/>\n",
       "<path class=\"bond-0\" d=\"M 11.0226,105.983 L 36.6509,121.541\" style=\"fill:none;fill-rule:evenodd;stroke:#E5E5E5;stroke-width:2px;stroke-linecap:butt;stroke-linejoin:miter;stroke-opacity:1\"/>\n",
       "<path class=\"bond-0\" d=\"M 15.2277,99.0557 L 40.856,114.614\" style=\"fill:none;fill-rule:evenodd;stroke:#E5E5E5;stroke-width:2px;stroke-linecap:butt;stroke-linejoin:miter;stroke-opacity:1;stroke-dasharray:6,6\"/>\n",
       "<path class=\"bond-1\" d=\"M 50.4595,116.589 L 62.8825,105.888\" style=\"fill:none;fill-rule:evenodd;stroke:#0000FF;stroke-width:2px;stroke-linecap:butt;stroke-linejoin:miter;stroke-opacity:1\"/>\n",
       "<path class=\"bond-1\" d=\"M 62.8825,105.888 L 75.3055,95.1877\" style=\"fill:none;fill-rule:evenodd;stroke:#000000;stroke-width:2px;stroke-linecap:butt;stroke-linejoin:miter;stroke-opacity:1\"/>\n",
       "<path class=\"bond-1\" d=\"M 48.8979,107.239 L 57.594,99.7484\" style=\"fill:none;fill-rule:evenodd;stroke:#0000FF;stroke-width:2px;stroke-linecap:butt;stroke-linejoin:miter;stroke-opacity:1;stroke-dasharray:6,6\"/>\n",
       "<path class=\"bond-1\" d=\"M 57.594,99.7484 L 66.2901,92.2581\" style=\"fill:none;fill-rule:evenodd;stroke:#000000;stroke-width:2px;stroke-linecap:butt;stroke-linejoin:miter;stroke-opacity:1;stroke-dasharray:6,6\"/>\n",
       "<path class=\"bond-2\" d=\"M 75.3055,95.1877 L 115.498,100.308\" style=\"fill:none;fill-rule:evenodd;stroke:#000000;stroke-width:2px;stroke-linecap:butt;stroke-linejoin:miter;stroke-opacity:1\"/>\n",
       "<path class=\"bond-2\" d=\"M 80.3103,103.994 L 108.445,107.578\" style=\"fill:none;fill-rule:evenodd;stroke:#000000;stroke-width:2px;stroke-linecap:butt;stroke-linejoin:miter;stroke-opacity:1;stroke-dasharray:6,6\"/>\n",
       "<path class=\"bond-6\" d=\"M 75.3055,95.1877 L 59.6438,57.82\" style=\"fill:none;fill-rule:evenodd;stroke:#000000;stroke-width:2px;stroke-linecap:butt;stroke-linejoin:miter;stroke-opacity:1\"/>\n",
       "<path class=\"bond-6\" d=\"M 80.4298,86.4502 L 69.4666,60.2928\" style=\"fill:none;fill-rule:evenodd;stroke:#000000;stroke-width:2px;stroke-linecap:butt;stroke-linejoin:miter;stroke-opacity:1;stroke-dasharray:6,6\"/>\n",
       "<path class=\"bond-3\" d=\"M 118.723,102.761 L 140.1,74.6593\" style=\"fill:none;fill-rule:evenodd;stroke:#E5E5E5;stroke-width:2px;stroke-linecap:butt;stroke-linejoin:miter;stroke-opacity:1\"/>\n",
       "<path class=\"bond-3\" d=\"M 112.273,97.8551 L 133.65,69.7532\" style=\"fill:none;fill-rule:evenodd;stroke:#E5E5E5;stroke-width:2px;stroke-linecap:butt;stroke-linejoin:miter;stroke-opacity:1;stroke-dasharray:6,6\"/>\n",
       "<path class=\"bond-4\" d=\"M 77.7961,27.2651 L 56.4191,55.367\" style=\"fill:none;fill-rule:evenodd;stroke:#E5E5E5;stroke-width:2px;stroke-linecap:butt;stroke-linejoin:miter;stroke-opacity:1\"/>\n",
       "<path class=\"bond-4\" d=\"M 84.2455,32.1712 L 62.8685,60.2731\" style=\"fill:none;fill-rule:evenodd;stroke:#E5E5E5;stroke-width:2px;stroke-linecap:butt;stroke-linejoin:miter;stroke-opacity:1;stroke-dasharray:6,6\"/>\n",
       "<path class=\"bond-5\" d=\"M 59.309,53.7822 L 22.0839,56.8686\" style=\"fill:none;fill-rule:evenodd;stroke:#E5E5E5;stroke-width:2px;stroke-linecap:butt;stroke-linejoin:miter;stroke-opacity:1\"/>\n",
       "<path class=\"bond-5\" d=\"M 59.9786,61.8579 L 22.7535,64.9444\" style=\"fill:none;fill-rule:evenodd;stroke:#E5E5E5;stroke-width:2px;stroke-linecap:butt;stroke-linejoin:miter;stroke-opacity:1;stroke-dasharray:6,6\"/>\n",
       "<text dominant-baseline=\"central\" style=\"font-size:13px;font-style:normal;font-weight:normal;fill-opacity:1;stroke:none;font-family:sans-serif;fill:#7F7F7F\" text-anchor=\"end\" x=\"11.7746\" y=\"102.631\"><tspan>*</tspan></text>\n",
       "<text dominant-baseline=\"central\" style=\"font-size:13px;font-style:normal;font-weight:normal;fill-opacity:1;stroke:none;font-family:sans-serif;fill:#0000FF\" text-anchor=\"middle\" x=\"44.6065\" y=\"123.656\"><tspan>N</tspan></text>\n",
       "<text dominant-baseline=\"central\" style=\"font-size:13px;font-style:normal;font-weight:normal;fill-opacity:1;stroke:none;font-family:sans-serif;fill:#7F7F7F\" text-anchor=\"start\" x=\"138.225\" y=\"70.0866\"><tspan>*</tspan></text>\n",
       "<text dominant-baseline=\"central\" style=\"font-size:13px;font-style:normal;font-weight:normal;fill-opacity:1;stroke:none;font-family:sans-serif;fill:#7F7F7F\" text-anchor=\"start\" x=\"82.3714\" y=\"27.5985\"><tspan>*</tspan></text>\n",
       "<text dominant-baseline=\"central\" style=\"font-size:13px;font-style:normal;font-weight:normal;fill-opacity:1;stroke:none;font-family:sans-serif;fill:#7F7F7F\" text-anchor=\"end\" x=\"21.0682\" y=\"63.1938\"><tspan>*</tspan></text>\n",
       "</svg>"
      ],
      "text/plain": [
       "<IPython.core.display.SVG object>"
      ]
     },
     "metadata": {},
     "output_type": "display_data"
    },
    {
     "name": "stdout",
     "output_type": "stream",
     "text": [
      "found the bit in compound 14 aka MODIMELANOTIDE\n",
      "it is likely to be a negative feature.\n"
     ]
    },
    {
     "data": {
      "image/svg+xml": [
       "<svg baseProfile=\"full\" height=\"150px\" version=\"1.1\" viewBox=\"0 0 150 150\" width=\"150px\" xml:space=\"preserve\" xmlns=\"http://www.w3.org/2000/svg\" xmlns:rdkit=\"http://www.rdkit.org/xml\" xmlns:xlink=\"http://www.w3.org/1999/xlink\">\n",
       "<!-- END OF HEADER -->\n",
       "<rect height=\"150\" style=\"opacity:1.0;fill:#FFFFFF;stroke:none\" width=\"150\" x=\"0\" y=\"0\"> </rect>\n",
       "<ellipse cx=\"59.8684\" cy=\"69.0959\" rx=\"9.18059\" ry=\"9.18059\" style=\"fill:#E5E533;fill-rule:evenodd;stroke:#E5E533;stroke-width:2px;stroke-linecap:butt;stroke-linejoin:miter;stroke-opacity:1\"/>\n",
       "<ellipse cx=\"71.35\" cy=\"24.6521\" rx=\"9.18059\" ry=\"9.18059\" style=\"fill:#E5E533;fill-rule:evenodd;stroke:#E5E533;stroke-width:2px;stroke-linecap:butt;stroke-linejoin:miter;stroke-opacity:1\"/>\n",
       "<ellipse cx=\"117.167\" cy=\"21.8378\" rx=\"9.18059\" ry=\"9.18059\" style=\"fill:#E5E533;fill-rule:evenodd;stroke:#E5E533;stroke-width:2px;stroke-linecap:butt;stroke-linejoin:miter;stroke-opacity:1\"/>\n",
       "<ellipse cx=\"134.001\" cy=\"64.5423\" rx=\"9.18059\" ry=\"9.18059\" style=\"fill:#E5E533;fill-rule:evenodd;stroke:#E5E533;stroke-width:2px;stroke-linecap:butt;stroke-linejoin:miter;stroke-opacity:1\"/>\n",
       "<ellipse cx=\"98.589\" cy=\"93.7495\" rx=\"9.18059\" ry=\"9.18059\" style=\"fill:#9999E5;fill-rule:evenodd;stroke:#9999E5;stroke-width:2px;stroke-linecap:butt;stroke-linejoin:miter;stroke-opacity:1\"/>\n",
       "<path class=\"bond-0\" d=\"M 12.5494,119.973 L 11.6414,119.838\" style=\"fill:none;fill-rule:evenodd;stroke:#E5E5E5;stroke-width:2px;stroke-linecap:butt;stroke-linejoin:miter;stroke-opacity:1\"/>\n",
       "<path class=\"bond-0\" d=\"M 13.5665,116.266 L 11.7505,115.995\" style=\"fill:none;fill-rule:evenodd;stroke:#E5E5E5;stroke-width:2px;stroke-linecap:butt;stroke-linejoin:miter;stroke-opacity:1\"/>\n",
       "<path class=\"bond-0\" d=\"M 14.5837,112.559 L 11.8597,112.152\" style=\"fill:none;fill-rule:evenodd;stroke:#E5E5E5;stroke-width:2px;stroke-linecap:butt;stroke-linejoin:miter;stroke-opacity:1\"/>\n",
       "<path class=\"bond-0\" d=\"M 15.6009,108.852 L 11.9688,108.31\" style=\"fill:none;fill-rule:evenodd;stroke:#E5E5E5;stroke-width:2px;stroke-linecap:butt;stroke-linejoin:miter;stroke-opacity:1\"/>\n",
       "<path class=\"bond-0\" d=\"M 16.6181,105.144 L 12.078,104.467\" style=\"fill:none;fill-rule:evenodd;stroke:#E5E5E5;stroke-width:2px;stroke-linecap:butt;stroke-linejoin:miter;stroke-opacity:1\"/>\n",
       "<path class=\"bond-0\" d=\"M 17.6352,101.437 L 12.1872,100.624\" style=\"fill:none;fill-rule:evenodd;stroke:#E5E5E5;stroke-width:2px;stroke-linecap:butt;stroke-linejoin:miter;stroke-opacity:1\"/>\n",
       "<path class=\"bond-0\" d=\"M 18.6524,97.7297 L 12.2963,96.7815\" style=\"fill:none;fill-rule:evenodd;stroke:#E5E5E5;stroke-width:2px;stroke-linecap:butt;stroke-linejoin:miter;stroke-opacity:1\"/>\n",
       "<path class=\"bond-0\" d=\"M 19.6696,94.0225 L 12.4055,92.9388\" style=\"fill:none;fill-rule:evenodd;stroke:#E5E5E5;stroke-width:2px;stroke-linecap:butt;stroke-linejoin:miter;stroke-opacity:1\"/>\n",
       "<path class=\"bond-0\" d=\"M 20.6868,90.3152 L 12.5147,89.096\" style=\"fill:none;fill-rule:evenodd;stroke:#E5E5E5;stroke-width:2px;stroke-linecap:butt;stroke-linejoin:miter;stroke-opacity:1\"/>\n",
       "<path class=\"bond-0\" d=\"M 21.7039,86.6079 L 12.6238,85.2533\" style=\"fill:none;fill-rule:evenodd;stroke:#E5E5E5;stroke-width:2px;stroke-linecap:butt;stroke-linejoin:miter;stroke-opacity:1\"/>\n",
       "<path class=\"bond-1\" d=\"M 17.1639,85.9306 L 59.8684,69.0959\" style=\"fill:none;fill-rule:evenodd;stroke:#000000;stroke-width:2px;stroke-linecap:butt;stroke-linejoin:miter;stroke-opacity:1\"/>\n",
       "<path class=\"bond-2\" d=\"M 59.8684,69.0959 L 71.35,24.6521\" style=\"fill:none;fill-rule:evenodd;stroke:#000000;stroke-width:2px;stroke-linecap:butt;stroke-linejoin:miter;stroke-opacity:1\"/>\n",
       "<path class=\"bond-2\" d=\"M 70.4794,64.7257 L 78.5165,33.615\" style=\"fill:none;fill-rule:evenodd;stroke:#000000;stroke-width:2px;stroke-linecap:butt;stroke-linejoin:miter;stroke-opacity:1\"/>\n",
       "<path class=\"bond-6\" d=\"M 59.8684,69.0959 L 75.9132,79.3117\" style=\"fill:none;fill-rule:evenodd;stroke:#000000;stroke-width:2px;stroke-linecap:butt;stroke-linejoin:miter;stroke-opacity:1\"/>\n",
       "<path class=\"bond-6\" d=\"M 75.9132,79.3117 L 91.958,89.5275\" style=\"fill:none;fill-rule:evenodd;stroke:#0000FF;stroke-width:2px;stroke-linecap:butt;stroke-linejoin:miter;stroke-opacity:1\"/>\n",
       "<path class=\"bond-3\" d=\"M 71.35,24.6521 L 110.536,22.2451\" style=\"fill:none;fill-rule:evenodd;stroke:#E5E5E5;stroke-width:2px;stroke-linecap:butt;stroke-linejoin:miter;stroke-opacity:1\"/>\n",
       "<path class=\"bond-4\" d=\"M 120.182,29.4883 L 127.092,47.0153\" style=\"fill:none;fill-rule:evenodd;stroke:#0000FF;stroke-width:2px;stroke-linecap:butt;stroke-linejoin:miter;stroke-opacity:1\"/>\n",
       "<path class=\"bond-4\" d=\"M 127.092,47.0153 L 134.001,64.5423\" style=\"fill:none;fill-rule:evenodd;stroke:#000000;stroke-width:2px;stroke-linecap:butt;stroke-linejoin:miter;stroke-opacity:1\"/>\n",
       "<path class=\"bond-5\" d=\"M 134.001,64.5423 L 119.611,76.4113\" style=\"fill:none;fill-rule:evenodd;stroke:#000000;stroke-width:2px;stroke-linecap:butt;stroke-linejoin:miter;stroke-opacity:1\"/>\n",
       "<path class=\"bond-5\" d=\"M 119.611,76.4113 L 105.22,88.2803\" style=\"fill:none;fill-rule:evenodd;stroke:#0000FF;stroke-width:2px;stroke-linecap:butt;stroke-linejoin:miter;stroke-opacity:1\"/>\n",
       "<path class=\"bond-5\" d=\"M 123.843,61.0206 L 113.769,69.3289\" style=\"fill:none;fill-rule:evenodd;stroke:#000000;stroke-width:2px;stroke-linecap:butt;stroke-linejoin:miter;stroke-opacity:1\"/>\n",
       "<path class=\"bond-5\" d=\"M 113.769,69.3289 L 103.696,77.6372\" style=\"fill:none;fill-rule:evenodd;stroke:#0000FF;stroke-width:2px;stroke-linecap:butt;stroke-linejoin:miter;stroke-opacity:1\"/>\n",
       "<text dominant-baseline=\"central\" style=\"font-size:15px;font-style:normal;font-weight:normal;fill-opacity:1;stroke:none;font-family:sans-serif;fill:#7F7F7F\" text-anchor=\"start\" x=\"8.34828\" y=\"133.626\"><tspan>*H</tspan></text>\n",
       "<text dominant-baseline=\"central\" style=\"font-size:15px;font-style:normal;font-weight:normal;fill-opacity:1;stroke:none;font-family:sans-serif;fill:#0000FF\" text-anchor=\"start\" x=\"112.066\" y=\"24.1329\"><tspan>NH</tspan></text>\n",
       "<text dominant-baseline=\"central\" style=\"font-size:15px;font-style:normal;font-weight:normal;fill-opacity:1;stroke:none;font-family:sans-serif;fill:#0000FF\" text-anchor=\"middle\" x=\"98.589\" y=\"96.0446\"><tspan>N</tspan></text>\n",
       "</svg>"
      ],
      "text/plain": [
       "<IPython.core.display.SVG object>"
      ]
     },
     "metadata": {},
     "output_type": "display_data"
    },
    {
     "name": "stdout",
     "output_type": "stream",
     "text": [
      "found the bit in compound 1 aka RWJ-51084\n",
      "it is likely it is a positive feature.\n"
     ]
    },
    {
     "data": {
      "image/svg+xml": [
       "<svg baseProfile=\"full\" height=\"150px\" version=\"1.1\" viewBox=\"0 0 150 150\" width=\"150px\" xml:space=\"preserve\" xmlns=\"http://www.w3.org/2000/svg\" xmlns:rdkit=\"http://www.rdkit.org/xml\" xmlns:xlink=\"http://www.w3.org/1999/xlink\">\n",
       "<!-- END OF HEADER -->\n",
       "<rect height=\"150\" style=\"opacity:1.0;fill:#FFFFFF;stroke:none\" width=\"150\" x=\"0\" y=\"0\"> </rect>\n",
       "<ellipse cx=\"58.6875\" cy=\"81.0823\" rx=\"5.13995\" ry=\"5.13995\" style=\"fill:#E5E533;fill-rule:evenodd;stroke:#E5E533;stroke-width:2px;stroke-linecap:butt;stroke-linejoin:miter;stroke-opacity:1\"/>\n",
       "<ellipse cx=\"80.6562\" cy=\"94.4185\" rx=\"5.13995\" ry=\"5.13995\" style=\"fill:#9999E5;fill-rule:evenodd;stroke:#9999E5;stroke-width:2px;stroke-linecap:butt;stroke-linejoin:miter;stroke-opacity:1\"/>\n",
       "<ellipse cx=\"100.128\" cy=\"77.6462\" rx=\"5.13995\" ry=\"5.13995\" style=\"fill:#E5E533;fill-rule:evenodd;stroke:#E5E533;stroke-width:2px;stroke-linecap:butt;stroke-linejoin:miter;stroke-opacity:1\"/>\n",
       "<ellipse cx=\"125.622\" cy=\"80.8941\" rx=\"5.13995\" ry=\"5.13995\" style=\"fill:#E5E533;fill-rule:evenodd;stroke:#E5E533;stroke-width:2px;stroke-linecap:butt;stroke-linejoin:miter;stroke-opacity:1\"/>\n",
       "<ellipse cx=\"90.1942\" cy=\"53.9442\" rx=\"5.13995\" ry=\"5.13995\" style=\"fill:#E5E533;fill-rule:evenodd;stroke:#E5E533;stroke-width:2px;stroke-linecap:butt;stroke-linejoin:miter;stroke-opacity:1\"/>\n",
       "<ellipse cx=\"64.5824\" cy=\"56.0677\" rx=\"5.13995\" ry=\"5.13995\" style=\"fill:#E5E533;fill-rule:evenodd;stroke:#E5E533;stroke-width:2px;stroke-linecap:butt;stroke-linejoin:miter;stroke-opacity:1\"/>\n",
       "<path class=\"bond-0\" d=\"M 18.2437,78.281 L 33.4295,93.0619 L 36.5414,88.971 Z\" style=\"fill:#E5E5E5;fill-rule:evenodd;fill-opacity=1;stroke:#E5E5E5;stroke-width:2px;stroke-linecap:butt;stroke-linejoin:miter;stroke-opacity:1;\"/>\n",
       "<path class=\"bond-1\" d=\"M 32.4361,90.6916 L 29.7339,111.902\" style=\"fill:none;fill-rule:evenodd;stroke:#E5E5E5;stroke-width:2px;stroke-linecap:butt;stroke-linejoin:miter;stroke-opacity:1\"/>\n",
       "<path class=\"bond-1\" d=\"M 37.5348,91.3412 L 34.8327,112.552\" style=\"fill:none;fill-rule:evenodd;stroke:#E5E5E5;stroke-width:2px;stroke-linecap:butt;stroke-linejoin:miter;stroke-opacity:1\"/>\n",
       "<path class=\"bond-2\" d=\"M 34.9855,91.0164 L 58.6875,81.0823\" style=\"fill:none;fill-rule:evenodd;stroke:#000000;stroke-width:2px;stroke-linecap:butt;stroke-linejoin:miter;stroke-opacity:1\"/>\n",
       "<path class=\"bond-3\" d=\"M 58.6875,81.0823 L 67.8156,86.6235\" style=\"fill:none;fill-rule:evenodd;stroke:#000000;stroke-width:2px;stroke-linecap:butt;stroke-linejoin:miter;stroke-opacity:1\"/>\n",
       "<path class=\"bond-3\" d=\"M 67.8156,86.6235 L 76.9436,92.1648\" style=\"fill:none;fill-rule:evenodd;stroke:#0000FF;stroke-width:2px;stroke-linecap:butt;stroke-linejoin:miter;stroke-opacity:1\"/>\n",
       "<path class=\"bond-3\" d=\"M 64.0932,78.3509 L 70.4828,82.2298\" style=\"fill:none;fill-rule:evenodd;stroke:#000000;stroke-width:2px;stroke-linecap:butt;stroke-linejoin:miter;stroke-opacity:1\"/>\n",
       "<path class=\"bond-3\" d=\"M 70.4828,82.2298 L 76.8725,86.1087\" style=\"fill:none;fill-rule:evenodd;stroke:#0000FF;stroke-width:2px;stroke-linecap:butt;stroke-linejoin:miter;stroke-opacity:1\"/>\n",
       "<path class=\"bond-9\" d=\"M 58.6875,81.0823 L 61.1303,70.7167\" style=\"fill:none;fill-rule:evenodd;stroke:#000000;stroke-width:2px;stroke-linecap:butt;stroke-linejoin:miter;stroke-opacity:1\"/>\n",
       "<path class=\"bond-9\" d=\"M 61.1303,70.7167 L 63.573,60.351\" style=\"fill:none;fill-rule:evenodd;stroke:#CCCC00;stroke-width:2px;stroke-linecap:butt;stroke-linejoin:miter;stroke-opacity:1\"/>\n",
       "<path class=\"bond-4\" d=\"M 84.3687,91.2208 L 92.2485,84.4335\" style=\"fill:none;fill-rule:evenodd;stroke:#0000FF;stroke-width:2px;stroke-linecap:butt;stroke-linejoin:miter;stroke-opacity:1\"/>\n",
       "<path class=\"bond-4\" d=\"M 92.2485,84.4335 L 100.128,77.6462\" style=\"fill:none;fill-rule:evenodd;stroke:#000000;stroke-width:2px;stroke-linecap:butt;stroke-linejoin:miter;stroke-opacity:1\"/>\n",
       "<path class=\"bond-5\" d=\"M 100.128,77.6462 L 125.622,80.8941\" style=\"fill:none;fill-rule:evenodd;stroke:#000000;stroke-width:2px;stroke-linecap:butt;stroke-linejoin:miter;stroke-opacity:1\"/>\n",
       "<path class=\"bond-10\" d=\"M 100.128,77.6462 L 90.1942,53.9442\" style=\"fill:none;fill-rule:evenodd;stroke:#000000;stroke-width:2px;stroke-linecap:butt;stroke-linejoin:miter;stroke-opacity:1\"/>\n",
       "<path class=\"bond-10\" d=\"M 93.8978,76.0778 L 86.9439,59.4863\" style=\"fill:none;fill-rule:evenodd;stroke:#000000;stroke-width:2px;stroke-linecap:butt;stroke-linejoin:miter;stroke-opacity:1\"/>\n",
       "<path class=\"bond-6\" d=\"M 127.667,82.45 L 141.227,64.6252\" style=\"fill:none;fill-rule:evenodd;stroke:#E5E5E5;stroke-width:2px;stroke-linecap:butt;stroke-linejoin:miter;stroke-opacity:1\"/>\n",
       "<path class=\"bond-6\" d=\"M 123.577,79.3381 L 137.136,61.5133\" style=\"fill:none;fill-rule:evenodd;stroke:#E5E5E5;stroke-width:2px;stroke-linecap:butt;stroke-linejoin:miter;stroke-opacity:1;stroke-dasharray:6,6\"/>\n",
       "<path class=\"bond-7\" d=\"M 103.754,36.1194 L 90.1942,53.9442\" style=\"fill:none;fill-rule:evenodd;stroke:#E5E5E5;stroke-width:2px;stroke-linecap:butt;stroke-linejoin:miter;stroke-opacity:1\"/>\n",
       "<path class=\"bond-8\" d=\"M 90.1942,53.9442 L 68.0121,55.7834\" style=\"fill:none;fill-rule:evenodd;stroke:#E5E5E5;stroke-width:2px;stroke-linecap:butt;stroke-linejoin:miter;stroke-opacity:1\"/>\n",
       "<text dominant-baseline=\"central\" style=\"font-size:8px;font-style:normal;font-weight:normal;fill-opacity:1;stroke:none;font-family:sans-serif;fill:#7F7F7F\" text-anchor=\"end\" x=\"15.6748\" y=\"76.7419\"><tspan>H*</tspan></text>\n",
       "<text dominant-baseline=\"central\" style=\"font-size:8px;font-style:normal;font-weight:normal;fill-opacity:1;stroke:none;font-family:sans-serif;fill:#7F7F7F\" text-anchor=\"start\" x=\"30.594\" y=\"117.795\"><tspan>*</tspan></text>\n",
       "<text dominant-baseline=\"central\" style=\"font-size:8px;font-style:normal;font-weight:normal;fill-opacity:1;stroke:none;font-family:sans-serif;fill:#0000FF\" text-anchor=\"middle\" x=\"80.6562\" y=\"95.7035\"><tspan>N</tspan></text>\n",
       "<text dominant-baseline=\"central\" style=\"font-size:8px;font-style:normal;font-weight:normal;fill-opacity:1;stroke:none;font-family:sans-serif;fill:#7F7F7F\" text-anchor=\"start\" x=\"140.038\" y=\"61.7248\"><tspan>*</tspan></text>\n",
       "<text dominant-baseline=\"central\" style=\"font-size:8px;font-style:normal;font-weight:normal;fill-opacity:1;stroke:none;font-family:sans-serif;fill:#7F7F7F\" text-anchor=\"start\" x=\"104.61\" y=\"34.7749\"><tspan>*</tspan></text>\n",
       "<text dominant-baseline=\"central\" style=\"font-size:8px;font-style:normal;font-weight:normal;fill-opacity:1;stroke:none;font-family:sans-serif;fill:#CCCC00\" text-anchor=\"end\" x=\"67.1554\" y=\"57.3527\"><tspan>S</tspan></text>\n",
       "</svg>"
      ],
      "text/plain": [
       "<IPython.core.display.SVG object>"
      ]
     },
     "metadata": {},
     "output_type": "display_data"
    },
    {
     "name": "stdout",
     "output_type": "stream",
     "text": [
      "found the bit in compound 85 aka CORTICORELIN OVINE TRIFLUTATE\n",
      "it is likely to be a negative feature.\n"
     ]
    },
    {
     "data": {
      "image/svg+xml": [
       "<svg baseProfile=\"full\" height=\"150px\" version=\"1.1\" viewBox=\"0 0 150 150\" width=\"150px\" xml:space=\"preserve\" xmlns=\"http://www.w3.org/2000/svg\" xmlns:rdkit=\"http://www.rdkit.org/xml\" xmlns:xlink=\"http://www.w3.org/1999/xlink\">\n",
       "<!-- END OF HEADER -->\n",
       "<rect height=\"150\" style=\"opacity:1.0;fill:#FFFFFF;stroke:none\" width=\"150\" x=\"0\" y=\"0\"> </rect>\n",
       "<ellipse cx=\"54.7021\" cy=\"88.4396\" rx=\"5.81321\" ry=\"5.81321\" style=\"fill:#9999E5;fill-rule:evenodd;stroke:#9999E5;stroke-width:2px;stroke-linecap:butt;stroke-linejoin:miter;stroke-opacity:1\"/>\n",
       "<path class=\"bond-0\" d=\"M 110.057,77.784 L 94.5714,57.6996\" style=\"fill:none;fill-rule:evenodd;stroke:#E5E5E5;stroke-width:2px;stroke-linecap:butt;stroke-linejoin:miter;stroke-opacity:1\"/>\n",
       "<path class=\"bond-1\" d=\"M 97.2593,58.8056 L 106.327,36.7707\" style=\"fill:none;fill-rule:evenodd;stroke:#E5E5E5;stroke-width:2px;stroke-linecap:butt;stroke-linejoin:miter;stroke-opacity:1\"/>\n",
       "<path class=\"bond-1\" d=\"M 91.8834,56.5935 L 100.951,34.5585\" style=\"fill:none;fill-rule:evenodd;stroke:#E5E5E5;stroke-width:2px;stroke-linecap:butt;stroke-linejoin:miter;stroke-opacity:1\"/>\n",
       "<path class=\"bond-2\" d=\"M 94.5714,57.6996 L 65.7628,61.5604\" style=\"fill:none;fill-rule:evenodd;stroke:#000000;stroke-width:2px;stroke-linecap:butt;stroke-linejoin:miter;stroke-opacity:1\"/>\n",
       "<path class=\"bond-3\" d=\"M 64.388,64.1377 L 64.9256,64.3589\" style=\"fill:none;fill-rule:evenodd;stroke:#000000;stroke-width:2px;stroke-linecap:butt;stroke-linejoin:miter;stroke-opacity:1\"/>\n",
       "<path class=\"bond-3\" d=\"M 63.0131,66.715 L 64.0883,67.1574\" style=\"fill:none;fill-rule:evenodd;stroke:#000000;stroke-width:2px;stroke-linecap:butt;stroke-linejoin:miter;stroke-opacity:1\"/>\n",
       "<path class=\"bond-3\" d=\"M 61.6382,69.2923 L 63.251,69.956\" style=\"fill:none;fill-rule:evenodd;stroke:#000000;stroke-width:2px;stroke-linecap:butt;stroke-linejoin:miter;stroke-opacity:1\"/>\n",
       "<path class=\"bond-3\" d=\"M 60.2634,71.8696 L 62.4137,72.7545\" style=\"fill:none;fill-rule:evenodd;stroke:#000000;stroke-width:2px;stroke-linecap:butt;stroke-linejoin:miter;stroke-opacity:1\"/>\n",
       "<path class=\"bond-3\" d=\"M 58.8885,74.447 L 61.5764,75.553\" style=\"fill:none;fill-rule:evenodd;stroke:#000000;stroke-width:2px;stroke-linecap:butt;stroke-linejoin:miter;stroke-opacity:1\"/>\n",
       "<path class=\"bond-3\" d=\"M 57.5136,77.0243 L 60.7392,78.3516\" style=\"fill:none;fill-rule:evenodd;stroke:#000000;stroke-width:2px;stroke-linecap:butt;stroke-linejoin:miter;stroke-opacity:1\"/>\n",
       "<path class=\"bond-3\" d=\"M 56.1388,79.6016 L 59.9019,81.1501\" style=\"fill:none;fill-rule:evenodd;stroke:#000000;stroke-width:2px;stroke-linecap:butt;stroke-linejoin:miter;stroke-opacity:1\"/>\n",
       "<path class=\"bond-3\" d=\"M 54.7639,82.1789 L 59.0646,83.9486\" style=\"fill:none;fill-rule:evenodd;stroke:#000000;stroke-width:2px;stroke-linecap:butt;stroke-linejoin:miter;stroke-opacity:1\"/>\n",
       "<path class=\"bond-3\" d=\"M 53.3891,84.7563 L 58.2273,86.7472\" style=\"fill:none;fill-rule:evenodd;stroke:#000000;stroke-width:2px;stroke-linecap:butt;stroke-linejoin:miter;stroke-opacity:1\"/>\n",
       "<path class=\"bond-3\" d=\"M 52.0142,87.3336 L 57.39,89.5457\" style=\"fill:none;fill-rule:evenodd;stroke:#000000;stroke-width:2px;stroke-linecap:butt;stroke-linejoin:miter;stroke-opacity:1\"/>\n",
       "<path class=\"bond-7\" d=\"M 65.7628,61.5604 L 58.7565,52.4733\" style=\"fill:none;fill-rule:evenodd;stroke:#000000;stroke-width:2px;stroke-linecap:butt;stroke-linejoin:miter;stroke-opacity:1\"/>\n",
       "<path class=\"bond-7\" d=\"M 58.7565,52.4733 L 51.7502,43.3862\" style=\"fill:none;fill-rule:evenodd;stroke:#0000FF;stroke-width:2px;stroke-linecap:butt;stroke-linejoin:miter;stroke-opacity:1\"/>\n",
       "<path class=\"bond-4\" d=\"M 54.7021,88.4396 L 72.4499,111.458\" style=\"fill:none;fill-rule:evenodd;stroke:#000000;stroke-width:2px;stroke-linecap:butt;stroke-linejoin:miter;stroke-opacity:1\"/>\n",
       "<path class=\"bond-5\" d=\"M 72.4499,111.458 L 67.9163,122.476\" style=\"fill:none;fill-rule:evenodd;stroke:#000000;stroke-width:2px;stroke-linecap:butt;stroke-linejoin:miter;stroke-opacity:1\"/>\n",
       "<path class=\"bond-5\" d=\"M 67.9163,122.476 L 63.3826,133.493\" style=\"fill:none;fill-rule:evenodd;stroke:#FF0000;stroke-width:2px;stroke-linecap:butt;stroke-linejoin:miter;stroke-opacity:1\"/>\n",
       "<path class=\"bond-6\" d=\"M 72.836,114.339 L 84.978,112.712\" style=\"fill:none;fill-rule:evenodd;stroke:#000000;stroke-width:2px;stroke-linecap:butt;stroke-linejoin:miter;stroke-opacity:1\"/>\n",
       "<path class=\"bond-6\" d=\"M 84.978,112.712 L 97.12,111.085\" style=\"fill:none;fill-rule:evenodd;stroke:#FF0000;stroke-width:2px;stroke-linecap:butt;stroke-linejoin:miter;stroke-opacity:1\"/>\n",
       "<path class=\"bond-6\" d=\"M 72.0638,108.577 L 84.2058,106.95\" style=\"fill:none;fill-rule:evenodd;stroke:#000000;stroke-width:2px;stroke-linecap:butt;stroke-linejoin:miter;stroke-opacity:1\"/>\n",
       "<path class=\"bond-6\" d=\"M 84.2058,106.95 L 96.3479,105.323\" style=\"fill:none;fill-rule:evenodd;stroke:#FF0000;stroke-width:2px;stroke-linecap:butt;stroke-linejoin:miter;stroke-opacity:1\"/>\n",
       "<path class=\"bond-8\" d=\"M 50.0085,33.6975 L 57.0824,16.5069\" style=\"fill:none;fill-rule:evenodd;stroke:#E5E5E5;stroke-width:2px;stroke-linecap:butt;stroke-linejoin:miter;stroke-opacity:1\"/>\n",
       "<text dominant-baseline=\"central\" style=\"font-size:9px;font-style:normal;font-weight:normal;fill-opacity:1;stroke:none;font-family:sans-serif;fill:#7F7F7F\" text-anchor=\"start\" x=\"111.026\" y=\"82.1714\"><tspan>*</tspan></text>\n",
       "<text dominant-baseline=\"central\" style=\"font-size:9px;font-style:normal;font-weight:normal;fill-opacity:1;stroke:none;font-family:sans-serif;fill:#7F7F7F\" text-anchor=\"start\" x=\"104.339\" y=\"32.2736\"><tspan>*</tspan></text>\n",
       "<text dominant-baseline=\"central\" style=\"font-size:9px;font-style:normal;font-weight:normal;fill-opacity:1;stroke:none;font-family:sans-serif;fill:#FF0000\" text-anchor=\"end\" x=\"64.9448\" y=\"139.791\"><tspan>HO</tspan></text>\n",
       "<text dominant-baseline=\"central\" style=\"font-size:9px;font-style:normal;font-weight:normal;fill-opacity:1;stroke:none;font-family:sans-serif;fill:#FF0000\" text-anchor=\"start\" x=\"97.7028\" y=\"109.051\"><tspan>O</tspan></text>\n",
       "<text dominant-baseline=\"central\" style=\"font-size:9px;font-style:normal;font-weight:normal;fill-opacity:1;stroke:none;font-family:sans-serif;fill:#0000FF\" text-anchor=\"end\" x=\"51.245\" y=\"39.9951\"><tspan>HN</tspan></text>\n",
       "<text dominant-baseline=\"central\" style=\"font-size:9px;font-style:normal;font-weight:normal;fill-opacity:1;stroke:none;font-family:sans-serif;fill:#7F7F7F\" text-anchor=\"start\" x=\"57.7824\" y=\"13.1158\"><tspan>*</tspan></text>\n",
       "</svg>"
      ],
      "text/plain": [
       "<IPython.core.display.SVG object>"
      ]
     },
     "metadata": {},
     "output_type": "display_data"
    },
    {
     "name": "stdout",
     "output_type": "stream",
     "text": [
      "found the bit in compound 1 aka RWJ-51084\n",
      "it is likely it is a positive feature.\n"
     ]
    },
    {
     "data": {
      "image/svg+xml": [
       "<svg baseProfile=\"full\" height=\"150px\" version=\"1.1\" viewBox=\"0 0 150 150\" width=\"150px\" xml:space=\"preserve\" xmlns=\"http://www.w3.org/2000/svg\" xmlns:rdkit=\"http://www.rdkit.org/xml\" xmlns:xlink=\"http://www.w3.org/1999/xlink\">\n",
       "<!-- END OF HEADER -->\n",
       "<rect height=\"150\" style=\"opacity:1.0;fill:#FFFFFF;stroke:none\" width=\"150\" x=\"0\" y=\"0\"> </rect>\n",
       "<ellipse cx=\"37.7426\" cy=\"95.0561\" rx=\"6.18426\" ry=\"6.18426\" style=\"fill:#E5E533;fill-rule:evenodd;stroke:#E5E533;stroke-width:2px;stroke-linecap:butt;stroke-linejoin:miter;stroke-opacity:1\"/>\n",
       "<ellipse cx=\"64.1748\" cy=\"111.102\" rx=\"6.18426\" ry=\"6.18426\" style=\"fill:#E5E533;fill-rule:evenodd;stroke:#E5E533;stroke-width:2px;stroke-linecap:butt;stroke-linejoin:miter;stroke-opacity:1\"/>\n",
       "<ellipse cx=\"87.6033\" cy=\"90.922\" rx=\"6.18426\" ry=\"6.18426\" style=\"fill:#9999E5;fill-rule:evenodd;stroke:#9999E5;stroke-width:2px;stroke-linecap:butt;stroke-linejoin:miter;stroke-opacity:1\"/>\n",
       "<ellipse cx=\"118.277\" cy=\"94.8297\" rx=\"6.18426\" ry=\"6.18426\" style=\"fill:#E5E533;fill-rule:evenodd;stroke:#E5E533;stroke-width:2px;stroke-linecap:butt;stroke-linejoin:miter;stroke-opacity:1\"/>\n",
       "<ellipse cx=\"136.998\" cy=\"70.2196\" rx=\"6.18426\" ry=\"6.18426\" style=\"fill:#E5E533;fill-rule:evenodd;stroke:#E5E533;stroke-width:2px;stroke-linecap:butt;stroke-linejoin:miter;stroke-opacity:1\"/>\n",
       "<ellipse cx=\"94.3716\" cy=\"37.7941\" rx=\"6.18426\" ry=\"6.18426\" style=\"fill:#E5E533;fill-rule:evenodd;stroke:#E5E533;stroke-width:2px;stroke-linecap:butt;stroke-linejoin:miter;stroke-opacity:1\"/>\n",
       "<ellipse cx=\"75.6507\" cy=\"62.4042\" rx=\"6.18426\" ry=\"6.18426\" style=\"fill:#E5E533;fill-rule:evenodd;stroke:#E5E533;stroke-width:2px;stroke-linecap:butt;stroke-linejoin:miter;stroke-opacity:1\"/>\n",
       "<ellipse cx=\"44.8352\" cy=\"64.9592\" rx=\"6.18426\" ry=\"6.18426\" style=\"fill:#E5E533;fill-rule:evenodd;stroke:#E5E533;stroke-width:2px;stroke-linecap:butt;stroke-linejoin:miter;stroke-opacity:1\"/>\n",
       "<path class=\"bond-0\" d=\"M 11.6315,106 L 37.7426,95.0561\" style=\"fill:none;fill-rule:evenodd;stroke:#E5E5E5;stroke-width:2px;stroke-linecap:butt;stroke-linejoin:miter;stroke-opacity:1\"/>\n",
       "<path class=\"bond-1\" d=\"M 37.7426,95.0561 L 48.7253,101.723\" style=\"fill:none;fill-rule:evenodd;stroke:#000000;stroke-width:2px;stroke-linecap:butt;stroke-linejoin:miter;stroke-opacity:1\"/>\n",
       "<path class=\"bond-1\" d=\"M 48.7253,101.723 L 59.7079,108.39\" style=\"fill:none;fill-rule:evenodd;stroke:#0000FF;stroke-width:2px;stroke-linecap:butt;stroke-linejoin:miter;stroke-opacity:1\"/>\n",
       "<path class=\"bond-1\" d=\"M 44.2466,91.7698 L 51.9345,96.4368\" style=\"fill:none;fill-rule:evenodd;stroke:#000000;stroke-width:2px;stroke-linecap:butt;stroke-linejoin:miter;stroke-opacity:1\"/>\n",
       "<path class=\"bond-1\" d=\"M 51.9345,96.4368 L 59.6223,101.104\" style=\"fill:none;fill-rule:evenodd;stroke:#0000FF;stroke-width:2px;stroke-linecap:butt;stroke-linejoin:miter;stroke-opacity:1\"/>\n",
       "<path class=\"bond-9\" d=\"M 37.7426,95.0561 L 43.6207,70.1128\" style=\"fill:none;fill-rule:evenodd;stroke:#E5E5E5;stroke-width:2px;stroke-linecap:butt;stroke-linejoin:miter;stroke-opacity:1\"/>\n",
       "<path class=\"bond-2\" d=\"M 68.6416,107.255 L 78.1224,99.0882\" style=\"fill:none;fill-rule:evenodd;stroke:#0000FF;stroke-width:2px;stroke-linecap:butt;stroke-linejoin:miter;stroke-opacity:1\"/>\n",
       "<path class=\"bond-2\" d=\"M 78.1224,99.0882 L 87.6033,90.922\" style=\"fill:none;fill-rule:evenodd;stroke:#000000;stroke-width:2px;stroke-linecap:butt;stroke-linejoin:miter;stroke-opacity:1\"/>\n",
       "<path class=\"bond-3\" d=\"M 87.6033,90.922 L 118.277,94.8297\" style=\"fill:none;fill-rule:evenodd;stroke:#000000;stroke-width:2px;stroke-linecap:butt;stroke-linejoin:miter;stroke-opacity:1\"/>\n",
       "<path class=\"bond-3\" d=\"M 91.4227,97.6428 L 112.894,100.378\" style=\"fill:none;fill-rule:evenodd;stroke:#000000;stroke-width:2px;stroke-linecap:butt;stroke-linejoin:miter;stroke-opacity:1\"/>\n",
       "<path class=\"bond-10\" d=\"M 87.6033,90.922 L 75.6507,62.4042\" style=\"fill:none;fill-rule:evenodd;stroke:#000000;stroke-width:2px;stroke-linecap:butt;stroke-linejoin:miter;stroke-opacity:1\"/>\n",
       "<path class=\"bond-4\" d=\"M 118.277,94.8297 L 136.998,70.2196\" style=\"fill:none;fill-rule:evenodd;stroke:#000000;stroke-width:2px;stroke-linecap:butt;stroke-linejoin:miter;stroke-opacity:1\"/>\n",
       "<path class=\"bond-5\" d=\"M 136.998,70.2196 L 127.205,46.8553\" style=\"fill:none;fill-rule:evenodd;stroke:#E5E5E5;stroke-width:2px;stroke-linecap:butt;stroke-linejoin:miter;stroke-opacity:1\"/>\n",
       "<path class=\"bond-5\" d=\"M 129.825,69.1054 L 122.97,52.7505\" style=\"fill:none;fill-rule:evenodd;stroke:#E5E5E5;stroke-width:2px;stroke-linecap:butt;stroke-linejoin:miter;stroke-opacity:1\"/>\n",
       "<path class=\"bond-6\" d=\"M 122.638,41.3952 L 94.3716,37.7941\" style=\"fill:none;fill-rule:evenodd;stroke:#E5E5E5;stroke-width:2px;stroke-linecap:butt;stroke-linejoin:miter;stroke-opacity:1\"/>\n",
       "<path class=\"bond-7\" d=\"M 94.3716,37.7941 L 75.6507,62.4042\" style=\"fill:none;fill-rule:evenodd;stroke:#000000;stroke-width:2px;stroke-linecap:butt;stroke-linejoin:miter;stroke-opacity:1\"/>\n",
       "<path class=\"bond-7\" d=\"M 96.4855,45.2297 L 83.3809,62.4568\" style=\"fill:none;fill-rule:evenodd;stroke:#000000;stroke-width:2px;stroke-linecap:butt;stroke-linejoin:miter;stroke-opacity:1\"/>\n",
       "<path class=\"bond-8\" d=\"M 75.6507,62.4042 L 62.3062,63.5106\" style=\"fill:none;fill-rule:evenodd;stroke:#000000;stroke-width:2px;stroke-linecap:butt;stroke-linejoin:miter;stroke-opacity:1\"/>\n",
       "<path class=\"bond-8\" d=\"M 62.3062,63.5106 L 48.9617,64.6171\" style=\"fill:none;fill-rule:evenodd;stroke:#CCCC00;stroke-width:2px;stroke-linecap:butt;stroke-linejoin:miter;stroke-opacity:1\"/>\n",
       "<text dominant-baseline=\"central\" style=\"font-size:10px;font-style:normal;font-weight:normal;fill-opacity:1;stroke:none;font-family:sans-serif;fill:#7F7F7F\" text-anchor=\"end\" x=\"10.6008\" y=\"108.555\"><tspan>*</tspan></text>\n",
       "<text dominant-baseline=\"central\" style=\"font-size:10px;font-style:normal;font-weight:normal;fill-opacity:1;stroke:none;font-family:sans-serif;fill:#0000FF\" text-anchor=\"middle\" x=\"64.1748\" y=\"112.648\"><tspan>N</tspan></text>\n",
       "<text dominant-baseline=\"central\" style=\"font-size:10px;font-style:normal;font-weight:normal;fill-opacity:1;stroke:none;font-family:sans-serif;fill:#7F7F7F\" text-anchor=\"start\" x=\"123.669\" y=\"43.2478\"><tspan>*</tspan></text>\n",
       "<text dominant-baseline=\"central\" style=\"font-size:10px;font-style:normal;font-weight:normal;fill-opacity:1;stroke:none;font-family:sans-serif;fill:#CCCC00\" text-anchor=\"end\" x=\"47.931\" y=\"66.5053\"><tspan>S</tspan></text>\n",
       "</svg>"
      ],
      "text/plain": [
       "<IPython.core.display.SVG object>"
      ]
     },
     "metadata": {},
     "output_type": "display_data"
    },
    {
     "name": "stdout",
     "output_type": "stream",
     "text": [
      "found the bit in compound 1 aka RWJ-51084\n",
      "it is likely it is a positive feature.\n"
     ]
    },
    {
     "data": {
      "image/svg+xml": [
       "<svg baseProfile=\"full\" height=\"150px\" version=\"1.1\" viewBox=\"0 0 150 150\" width=\"150px\" xml:space=\"preserve\" xmlns=\"http://www.w3.org/2000/svg\" xmlns:rdkit=\"http://www.rdkit.org/xml\" xmlns:xlink=\"http://www.w3.org/1999/xlink\">\n",
       "<!-- END OF HEADER -->\n",
       "<rect height=\"150\" style=\"opacity:1.0;fill:#FFFFFF;stroke:none\" width=\"150\" x=\"0\" y=\"0\"> </rect>\n",
       "<ellipse cx=\"43.2828\" cy=\"119.997\" rx=\"7.81958\" ry=\"7.81958\" style=\"fill:#E5E533;fill-rule:evenodd;stroke:#E5E533;stroke-width:2px;stroke-linecap:butt;stroke-linejoin:miter;stroke-opacity:1\"/>\n",
       "<ellipse cx=\"72.9066\" cy=\"94.4806\" rx=\"7.81958\" ry=\"7.81958\" style=\"fill:#E5E533;fill-rule:evenodd;stroke:#E5E533;stroke-width:2px;stroke-linecap:butt;stroke-linejoin:miter;stroke-opacity:1\"/>\n",
       "<ellipse cx=\"111.691\" cy=\"99.4216\" rx=\"7.81958\" ry=\"7.81958\" style=\"fill:#9999E5;fill-rule:evenodd;stroke:#9999E5;stroke-width:2px;stroke-linecap:butt;stroke-linejoin:miter;stroke-opacity:1\"/>\n",
       "<ellipse cx=\"135.362\" cy=\"68.3038\" rx=\"7.81958\" ry=\"7.81958\" style=\"fill:#E5E533;fill-rule:evenodd;stroke:#E5E533;stroke-width:2px;stroke-linecap:butt;stroke-linejoin:miter;stroke-opacity:1\"/>\n",
       "<ellipse cx=\"120.249\" cy=\"32.245\" rx=\"7.81958\" ry=\"7.81958\" style=\"fill:#E5E533;fill-rule:evenodd;stroke:#E5E533;stroke-width:2px;stroke-linecap:butt;stroke-linejoin:miter;stroke-opacity:1\"/>\n",
       "<ellipse cx=\"57.7934\" cy=\"58.4218\" rx=\"7.81958\" ry=\"7.81958\" style=\"fill:#E5E533;fill-rule:evenodd;stroke:#E5E533;stroke-width:2px;stroke-linecap:butt;stroke-linejoin:miter;stroke-opacity:1\"/>\n",
       "<path class=\"bond-0\" d=\"M 10.8754,104.897 L 35.606,119.91\" style=\"fill:none;fill-rule:evenodd;stroke:#E5E5E5;stroke-width:2px;stroke-linecap:butt;stroke-linejoin:miter;stroke-opacity:1\"/>\n",
       "<path class=\"bond-0\" d=\"M 14.9331,98.2131 L 39.6637,113.226\" style=\"fill:none;fill-rule:evenodd;stroke:#E5E5E5;stroke-width:2px;stroke-linecap:butt;stroke-linejoin:miter;stroke-opacity:1;stroke-dasharray:6,6\"/>\n",
       "<path class=\"bond-1\" d=\"M 48.9308,115.132 L 60.9187,104.806\" style=\"fill:none;fill-rule:evenodd;stroke:#0000FF;stroke-width:2px;stroke-linecap:butt;stroke-linejoin:miter;stroke-opacity:1\"/>\n",
       "<path class=\"bond-1\" d=\"M 60.9187,104.806 L 72.9066,94.4806\" style=\"fill:none;fill-rule:evenodd;stroke:#000000;stroke-width:2px;stroke-linecap:butt;stroke-linejoin:miter;stroke-opacity:1\"/>\n",
       "<path class=\"bond-2\" d=\"M 72.9066,94.4806 L 111.691,99.4216\" style=\"fill:none;fill-rule:evenodd;stroke:#000000;stroke-width:2px;stroke-linecap:butt;stroke-linejoin:miter;stroke-opacity:1\"/>\n",
       "<path class=\"bond-2\" d=\"M 79.7124,87.4649 L 106.862,90.9236\" style=\"fill:none;fill-rule:evenodd;stroke:#000000;stroke-width:2px;stroke-linecap:butt;stroke-linejoin:miter;stroke-opacity:1\"/>\n",
       "<path class=\"bond-8\" d=\"M 72.9066,94.4806 L 57.7934,58.4218\" style=\"fill:none;fill-rule:evenodd;stroke:#000000;stroke-width:2px;stroke-linecap:butt;stroke-linejoin:miter;stroke-opacity:1\"/>\n",
       "<path class=\"bond-3\" d=\"M 111.691,99.4216 L 135.362,68.3038\" style=\"fill:none;fill-rule:evenodd;stroke:#000000;stroke-width:2px;stroke-linecap:butt;stroke-linejoin:miter;stroke-opacity:1\"/>\n",
       "<path class=\"bond-4\" d=\"M 135.362,68.3038 L 120.249,32.245\" style=\"fill:none;fill-rule:evenodd;stroke:#000000;stroke-width:2px;stroke-linecap:butt;stroke-linejoin:miter;stroke-opacity:1\"/>\n",
       "<path class=\"bond-4\" d=\"M 125.884,65.9176 L 115.304,40.6765\" style=\"fill:none;fill-rule:evenodd;stroke:#000000;stroke-width:2px;stroke-linecap:butt;stroke-linejoin:miter;stroke-opacity:1\"/>\n",
       "<path class=\"bond-5\" d=\"M 120.249,32.245 L 84.5077,27.6917\" style=\"fill:none;fill-rule:evenodd;stroke:#E5E5E5;stroke-width:2px;stroke-linecap:butt;stroke-linejoin:miter;stroke-opacity:1\"/>\n",
       "<path class=\"bond-6\" d=\"M 78.4216,31.3043 L 57.7934,58.4218\" style=\"fill:none;fill-rule:evenodd;stroke:#E5E5E5;stroke-width:2px;stroke-linecap:butt;stroke-linejoin:miter;stroke-opacity:1\"/>\n",
       "<path class=\"bond-6\" d=\"M 81.551,40.1062 L 67.1112,59.0884\" style=\"fill:none;fill-rule:evenodd;stroke:#E5E5E5;stroke-width:2px;stroke-linecap:butt;stroke-linejoin:miter;stroke-opacity:1\"/>\n",
       "<path class=\"bond-7\" d=\"M 57.7934,58.4218 L 21.8723,61.4002\" style=\"fill:none;fill-rule:evenodd;stroke:#E5E5E5;stroke-width:2px;stroke-linecap:butt;stroke-linejoin:miter;stroke-opacity:1\"/>\n",
       "<text dominant-baseline=\"central\" style=\"font-size:13px;font-style:normal;font-weight:normal;fill-opacity:1;stroke:none;font-family:sans-serif;fill:#7F7F7F\" text-anchor=\"end\" x=\"11.601\" y=\"101.663\"><tspan>*</tspan></text>\n",
       "<text dominant-baseline=\"central\" style=\"font-size:13px;font-style:normal;font-weight:normal;fill-opacity:1;stroke:none;font-family:sans-serif;fill:#0000FF\" text-anchor=\"middle\" x=\"43.2828\" y=\"121.952\"><tspan>N</tspan></text>\n",
       "<text dominant-baseline=\"central\" style=\"font-size:13px;font-style:normal;font-weight:normal;fill-opacity:1;stroke:none;font-family:sans-serif;fill:#7F7F7F\" text-anchor=\"end\" x=\"83.2044\" y=\"29.2589\"><tspan>*</tspan></text>\n",
       "<text dominant-baseline=\"central\" style=\"font-size:13px;font-style:normal;font-weight:normal;fill-opacity:1;stroke:none;font-family:sans-serif;fill:#7F7F7F\" text-anchor=\"end\" x=\"20.569\" y=\"63.6074\"><tspan>*</tspan></text>\n",
       "</svg>"
      ],
      "text/plain": [
       "<IPython.core.display.SVG object>"
      ]
     },
     "metadata": {},
     "output_type": "display_data"
    },
    {
     "name": "stdout",
     "output_type": "stream",
     "text": [
      "found the bit in compound 1 aka RWJ-51084\n",
      "it is likely it is a positive feature.\n"
     ]
    },
    {
     "data": {
      "image/svg+xml": [
       "<svg baseProfile=\"full\" height=\"150px\" version=\"1.1\" viewBox=\"0 0 150 150\" width=\"150px\" xml:space=\"preserve\" xmlns=\"http://www.w3.org/2000/svg\" xmlns:rdkit=\"http://www.rdkit.org/xml\" xmlns:xlink=\"http://www.w3.org/1999/xlink\">\n",
       "<!-- END OF HEADER -->\n",
       "<rect height=\"150\" style=\"opacity:1.0;fill:#FFFFFF;stroke:none\" width=\"150\" x=\"0\" y=\"0\"> </rect>\n",
       "<ellipse cx=\"53.6942\" cy=\"106.238\" rx=\"9.37426\" ry=\"9.37426\" style=\"fill:#E5E533;fill-rule:evenodd;stroke:#E5E533;stroke-width:2px;stroke-linecap:butt;stroke-linejoin:miter;stroke-opacity:1\"/>\n",
       "<ellipse cx=\"111.156\" cy=\"56.7436\" rx=\"9.37426\" ry=\"9.37426\" style=\"fill:#E5E533;fill-rule:evenodd;stroke:#E5E533;stroke-width:2px;stroke-linecap:butt;stroke-linejoin:miter;stroke-opacity:1\"/>\n",
       "<ellipse cx=\"64.4452\" cy=\"60.6166\" rx=\"9.37426\" ry=\"9.37426\" style=\"fill:#9999E5;fill-rule:evenodd;stroke:#9999E5;stroke-width:2px;stroke-linecap:butt;stroke-linejoin:miter;stroke-opacity:1\"/>\n",
       "<path class=\"bond-0\" d=\"M 14.1143,122.827 L 53.6942,106.238\" style=\"fill:none;fill-rule:evenodd;stroke:#E5E5E5;stroke-width:2px;stroke-linecap:butt;stroke-linejoin:miter;stroke-opacity:1\"/>\n",
       "<path class=\"bond-1\" d=\"M 51.2619,110.245 L 87.6804,132.353\" style=\"fill:none;fill-rule:evenodd;stroke:#E5E5E5;stroke-width:2px;stroke-linecap:butt;stroke-linejoin:miter;stroke-opacity:1\"/>\n",
       "<path class=\"bond-1\" d=\"M 56.1265,102.232 L 92.5449,124.34\" style=\"fill:none;fill-rule:evenodd;stroke:#E5E5E5;stroke-width:2px;stroke-linecap:butt;stroke-linejoin:miter;stroke-opacity:1;stroke-dasharray:6,6\"/>\n",
       "<path class=\"bond-4\" d=\"M 53.6942,106.238 L 58.1493,87.3334\" style=\"fill:none;fill-rule:evenodd;stroke:#000000;stroke-width:2px;stroke-linecap:butt;stroke-linejoin:miter;stroke-opacity:1\"/>\n",
       "<path class=\"bond-4\" d=\"M 58.1493,87.3334 L 62.6043,68.4285\" style=\"fill:none;fill-rule:evenodd;stroke:#CCCC00;stroke-width:2px;stroke-linecap:butt;stroke-linejoin:miter;stroke-opacity:1\"/>\n",
       "<path class=\"bond-4\" d=\"M 64.155,102.717 L 67.2736,89.4836\" style=\"fill:none;fill-rule:evenodd;stroke:#000000;stroke-width:2px;stroke-linecap:butt;stroke-linejoin:miter;stroke-opacity:1;stroke-dasharray:6,6\"/>\n",
       "<path class=\"bond-4\" d=\"M 67.2736,89.4836 L 70.3921,76.2502\" style=\"fill:none;fill-rule:evenodd;stroke:#CCCC00;stroke-width:2px;stroke-linecap:butt;stroke-linejoin:miter;stroke-opacity:1;stroke-dasharray:6,6\"/>\n",
       "<path class=\"bond-2\" d=\"M 132.155,21.3969 L 107.426,53.9059\" style=\"fill:none;fill-rule:evenodd;stroke:#E5E5E5;stroke-width:2px;stroke-linecap:butt;stroke-linejoin:miter;stroke-opacity:1\"/>\n",
       "<path class=\"bond-2\" d=\"M 139.616,27.0725 L 114.887,59.5814\" style=\"fill:none;fill-rule:evenodd;stroke:#E5E5E5;stroke-width:2px;stroke-linecap:butt;stroke-linejoin:miter;stroke-opacity:1;stroke-dasharray:6,6\"/>\n",
       "<path class=\"bond-3\" d=\"M 111.156,56.7436 L 90.9283,58.4208\" style=\"fill:none;fill-rule:evenodd;stroke:#000000;stroke-width:2px;stroke-linecap:butt;stroke-linejoin:miter;stroke-opacity:1\"/>\n",
       "<path class=\"bond-3\" d=\"M 90.9283,58.4208 L 70.7004,60.098\" style=\"fill:none;fill-rule:evenodd;stroke:#CCCC00;stroke-width:2px;stroke-linecap:butt;stroke-linejoin:miter;stroke-opacity:1\"/>\n",
       "<path class=\"bond-3\" d=\"M 104.313,47.9046 L 90.1537,49.0786\" style=\"fill:none;fill-rule:evenodd;stroke:#000000;stroke-width:2px;stroke-linecap:butt;stroke-linejoin:miter;stroke-opacity:1;stroke-dasharray:6,6\"/>\n",
       "<path class=\"bond-3\" d=\"M 90.1537,49.0786 L 75.9941,50.2526\" style=\"fill:none;fill-rule:evenodd;stroke:#CCCC00;stroke-width:2px;stroke-linecap:butt;stroke-linejoin:miter;stroke-opacity:1;stroke-dasharray:6,6\"/>\n",
       "<path class=\"bond-5\" d=\"M 106.833,58.5554 L 121.677,93.9715\" style=\"fill:none;fill-rule:evenodd;stroke:#E5E5E5;stroke-width:2px;stroke-linecap:butt;stroke-linejoin:miter;stroke-opacity:1\"/>\n",
       "<path class=\"bond-5\" d=\"M 115.479,54.9318 L 130.323,90.3479\" style=\"fill:none;fill-rule:evenodd;stroke:#E5E5E5;stroke-width:2px;stroke-linecap:butt;stroke-linejoin:miter;stroke-opacity:1;stroke-dasharray:6,6\"/>\n",
       "<text dominant-baseline=\"central\" style=\"font-size:15px;font-style:normal;font-weight:normal;fill-opacity:1;stroke:none;font-family:sans-serif;fill:#7F7F7F\" text-anchor=\"end\" x=\"12.5519\" y=\"126.7\"><tspan>*</tspan></text>\n",
       "<text dominant-baseline=\"central\" style=\"font-size:15px;font-style:normal;font-weight:normal;fill-opacity:1;stroke:none;font-family:sans-serif;fill:#7F7F7F\" text-anchor=\"start\" x=\"91.675\" y=\"132.905\"><tspan>*</tspan></text>\n",
       "<text dominant-baseline=\"central\" style=\"font-size:15px;font-style:normal;font-weight:normal;fill-opacity:1;stroke:none;font-family:sans-serif;fill:#7F7F7F\" text-anchor=\"start\" x=\"137.448\" y=\"21.7826\"><tspan>*</tspan></text>\n",
       "<text dominant-baseline=\"central\" style=\"font-size:15px;font-style:normal;font-weight:normal;fill-opacity:1;stroke:none;font-family:sans-serif;fill:#CCCC00\" text-anchor=\"end\" x=\"69.138\" y=\"62.9602\"><tspan>S</tspan></text>\n",
       "<text dominant-baseline=\"central\" style=\"font-size:15px;font-style:normal;font-weight:normal;fill-opacity:1;stroke:none;font-family:sans-serif;fill:#7F7F7F\" text-anchor=\"start\" x=\"127.188\" y=\"102.315\"><tspan>*</tspan></text>\n",
       "</svg>"
      ],
      "text/plain": [
       "<IPython.core.display.SVG object>"
      ]
     },
     "metadata": {},
     "output_type": "display_data"
    },
    {
     "name": "stdout",
     "output_type": "stream",
     "text": [
      "found the bit in compound 12 aka ICATIBANT-ACETATE\n",
      "it is likely to be a negative feature.\n"
     ]
    },
    {
     "data": {
      "image/svg+xml": [
       "<svg baseProfile=\"full\" height=\"150px\" version=\"1.1\" viewBox=\"0 0 150 150\" width=\"150px\" xml:space=\"preserve\" xmlns=\"http://www.w3.org/2000/svg\" xmlns:rdkit=\"http://www.rdkit.org/xml\" xmlns:xlink=\"http://www.w3.org/1999/xlink\">\n",
       "<!-- END OF HEADER -->\n",
       "<rect height=\"150\" style=\"opacity:1.0;fill:#FFFFFF;stroke:none\" width=\"150\" x=\"0\" y=\"0\"> </rect>\n",
       "<ellipse cx=\"97.2431\" cy=\"88.9194\" rx=\"5.95847\" ry=\"5.95847\" style=\"fill:#CCCCCC;fill-rule:evenodd;stroke:#CCCCCC;stroke-width:2px;stroke-linecap:butt;stroke-linejoin:miter;stroke-opacity:1\"/>\n",
       "<ellipse cx=\"67.9259\" cy=\"83.6196\" rx=\"5.95847\" ry=\"5.95847\" style=\"fill:#CCCCCC;fill-rule:evenodd;stroke:#CCCCCC;stroke-width:2px;stroke-linecap:butt;stroke-linejoin:miter;stroke-opacity:1\"/>\n",
       "<ellipse cx=\"44.3704\" cy=\"101.86\" rx=\"5.95847\" ry=\"5.95847\" style=\"fill:#CCCCCC;fill-rule:evenodd;stroke:#CCCCCC;stroke-width:2px;stroke-linecap:butt;stroke-linejoin:miter;stroke-opacity:1\"/>\n",
       "<ellipse cx=\"12.7767\" cy=\"61.0608\" rx=\"5.95847\" ry=\"5.95847\" style=\"fill:#CCCCCC;fill-rule:evenodd;stroke:#CCCCCC;stroke-width:2px;stroke-linecap:butt;stroke-linejoin:miter;stroke-opacity:1\"/>\n",
       "<ellipse cx=\"36.3322\" cy=\"42.8202\" rx=\"5.95847\" ry=\"5.95847\" style=\"fill:#CCCCCC;fill-rule:evenodd;stroke:#CCCCCC;stroke-width:2px;stroke-linecap:butt;stroke-linejoin:miter;stroke-opacity:1\"/>\n",
       "<ellipse cx=\"63.9068\" cy=\"54.0996\" rx=\"5.95847\" ry=\"5.95847\" style=\"fill:#9999E5;fill-rule:evenodd;stroke:#9999E5;stroke-width:2px;stroke-linecap:butt;stroke-linejoin:miter;stroke-opacity:1\"/>\n",
       "<ellipse cx=\"90.7401\" cy=\"41.155\" rx=\"5.95847\" ry=\"5.95847\" style=\"fill:#CCCCCC;fill-rule:evenodd;stroke:#CCCCCC;stroke-width:2px;stroke-linecap:butt;stroke-linejoin:miter;stroke-opacity:1\"/>\n",
       "<ellipse cx=\"111.343\" cy=\"62.6749\" rx=\"5.95847\" ry=\"5.95847\" style=\"fill:#CCCCCC;fill-rule:evenodd;stroke:#CCCCCC;stroke-width:2px;stroke-linecap:butt;stroke-linejoin:miter;stroke-opacity:1\"/>\n",
       "<path class=\"bond-0\" d=\"M 107.869,110.946 L 99.6384,93.8848\" style=\"fill:none;fill-rule:evenodd;stroke:#E5E5E5;stroke-width:2px;stroke-linecap:butt;stroke-linejoin:miter;stroke-opacity:1\"/>\n",
       "<path class=\"bond-1\" d=\"M 92.9393,88.1414 L 80.4326,85.8805\" style=\"fill:none;fill-rule:evenodd;stroke:#0000FF;stroke-width:2px;stroke-linecap:butt;stroke-linejoin:miter;stroke-opacity:1\"/>\n",
       "<path class=\"bond-1\" d=\"M 80.4326,85.8805 L 67.9259,83.6196\" style=\"fill:none;fill-rule:evenodd;stroke:#000000;stroke-width:2px;stroke-linecap:butt;stroke-linejoin:miter;stroke-opacity:1\"/>\n",
       "<path class=\"bond-10\" d=\"M 99.9107,83.954 L 111.343,62.6749\" style=\"fill:none;fill-rule:evenodd;stroke:#E5E5E5;stroke-width:2px;stroke-linecap:butt;stroke-linejoin:miter;stroke-opacity:1\"/>\n",
       "<path class=\"bond-2\" d=\"M 67.9259,83.6196 L 44.3704,101.86\" style=\"fill:none;fill-rule:evenodd;stroke:#000000;stroke-width:2px;stroke-linecap:butt;stroke-linejoin:miter;stroke-opacity:1\"/>\n",
       "<path class=\"bond-11\" d=\"M 67.9259,83.6196 L 63.9068,54.0996\" style=\"fill:none;fill-rule:evenodd;stroke:#000000;stroke-width:2px;stroke-linecap:butt;stroke-linejoin:miter;stroke-opacity:1\"/>\n",
       "<path class=\"bond-12\" d=\"M 68.0484,86.6266 L 69.206,86.3433\" style=\"fill:none;fill-rule:evenodd;stroke:#000000;stroke-width:2px;stroke-linecap:butt;stroke-linejoin:miter;stroke-opacity:1\"/>\n",
       "<path class=\"bond-12\" d=\"M 68.171,89.6336 L 70.486,89.067\" style=\"fill:none;fill-rule:evenodd;stroke:#000000;stroke-width:2px;stroke-linecap:butt;stroke-linejoin:miter;stroke-opacity:1\"/>\n",
       "<path class=\"bond-12\" d=\"M 68.2935,92.6406 L 71.7661,91.7907\" style=\"fill:none;fill-rule:evenodd;stroke:#000000;stroke-width:2px;stroke-linecap:butt;stroke-linejoin:miter;stroke-opacity:1\"/>\n",
       "<path class=\"bond-12\" d=\"M 68.4161,95.6476 L 73.0462,94.5144\" style=\"fill:none;fill-rule:evenodd;stroke:#000000;stroke-width:2px;stroke-linecap:butt;stroke-linejoin:miter;stroke-opacity:1\"/>\n",
       "<path class=\"bond-12\" d=\"M 68.5386,98.6546 L 74.3263,97.2381\" style=\"fill:none;fill-rule:evenodd;stroke:#000000;stroke-width:2px;stroke-linecap:butt;stroke-linejoin:miter;stroke-opacity:1\"/>\n",
       "<path class=\"bond-3\" d=\"M 44.3704,101.86 L 19.1145,91.5293\" style=\"fill:none;fill-rule:evenodd;stroke:#E5E5E5;stroke-width:2px;stroke-linecap:butt;stroke-linejoin:miter;stroke-opacity:1\"/>\n",
       "<path class=\"bond-4\" d=\"M 16.1197,85.6155 L 12.7767,61.0608\" style=\"fill:none;fill-rule:evenodd;stroke:#E5E5E5;stroke-width:2px;stroke-linecap:butt;stroke-linejoin:miter;stroke-opacity:1\"/>\n",
       "<path class=\"bond-5\" d=\"M 12.7767,61.0608 L 36.3322,42.8202\" style=\"fill:none;fill-rule:evenodd;stroke:#000000;stroke-width:2px;stroke-linecap:butt;stroke-linejoin:miter;stroke-opacity:1\"/>\n",
       "<path class=\"bond-6\" d=\"M 36.3322,42.8202 L 63.9068,54.0996\" style=\"fill:none;fill-rule:evenodd;stroke:#000000;stroke-width:2px;stroke-linecap:butt;stroke-linejoin:miter;stroke-opacity:1\"/>\n",
       "<path class=\"bond-7\" d=\"M 63.9068,54.0996 L 90.7401,41.155\" style=\"fill:none;fill-rule:evenodd;stroke:#000000;stroke-width:2px;stroke-linecap:butt;stroke-linejoin:miter;stroke-opacity:1\"/>\n",
       "<path class=\"bond-13\" d=\"M 64.4113,51.104 L 63.2201,51.1404\" style=\"fill:none;fill-rule:evenodd;stroke:#000000;stroke-width:2px;stroke-linecap:butt;stroke-linejoin:miter;stroke-opacity:1\"/>\n",
       "<path class=\"bond-13\" d=\"M 64.9157,48.1084 L 62.5335,48.1813\" style=\"fill:none;fill-rule:evenodd;stroke:#000000;stroke-width:2px;stroke-linecap:butt;stroke-linejoin:miter;stroke-opacity:1\"/>\n",
       "<path class=\"bond-13\" d=\"M 65.4202,45.1128 L 61.8468,45.2221\" style=\"fill:none;fill-rule:evenodd;stroke:#000000;stroke-width:2px;stroke-linecap:butt;stroke-linejoin:miter;stroke-opacity:1\"/>\n",
       "<path class=\"bond-13\" d=\"M 65.9246,42.1172 L 61.1601,42.263\" style=\"fill:none;fill-rule:evenodd;stroke:#000000;stroke-width:2px;stroke-linecap:butt;stroke-linejoin:miter;stroke-opacity:1\"/>\n",
       "<path class=\"bond-13\" d=\"M 66.4291,39.1216 L 60.4734,39.3038\" style=\"fill:none;fill-rule:evenodd;stroke:#000000;stroke-width:2px;stroke-linecap:butt;stroke-linejoin:miter;stroke-opacity:1\"/>\n",
       "<path class=\"bond-8\" d=\"M 90.7401,41.155 L 111.343,62.6749\" style=\"fill:none;fill-rule:evenodd;stroke:#000000;stroke-width:2px;stroke-linecap:butt;stroke-linejoin:miter;stroke-opacity:1\"/>\n",
       "<path class=\"bond-9\" d=\"M 111.343,62.6749 L 138.946,61.9235 L 138.142,56.0195 Z\" style=\"fill:#E5E5E5;fill-rule:evenodd;fill-opacity=1;stroke:#E5E5E5;stroke-width:2px;stroke-linecap:butt;stroke-linejoin:miter;stroke-opacity:1;\"/>\n",
       "<text dominant-baseline=\"central\" style=\"font-size:9px;font-style:normal;font-weight:normal;fill-opacity:1;stroke:none;font-family:sans-serif;fill:#7F7F7F\" text-anchor=\"start\" x=\"108.862\" y=\"117.242\"><tspan>*</tspan></text>\n",
       "<text dominant-baseline=\"central\" style=\"font-size:9px;font-style:normal;font-weight:normal;fill-opacity:1;stroke:none;font-family:sans-serif;fill:#0000FF\" text-anchor=\"start\" x=\"93.9324\" y=\"90.4091\"><tspan>N</tspan></text>\n",
       "<text dominant-baseline=\"central\" style=\"font-size:9px;font-style:normal;font-weight:normal;fill-opacity:1;stroke:none;font-family:sans-serif;fill:#7F7F7F\" text-anchor=\"end\" x=\"18.1214\" y=\"92.0705\"><tspan>*</tspan></text>\n",
       "<text dominant-baseline=\"central\" style=\"font-size:9px;font-style:normal;font-weight:normal;fill-opacity:1;stroke:none;font-family:sans-serif;fill:#7F7F7F\" text-anchor=\"start\" x=\"139.537\" y=\"60.1454\"><tspan>*</tspan></text>\n",
       "<text dominant-baseline=\"central\" style=\"font-size:9px;font-style:normal;font-weight:normal;fill-opacity:1;stroke:none;font-family:sans-serif;fill:#000000\" text-anchor=\"start\" x=\"69.3371\" y=\"104.401\"><tspan>H</tspan></text>\n",
       "<text dominant-baseline=\"central\" style=\"font-size:9px;font-style:normal;font-weight:normal;fill-opacity:1;stroke:none;font-family:sans-serif;fill:#000000\" text-anchor=\"start\" x=\"59.9886\" y=\"35.7369\"><tspan>H</tspan></text>\n",
       "</svg>"
      ],
      "text/plain": [
       "<IPython.core.display.SVG object>"
      ]
     },
     "metadata": {},
     "output_type": "display_data"
    },
    {
     "name": "stdout",
     "output_type": "stream",
     "text": [
      "found the bit in compound 12 aka ICATIBANT-ACETATE\n",
      "it is likely to be a negative feature.\n"
     ]
    },
    {
     "data": {
      "image/svg+xml": [
       "<svg baseProfile=\"full\" height=\"150px\" version=\"1.1\" viewBox=\"0 0 150 150\" width=\"150px\" xml:space=\"preserve\" xmlns=\"http://www.w3.org/2000/svg\" xmlns:rdkit=\"http://www.rdkit.org/xml\" xmlns:xlink=\"http://www.w3.org/1999/xlink\">\n",
       "<!-- END OF HEADER -->\n",
       "<rect height=\"150\" style=\"opacity:1.0;fill:#FFFFFF;stroke:none\" width=\"150\" x=\"0\" y=\"0\"> </rect>\n",
       "<ellipse cx=\"61.1912\" cy=\"79.4704\" rx=\"5.12387\" ry=\"5.12387\" style=\"fill:#CCCCCC;fill-rule:evenodd;stroke:#CCCCCC;stroke-width:2px;stroke-linecap:butt;stroke-linejoin:miter;stroke-opacity:1\"/>\n",
       "<ellipse cx=\"35.9805\" cy=\"74.9129\" rx=\"5.12387\" ry=\"5.12387\" style=\"fill:#CCCCCC;fill-rule:evenodd;stroke:#CCCCCC;stroke-width:2px;stroke-linecap:butt;stroke-linejoin:miter;stroke-opacity:1\"/>\n",
       "<ellipse cx=\"32.5244\" cy=\"49.5278\" rx=\"5.12387\" ry=\"5.12387\" style=\"fill:#CCCCCC;fill-rule:evenodd;stroke:#CCCCCC;stroke-width:2px;stroke-linecap:butt;stroke-linejoin:miter;stroke-opacity:1\"/>\n",
       "<ellipse cx=\"55.5991\" cy=\"38.3964\" rx=\"5.12387\" ry=\"5.12387\" style=\"fill:#CCCCCC;fill-rule:evenodd;stroke:#CCCCCC;stroke-width:2px;stroke-linecap:butt;stroke-linejoin:miter;stroke-opacity:1\"/>\n",
       "<ellipse cx=\"73.3162\" cy=\"56.9019\" rx=\"5.12387\" ry=\"5.12387\" style=\"fill:#9999E5;fill-rule:evenodd;stroke:#9999E5;stroke-width:2px;stroke-linecap:butt;stroke-linejoin:miter;stroke-opacity:1\"/>\n",
       "<path class=\"bond-0\" d=\"M 95.8777,104.294 L 72.5124,99.9902 L 72.1329,105.1 Z\" style=\"fill:#E5E5E5;fill-rule:evenodd;fill-opacity=1;stroke:#E5E5E5;stroke-width:2px;stroke-linecap:butt;stroke-linejoin:miter;stroke-opacity:1;\"/>\n",
       "<path class=\"bond-1\" d=\"M 70.2049,101.103 L 57.7813,119.352\" style=\"fill:none;fill-rule:evenodd;stroke:#E5E5E5;stroke-width:2px;stroke-linecap:butt;stroke-linejoin:miter;stroke-opacity:1\"/>\n",
       "<path class=\"bond-1\" d=\"M 74.4404,103.987 L 62.0168,122.235\" style=\"fill:none;fill-rule:evenodd;stroke:#E5E5E5;stroke-width:2px;stroke-linecap:butt;stroke-linejoin:miter;stroke-opacity:1\"/>\n",
       "<path class=\"bond-2\" d=\"M 72.3227,102.545 L 67.7869,93.1427\" style=\"fill:none;fill-rule:evenodd;stroke:#000000;stroke-width:2px;stroke-linecap:butt;stroke-linejoin:miter;stroke-opacity:1\"/>\n",
       "<path class=\"bond-2\" d=\"M 67.7869,93.1427 L 63.2511,83.7403\" style=\"fill:none;fill-rule:evenodd;stroke:#0000FF;stroke-width:2px;stroke-linecap:butt;stroke-linejoin:miter;stroke-opacity:1\"/>\n",
       "<path class=\"bond-3\" d=\"M 57.4903,78.8014 L 46.7354,76.8571\" style=\"fill:none;fill-rule:evenodd;stroke:#0000FF;stroke-width:2px;stroke-linecap:butt;stroke-linejoin:miter;stroke-opacity:1\"/>\n",
       "<path class=\"bond-3\" d=\"M 46.7354,76.8571 L 35.9805,74.9129\" style=\"fill:none;fill-rule:evenodd;stroke:#000000;stroke-width:2px;stroke-linecap:butt;stroke-linejoin:miter;stroke-opacity:1\"/>\n",
       "<path class=\"bond-12\" d=\"M 63.4853,75.2005 L 68.4007,66.0512\" style=\"fill:none;fill-rule:evenodd;stroke:#0000FF;stroke-width:2px;stroke-linecap:butt;stroke-linejoin:miter;stroke-opacity:1\"/>\n",
       "<path class=\"bond-12\" d=\"M 68.4007,66.0512 L 73.3162,56.9019\" style=\"fill:none;fill-rule:evenodd;stroke:#000000;stroke-width:2px;stroke-linecap:butt;stroke-linejoin:miter;stroke-opacity:1\"/>\n",
       "<path class=\"bond-4\" d=\"M 35.9805,74.9129 L 16.1498,87.0289 L 19.287,91.0801 Z\" style=\"fill:#E5E5E5;fill-rule:evenodd;fill-opacity=1;stroke:#E5E5E5;stroke-width:2px;stroke-linecap:butt;stroke-linejoin:miter;stroke-opacity:1;\"/>\n",
       "<path class=\"bond-13\" d=\"M 35.9805,74.9129 L 32.5244,49.5278\" style=\"fill:none;fill-rule:evenodd;stroke:#E5E5E5;stroke-width:2px;stroke-linecap:butt;stroke-linejoin:miter;stroke-opacity:1\"/>\n",
       "<path class=\"bond-5\" d=\"M 32.5244,49.5278 L 11.7761,38.2727 L 9.8362,43.0151 Z\" style=\"fill:#E5E5E5;fill-rule:evenodd;fill-opacity=1;stroke:#E5E5E5;stroke-width:2px;stroke-linecap:butt;stroke-linejoin:miter;stroke-opacity:1;\"/>\n",
       "<path class=\"bond-6\" d=\"M 32.5244,49.5278 L 55.5991,38.3964\" style=\"fill:none;fill-rule:evenodd;stroke:#000000;stroke-width:2px;stroke-linecap:butt;stroke-linejoin:miter;stroke-opacity:1\"/>\n",
       "<path class=\"bond-7\" d=\"M 55.5991,38.3964 L 73.3162,56.9019\" style=\"fill:none;fill-rule:evenodd;stroke:#000000;stroke-width:2px;stroke-linecap:butt;stroke-linejoin:miter;stroke-opacity:1\"/>\n",
       "<path class=\"bond-8\" d=\"M 73.3162,56.9019 L 99.047,55.9843 L 98.3558,50.9073 Z\" style=\"fill:#000000;fill-rule:evenodd;fill-opacity=1;stroke:#000000;stroke-width:2px;stroke-linecap:butt;stroke-linejoin:miter;stroke-opacity:1;\"/>\n",
       "<path class=\"bond-9\" d=\"M 97.1155,55.4579 L 105.182,61.8156\" style=\"fill:none;fill-rule:evenodd;stroke:#000000;stroke-width:2px;stroke-linecap:butt;stroke-linejoin:miter;stroke-opacity:1\"/>\n",
       "<path class=\"bond-9\" d=\"M 105.182,61.8156 L 113.249,68.1734\" style=\"fill:none;fill-rule:evenodd;stroke:#FF0000;stroke-width:2px;stroke-linecap:butt;stroke-linejoin:miter;stroke-opacity:1\"/>\n",
       "<path class=\"bond-9\" d=\"M 100.287,51.4337 L 108.354,57.7914\" style=\"fill:none;fill-rule:evenodd;stroke:#000000;stroke-width:2px;stroke-linecap:butt;stroke-linejoin:miter;stroke-opacity:1\"/>\n",
       "<path class=\"bond-9\" d=\"M 108.354,57.7914 L 116.42,64.1492\" style=\"fill:none;fill-rule:evenodd;stroke:#FF0000;stroke-width:2px;stroke-linecap:butt;stroke-linejoin:miter;stroke-opacity:1\"/>\n",
       "<path class=\"bond-10\" d=\"M 98.7014,53.4458 L 102.678,43.7246\" style=\"fill:none;fill-rule:evenodd;stroke:#000000;stroke-width:2px;stroke-linecap:butt;stroke-linejoin:miter;stroke-opacity:1\"/>\n",
       "<path class=\"bond-10\" d=\"M 102.678,43.7246 L 106.654,34.0034\" style=\"fill:none;fill-rule:evenodd;stroke:#0000FF;stroke-width:2px;stroke-linecap:butt;stroke-linejoin:miter;stroke-opacity:1\"/>\n",
       "<path class=\"bond-11\" d=\"M 129.788,26.5631 L 129.858,27.0708\" style=\"fill:none;fill-rule:evenodd;stroke:#E5E5E5;stroke-width:2px;stroke-linecap:butt;stroke-linejoin:miter;stroke-opacity:1\"/>\n",
       "<path class=\"bond-11\" d=\"M 127.785,26.5774 L 127.923,27.5928\" style=\"fill:none;fill-rule:evenodd;stroke:#E5E5E5;stroke-width:2px;stroke-linecap:butt;stroke-linejoin:miter;stroke-opacity:1\"/>\n",
       "<path class=\"bond-11\" d=\"M 125.781,26.5916 L 125.989,28.1147\" style=\"fill:none;fill-rule:evenodd;stroke:#E5E5E5;stroke-width:2px;stroke-linecap:butt;stroke-linejoin:miter;stroke-opacity:1\"/>\n",
       "<path class=\"bond-11\" d=\"M 123.778,26.6058 L 124.054,28.6366\" style=\"fill:none;fill-rule:evenodd;stroke:#E5E5E5;stroke-width:2px;stroke-linecap:butt;stroke-linejoin:miter;stroke-opacity:1\"/>\n",
       "<path class=\"bond-11\" d=\"M 121.774,26.62 L 122.12,29.1586\" style=\"fill:none;fill-rule:evenodd;stroke:#E5E5E5;stroke-width:2px;stroke-linecap:butt;stroke-linejoin:miter;stroke-opacity:1\"/>\n",
       "<path class=\"bond-11\" d=\"M 119.771,26.6343 L 120.185,29.6805\" style=\"fill:none;fill-rule:evenodd;stroke:#E5E5E5;stroke-width:2px;stroke-linecap:butt;stroke-linejoin:miter;stroke-opacity:1\"/>\n",
       "<path class=\"bond-11\" d=\"M 117.767,26.6485 L 118.251,30.2024\" style=\"fill:none;fill-rule:evenodd;stroke:#E5E5E5;stroke-width:2px;stroke-linecap:butt;stroke-linejoin:miter;stroke-opacity:1\"/>\n",
       "<path class=\"bond-11\" d=\"M 115.763,26.6627 L 116.316,30.7243\" style=\"fill:none;fill-rule:evenodd;stroke:#E5E5E5;stroke-width:2px;stroke-linecap:butt;stroke-linejoin:miter;stroke-opacity:1\"/>\n",
       "<path class=\"bond-11\" d=\"M 113.76,26.6769 L 114.382,31.2463\" style=\"fill:none;fill-rule:evenodd;stroke:#E5E5E5;stroke-width:2px;stroke-linecap:butt;stroke-linejoin:miter;stroke-opacity:1\"/>\n",
       "<path class=\"bond-11\" d=\"M 111.756,26.6912 L 112.447,31.7682\" style=\"fill:none;fill-rule:evenodd;stroke:#E5E5E5;stroke-width:2px;stroke-linecap:butt;stroke-linejoin:miter;stroke-opacity:1\"/>\n",
       "<text dominant-baseline=\"central\" style=\"font-size:8px;font-style:normal;font-weight:normal;fill-opacity:1;stroke:none;font-family:sans-serif;fill:#7F7F7F\" text-anchor=\"start\" x=\"96.7316\" y=\"105.723\"><tspan>*H</tspan></text>\n",
       "<text dominant-baseline=\"central\" style=\"font-size:8px;font-style:normal;font-weight:normal;fill-opacity:1;stroke:none;font-family:sans-serif;fill:#7F7F7F\" text-anchor=\"end\" x=\"59.0451\" y=\"125.004\"><tspan>*</tspan></text>\n",
       "<text dominant-baseline=\"central\" style=\"font-size:8px;font-style:normal;font-weight:normal;fill-opacity:1;stroke:none;font-family:sans-serif;fill:#0000FF\" text-anchor=\"start\" x=\"58.3443\" y=\"80.7514\"><tspan>N</tspan></text>\n",
       "<text dominant-baseline=\"central\" style=\"font-size:8px;font-style:normal;font-weight:normal;fill-opacity:1;stroke:none;font-family:sans-serif;fill:#7F7F7F\" text-anchor=\"end\" x=\"16.8644\" y=\"91.8796\"><tspan>*</tspan></text>\n",
       "<text dominant-baseline=\"central\" style=\"font-size:8px;font-style:normal;font-weight:normal;fill-opacity:1;stroke:none;font-family:sans-serif;fill:#7F7F7F\" text-anchor=\"end\" x=\"9.95217\" y=\"41.1092\"><tspan>*</tspan></text>\n",
       "<text dominant-baseline=\"central\" style=\"font-size:8px;font-style:normal;font-weight:normal;fill-opacity:1;stroke:none;font-family:sans-serif;fill:#FF0000\" text-anchor=\"start\" x=\"115.688\" y=\"70.5854\"><tspan>O</tspan></text>\n",
       "<text dominant-baseline=\"central\" style=\"font-size:8px;font-style:normal;font-weight:normal;fill-opacity:1;stroke:none;font-family:sans-serif;fill:#0000FF\" text-anchor=\"end\" x=\"111.248\" y=\"31.0145\"><tspan>HN</tspan></text>\n",
       "<text dominant-baseline=\"central\" style=\"font-size:8px;font-style:normal;font-weight:normal;fill-opacity:1;stroke:none;font-family:sans-serif;fill:#7F7F7F\" text-anchor=\"start\" x=\"132.646\" y=\"27.5584\"><tspan>*H</tspan></text>\n",
       "</svg>"
      ],
      "text/plain": [
       "<IPython.core.display.SVG object>"
      ]
     },
     "metadata": {},
     "output_type": "display_data"
    },
    {
     "name": "stdout",
     "output_type": "stream",
     "text": [
      "found the bit in compound 1 aka RWJ-51084\n",
      "it is likely it is a positive feature.\n"
     ]
    },
    {
     "data": {
      "image/svg+xml": [
       "<svg baseProfile=\"full\" height=\"150px\" version=\"1.1\" viewBox=\"0 0 150 150\" width=\"150px\" xml:space=\"preserve\" xmlns=\"http://www.w3.org/2000/svg\" xmlns:rdkit=\"http://www.rdkit.org/xml\" xmlns:xlink=\"http://www.w3.org/1999/xlink\">\n",
       "<!-- END OF HEADER -->\n",
       "<rect height=\"150\" style=\"opacity:1.0;fill:#FFFFFF;stroke:none\" width=\"150\" x=\"0\" y=\"0\"> </rect>\n",
       "<ellipse cx=\"73.3774\" cy=\"84.9264\" rx=\"5.13596\" ry=\"5.13596\" style=\"fill:#9999E5;fill-rule:evenodd;stroke:#9999E5;stroke-width:2px;stroke-linecap:butt;stroke-linejoin:miter;stroke-opacity:1\"/>\n",
       "<path class=\"bond-0\" d=\"M 10.8156,65.2784 L 29.2553,79.3054\" style=\"fill:none;fill-rule:evenodd;stroke:#E5E5E5;stroke-width:2px;stroke-linecap:butt;stroke-linejoin:miter;stroke-opacity:1\"/>\n",
       "<path class=\"bond-1\" d=\"M 29.2553,79.3054 L 52.939,69.379\" style=\"fill:none;fill-rule:evenodd;stroke:#000000;stroke-width:2px;stroke-linecap:butt;stroke-linejoin:miter;stroke-opacity:1\"/>\n",
       "<path class=\"bond-2\" d=\"M 52.939,69.379 L 73.3774,84.9264\" style=\"fill:none;fill-rule:evenodd;stroke:#000000;stroke-width:2px;stroke-linecap:butt;stroke-linejoin:miter;stroke-opacity:1\"/>\n",
       "<path class=\"bond-3\" d=\"M 94.5934,75.7558 L 94.7919,76.2295\" style=\"fill:none;fill-rule:evenodd;stroke:#000000;stroke-width:2px;stroke-linecap:butt;stroke-linejoin:miter;stroke-opacity:1\"/>\n",
       "<path class=\"bond-3\" d=\"M 92.1258,76.5116 L 92.5228,77.459\" style=\"fill:none;fill-rule:evenodd;stroke:#000000;stroke-width:2px;stroke-linecap:butt;stroke-linejoin:miter;stroke-opacity:1\"/>\n",
       "<path class=\"bond-3\" d=\"M 89.6581,77.2674 L 90.2537,78.6884\" style=\"fill:none;fill-rule:evenodd;stroke:#000000;stroke-width:2px;stroke-linecap:butt;stroke-linejoin:miter;stroke-opacity:1\"/>\n",
       "<path class=\"bond-3\" d=\"M 87.1905,78.0232 L 87.9846,79.9179\" style=\"fill:none;fill-rule:evenodd;stroke:#000000;stroke-width:2px;stroke-linecap:butt;stroke-linejoin:miter;stroke-opacity:1\"/>\n",
       "<path class=\"bond-3\" d=\"M 84.7229,78.779 L 85.7155,81.1474\" style=\"fill:none;fill-rule:evenodd;stroke:#000000;stroke-width:2px;stroke-linecap:butt;stroke-linejoin:miter;stroke-opacity:1\"/>\n",
       "<path class=\"bond-3\" d=\"M 82.2552,79.5348 L 83.4464,82.3769\" style=\"fill:none;fill-rule:evenodd;stroke:#000000;stroke-width:2px;stroke-linecap:butt;stroke-linejoin:miter;stroke-opacity:1\"/>\n",
       "<path class=\"bond-3\" d=\"M 79.7876,80.2906 L 81.1773,83.6064\" style=\"fill:none;fill-rule:evenodd;stroke:#000000;stroke-width:2px;stroke-linecap:butt;stroke-linejoin:miter;stroke-opacity:1\"/>\n",
       "<path class=\"bond-3\" d=\"M 77.32,81.0465 L 78.9082,84.8358\" style=\"fill:none;fill-rule:evenodd;stroke:#000000;stroke-width:2px;stroke-linecap:butt;stroke-linejoin:miter;stroke-opacity:1\"/>\n",
       "<path class=\"bond-3\" d=\"M 74.8523,81.8023 L 76.6391,86.0653\" style=\"fill:none;fill-rule:evenodd;stroke:#000000;stroke-width:2px;stroke-linecap:butt;stroke-linejoin:miter;stroke-opacity:1\"/>\n",
       "<path class=\"bond-3\" d=\"M 72.3847,82.5581 L 74.37,87.2948\" style=\"fill:none;fill-rule:evenodd;stroke:#000000;stroke-width:2px;stroke-linecap:butt;stroke-linejoin:miter;stroke-opacity:1\"/>\n",
       "<path class=\"bond-4\" d=\"M 97.061,75 L 98.4111,64.403\" style=\"fill:none;fill-rule:evenodd;stroke:#000000;stroke-width:2px;stroke-linecap:butt;stroke-linejoin:miter;stroke-opacity:1\"/>\n",
       "<path class=\"bond-4\" d=\"M 98.4111,64.403 L 99.7611,53.8061\" style=\"fill:none;fill-rule:evenodd;stroke:#0000FF;stroke-width:2px;stroke-linecap:butt;stroke-linejoin:miter;stroke-opacity:1\"/>\n",
       "<path class=\"bond-6\" d=\"M 97.061,75 L 117.499,90.5475\" style=\"fill:none;fill-rule:evenodd;stroke:#000000;stroke-width:2px;stroke-linecap:butt;stroke-linejoin:miter;stroke-opacity:1\"/>\n",
       "<path class=\"bond-5\" d=\"M 96.5967,46.7042 L 81.8666,35.499\" style=\"fill:none;fill-rule:evenodd;stroke:#E5E5E5;stroke-width:2px;stroke-linecap:butt;stroke-linejoin:miter;stroke-opacity:1\"/>\n",
       "<path class=\"bond-7\" d=\"M 114.952,90.2229 L 112.252,111.417\" style=\"fill:none;fill-rule:evenodd;stroke:#E5E5E5;stroke-width:2px;stroke-linecap:butt;stroke-linejoin:miter;stroke-opacity:1\"/>\n",
       "<path class=\"bond-7\" d=\"M 120.047,90.872 L 117.347,112.066\" style=\"fill:none;fill-rule:evenodd;stroke:#E5E5E5;stroke-width:2px;stroke-linecap:butt;stroke-linejoin:miter;stroke-opacity:1\"/>\n",
       "<path class=\"bond-8\" d=\"M 117.499,90.5475 L 139.184,81.4587\" style=\"fill:none;fill-rule:evenodd;stroke:#E5E5E5;stroke-width:2px;stroke-linecap:butt;stroke-linejoin:miter;stroke-opacity:1\"/>\n",
       "<text dominant-baseline=\"central\" style=\"font-size:8px;font-style:normal;font-weight:normal;fill-opacity:1;stroke:none;font-family:sans-serif;fill:#7F7F7F\" text-anchor=\"end\" x=\"9.95956\" y=\"65.0419\"><tspan>*</tspan></text>\n",
       "<text dominant-baseline=\"central\" style=\"font-size:8px;font-style:normal;font-weight:normal;fill-opacity:1;stroke:none;font-family:sans-serif;fill:#0000FF\" text-anchor=\"start\" x=\"97.4527\" y=\"50.8101\"><tspan>NH</tspan></text>\n",
       "<text dominant-baseline=\"central\" style=\"font-size:8px;font-style:normal;font-weight:normal;fill-opacity:1;stroke:none;font-family:sans-serif;fill:#7F7F7F\" text-anchor=\"end\" x=\"81.0106\" y=\"35.2626\"><tspan>*</tspan></text>\n",
       "<text dominant-baseline=\"central\" style=\"font-size:8px;font-style:normal;font-weight:normal;fill-opacity:1;stroke:none;font-family:sans-serif;fill:#7F7F7F\" text-anchor=\"start\" x=\"113.111\" y=\"117.305\"><tspan>*</tspan></text>\n",
       "<text dominant-baseline=\"central\" style=\"font-size:8px;font-style:normal;font-weight:normal;fill-opacity:1;stroke:none;font-family:sans-serif;fill:#7F7F7F\" text-anchor=\"start\" x=\"140.04\" y=\"81.905\"><tspan>*</tspan></text>\n",
       "</svg>"
      ],
      "text/plain": [
       "<IPython.core.display.SVG object>"
      ]
     },
     "metadata": {},
     "output_type": "display_data"
    },
    {
     "name": "stdout",
     "output_type": "stream",
     "text": [
      "found the bit in compound 40 aka CU-2010\n",
      "it is likely to be a negative feature.\n"
     ]
    },
    {
     "data": {
      "image/svg+xml": [
       "<svg baseProfile=\"full\" height=\"150px\" version=\"1.1\" viewBox=\"0 0 150 150\" width=\"150px\" xml:space=\"preserve\" xmlns=\"http://www.w3.org/2000/svg\" xmlns:rdkit=\"http://www.rdkit.org/xml\" xmlns:xlink=\"http://www.w3.org/1999/xlink\">\n",
       "<!-- END OF HEADER -->\n",
       "<rect height=\"150\" style=\"opacity:1.0;fill:#FFFFFF;stroke:none\" width=\"150\" x=\"0\" y=\"0\"> </rect>\n",
       "<ellipse cx=\"104.321\" cy=\"109.784\" rx=\"5.74073\" ry=\"5.74073\" style=\"fill:#E5E533;fill-rule:evenodd;stroke:#E5E533;stroke-width:2px;stroke-linecap:butt;stroke-linejoin:miter;stroke-opacity:1\"/>\n",
       "<ellipse cx=\"76.1351\" cy=\"68.8296\" rx=\"5.74073\" ry=\"5.74073\" style=\"fill:#9999E5;fill-rule:evenodd;stroke:#9999E5;stroke-width:2px;stroke-linecap:butt;stroke-linejoin:miter;stroke-opacity:1\"/>\n",
       "<path class=\"bond-0\" d=\"M 109.073,133.387 L 107.182,109.557\" style=\"fill:none;fill-rule:evenodd;stroke:#E5E5E5;stroke-width:2px;stroke-linecap:butt;stroke-linejoin:miter;stroke-opacity:1\"/>\n",
       "<path class=\"bond-0\" d=\"M 103.35,133.841 L 101.459,110.011\" style=\"fill:none;fill-rule:evenodd;stroke:#E5E5E5;stroke-width:2px;stroke-linecap:butt;stroke-linejoin:miter;stroke-opacity:1;stroke-dasharray:6,6\"/>\n",
       "<path class=\"bond-1\" d=\"M 105.948,112.149 L 127.359,97.4132\" style=\"fill:none;fill-rule:evenodd;stroke:#E5E5E5;stroke-width:2px;stroke-linecap:butt;stroke-linejoin:miter;stroke-opacity:1\"/>\n",
       "<path class=\"bond-1\" d=\"M 102.693,107.42 L 124.104,92.6842\" style=\"fill:none;fill-rule:evenodd;stroke:#E5E5E5;stroke-width:2px;stroke-linecap:butt;stroke-linejoin:miter;stroke-opacity:1;stroke-dasharray:6,6\"/>\n",
       "<path class=\"bond-2\" d=\"M 104.321,109.784 L 78.4054,97.4433\" style=\"fill:none;fill-rule:evenodd;stroke:#000000;stroke-width:2px;stroke-linecap:butt;stroke-linejoin:miter;stroke-opacity:1\"/>\n",
       "<path class=\"bond-3\" d=\"M 78.4054,97.4433 L 76.1351,68.8296\" style=\"fill:none;fill-rule:evenodd;stroke:#000000;stroke-width:2px;stroke-linecap:butt;stroke-linejoin:miter;stroke-opacity:1\"/>\n",
       "<path class=\"bond-4\" d=\"M 76.1351,68.8296 L 50.2198,56.4888\" style=\"fill:none;fill-rule:evenodd;stroke:#000000;stroke-width:2px;stroke-linecap:butt;stroke-linejoin:miter;stroke-opacity:1\"/>\n",
       "<path class=\"bond-5\" d=\"M 50.2198,56.4888 L 47.9495,27.8751\" style=\"fill:none;fill-rule:evenodd;stroke:#000000;stroke-width:2px;stroke-linecap:butt;stroke-linejoin:miter;stroke-opacity:1\"/>\n",
       "<path class=\"bond-6\" d=\"M 45.7048,26.4882 L 45.458,27.0065\" style=\"fill:none;fill-rule:evenodd;stroke:#E5E5E5;stroke-width:2px;stroke-linecap:butt;stroke-linejoin:miter;stroke-opacity:1\"/>\n",
       "<path class=\"bond-6\" d=\"M 43.4601,25.1014 L 42.9665,26.138\" style=\"fill:none;fill-rule:evenodd;stroke:#E5E5E5;stroke-width:2px;stroke-linecap:butt;stroke-linejoin:miter;stroke-opacity:1\"/>\n",
       "<path class=\"bond-6\" d=\"M 41.2154,23.7145 L 40.4749,25.2695\" style=\"fill:none;fill-rule:evenodd;stroke:#E5E5E5;stroke-width:2px;stroke-linecap:butt;stroke-linejoin:miter;stroke-opacity:1\"/>\n",
       "<path class=\"bond-6\" d=\"M 38.9706,22.3277 L 37.9834,24.4009\" style=\"fill:none;fill-rule:evenodd;stroke:#E5E5E5;stroke-width:2px;stroke-linecap:butt;stroke-linejoin:miter;stroke-opacity:1\"/>\n",
       "<path class=\"bond-6\" d=\"M 36.7259,20.9408 L 35.4918,23.5324\" style=\"fill:none;fill-rule:evenodd;stroke:#E5E5E5;stroke-width:2px;stroke-linecap:butt;stroke-linejoin:miter;stroke-opacity:1\"/>\n",
       "<path class=\"bond-6\" d=\"M 34.4812,19.554 L 33.0003,22.6638\" style=\"fill:none;fill-rule:evenodd;stroke:#E5E5E5;stroke-width:2px;stroke-linecap:butt;stroke-linejoin:miter;stroke-opacity:1\"/>\n",
       "<path class=\"bond-6\" d=\"M 32.2365,18.1671 L 30.5088,21.7953\" style=\"fill:none;fill-rule:evenodd;stroke:#E5E5E5;stroke-width:2px;stroke-linecap:butt;stroke-linejoin:miter;stroke-opacity:1\"/>\n",
       "<path class=\"bond-6\" d=\"M 29.9918,16.7803 L 28.0172,20.9267\" style=\"fill:none;fill-rule:evenodd;stroke:#E5E5E5;stroke-width:2px;stroke-linecap:butt;stroke-linejoin:miter;stroke-opacity:1\"/>\n",
       "<path class=\"bond-6\" d=\"M 27.747,15.3934 L 25.5257,20.0582\" style=\"fill:none;fill-rule:evenodd;stroke:#E5E5E5;stroke-width:2px;stroke-linecap:butt;stroke-linejoin:miter;stroke-opacity:1\"/>\n",
       "<path class=\"bond-6\" d=\"M 25.5023,14.0066 L 23.0342,19.1897\" style=\"fill:none;fill-rule:evenodd;stroke:#E5E5E5;stroke-width:2px;stroke-linecap:butt;stroke-linejoin:miter;stroke-opacity:1\"/>\n",
       "<path class=\"bond-7\" d=\"M 47.9495,27.8751 L 69.3606,13.1396\" style=\"fill:none;fill-rule:evenodd;stroke:#E5E5E5;stroke-width:2px;stroke-linecap:butt;stroke-linejoin:miter;stroke-opacity:1\"/>\n",
       "<text dominant-baseline=\"central\" style=\"font-size:9px;font-style:normal;font-weight:normal;fill-opacity:1;stroke:none;font-family:sans-serif;fill:#7F7F7F\" text-anchor=\"start\" x=\"105.314\" y=\"139.833\"><tspan>*</tspan></text>\n",
       "<text dominant-baseline=\"central\" style=\"font-size:9px;font-style:normal;font-weight:normal;fill-opacity:1;stroke:none;font-family:sans-serif;fill:#7F7F7F\" text-anchor=\"start\" x=\"126.689\" y=\"94.9464\"><tspan>*</tspan></text>\n",
       "<text dominant-baseline=\"central\" style=\"font-size:9px;font-style:normal;font-weight:normal;fill-opacity:1;stroke:none;font-family:sans-serif;fill:#7F7F7F\" text-anchor=\"end\" x=\"23.3114\" y=\"16.9695\"><tspan>*</tspan></text>\n",
       "<text dominant-baseline=\"central\" style=\"font-size:9px;font-style:normal;font-weight:normal;fill-opacity:1;stroke:none;font-family:sans-serif;fill:#7F7F7F\" text-anchor=\"start\" x=\"70.3174\" y=\"13.0373\"><tspan>*</tspan></text>\n",
       "</svg>"
      ],
      "text/plain": [
       "<IPython.core.display.SVG object>"
      ]
     },
     "metadata": {},
     "output_type": "display_data"
    },
    {
     "name": "stdout",
     "output_type": "stream",
     "text": [
      "found the bit in compound 10 aka SUBSTANCE-P\n",
      "it is likely it is a positive feature.\n"
     ]
    },
    {
     "data": {
      "image/svg+xml": [
       "<svg baseProfile=\"full\" height=\"150px\" version=\"1.1\" viewBox=\"0 0 150 150\" width=\"150px\" xml:space=\"preserve\" xmlns=\"http://www.w3.org/2000/svg\" xmlns:rdkit=\"http://www.rdkit.org/xml\" xmlns:xlink=\"http://www.w3.org/1999/xlink\">\n",
       "<!-- END OF HEADER -->\n",
       "<rect height=\"150\" style=\"opacity:1.0;fill:#FFFFFF;stroke:none\" width=\"150\" x=\"0\" y=\"0\"> </rect>\n",
       "<ellipse cx=\"55.3204\" cy=\"75\" rx=\"7.82379\" ry=\"7.82379\" style=\"fill:#9999E5;fill-rule:evenodd;stroke:#9999E5;stroke-width:2px;stroke-linecap:butt;stroke-linejoin:miter;stroke-opacity:1\"/>\n",
       "<ellipse cx=\"87.1624\" cy=\"52.276\" rx=\"7.82379\" ry=\"7.82379\" style=\"fill:#E5E533;fill-rule:evenodd;stroke:#E5E533;stroke-width:2px;stroke-linecap:butt;stroke-linejoin:miter;stroke-opacity:1\"/>\n",
       "<path class=\"bond-0\" d=\"M 55.972,115.675 L 56.4265,116.312\" style=\"fill:none;fill-rule:evenodd;stroke:#E5E5E5;stroke-width:2px;stroke-linecap:butt;stroke-linejoin:miter;stroke-opacity:1\"/>\n",
       "<path class=\"bond-0\" d=\"M 52.8651,117.411 L 53.774,118.685\" style=\"fill:none;fill-rule:evenodd;stroke:#E5E5E5;stroke-width:2px;stroke-linecap:butt;stroke-linejoin:miter;stroke-opacity:1\"/>\n",
       "<path class=\"bond-0\" d=\"M 49.7581,119.148 L 51.1215,121.059\" style=\"fill:none;fill-rule:evenodd;stroke:#E5E5E5;stroke-width:2px;stroke-linecap:butt;stroke-linejoin:miter;stroke-opacity:1\"/>\n",
       "<path class=\"bond-0\" d=\"M 46.6511,120.885 L 48.469,123.432\" style=\"fill:none;fill-rule:evenodd;stroke:#E5E5E5;stroke-width:2px;stroke-linecap:butt;stroke-linejoin:miter;stroke-opacity:1\"/>\n",
       "<path class=\"bond-0\" d=\"M 43.5441,122.621 L 45.8165,125.806\" style=\"fill:none;fill-rule:evenodd;stroke:#E5E5E5;stroke-width:2px;stroke-linecap:butt;stroke-linejoin:miter;stroke-opacity:1\"/>\n",
       "<path class=\"bond-0\" d=\"M 40.4372,124.358 L 43.1641,128.179\" style=\"fill:none;fill-rule:evenodd;stroke:#E5E5E5;stroke-width:2px;stroke-linecap:butt;stroke-linejoin:miter;stroke-opacity:1\"/>\n",
       "<path class=\"bond-0\" d=\"M 37.3302,126.095 L 40.5116,130.553\" style=\"fill:none;fill-rule:evenodd;stroke:#E5E5E5;stroke-width:2px;stroke-linecap:butt;stroke-linejoin:miter;stroke-opacity:1\"/>\n",
       "<path class=\"bond-0\" d=\"M 34.2232,127.832 L 37.8591,132.926\" style=\"fill:none;fill-rule:evenodd;stroke:#E5E5E5;stroke-width:2px;stroke-linecap:butt;stroke-linejoin:miter;stroke-opacity:1\"/>\n",
       "<path class=\"bond-0\" d=\"M 31.1163,129.568 L 35.2066,135.3\" style=\"fill:none;fill-rule:evenodd;stroke:#E5E5E5;stroke-width:2px;stroke-linecap:butt;stroke-linejoin:miter;stroke-opacity:1\"/>\n",
       "<path class=\"bond-0\" d=\"M 28.0093,131.305 L 32.5541,137.673\" style=\"fill:none;fill-rule:evenodd;stroke:#E5E5E5;stroke-width:2px;stroke-linecap:butt;stroke-linejoin:miter;stroke-opacity:1\"/>\n",
       "<path class=\"bond-1\" d=\"M 59.079,113.938 L 55.3204,75\" style=\"fill:none;fill-rule:evenodd;stroke:#000000;stroke-width:2px;stroke-linecap:butt;stroke-linejoin:miter;stroke-opacity:1\"/>\n",
       "<path class=\"bond-4\" d=\"M 59.079,113.938 L 91.6349,128.765\" style=\"fill:none;fill-rule:evenodd;stroke:#E5E5E5;stroke-width:2px;stroke-linecap:butt;stroke-linejoin:miter;stroke-opacity:1\"/>\n",
       "<path class=\"bond-2\" d=\"M 55.3204,75 L 87.1624,52.276\" style=\"fill:none;fill-rule:evenodd;stroke:#000000;stroke-width:2px;stroke-linecap:butt;stroke-linejoin:miter;stroke-opacity:1\"/>\n",
       "<path class=\"bond-3\" d=\"M 91.0562,51.9001 L 87.927,19.482\" style=\"fill:none;fill-rule:evenodd;stroke:#E5E5E5;stroke-width:2px;stroke-linecap:butt;stroke-linejoin:miter;stroke-opacity:1\"/>\n",
       "<path class=\"bond-3\" d=\"M 83.2686,52.6518 L 80.1394,20.2337\" style=\"fill:none;fill-rule:evenodd;stroke:#E5E5E5;stroke-width:2px;stroke-linecap:butt;stroke-linejoin:miter;stroke-opacity:1;stroke-dasharray:6,6\"/>\n",
       "<path class=\"bond-5\" d=\"M 85.541,55.836 L 118.097,70.6633\" style=\"fill:none;fill-rule:evenodd;stroke:#E5E5E5;stroke-width:2px;stroke-linecap:butt;stroke-linejoin:miter;stroke-opacity:1\"/>\n",
       "<path class=\"bond-5\" d=\"M 88.7838,48.7159 L 121.34,63.5432\" style=\"fill:none;fill-rule:evenodd;stroke:#E5E5E5;stroke-width:2px;stroke-linecap:butt;stroke-linejoin:miter;stroke-opacity:1;stroke-dasharray:6,6\"/>\n",
       "<text dominant-baseline=\"central\" style=\"font-size:13px;font-style:normal;font-weight:normal;fill-opacity:1;stroke:none;font-family:sans-serif;fill:#7F7F7F\" text-anchor=\"end\" x=\"28.9777\" y=\"138.618\"><tspan>*</tspan></text>\n",
       "<text dominant-baseline=\"central\" style=\"font-size:13px;font-style:normal;font-weight:normal;fill-opacity:1;stroke:none;font-family:sans-serif;fill:#7F7F7F\" text-anchor=\"start\" x=\"81.6631\" y=\"15.294\"><tspan>*</tspan></text>\n",
       "<text dominant-baseline=\"central\" style=\"font-size:13px;font-style:normal;font-weight:normal;fill-opacity:1;stroke:none;font-family:sans-serif;fill:#7F7F7F\" text-anchor=\"start\" x=\"92.9389\" y=\"132.108\"><tspan>*</tspan></text>\n",
       "<text dominant-baseline=\"central\" style=\"font-size:13px;font-style:normal;font-weight:normal;fill-opacity:1;stroke:none;font-family:sans-serif;fill:#7F7F7F\" text-anchor=\"start\" x=\"121.022\" y=\"70.4459\"><tspan>*</tspan></text>\n",
       "</svg>"
      ],
      "text/plain": [
       "<IPython.core.display.SVG object>"
      ]
     },
     "metadata": {},
     "output_type": "display_data"
    },
    {
     "name": "stdout",
     "output_type": "stream",
     "text": [
      "found the bit in compound 1 aka RWJ-51084\n",
      "it is likely it is a positive feature.\n"
     ]
    },
    {
     "data": {
      "image/svg+xml": [
       "<svg baseProfile=\"full\" height=\"150px\" version=\"1.1\" viewBox=\"0 0 150 150\" width=\"150px\" xml:space=\"preserve\" xmlns=\"http://www.w3.org/2000/svg\" xmlns:rdkit=\"http://www.rdkit.org/xml\" xmlns:xlink=\"http://www.w3.org/1999/xlink\">\n",
       "<!-- END OF HEADER -->\n",
       "<rect height=\"150\" style=\"opacity:1.0;fill:#FFFFFF;stroke:none\" width=\"150\" x=\"0\" y=\"0\"> </rect>\n",
       "<ellipse cx=\"75\" cy=\"75\" rx=\"7.59265\" ry=\"7.59265\" style=\"fill:#9999E5;fill-rule:evenodd;stroke:#9999E5;stroke-width:2px;stroke-linecap:butt;stroke-linejoin:miter;stroke-opacity:1\"/>\n",
       "<path class=\"bond-0\" d=\"M 12.7276,68.9379 L 39.9876,89.6746\" style=\"fill:none;fill-rule:evenodd;stroke:#E5E5E5;stroke-width:2px;stroke-linecap:butt;stroke-linejoin:miter;stroke-opacity:1\"/>\n",
       "<path class=\"bond-1\" d=\"M 71.352,76.1173 L 71.6455,76.8176\" style=\"fill:none;fill-rule:evenodd;stroke:#000000;stroke-width:2px;stroke-linecap:butt;stroke-linejoin:miter;stroke-opacity:1\"/>\n",
       "<path class=\"bond-1\" d=\"M 67.704,77.2347 L 68.291,78.6352\" style=\"fill:none;fill-rule:evenodd;stroke:#000000;stroke-width:2px;stroke-linecap:butt;stroke-linejoin:miter;stroke-opacity:1\"/>\n",
       "<path class=\"bond-1\" d=\"M 64.0561,78.352 L 64.9365,80.4527\" style=\"fill:none;fill-rule:evenodd;stroke:#000000;stroke-width:2px;stroke-linecap:butt;stroke-linejoin:miter;stroke-opacity:1\"/>\n",
       "<path class=\"bond-1\" d=\"M 60.4081,79.4693 L 61.582,82.2703\" style=\"fill:none;fill-rule:evenodd;stroke:#000000;stroke-width:2px;stroke-linecap:butt;stroke-linejoin:miter;stroke-opacity:1\"/>\n",
       "<path class=\"bond-1\" d=\"M 56.7601,80.5867 L 58.2275,84.0879\" style=\"fill:none;fill-rule:evenodd;stroke:#000000;stroke-width:2px;stroke-linecap:butt;stroke-linejoin:miter;stroke-opacity:1\"/>\n",
       "<path class=\"bond-1\" d=\"M 53.1121,81.704 L 54.8731,85.9055\" style=\"fill:none;fill-rule:evenodd;stroke:#000000;stroke-width:2px;stroke-linecap:butt;stroke-linejoin:miter;stroke-opacity:1\"/>\n",
       "<path class=\"bond-1\" d=\"M 49.4641,82.8213 L 51.5186,87.7231\" style=\"fill:none;fill-rule:evenodd;stroke:#000000;stroke-width:2px;stroke-linecap:butt;stroke-linejoin:miter;stroke-opacity:1\"/>\n",
       "<path class=\"bond-1\" d=\"M 45.8161,83.9387 L 48.1641,89.5406\" style=\"fill:none;fill-rule:evenodd;stroke:#000000;stroke-width:2px;stroke-linecap:butt;stroke-linejoin:miter;stroke-opacity:1\"/>\n",
       "<path class=\"bond-1\" d=\"M 42.1682,85.056 L 44.8096,91.3582\" style=\"fill:none;fill-rule:evenodd;stroke:#000000;stroke-width:2px;stroke-linecap:butt;stroke-linejoin:miter;stroke-opacity:1\"/>\n",
       "<path class=\"bond-1\" d=\"M 38.5202,86.1733 L 41.4551,93.1758\" style=\"fill:none;fill-rule:evenodd;stroke:#000000;stroke-width:2px;stroke-linecap:butt;stroke-linejoin:miter;stroke-opacity:1\"/>\n",
       "<path class=\"bond-2\" d=\"M 75,75 L 76.9958,59.3342\" style=\"fill:none;fill-rule:evenodd;stroke:#000000;stroke-width:2px;stroke-linecap:butt;stroke-linejoin:miter;stroke-opacity:1\"/>\n",
       "<path class=\"bond-2\" d=\"M 76.9958,59.3342 L 78.9916,43.6683\" style=\"fill:none;fill-rule:evenodd;stroke:#0000FF;stroke-width:2px;stroke-linecap:butt;stroke-linejoin:miter;stroke-opacity:1\"/>\n",
       "<path class=\"bond-4\" d=\"M 75,75 L 105.215,97.9843\" style=\"fill:none;fill-rule:evenodd;stroke:#000000;stroke-width:2px;stroke-linecap:butt;stroke-linejoin:miter;stroke-opacity:1\"/>\n",
       "<path class=\"bond-3\" d=\"M 74.3135,33.1694 L 52.5376,16.6045\" style=\"fill:none;fill-rule:evenodd;stroke:#E5E5E5;stroke-width:2px;stroke-linecap:butt;stroke-linejoin:miter;stroke-opacity:1\"/>\n",
       "<path class=\"bond-5\" d=\"M 101.449,97.5045 L 97.4573,128.836\" style=\"fill:none;fill-rule:evenodd;stroke:#E5E5E5;stroke-width:2px;stroke-linecap:butt;stroke-linejoin:miter;stroke-opacity:1\"/>\n",
       "<path class=\"bond-5\" d=\"M 108.981,98.4641 L 104.989,129.796\" style=\"fill:none;fill-rule:evenodd;stroke:#E5E5E5;stroke-width:2px;stroke-linecap:butt;stroke-linejoin:miter;stroke-opacity:1\"/>\n",
       "<path class=\"bond-6\" d=\"M 105.215,97.9843 L 137.272,84.5481\" style=\"fill:none;fill-rule:evenodd;stroke:#E5E5E5;stroke-width:2px;stroke-linecap:butt;stroke-linejoin:miter;stroke-opacity:1\"/>\n",
       "<text dominant-baseline=\"central\" style=\"font-size:12px;font-style:normal;font-weight:normal;fill-opacity:1;stroke:none;font-family:sans-serif;fill:#7F7F7F\" text-anchor=\"end\" x=\"11.4622\" y=\"68.5884\"><tspan>*</tspan></text>\n",
       "<text dominant-baseline=\"central\" style=\"font-size:12px;font-style:normal;font-weight:normal;fill-opacity:1;stroke:none;font-family:sans-serif;fill:#0000FF\" text-anchor=\"start\" x=\"75.579\" y=\"39.2393\"><tspan>NH</tspan></text>\n",
       "<text dominant-baseline=\"central\" style=\"font-size:12px;font-style:normal;font-weight:normal;fill-opacity:1;stroke:none;font-family:sans-serif;fill:#7F7F7F\" text-anchor=\"end\" x=\"51.2722\" y=\"16.255\"><tspan>*</tspan></text>\n",
       "<text dominant-baseline=\"central\" style=\"font-size:12px;font-style:normal;font-weight:normal;fill-opacity:1;stroke:none;font-family:sans-serif;fill:#7F7F7F\" text-anchor=\"start\" x=\"98.7278\" y=\"137.541\"><tspan>*</tspan></text>\n",
       "<text dominant-baseline=\"central\" style=\"font-size:12px;font-style:normal;font-weight:normal;fill-opacity:1;stroke:none;font-family:sans-serif;fill:#7F7F7F\" text-anchor=\"start\" x=\"138.538\" y=\"85.2079\"><tspan>*</tspan></text>\n",
       "</svg>"
      ],
      "text/plain": [
       "<IPython.core.display.SVG object>"
      ]
     },
     "metadata": {},
     "output_type": "display_data"
    },
    {
     "name": "stdout",
     "output_type": "stream",
     "text": [
      "found the bit in compound 17 aka U-75799E\n",
      "it is likely to be a negative feature.\n"
     ]
    },
    {
     "data": {
      "image/svg+xml": [
       "<svg baseProfile=\"full\" height=\"150px\" version=\"1.1\" viewBox=\"0 0 150 150\" width=\"150px\" xml:space=\"preserve\" xmlns=\"http://www.w3.org/2000/svg\" xmlns:rdkit=\"http://www.rdkit.org/xml\" xmlns:xlink=\"http://www.w3.org/1999/xlink\">\n",
       "<!-- END OF HEADER -->\n",
       "<rect height=\"150\" style=\"opacity:1.0;fill:#FFFFFF;stroke:none\" width=\"150\" x=\"0\" y=\"0\"> </rect>\n",
       "<ellipse cx=\"78.4186\" cy=\"64.0799\" rx=\"6.51283\" ry=\"6.51283\" style=\"fill:#9999E5;fill-rule:evenodd;stroke:#9999E5;stroke-width:2px;stroke-linecap:butt;stroke-linejoin:miter;stroke-opacity:1\"/>\n",
       "<path class=\"bond-0\" d=\"M 116.247,105.916 L 140.051,88.783 L 135.683,83.9522 Z\" style=\"fill:#E5E5E5;fill-rule:evenodd;fill-opacity=1;stroke:#E5E5E5;stroke-width:2px;stroke-linecap:butt;stroke-linejoin:miter;stroke-opacity:1;\"/>\n",
       "<path class=\"bond-1\" d=\"M 116.247,105.916 L 121.919,132.327\" style=\"fill:none;fill-rule:evenodd;stroke:#E5E5E5;stroke-width:2px;stroke-linecap:butt;stroke-linejoin:miter;stroke-opacity:1\"/>\n",
       "<path class=\"bond-2\" d=\"M 116.247,105.916 L 103.103,101.676\" style=\"fill:none;fill-rule:evenodd;stroke:#000000;stroke-width:2px;stroke-linecap:butt;stroke-linejoin:miter;stroke-opacity:1\"/>\n",
       "<path class=\"bond-2\" d=\"M 103.103,101.676 L 89.9598,97.4357\" style=\"fill:none;fill-rule:evenodd;stroke:#0000FF;stroke-width:2px;stroke-linecap:butt;stroke-linejoin:miter;stroke-opacity:1\"/>\n",
       "<path class=\"bond-3\" d=\"M 84.0902,90.4908 L 81.2544,77.2853\" style=\"fill:none;fill-rule:evenodd;stroke:#0000FF;stroke-width:2px;stroke-linecap:butt;stroke-linejoin:miter;stroke-opacity:1\"/>\n",
       "<path class=\"bond-3\" d=\"M 81.2544,77.2853 L 78.4186,64.0799\" style=\"fill:none;fill-rule:evenodd;stroke:#000000;stroke-width:2px;stroke-linecap:butt;stroke-linejoin:miter;stroke-opacity:1\"/>\n",
       "<path class=\"bond-4\" d=\"M 80.6026,66.4953 L 90.1452,57.8669\" style=\"fill:none;fill-rule:evenodd;stroke:#000000;stroke-width:2px;stroke-linecap:butt;stroke-linejoin:miter;stroke-opacity:1\"/>\n",
       "<path class=\"bond-4\" d=\"M 90.1452,57.8669 L 99.6878,49.2384\" style=\"fill:none;fill-rule:evenodd;stroke:#FF0000;stroke-width:2px;stroke-linecap:butt;stroke-linejoin:miter;stroke-opacity:1\"/>\n",
       "<path class=\"bond-4\" d=\"M 76.2345,61.6645 L 85.7771,53.036\" style=\"fill:none;fill-rule:evenodd;stroke:#000000;stroke-width:2px;stroke-linecap:butt;stroke-linejoin:miter;stroke-opacity:1\"/>\n",
       "<path class=\"bond-4\" d=\"M 85.7771,53.036 L 95.3197,44.4076\" style=\"fill:none;fill-rule:evenodd;stroke:#FF0000;stroke-width:2px;stroke-linecap:butt;stroke-linejoin:miter;stroke-opacity:1\"/>\n",
       "<path class=\"bond-5\" d=\"M 78.4186,64.0799 L 47.4272,54.0818\" style=\"fill:none;fill-rule:evenodd;stroke:#000000;stroke-width:2px;stroke-linecap:butt;stroke-linejoin:miter;stroke-opacity:1\"/>\n",
       "<path class=\"bond-6\" d=\"M 47.4272,54.0818 L 37.5158,60.8486 L 39.6999,63.2641 Z\" style=\"fill:#000000;fill-rule:evenodd;fill-opacity=1;stroke:#000000;stroke-width:2px;stroke-linecap:butt;stroke-linejoin:miter;stroke-opacity:1;\"/>\n",
       "<path class=\"bond-6\" d=\"M 37.5158,60.8486 L 31.9725,72.4463 L 27.6044,67.6154 Z\" style=\"fill:#0000FF;fill-rule:evenodd;fill-opacity=1;stroke:#0000FF;stroke-width:2px;stroke-linecap:butt;stroke-linejoin:miter;stroke-opacity:1;\"/>\n",
       "<path class=\"bond-6\" d=\"M 37.5158,60.8486 L 39.6999,63.2641 L 31.9725,72.4463 Z\" style=\"fill:#0000FF;fill-rule:evenodd;fill-opacity=1;stroke:#0000FF;stroke-width:2px;stroke-linecap:butt;stroke-linejoin:miter;stroke-opacity:1;\"/>\n",
       "<path class=\"bond-7\" d=\"M 47.4272,54.0818 L 40.5901,22.2436\" style=\"fill:none;fill-rule:evenodd;stroke:#000000;stroke-width:2px;stroke-linecap:butt;stroke-linejoin:miter;stroke-opacity:1\"/>\n",
       "<path class=\"bond-8\" d=\"M 40.5901,22.2436 L 12.1333,13.0632\" style=\"fill:none;fill-rule:evenodd;stroke:#E5E5E5;stroke-width:2px;stroke-linecap:butt;stroke-linejoin:miter;stroke-opacity:1\"/>\n",
       "<text dominant-baseline=\"central\" style=\"font-size:10px;font-style:normal;font-weight:normal;fill-opacity:1;stroke:none;font-family:sans-serif;fill:#7F7F7F\" text-anchor=\"start\" x=\"138.952\" y=\"85.7041\"><tspan>*</tspan></text>\n",
       "<text dominant-baseline=\"central\" style=\"font-size:10px;font-style:normal;font-weight:normal;fill-opacity:1;stroke:none;font-family:sans-serif;fill:#7F7F7F\" text-anchor=\"start\" x=\"121.635\" y=\"139.383\"><tspan>*</tspan></text>\n",
       "<text dominant-baseline=\"central\" style=\"font-size:10px;font-style:normal;font-weight:normal;fill-opacity:1;stroke:none;font-family:sans-serif;fill:#0000FF\" text-anchor=\"end\" x=\"88.8743\" y=\"97.5464\"><tspan>HN</tspan></text>\n",
       "<text dominant-baseline=\"central\" style=\"font-size:10px;font-style:normal;font-weight:normal;fill-opacity:1;stroke:none;font-family:sans-serif;fill:#FF0000\" text-anchor=\"start\" x=\"98.5892\" y=\"43.8678\"><tspan>O</tspan></text>\n",
       "<text dominant-baseline=\"central\" style=\"font-size:10px;font-style:normal;font-weight:normal;fill-opacity:1;stroke:none;font-family:sans-serif;fill:#0000FF\" text-anchor=\"end\" x=\"26.7832\" y=\"77.7131\"><tspan>H</tspan><tspan style=\"baseline-shift:sub;font-size:7.5px;\">2</tspan><tspan>N</tspan></text>\n",
       "<text dominant-baseline=\"central\" style=\"font-size:10px;font-style:normal;font-weight:normal;fill-opacity:1;stroke:none;font-family:sans-serif;fill:#7F7F7F\" text-anchor=\"end\" x=\"11.0478\" y=\"13.8737\"><tspan>*</tspan></text>\n",
       "</svg>"
      ],
      "text/plain": [
       "<IPython.core.display.SVG object>"
      ]
     },
     "metadata": {},
     "output_type": "display_data"
    },
    {
     "name": "stdout",
     "output_type": "stream",
     "text": [
      "found the bit in compound 1 aka RWJ-51084\n",
      "it is likely it is a positive feature.\n"
     ]
    },
    {
     "data": {
      "image/svg+xml": [
       "<svg baseProfile=\"full\" height=\"150px\" version=\"1.1\" viewBox=\"0 0 150 150\" width=\"150px\" xml:space=\"preserve\" xmlns=\"http://www.w3.org/2000/svg\" xmlns:rdkit=\"http://www.rdkit.org/xml\" xmlns:xlink=\"http://www.w3.org/1999/xlink\">\n",
       "<!-- END OF HEADER -->\n",
       "<rect height=\"150\" style=\"opacity:1.0;fill:#FFFFFF;stroke:none\" width=\"150\" x=\"0\" y=\"0\"> </rect>\n",
       "<ellipse cx=\"75\" cy=\"97.0119\" rx=\"7.59265\" ry=\"7.59265\" style=\"fill:#9999E5;fill-rule:evenodd;stroke:#9999E5;stroke-width:2px;stroke-linecap:butt;stroke-linejoin:miter;stroke-opacity:1\"/>\n",
       "<path class=\"bond-0\" d=\"M 12.7276,87.4637 L 44.7853,74.0275\" style=\"fill:none;fill-rule:evenodd;stroke:#E5E5E5;stroke-width:2px;stroke-linecap:butt;stroke-linejoin:miter;stroke-opacity:1\"/>\n",
       "<path class=\"bond-1\" d=\"M 44.7853,74.0275 L 75,97.0119\" style=\"fill:none;fill-rule:evenodd;stroke:#000000;stroke-width:2px;stroke-linecap:butt;stroke-linejoin:miter;stroke-opacity:1\"/>\n",
       "<path class=\"bond-2\" d=\"M 75,97.0119 L 110.012,82.3373\" style=\"fill:none;fill-rule:evenodd;stroke:#000000;stroke-width:2px;stroke-linecap:butt;stroke-linejoin:miter;stroke-opacity:1\"/>\n",
       "<path class=\"bond-3\" d=\"M 110.788,79.2521 L 110.035,79.1561\" style=\"fill:none;fill-rule:evenodd;stroke:#E5E5E5;stroke-width:2px;stroke-linecap:butt;stroke-linejoin:miter;stroke-opacity:1\"/>\n",
       "<path class=\"bond-3\" d=\"M 111.564,76.1669 L 110.057,75.975\" style=\"fill:none;fill-rule:evenodd;stroke:#E5E5E5;stroke-width:2px;stroke-linecap:butt;stroke-linejoin:miter;stroke-opacity:1\"/>\n",
       "<path class=\"bond-3\" d=\"M 112.34,73.0817 L 110.08,72.7939\" style=\"fill:none;fill-rule:evenodd;stroke:#E5E5E5;stroke-width:2px;stroke-linecap:butt;stroke-linejoin:miter;stroke-opacity:1\"/>\n",
       "<path class=\"bond-3\" d=\"M 113.115,69.9965 L 110.103,69.6127\" style=\"fill:none;fill-rule:evenodd;stroke:#E5E5E5;stroke-width:2px;stroke-linecap:butt;stroke-linejoin:miter;stroke-opacity:1\"/>\n",
       "<path class=\"bond-3\" d=\"M 113.891,66.9113 L 110.125,66.4316\" style=\"fill:none;fill-rule:evenodd;stroke:#E5E5E5;stroke-width:2px;stroke-linecap:butt;stroke-linejoin:miter;stroke-opacity:1\"/>\n",
       "<path class=\"bond-3\" d=\"M 114.667,63.8261 L 110.148,63.2504\" style=\"fill:none;fill-rule:evenodd;stroke:#E5E5E5;stroke-width:2px;stroke-linecap:butt;stroke-linejoin:miter;stroke-opacity:1\"/>\n",
       "<path class=\"bond-3\" d=\"M 115.443,60.7409 L 110.17,60.0693\" style=\"fill:none;fill-rule:evenodd;stroke:#E5E5E5;stroke-width:2px;stroke-linecap:butt;stroke-linejoin:miter;stroke-opacity:1\"/>\n",
       "<path class=\"bond-3\" d=\"M 116.218,57.6558 L 110.193,56.8881\" style=\"fill:none;fill-rule:evenodd;stroke:#E5E5E5;stroke-width:2px;stroke-linecap:butt;stroke-linejoin:miter;stroke-opacity:1\"/>\n",
       "<path class=\"bond-3\" d=\"M 116.994,54.5706 L 110.215,53.707\" style=\"fill:none;fill-rule:evenodd;stroke:#E5E5E5;stroke-width:2px;stroke-linecap:butt;stroke-linejoin:miter;stroke-opacity:1\"/>\n",
       "<path class=\"bond-3\" d=\"M 117.77,51.4854 L 110.238,50.5259\" style=\"fill:none;fill-rule:evenodd;stroke:#E5E5E5;stroke-width:2px;stroke-linecap:butt;stroke-linejoin:miter;stroke-opacity:1\"/>\n",
       "<path class=\"bond-4\" d=\"M 110.012,82.3373 L 137.272,103.074\" style=\"fill:none;fill-rule:evenodd;stroke:#E5E5E5;stroke-width:2px;stroke-linecap:butt;stroke-linejoin:miter;stroke-opacity:1\"/>\n",
       "<text dominant-baseline=\"central\" style=\"font-size:12px;font-style:normal;font-weight:normal;fill-opacity:1;stroke:none;font-family:sans-serif;fill:#7F7F7F\" text-anchor=\"end\" x=\"11.4622\" y=\"90.6003\"><tspan>*</tspan></text>\n",
       "<text dominant-baseline=\"central\" style=\"font-size:12px;font-style:normal;font-weight:normal;fill-opacity:1;stroke:none;font-family:sans-serif;fill:#7F7F7F\" text-anchor=\"start\" x=\"113.121\" y=\"46.5766\"><tspan>*H</tspan></text>\n",
       "<text dominant-baseline=\"central\" style=\"font-size:12px;font-style:normal;font-weight:normal;fill-opacity:1;stroke:none;font-family:sans-serif;fill:#7F7F7F\" text-anchor=\"start\" x=\"138.538\" y=\"107.22\"><tspan>*</tspan></text>\n",
       "</svg>"
      ],
      "text/plain": [
       "<IPython.core.display.SVG object>"
      ]
     },
     "metadata": {},
     "output_type": "display_data"
    },
    {
     "name": "stdout",
     "output_type": "stream",
     "text": [
      "found the bit in compound 34 aka DEPREOTIDE\n",
      "it is likely to be a negative feature.\n"
     ]
    },
    {
     "data": {
      "image/svg+xml": [
       "<svg baseProfile=\"full\" height=\"150px\" version=\"1.1\" viewBox=\"0 0 150 150\" width=\"150px\" xml:space=\"preserve\" xmlns=\"http://www.w3.org/2000/svg\" xmlns:rdkit=\"http://www.rdkit.org/xml\" xmlns:xlink=\"http://www.w3.org/1999/xlink\">\n",
       "<!-- END OF HEADER -->\n",
       "<rect height=\"150\" style=\"opacity:1.0;fill:#FFFFFF;stroke:none\" width=\"150\" x=\"0\" y=\"0\"> </rect>\n",
       "<ellipse cx=\"34.7556\" cy=\"76.6432\" rx=\"4.87465\" ry=\"4.87465\" style=\"fill:#CCCCCC;fill-rule:evenodd;stroke:#CCCCCC;stroke-width:2px;stroke-linecap:butt;stroke-linejoin:miter;stroke-opacity:1\"/>\n",
       "<ellipse cx=\"58.5776\" cy=\"71.4891\" rx=\"4.87465\" ry=\"4.87465\" style=\"fill:#CCCCCC;fill-rule:evenodd;stroke:#CCCCCC;stroke-width:2px;stroke-linecap:butt;stroke-linejoin:miter;stroke-opacity:1\"/>\n",
       "<ellipse cx=\"82.7259\" cy=\"74.7933\" rx=\"4.87465\" ry=\"4.87465\" style=\"fill:#9999E5;fill-rule:evenodd;stroke:#9999E5;stroke-width:2px;stroke-linecap:butt;stroke-linejoin:miter;stroke-opacity:1\"/>\n",
       "<ellipse cx=\"113.995\" cy=\"46.4316\" rx=\"4.87465\" ry=\"4.87465\" style=\"fill:#E5E533;fill-rule:evenodd;stroke:#E5E533;stroke-width:2px;stroke-linecap:butt;stroke-linejoin:miter;stroke-opacity:1\"/>\n",
       "<ellipse cx=\"104.288\" cy=\"86.1575\" rx=\"4.87465\" ry=\"4.87465\" style=\"fill:#CCCCCC;fill-rule:evenodd;stroke:#CCCCCC;stroke-width:2px;stroke-linecap:butt;stroke-linejoin:miter;stroke-opacity:1\"/>\n",
       "<ellipse cx=\"120.662\" cy=\"104.211\" rx=\"4.87465\" ry=\"4.87465\" style=\"fill:#CCCCCC;fill-rule:evenodd;stroke:#CCCCCC;stroke-width:2px;stroke-linecap:butt;stroke-linejoin:miter;stroke-opacity:1\"/>\n",
       "<path class=\"bond-0\" d=\"M 17.654,87.4162 L 29.6062,82.7677 L 27.008,78.6432 Z\" style=\"fill:#E5E5E5;fill-rule:evenodd;fill-opacity=1;stroke:#E5E5E5;stroke-width:2px;stroke-linecap:butt;stroke-linejoin:miter;stroke-opacity:1;\"/>\n",
       "<path class=\"bond-1\" d=\"M 38.2765,75.8814 L 48.4271,73.6852\" style=\"fill:none;fill-rule:evenodd;stroke:#0000FF;stroke-width:2px;stroke-linecap:butt;stroke-linejoin:miter;stroke-opacity:1\"/>\n",
       "<path class=\"bond-1\" d=\"M 48.4271,73.6852 L 58.5776,71.4891\" style=\"fill:none;fill-rule:evenodd;stroke:#000000;stroke-width:2px;stroke-linecap:butt;stroke-linejoin:miter;stroke-opacity:1\"/>\n",
       "<path class=\"bond-2\" d=\"M 61.0132,71.3951 L 60.6219,61.2487\" style=\"fill:none;fill-rule:evenodd;stroke:#000000;stroke-width:2px;stroke-linecap:butt;stroke-linejoin:miter;stroke-opacity:1\"/>\n",
       "<path class=\"bond-2\" d=\"M 60.6219,61.2487 L 60.2306,51.1022\" style=\"fill:none;fill-rule:evenodd;stroke:#FF0000;stroke-width:2px;stroke-linecap:butt;stroke-linejoin:miter;stroke-opacity:1\"/>\n",
       "<path class=\"bond-2\" d=\"M 56.1421,71.583 L 55.7508,61.4365\" style=\"fill:none;fill-rule:evenodd;stroke:#000000;stroke-width:2px;stroke-linecap:butt;stroke-linejoin:miter;stroke-opacity:1\"/>\n",
       "<path class=\"bond-2\" d=\"M 55.7508,61.4365 L 55.3596,51.2901\" style=\"fill:none;fill-rule:evenodd;stroke:#FF0000;stroke-width:2px;stroke-linecap:butt;stroke-linejoin:miter;stroke-opacity:1\"/>\n",
       "<path class=\"bond-3\" d=\"M 58.5776,71.4891 L 82.7259,74.7933\" style=\"fill:none;fill-rule:evenodd;stroke:#000000;stroke-width:2px;stroke-linecap:butt;stroke-linejoin:miter;stroke-opacity:1\"/>\n",
       "<path class=\"bond-4\" d=\"M 83.7027,72.547 L 83.2385,72.3981\" style=\"fill:none;fill-rule:evenodd;stroke:#000000;stroke-width:2px;stroke-linecap:butt;stroke-linejoin:miter;stroke-opacity:1\"/>\n",
       "<path class=\"bond-4\" d=\"M 84.6795,70.3008 L 83.7512,70.0029\" style=\"fill:none;fill-rule:evenodd;stroke:#000000;stroke-width:2px;stroke-linecap:butt;stroke-linejoin:miter;stroke-opacity:1\"/>\n",
       "<path class=\"bond-4\" d=\"M 85.6563,68.0545 L 84.2638,67.6076\" style=\"fill:none;fill-rule:evenodd;stroke:#000000;stroke-width:2px;stroke-linecap:butt;stroke-linejoin:miter;stroke-opacity:1\"/>\n",
       "<path class=\"bond-4\" d=\"M 86.6331,65.8082 L 84.7765,65.2124\" style=\"fill:none;fill-rule:evenodd;stroke:#000000;stroke-width:2px;stroke-linecap:butt;stroke-linejoin:miter;stroke-opacity:1\"/>\n",
       "<path class=\"bond-4\" d=\"M 87.6099,63.5619 L 85.2892,62.8172\" style=\"fill:none;fill-rule:evenodd;stroke:#000000;stroke-width:2px;stroke-linecap:butt;stroke-linejoin:miter;stroke-opacity:1\"/>\n",
       "<path class=\"bond-4\" d=\"M 88.5867,61.3156 L 85.8018,60.4219\" style=\"fill:none;fill-rule:evenodd;stroke:#000000;stroke-width:2px;stroke-linecap:butt;stroke-linejoin:miter;stroke-opacity:1\"/>\n",
       "<path class=\"bond-4\" d=\"M 89.5635,59.0693 L 86.3145,58.0267\" style=\"fill:none;fill-rule:evenodd;stroke:#000000;stroke-width:2px;stroke-linecap:butt;stroke-linejoin:miter;stroke-opacity:1\"/>\n",
       "<path class=\"bond-4\" d=\"M 90.5403,56.8231 L 86.8271,55.6315\" style=\"fill:none;fill-rule:evenodd;stroke:#000000;stroke-width:2px;stroke-linecap:butt;stroke-linejoin:miter;stroke-opacity:1\"/>\n",
       "<path class=\"bond-4\" d=\"M 91.5172,54.5768 L 87.3398,53.2363\" style=\"fill:none;fill-rule:evenodd;stroke:#000000;stroke-width:2px;stroke-linecap:butt;stroke-linejoin:miter;stroke-opacity:1\"/>\n",
       "<path class=\"bond-4\" d=\"M 92.494,52.3305 L 87.8525,50.841\" style=\"fill:none;fill-rule:evenodd;stroke:#000000;stroke-width:2px;stroke-linecap:butt;stroke-linejoin:miter;stroke-opacity:1\"/>\n",
       "<path class=\"bond-7\" d=\"M 82.7259,74.7933 L 91.7463,79.5476\" style=\"fill:none;fill-rule:evenodd;stroke:#000000;stroke-width:2px;stroke-linecap:butt;stroke-linejoin:miter;stroke-opacity:1\"/>\n",
       "<path class=\"bond-7\" d=\"M 91.7463,79.5476 L 100.767,84.3018\" style=\"fill:none;fill-rule:evenodd;stroke:#0000FF;stroke-width:2px;stroke-linecap:butt;stroke-linejoin:miter;stroke-opacity:1\"/>\n",
       "<path class=\"bond-5\" d=\"M 90.1732,51.5858 L 113.995,46.4316\" style=\"fill:none;fill-rule:evenodd;stroke:#000000;stroke-width:2px;stroke-linecap:butt;stroke-linejoin:miter;stroke-opacity:1\"/>\n",
       "<path class=\"bond-6\" d=\"M 112.19,48.069 L 126.668,64.031\" style=\"fill:none;fill-rule:evenodd;stroke:#E5E5E5;stroke-width:2px;stroke-linecap:butt;stroke-linejoin:miter;stroke-opacity:1\"/>\n",
       "<path class=\"bond-6\" d=\"M 115.801,44.7941 L 130.278,60.756\" style=\"fill:none;fill-rule:evenodd;stroke:#E5E5E5;stroke-width:2px;stroke-linecap:butt;stroke-linejoin:miter;stroke-opacity:1;stroke-dasharray:6,6\"/>\n",
       "<path class=\"bond-12\" d=\"M 116.316,47.1763 L 122.46,28.031\" style=\"fill:none;fill-rule:evenodd;stroke:#E5E5E5;stroke-width:2px;stroke-linecap:butt;stroke-linejoin:miter;stroke-opacity:1\"/>\n",
       "<path class=\"bond-12\" d=\"M 111.674,45.6868 L 117.818,26.5415\" style=\"fill:none;fill-rule:evenodd;stroke:#E5E5E5;stroke-width:2px;stroke-linecap:butt;stroke-linejoin:miter;stroke-opacity:1;stroke-dasharray:6,6\"/>\n",
       "<path class=\"bond-8\" d=\"M 107.438,82.0953 L 113.33,74.496\" style=\"fill:none;fill-rule:evenodd;stroke:#0000FF;stroke-width:2px;stroke-linecap:butt;stroke-linejoin:miter;stroke-opacity:1\"/>\n",
       "<path class=\"bond-8\" d=\"M 113.33,74.496 L 119.223,66.8967\" style=\"fill:none;fill-rule:evenodd;stroke:#000000;stroke-width:2px;stroke-linecap:butt;stroke-linejoin:miter;stroke-opacity:1\"/>\n",
       "<path class=\"bond-9\" d=\"M 107.809,90.0394 L 114.235,97.1251\" style=\"fill:none;fill-rule:evenodd;stroke:#0000FF;stroke-width:2px;stroke-linecap:butt;stroke-linejoin:miter;stroke-opacity:1\"/>\n",
       "<path class=\"bond-9\" d=\"M 114.235,97.1251 L 120.662,104.211\" style=\"fill:none;fill-rule:evenodd;stroke:#000000;stroke-width:2px;stroke-linecap:butt;stroke-linejoin:miter;stroke-opacity:1\"/>\n",
       "<path class=\"bond-10\" d=\"M 121.961,106.273 L 140.687,94.4772\" style=\"fill:none;fill-rule:evenodd;stroke:#E5E5E5;stroke-width:2px;stroke-linecap:butt;stroke-linejoin:miter;stroke-opacity:1\"/>\n",
       "<path class=\"bond-10\" d=\"M 119.363,102.149 L 138.089,90.3527\" style=\"fill:none;fill-rule:evenodd;stroke:#E5E5E5;stroke-width:2px;stroke-linecap:butt;stroke-linejoin:miter;stroke-opacity:1\"/>\n",
       "<path class=\"bond-11\" d=\"M 128.216,122.714 L 122.919,103.29 L 118.406,105.132 Z\" style=\"fill:#E5E5E5;fill-rule:evenodd;fill-opacity=1;stroke:#E5E5E5;stroke-width:2px;stroke-linecap:butt;stroke-linejoin:miter;stroke-opacity:1;\"/>\n",
       "<text dominant-baseline=\"central\" style=\"font-size:8px;font-style:normal;font-weight:normal;fill-opacity:1;stroke:none;font-family:sans-serif;fill:#7F7F7F\" text-anchor=\"end\" x=\"15.2176\" y=\"90.8528\"><tspan>H*</tspan></text>\n",
       "<text dominant-baseline=\"central\" style=\"font-size:8px;font-style:normal;font-weight:normal;fill-opacity:1;stroke:none;font-family:sans-serif;fill:#0000FF\" text-anchor=\"end\" x=\"37.4641\" y=\"77.8619\"><tspan>HN</tspan></text>\n",
       "<text dominant-baseline=\"central\" style=\"font-size:8px;font-style:normal;font-weight:normal;fill-opacity:1;stroke:none;font-family:sans-serif;fill:#FF0000\" text-anchor=\"start\" x=\"54.6569\" y=\"48.3526\"><tspan>O</tspan></text>\n",
       "<text dominant-baseline=\"central\" style=\"font-size:8px;font-style:normal;font-weight:normal;fill-opacity:1;stroke:none;font-family:sans-serif;fill:#7F7F7F\" text-anchor=\"start\" x=\"129.285\" y=\"65.7036\"><tspan>*</tspan></text>\n",
       "<text dominant-baseline=\"central\" style=\"font-size:8px;font-style:normal;font-weight:normal;fill-opacity:1;stroke:none;font-family:sans-serif;fill:#0000FF\" text-anchor=\"end\" x=\"106.996\" y=\"87.3762\"><tspan>N</tspan></text>\n",
       "<text dominant-baseline=\"central\" style=\"font-size:8px;font-style:normal;font-weight:normal;fill-opacity:1;stroke:none;font-family:sans-serif;fill:#7F7F7F\" text-anchor=\"start\" x=\"140.2\" y=\"92.4386\"><tspan>*</tspan></text>\n",
       "<text dominant-baseline=\"central\" style=\"font-size:8px;font-style:normal;font-weight:normal;fill-opacity:1;stroke:none;font-family:sans-serif;fill:#7F7F7F\" text-anchor=\"start\" x=\"128.79\" y=\"127.995\"><tspan>*H</tspan></text>\n",
       "<text dominant-baseline=\"central\" style=\"font-size:8px;font-style:normal;font-weight:normal;fill-opacity:1;stroke:none;font-family:sans-serif;fill:#7F7F7F\" text-anchor=\"start\" x=\"120.358\" y=\"24.4427\"><tspan>*</tspan></text>\n",
       "</svg>"
      ],
      "text/plain": [
       "<IPython.core.display.SVG object>"
      ]
     },
     "metadata": {},
     "output_type": "display_data"
    },
    {
     "name": "stdout",
     "output_type": "stream",
     "text": [
      "found the bit in compound 0 aka NAFAMOSTAT\n",
      "it is likely it is a positive feature.\n"
     ]
    },
    {
     "data": {
      "image/svg+xml": [
       "<svg baseProfile=\"full\" height=\"150px\" version=\"1.1\" viewBox=\"0 0 150 150\" width=\"150px\" xml:space=\"preserve\" xmlns=\"http://www.w3.org/2000/svg\" xmlns:rdkit=\"http://www.rdkit.org/xml\" xmlns:xlink=\"http://www.w3.org/1999/xlink\">\n",
       "<!-- END OF HEADER -->\n",
       "<rect height=\"150\" style=\"opacity:1.0;fill:#FFFFFF;stroke:none\" width=\"150\" x=\"0\" y=\"0\"> </rect>\n",
       "<ellipse cx=\"30.1822\" cy=\"60.9907\" rx=\"5.98933\" ry=\"5.98933\" style=\"fill:#E5E533;fill-rule:evenodd;stroke:#E5E533;stroke-width:2px;stroke-linecap:butt;stroke-linejoin:miter;stroke-opacity:1\"/>\n",
       "<ellipse cx=\"59.1597\" cy=\"53.4337\" rx=\"5.98933\" ry=\"5.98933\" style=\"fill:#E5E533;fill-rule:evenodd;stroke:#E5E533;stroke-width:2px;stroke-linecap:butt;stroke-linejoin:miter;stroke-opacity:1\"/>\n",
       "<ellipse cx=\"80.193\" cy=\"74.7504\" rx=\"5.98933\" ry=\"5.98933\" style=\"fill:#9999E5;fill-rule:evenodd;stroke:#9999E5;stroke-width:2px;stroke-linecap:butt;stroke-linejoin:miter;stroke-opacity:1\"/>\n",
       "<ellipse cx=\"72.2488\" cy=\"103.624\" rx=\"5.98933\" ry=\"5.98933\" style=\"fill:#E5E533;fill-rule:evenodd;stroke:#E5E533;stroke-width:2px;stroke-linecap:butt;stroke-linejoin:miter;stroke-opacity:1\"/>\n",
       "<ellipse cx=\"43.2713\" cy=\"111.181\" rx=\"5.98933\" ry=\"5.98933\" style=\"fill:#E5E533;fill-rule:evenodd;stroke:#E5E533;stroke-width:2px;stroke-linecap:butt;stroke-linejoin:miter;stroke-opacity:1\"/>\n",
       "<path class=\"bond-0\" d=\"M 23.6113,84.8733 L 30.1822,60.9907\" style=\"fill:none;fill-rule:evenodd;stroke:#E5E5E5;stroke-width:2px;stroke-linecap:butt;stroke-linejoin:miter;stroke-opacity:1\"/>\n",
       "<path class=\"bond-0\" d=\"M 30.3717,82.8798 L 34.9713,66.1619\" style=\"fill:none;fill-rule:evenodd;stroke:#E5E5E5;stroke-width:2px;stroke-linecap:butt;stroke-linejoin:miter;stroke-opacity:1\"/>\n",
       "<path class=\"bond-9\" d=\"M 24.5688,92.2266 L 43.2713,111.181\" style=\"fill:none;fill-rule:evenodd;stroke:#E5E5E5;stroke-width:2px;stroke-linecap:butt;stroke-linejoin:miter;stroke-opacity:1\"/>\n",
       "<path class=\"bond-1\" d=\"M 30.1822,60.9907 L 11.4797,42.0362\" style=\"fill:none;fill-rule:evenodd;stroke:#E5E5E5;stroke-width:2px;stroke-linecap:butt;stroke-linejoin:miter;stroke-opacity:1\"/>\n",
       "<path class=\"bond-2\" d=\"M 30.1822,60.9907 L 59.1597,53.4337\" style=\"fill:none;fill-rule:evenodd;stroke:#000000;stroke-width:2px;stroke-linecap:butt;stroke-linejoin:miter;stroke-opacity:1\"/>\n",
       "<path class=\"bond-3\" d=\"M 59.1597,53.4337 L 80.193,74.7504\" style=\"fill:none;fill-rule:evenodd;stroke:#000000;stroke-width:2px;stroke-linecap:butt;stroke-linejoin:miter;stroke-opacity:1\"/>\n",
       "<path class=\"bond-3\" d=\"M 58.0514,60.8379 L 72.7747,75.7596\" style=\"fill:none;fill-rule:evenodd;stroke:#000000;stroke-width:2px;stroke-linecap:butt;stroke-linejoin:miter;stroke-opacity:1\"/>\n",
       "<path class=\"bond-4\" d=\"M 80.193,74.7504 L 72.2488,103.624\" style=\"fill:none;fill-rule:evenodd;stroke:#000000;stroke-width:2px;stroke-linecap:butt;stroke-linejoin:miter;stroke-opacity:1\"/>\n",
       "<path class=\"bond-6\" d=\"M 80.193,74.7504 L 109.17,67.1935\" style=\"fill:none;fill-rule:evenodd;stroke:#000000;stroke-width:2px;stroke-linecap:butt;stroke-linejoin:miter;stroke-opacity:1\"/>\n",
       "<path class=\"bond-5\" d=\"M 72.2488,103.624 L 43.2713,111.181\" style=\"fill:none;fill-rule:evenodd;stroke:#000000;stroke-width:2px;stroke-linecap:butt;stroke-linejoin:miter;stroke-opacity:1\"/>\n",
       "<path class=\"bond-5\" d=\"M 66.3908,98.9622 L 46.1066,104.252\" style=\"fill:none;fill-rule:evenodd;stroke:#000000;stroke-width:2px;stroke-linecap:butt;stroke-linejoin:miter;stroke-opacity:1\"/>\n",
       "<path class=\"bond-7\" d=\"M 107.039,69.2968 L 115.392,77.763\" style=\"fill:none;fill-rule:evenodd;stroke:#000000;stroke-width:2px;stroke-linecap:butt;stroke-linejoin:miter;stroke-opacity:1\"/>\n",
       "<path class=\"bond-7\" d=\"M 115.392,77.763 L 123.746,86.2292\" style=\"fill:none;fill-rule:evenodd;stroke:#0000FF;stroke-width:2px;stroke-linecap:butt;stroke-linejoin:miter;stroke-opacity:1\"/>\n",
       "<path class=\"bond-7\" d=\"M 111.302,65.0901 L 119.656,73.5563\" style=\"fill:none;fill-rule:evenodd;stroke:#000000;stroke-width:2px;stroke-linecap:butt;stroke-linejoin:miter;stroke-opacity:1\"/>\n",
       "<path class=\"bond-7\" d=\"M 119.656,73.5563 L 128.009,82.0225\" style=\"fill:none;fill-rule:evenodd;stroke:#0000FF;stroke-width:2px;stroke-linecap:butt;stroke-linejoin:miter;stroke-opacity:1\"/>\n",
       "<path class=\"bond-8\" d=\"M 109.17,67.1935 L 112.387,55.5017\" style=\"fill:none;fill-rule:evenodd;stroke:#000000;stroke-width:2px;stroke-linecap:butt;stroke-linejoin:miter;stroke-opacity:1\"/>\n",
       "<path class=\"bond-8\" d=\"M 112.387,55.5017 L 115.604,43.81\" style=\"fill:none;fill-rule:evenodd;stroke:#0000FF;stroke-width:2px;stroke-linecap:butt;stroke-linejoin:miter;stroke-opacity:1\"/>\n",
       "<text dominant-baseline=\"central\" style=\"font-size:9px;font-style:normal;font-weight:normal;fill-opacity:1;stroke:none;font-family:sans-serif;fill:#7F7F7F\" text-anchor=\"end\" x=\"23.5706\" y=\"91.3618\"><tspan>*</tspan></text>\n",
       "<text dominant-baseline=\"central\" style=\"font-size:9px;font-style:normal;font-weight:normal;fill-opacity:1;stroke:none;font-family:sans-serif;fill:#7F7F7F\" text-anchor=\"end\" x=\"10.4815\" y=\"41.1713\"><tspan>*</tspan></text>\n",
       "<text dominant-baseline=\"central\" style=\"font-size:9px;font-style:normal;font-weight:normal;fill-opacity:1;stroke:none;font-family:sans-serif;fill:#0000FF\" text-anchor=\"start\" x=\"126.876\" y=\"90.0075\"><tspan>NH</tspan></text>\n",
       "<text dominant-baseline=\"central\" style=\"font-size:9px;font-style:normal;font-weight:normal;fill-opacity:1;stroke:none;font-family:sans-serif;fill:#0000FF\" text-anchor=\"start\" x=\"113.887\" y=\"39.9668\"><tspan>NH</tspan><tspan style=\"baseline-shift:sub;font-size:6.75px;\">2</tspan><tspan/></text>\n",
       "</svg>"
      ],
      "text/plain": [
       "<IPython.core.display.SVG object>"
      ]
     },
     "metadata": {},
     "output_type": "display_data"
    },
    {
     "name": "stdout",
     "output_type": "stream",
     "text": [
      "found the bit in compound 19 aka 2-[2-(4-CHLORO-PHENYLSULFANYL)-ACETYLAMINO]-3-(4-GUANIDINO-PHENYL)-PROPIONAMIDE\n",
      "it is likely to be a negative feature.\n"
     ]
    },
    {
     "data": {
      "image/svg+xml": [
       "<svg baseProfile=\"full\" height=\"150px\" version=\"1.1\" viewBox=\"0 0 150 150\" width=\"150px\" xml:space=\"preserve\" xmlns=\"http://www.w3.org/2000/svg\" xmlns:rdkit=\"http://www.rdkit.org/xml\" xmlns:xlink=\"http://www.w3.org/1999/xlink\">\n",
       "<!-- END OF HEADER -->\n",
       "<rect height=\"150\" style=\"opacity:1.0;fill:#FFFFFF;stroke:none\" width=\"150\" x=\"0\" y=\"0\"> </rect>\n",
       "<ellipse cx=\"100.271\" cy=\"117.48\" rx=\"23.3417\" ry=\"23.3417\" style=\"fill:#9999E5;fill-rule:evenodd;stroke:#9999E5;stroke-width:3px;stroke-linecap:butt;stroke-linejoin:miter;stroke-opacity:1\"/>\n",
       "<path class=\"bond-0\" d=\"M 38.1728,36.7945 L 85.3007,98.0287\" style=\"fill:none;fill-rule:evenodd;stroke:#E5E5E5;stroke-width:6px;stroke-linecap:butt;stroke-linejoin:miter;stroke-opacity:1\"/>\n",
       "<text dominant-baseline=\"central\" style=\"font-size:38px;font-style:normal;font-weight:normal;fill-opacity:1;stroke:none;font-family:sans-serif;fill:#7F7F7F\" text-anchor=\"end\" x=\"34.2825\" y=\"30.8274\"><tspan>*</tspan></text>\n",
       "<text dominant-baseline=\"central\" style=\"font-size:38px;font-style:normal;font-weight:normal;fill-opacity:1;stroke:none;font-family:sans-serif;fill:#00CC00\" text-anchor=\"start\" x=\"82.118\" y=\"123.316\"><tspan>Cl</tspan></text>\n",
       "</svg>"
      ],
      "text/plain": [
       "<IPython.core.display.SVG object>"
      ]
     },
     "metadata": {},
     "output_type": "display_data"
    },
    {
     "name": "stdout",
     "output_type": "stream",
     "text": [
      "found the bit in compound 0 aka NAFAMOSTAT\n",
      "it is likely it is a positive feature.\n"
     ]
    },
    {
     "data": {
      "image/svg+xml": [
       "<svg baseProfile=\"full\" height=\"150px\" version=\"1.1\" viewBox=\"0 0 150 150\" width=\"150px\" xml:space=\"preserve\" xmlns=\"http://www.w3.org/2000/svg\" xmlns:rdkit=\"http://www.rdkit.org/xml\" xmlns:xlink=\"http://www.w3.org/1999/xlink\">\n",
       "<!-- END OF HEADER -->\n",
       "<rect height=\"150\" style=\"opacity:1.0;fill:#FFFFFF;stroke:none\" width=\"150\" x=\"0\" y=\"0\"> </rect>\n",
       "<ellipse cx=\"52.9576\" cy=\"75.1569\" rx=\"5.27963\" ry=\"5.27963\" style=\"fill:#E5E533;fill-rule:evenodd;stroke:#E5E533;stroke-width:2px;stroke-linecap:butt;stroke-linejoin:miter;stroke-opacity:1\"/>\n",
       "<ellipse cx=\"71.4986\" cy=\"93.9478\" rx=\"5.27963\" ry=\"5.27963\" style=\"fill:#9999E5;fill-rule:evenodd;stroke:#9999E5;stroke-width:2px;stroke-linecap:butt;stroke-linejoin:miter;stroke-opacity:1\"/>\n",
       "<ellipse cx=\"97.0424\" cy=\"87.2862\" rx=\"5.27963\" ry=\"5.27963\" style=\"fill:#E5E533;fill-rule:evenodd;stroke:#E5E533;stroke-width:2px;stroke-linecap:butt;stroke-linejoin:miter;stroke-opacity:1\"/>\n",
       "<ellipse cx=\"104.045\" cy=\"61.8338\" rx=\"5.27963\" ry=\"5.27963\" style=\"fill:#E5E533;fill-rule:evenodd;stroke:#E5E533;stroke-width:2px;stroke-linecap:butt;stroke-linejoin:miter;stroke-opacity:1\"/>\n",
       "<ellipse cx=\"59.9605\" cy=\"49.7045\" rx=\"5.27963\" ry=\"5.27963\" style=\"fill:#E5E533;fill-rule:evenodd;stroke:#E5E533;stroke-width:2px;stroke-linecap:butt;stroke-linejoin:miter;stroke-opacity:1\"/>\n",
       "<ellipse cx=\"115.583\" cy=\"106.077\" rx=\"5.27963\" ry=\"5.27963\" style=\"fill:#E5E533;fill-rule:evenodd;stroke:#E5E533;stroke-width:2px;stroke-linecap:butt;stroke-linejoin:miter;stroke-opacity:1\"/>\n",
       "<path class=\"bond-0\" d=\"M 10.9274,65.1099 L 23.3046,77.6539\" style=\"fill:none;fill-rule:evenodd;stroke:#E5E5E5;stroke-width:2px;stroke-linecap:butt;stroke-linejoin:miter;stroke-opacity:1\"/>\n",
       "<path class=\"bond-1\" d=\"M 31.523,80.7468 L 42.2403,77.9519\" style=\"fill:none;fill-rule:evenodd;stroke:#FF0000;stroke-width:2px;stroke-linecap:butt;stroke-linejoin:miter;stroke-opacity:1\"/>\n",
       "<path class=\"bond-1\" d=\"M 42.2403,77.9519 L 52.9576,75.1569\" style=\"fill:none;fill-rule:evenodd;stroke:#000000;stroke-width:2px;stroke-linecap:butt;stroke-linejoin:miter;stroke-opacity:1\"/>\n",
       "<path class=\"bond-2\" d=\"M 52.9576,75.1569 L 71.4986,93.9478\" style=\"fill:none;fill-rule:evenodd;stroke:#000000;stroke-width:2px;stroke-linecap:butt;stroke-linejoin:miter;stroke-opacity:1\"/>\n",
       "<path class=\"bond-2\" d=\"M 59.4969,74.2673 L 72.4756,87.4209\" style=\"fill:none;fill-rule:evenodd;stroke:#000000;stroke-width:2px;stroke-linecap:butt;stroke-linejoin:miter;stroke-opacity:1\"/>\n",
       "<path class=\"bond-9\" d=\"M 52.9576,75.1569 L 59.9605,49.7045\" style=\"fill:none;fill-rule:evenodd;stroke:#000000;stroke-width:2px;stroke-linecap:butt;stroke-linejoin:miter;stroke-opacity:1\"/>\n",
       "<path class=\"bond-3\" d=\"M 71.4986,93.9478 L 97.0424,87.2862\" style=\"fill:none;fill-rule:evenodd;stroke:#000000;stroke-width:2px;stroke-linecap:butt;stroke-linejoin:miter;stroke-opacity:1\"/>\n",
       "<path class=\"bond-4\" d=\"M 97.0424,87.2862 L 104.045,61.8338\" style=\"fill:none;fill-rule:evenodd;stroke:#000000;stroke-width:2px;stroke-linecap:butt;stroke-linejoin:miter;stroke-opacity:1\"/>\n",
       "<path class=\"bond-4\" d=\"M 93.0024,82.0678 L 97.9044,64.2511\" style=\"fill:none;fill-rule:evenodd;stroke:#000000;stroke-width:2px;stroke-linecap:butt;stroke-linejoin:miter;stroke-opacity:1\"/>\n",
       "<path class=\"bond-10\" d=\"M 97.0424,87.2862 L 115.583,106.077\" style=\"fill:none;fill-rule:evenodd;stroke:#000000;stroke-width:2px;stroke-linecap:butt;stroke-linejoin:miter;stroke-opacity:1\"/>\n",
       "<path class=\"bond-5\" d=\"M 104.045,61.8338 L 87.5589,45.1253\" style=\"fill:none;fill-rule:evenodd;stroke:#E5E5E5;stroke-width:2px;stroke-linecap:butt;stroke-linejoin:miter;stroke-opacity:1\"/>\n",
       "<path class=\"bond-7\" d=\"M 104.045,61.8338 L 127.535,55.7081\" style=\"fill:none;fill-rule:evenodd;stroke:#E5E5E5;stroke-width:2px;stroke-linecap:butt;stroke-linejoin:miter;stroke-opacity:1\"/>\n",
       "<path class=\"bond-6\" d=\"M 83.4497,43.5788 L 59.9605,49.7045\" style=\"fill:none;fill-rule:evenodd;stroke:#E5E5E5;stroke-width:2px;stroke-linecap:butt;stroke-linejoin:miter;stroke-opacity:1\"/>\n",
       "<path class=\"bond-6\" d=\"M 81.2586,49.6064 L 64.8161,53.8944\" style=\"fill:none;fill-rule:evenodd;stroke:#E5E5E5;stroke-width:2px;stroke-linecap:butt;stroke-linejoin:miter;stroke-opacity:1\"/>\n",
       "<path class=\"bond-8\" d=\"M 138.406,97.397 L 114.917,103.523\" style=\"fill:none;fill-rule:evenodd;stroke:#E5E5E5;stroke-width:2px;stroke-linecap:butt;stroke-linejoin:miter;stroke-opacity:1\"/>\n",
       "<path class=\"bond-8\" d=\"M 139.739,102.506 L 116.25,108.631\" style=\"fill:none;fill-rule:evenodd;stroke:#E5E5E5;stroke-width:2px;stroke-linecap:butt;stroke-linejoin:miter;stroke-opacity:1;stroke-dasharray:6,6\"/>\n",
       "<text dominant-baseline=\"central\" style=\"font-size:8px;font-style:normal;font-weight:normal;fill-opacity:1;stroke:none;font-family:sans-serif;fill:#7F7F7F\" text-anchor=\"end\" x=\"10.0474\" y=\"64.3475\"><tspan>*</tspan></text>\n",
       "<text dominant-baseline=\"central\" style=\"font-size:8px;font-style:normal;font-weight:normal;fill-opacity:1;stroke:none;font-family:sans-serif;fill:#FF0000\" text-anchor=\"middle\" x=\"27.4138\" y=\"83.1384\"><tspan>O</tspan></text>\n",
       "<text dominant-baseline=\"central\" style=\"font-size:8px;font-style:normal;font-weight:normal;fill-opacity:1;stroke:none;font-family:sans-serif;fill:#7F7F7F\" text-anchor=\"middle\" x=\"85.5043\" y=\"44.3629\"><tspan>*</tspan></text>\n",
       "<text dominant-baseline=\"central\" style=\"font-size:8px;font-style:normal;font-weight:normal;fill-opacity:1;stroke:none;font-family:sans-serif;fill:#7F7F7F\" text-anchor=\"start\" x=\"128.414\" y=\"56.4922\"><tspan>*</tspan></text>\n",
       "<text dominant-baseline=\"central\" style=\"font-size:8px;font-style:normal;font-weight:normal;fill-opacity:1;stroke:none;font-family:sans-serif;fill:#7F7F7F\" text-anchor=\"start\" x=\"139.953\" y=\"100.735\"><tspan>*</tspan></text>\n",
       "</svg>"
      ],
      "text/plain": [
       "<IPython.core.display.SVG object>"
      ]
     },
     "metadata": {},
     "output_type": "display_data"
    },
    {
     "name": "stdout",
     "output_type": "stream",
     "text": [
      "found the bit in compound 0 aka NAFAMOSTAT\n",
      "it is likely it is a positive feature.\n"
     ]
    },
    {
     "data": {
      "image/svg+xml": [
       "<svg baseProfile=\"full\" height=\"150px\" version=\"1.1\" viewBox=\"0 0 150 150\" width=\"150px\" xml:space=\"preserve\" xmlns=\"http://www.w3.org/2000/svg\" xmlns:rdkit=\"http://www.rdkit.org/xml\" xmlns:xlink=\"http://www.w3.org/1999/xlink\">\n",
       "<!-- END OF HEADER -->\n",
       "<rect height=\"150\" style=\"opacity:1.0;fill:#FFFFFF;stroke:none\" width=\"150\" x=\"0\" y=\"0\"> </rect>\n",
       "<ellipse cx=\"133.287\" cy=\"98.0337\" rx=\"5.76765\" ry=\"5.76765\" style=\"fill:#E5E533;fill-rule:evenodd;stroke:#E5E533;stroke-width:2px;stroke-linecap:butt;stroke-linejoin:miter;stroke-opacity:1\"/>\n",
       "<ellipse cx=\"105.382\" cy=\"105.311\" rx=\"5.76765\" ry=\"5.76765\" style=\"fill:#E5E533;fill-rule:evenodd;stroke:#E5E533;stroke-width:2px;stroke-linecap:butt;stroke-linejoin:miter;stroke-opacity:1\"/>\n",
       "<ellipse cx=\"85.1274\" cy=\"84.7832\" rx=\"5.76765\" ry=\"5.76765\" style=\"fill:#9999E5;fill-rule:evenodd;stroke:#9999E5;stroke-width:2px;stroke-linecap:butt;stroke-linejoin:miter;stroke-opacity:1\"/>\n",
       "<ellipse cx=\"92.7776\" cy=\"56.9782\" rx=\"5.76765\" ry=\"5.76765\" style=\"fill:#E5E533;fill-rule:evenodd;stroke:#E5E533;stroke-width:2px;stroke-linecap:butt;stroke-linejoin:miter;stroke-opacity:1\"/>\n",
       "<ellipse cx=\"120.683\" cy=\"49.7009\" rx=\"5.76765\" ry=\"5.76765\" style=\"fill:#E5E533;fill-rule:evenodd;stroke:#E5E533;stroke-width:2px;stroke-linecap:butt;stroke-linejoin:miter;stroke-opacity:1\"/>\n",
       "<path class=\"bond-0\" d=\"M 133.287,98.0337 L 105.382,105.311\" style=\"fill:none;fill-rule:evenodd;stroke:#000000;stroke-width:2px;stroke-linecap:butt;stroke-linejoin:miter;stroke-opacity:1\"/>\n",
       "<path class=\"bond-0\" d=\"M 127.646,93.5443 L 108.112,98.6384\" style=\"fill:none;fill-rule:evenodd;stroke:#000000;stroke-width:2px;stroke-linecap:butt;stroke-linejoin:miter;stroke-opacity:1\"/>\n",
       "<path class=\"bond-9\" d=\"M 133.287,98.0337 L 139.615,75.035\" style=\"fill:none;fill-rule:evenodd;stroke:#E5E5E5;stroke-width:2px;stroke-linecap:butt;stroke-linejoin:miter;stroke-opacity:1\"/>\n",
       "<path class=\"bond-1\" d=\"M 105.382,105.311 L 85.1274,84.7832\" style=\"fill:none;fill-rule:evenodd;stroke:#000000;stroke-width:2px;stroke-linecap:butt;stroke-linejoin:miter;stroke-opacity:1\"/>\n",
       "<path class=\"bond-2\" d=\"M 85.1274,84.7832 L 92.7776,56.9782\" style=\"fill:none;fill-rule:evenodd;stroke:#000000;stroke-width:2px;stroke-linecap:butt;stroke-linejoin:miter;stroke-opacity:1\"/>\n",
       "<path class=\"bond-2\" d=\"M 91.8359,82.1425 L 97.191,62.679\" style=\"fill:none;fill-rule:evenodd;stroke:#000000;stroke-width:2px;stroke-linecap:butt;stroke-linejoin:miter;stroke-opacity:1\"/>\n",
       "<path class=\"bond-5\" d=\"M 85.1274,84.7832 L 73.2579,87.8787\" style=\"fill:none;fill-rule:evenodd;stroke:#000000;stroke-width:2px;stroke-linecap:butt;stroke-linejoin:miter;stroke-opacity:1\"/>\n",
       "<path class=\"bond-5\" d=\"M 73.2579,87.8787 L 61.3884,90.9741\" style=\"fill:none;fill-rule:evenodd;stroke:#0000FF;stroke-width:2px;stroke-linecap:butt;stroke-linejoin:miter;stroke-opacity:1\"/>\n",
       "<path class=\"bond-3\" d=\"M 92.7776,56.9782 L 120.683,49.7009\" style=\"fill:none;fill-rule:evenodd;stroke:#000000;stroke-width:2px;stroke-linecap:butt;stroke-linejoin:miter;stroke-opacity:1\"/>\n",
       "<path class=\"bond-4\" d=\"M 120.683,49.7009 L 138.693,67.9539\" style=\"fill:none;fill-rule:evenodd;stroke:#E5E5E5;stroke-width:2px;stroke-linecap:butt;stroke-linejoin:miter;stroke-opacity:1\"/>\n",
       "<path class=\"bond-4\" d=\"M 119.279,56.4898 L 131.886,69.2669\" style=\"fill:none;fill-rule:evenodd;stroke:#E5E5E5;stroke-width:2px;stroke-linecap:butt;stroke-linejoin:miter;stroke-opacity:1\"/>\n",
       "<path class=\"bond-6\" d=\"M 53.0565,87.8385 L 45.0121,79.6856\" style=\"fill:none;fill-rule:evenodd;stroke:#0000FF;stroke-width:2px;stroke-linecap:butt;stroke-linejoin:miter;stroke-opacity:1\"/>\n",
       "<path class=\"bond-6\" d=\"M 45.0121,79.6856 L 36.9677,71.5328\" style=\"fill:none;fill-rule:evenodd;stroke:#000000;stroke-width:2px;stroke-linecap:butt;stroke-linejoin:miter;stroke-opacity:1\"/>\n",
       "<path class=\"bond-6\" d=\"M 54.7488,81.3417 L 49.1176,75.6347\" style=\"fill:none;fill-rule:evenodd;stroke:#0000FF;stroke-width:2px;stroke-linecap:butt;stroke-linejoin:miter;stroke-opacity:1\"/>\n",
       "<path class=\"bond-6\" d=\"M 49.1176,75.6347 L 43.4865,69.9277\" style=\"fill:none;fill-rule:evenodd;stroke:#000000;stroke-width:2px;stroke-linecap:butt;stroke-linejoin:miter;stroke-opacity:1\"/>\n",
       "<path class=\"bond-7\" d=\"M 36.9677,71.5328 L 11.3072,78.2247\" style=\"fill:none;fill-rule:evenodd;stroke:#E5E5E5;stroke-width:2px;stroke-linecap:butt;stroke-linejoin:miter;stroke-opacity:1\"/>\n",
       "<path class=\"bond-8\" d=\"M 36.9677,71.5328 L 43.2954,48.5341\" style=\"fill:none;fill-rule:evenodd;stroke:#E5E5E5;stroke-width:2px;stroke-linecap:butt;stroke-linejoin:miter;stroke-opacity:1\"/>\n",
       "<text dominant-baseline=\"central\" style=\"font-size:9px;font-style:normal;font-weight:normal;fill-opacity:1;stroke:none;font-family:sans-serif;fill:#7F7F7F\" text-anchor=\"start\" x=\"139.654\" y=\"71.6706\"><tspan>*</tspan></text>\n",
       "<text dominant-baseline=\"central\" style=\"font-size:9px;font-style:normal;font-weight:normal;fill-opacity:1;stroke:none;font-family:sans-serif;fill:#0000FF\" text-anchor=\"middle\" x=\"57.2224\" y=\"93.5024\"><tspan>N</tspan></text>\n",
       "<text dominant-baseline=\"central\" style=\"font-size:9px;font-style:normal;font-weight:normal;fill-opacity:1;stroke:none;font-family:sans-serif;fill:#7F7F7F\" text-anchor=\"end\" x=\"10.3459\" y=\"80.252\"><tspan>*</tspan></text>\n",
       "<text dominant-baseline=\"central\" style=\"font-size:9px;font-style:normal;font-weight:normal;fill-opacity:1;stroke:none;font-family:sans-serif;fill:#7F7F7F\" text-anchor=\"start\" x=\"43.3346\" y=\"45.1696\"><tspan>*</tspan></text>\n",
       "</svg>"
      ],
      "text/plain": [
       "<IPython.core.display.SVG object>"
      ]
     },
     "metadata": {},
     "output_type": "display_data"
    },
    {
     "name": "stdout",
     "output_type": "stream",
     "text": [
      "found the bit in compound 1 aka RWJ-51084\n",
      "it is likely it is a positive feature.\n"
     ]
    },
    {
     "data": {
      "image/svg+xml": [
       "<svg baseProfile=\"full\" height=\"150px\" version=\"1.1\" viewBox=\"0 0 150 150\" width=\"150px\" xml:space=\"preserve\" xmlns=\"http://www.w3.org/2000/svg\" xmlns:rdkit=\"http://www.rdkit.org/xml\" xmlns:xlink=\"http://www.w3.org/1999/xlink\">\n",
       "<!-- END OF HEADER -->\n",
       "<rect height=\"150\" style=\"opacity:1.0;fill:#FFFFFF;stroke:none\" width=\"150\" x=\"0\" y=\"0\"> </rect>\n",
       "<ellipse cx=\"73.8996\" cy=\"86.3067\" rx=\"7.47011\" ry=\"7.47011\" style=\"fill:#9999E5;fill-rule:evenodd;stroke:#9999E5;stroke-width:2px;stroke-linecap:butt;stroke-linejoin:miter;stroke-opacity:1\"/>\n",
       "<ellipse cx=\"108.347\" cy=\"71.8689\" rx=\"7.47011\" ry=\"7.47011\" style=\"fill:#E5E533;fill-rule:evenodd;stroke:#E5E533;stroke-width:2px;stroke-linecap:butt;stroke-linejoin:miter;stroke-opacity:1\"/>\n",
       "<path class=\"bond-0\" d=\"M 40.8741,64.6708 L 41.1628,65.3597\" style=\"fill:none;fill-rule:evenodd;stroke:#E5E5E5;stroke-width:2px;stroke-linecap:butt;stroke-linejoin:miter;stroke-opacity:1\"/>\n",
       "<path class=\"bond-0\" d=\"M 37.5757,65.6482 L 38.1532,67.0261\" style=\"fill:none;fill-rule:evenodd;stroke:#E5E5E5;stroke-width:2px;stroke-linecap:butt;stroke-linejoin:miter;stroke-opacity:1\"/>\n",
       "<path class=\"bond-0\" d=\"M 34.2773,66.6257 L 35.1435,68.6925\" style=\"fill:none;fill-rule:evenodd;stroke:#E5E5E5;stroke-width:2px;stroke-linecap:butt;stroke-linejoin:miter;stroke-opacity:1\"/>\n",
       "<path class=\"bond-0\" d=\"M 30.9789,67.6032 L 32.1339,70.3589\" style=\"fill:none;fill-rule:evenodd;stroke:#E5E5E5;stroke-width:2px;stroke-linecap:butt;stroke-linejoin:miter;stroke-opacity:1\"/>\n",
       "<path class=\"bond-0\" d=\"M 27.6805,68.5806 L 29.1243,72.0253\" style=\"fill:none;fill-rule:evenodd;stroke:#E5E5E5;stroke-width:2px;stroke-linecap:butt;stroke-linejoin:miter;stroke-opacity:1\"/>\n",
       "<path class=\"bond-0\" d=\"M 24.3821,69.5581 L 26.1146,73.6918\" style=\"fill:none;fill-rule:evenodd;stroke:#E5E5E5;stroke-width:2px;stroke-linecap:butt;stroke-linejoin:miter;stroke-opacity:1\"/>\n",
       "<path class=\"bond-0\" d=\"M 21.0837,70.5355 L 23.105,75.3582\" style=\"fill:none;fill-rule:evenodd;stroke:#E5E5E5;stroke-width:2px;stroke-linecap:butt;stroke-linejoin:miter;stroke-opacity:1\"/>\n",
       "<path class=\"bond-0\" d=\"M 17.7853,71.513 L 20.0953,77.0246\" style=\"fill:none;fill-rule:evenodd;stroke:#E5E5E5;stroke-width:2px;stroke-linecap:butt;stroke-linejoin:miter;stroke-opacity:1\"/>\n",
       "<path class=\"bond-0\" d=\"M 14.4869,72.4905 L 17.0857,78.691\" style=\"fill:none;fill-rule:evenodd;stroke:#E5E5E5;stroke-width:2px;stroke-linecap:butt;stroke-linejoin:miter;stroke-opacity:1\"/>\n",
       "<path class=\"bond-0\" d=\"M 11.1885,73.4679 L 14.076,80.3574\" style=\"fill:none;fill-rule:evenodd;stroke:#E5E5E5;stroke-width:2px;stroke-linecap:butt;stroke-linejoin:miter;stroke-opacity:1\"/>\n",
       "<path class=\"bond-1\" d=\"M 44.1725,63.6933 L 48.0996,32.8673\" style=\"fill:none;fill-rule:evenodd;stroke:#E5E5E5;stroke-width:2px;stroke-linecap:butt;stroke-linejoin:miter;stroke-opacity:1\"/>\n",
       "<path class=\"bond-2\" d=\"M 44.1725,63.6933 L 73.8996,86.3067\" style=\"fill:none;fill-rule:evenodd;stroke:#000000;stroke-width:2px;stroke-linecap:butt;stroke-linejoin:miter;stroke-opacity:1\"/>\n",
       "<path class=\"bond-3\" d=\"M 70.1944,85.8347 L 68.2309,101.248\" style=\"fill:none;fill-rule:evenodd;stroke:#000000;stroke-width:2px;stroke-linecap:butt;stroke-linejoin:miter;stroke-opacity:1\"/>\n",
       "<path class=\"bond-3\" d=\"M 68.2309,101.248 L 66.2673,116.661\" style=\"fill:none;fill-rule:evenodd;stroke:#FF0000;stroke-width:2px;stroke-linecap:butt;stroke-linejoin:miter;stroke-opacity:1\"/>\n",
       "<path class=\"bond-3\" d=\"M 77.6047,86.7787 L 75.6411,102.192\" style=\"fill:none;fill-rule:evenodd;stroke:#000000;stroke-width:2px;stroke-linecap:butt;stroke-linejoin:miter;stroke-opacity:1\"/>\n",
       "<path class=\"bond-3\" d=\"M 75.6411,102.192 L 73.6775,117.605\" style=\"fill:none;fill-rule:evenodd;stroke:#FF0000;stroke-width:2px;stroke-linecap:butt;stroke-linejoin:miter;stroke-opacity:1\"/>\n",
       "<path class=\"bond-4\" d=\"M 73.8996,86.3067 L 108.347,71.8689\" style=\"fill:none;fill-rule:evenodd;stroke:#000000;stroke-width:2px;stroke-linecap:butt;stroke-linejoin:miter;stroke-opacity:1\"/>\n",
       "<path class=\"bond-5\" d=\"M 106.409,75.0617 L 135.43,92.6791\" style=\"fill:none;fill-rule:evenodd;stroke:#E5E5E5;stroke-width:2px;stroke-linecap:butt;stroke-linejoin:miter;stroke-opacity:1\"/>\n",
       "<path class=\"bond-5\" d=\"M 110.285,68.6762 L 139.306,86.2936\" style=\"fill:none;fill-rule:evenodd;stroke:#E5E5E5;stroke-width:2px;stroke-linecap:butt;stroke-linejoin:miter;stroke-opacity:1;stroke-dasharray:6,6\"/>\n",
       "<path class=\"bond-6\" d=\"M 111.982,72.7257 L 119.083,42.5961\" style=\"fill:none;fill-rule:evenodd;stroke:#E5E5E5;stroke-width:2px;stroke-linecap:butt;stroke-linejoin:miter;stroke-opacity:1\"/>\n",
       "<path class=\"bond-6\" d=\"M 104.711,71.0122 L 111.812,40.8826\" style=\"fill:none;fill-rule:evenodd;stroke:#E5E5E5;stroke-width:2px;stroke-linecap:butt;stroke-linejoin:miter;stroke-opacity:1;stroke-dasharray:6,6\"/>\n",
       "<text dominant-baseline=\"central\" style=\"font-size:12px;font-style:normal;font-weight:normal;fill-opacity:1;stroke:none;font-family:sans-serif;fill:#7F7F7F\" text-anchor=\"end\" x=\"11.3872\" y=\"79.9986\"><tspan>*</tspan></text>\n",
       "<text dominant-baseline=\"central\" style=\"font-size:12px;font-style:normal;font-weight:normal;fill-opacity:1;stroke:none;font-family:sans-serif;fill:#7F7F7F\" text-anchor=\"start\" x=\"47.2307\" y=\"28.5098\"><tspan>*H</tspan></text>\n",
       "<text dominant-baseline=\"central\" style=\"font-size:12px;font-style:normal;font-weight:normal;fill-opacity:1;stroke:none;font-family:sans-serif;fill:#FF0000\" text-anchor=\"start\" x=\"64.6103\" y=\"125.225\"><tspan>O</tspan></text>\n",
       "<text dominant-baseline=\"central\" style=\"font-size:12px;font-style:normal;font-weight:normal;fill-opacity:1;stroke:none;font-family:sans-serif;fill:#7F7F7F\" text-anchor=\"start\" x=\"138.613\" y=\"93.1186\"><tspan>*</tspan></text>\n",
       "<text dominant-baseline=\"central\" style=\"font-size:12px;font-style:normal;font-weight:normal;fill-opacity:1;stroke:none;font-family:sans-serif;fill:#7F7F7F\" text-anchor=\"start\" x=\"115.252\" y=\"37.3818\"><tspan>*</tspan></text>\n",
       "</svg>"
      ],
      "text/plain": [
       "<IPython.core.display.SVG object>"
      ]
     },
     "metadata": {},
     "output_type": "display_data"
    }
   ],
   "source": [
    "from rdkit.Chem import Draw\n",
    "from IPython.display import SVG, display\n",
    "for i,featurenum in enumerate(featurenums[indices]):\n",
    "    print('found the bit in compound ' + str(ilocs[i])+ ' aka '+compound_names[i])\n",
    "    if int(ilocs[i])<= 10:\n",
    "        print('it is likely it is a positive feature.')\n",
    "    else:\n",
    "        print('it is likely to be a negative feature.')\n",
    "    svg = Draw.DrawMorganBit(rdkit_mols_draw[i], int(featurenum), bitinfos_draw[i], useSVG=True)\n",
    "    display(svg)"
   ]
  },
  {
   "cell_type": "code",
   "execution_count": null,
   "metadata": {},
   "outputs": [],
   "source": []
  }
 ],
 "metadata": {
  "kernelspec": {
   "display_name": "Python 3",
   "language": "python",
   "name": "python3"
  },
  "language_info": {
   "codemirror_mode": {
    "name": "ipython",
    "version": 3
   },
   "file_extension": ".py",
   "mimetype": "text/x-python",
   "name": "python",
   "nbconvert_exporter": "python",
   "pygments_lexer": "ipython3",
   "version": "3.7.6"
  },
  "varInspector": {
   "cols": {
    "lenName": 16,
    "lenType": 16,
    "lenVar": 40
   },
   "kernels_config": {
    "python": {
     "delete_cmd_postfix": "",
     "delete_cmd_prefix": "del ",
     "library": "var_list.py",
     "varRefreshCmd": "print(var_dic_list())"
    },
    "r": {
     "delete_cmd_postfix": ") ",
     "delete_cmd_prefix": "rm(",
     "library": "var_list.r",
     "varRefreshCmd": "cat(var_dic_list()) "
    }
   },
   "position": {
    "height": "402px",
    "left": "823px",
    "right": "20px",
    "top": "75px",
    "width": "300px"
   },
   "types_to_exclude": [
    "module",
    "function",
    "builtin_function_or_method",
    "instance",
    "_Feature"
   ],
   "window_display": false
  }
 },
 "nbformat": 4,
 "nbformat_minor": 4
}
