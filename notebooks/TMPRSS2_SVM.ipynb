{
 "cells": [
  {
   "cell_type": "code",
   "execution_count": 1,
   "metadata": {},
   "outputs": [],
   "source": [
    "from sklearn.metrics import mean_squared_error\n",
    "from sklearn.model_selection import train_test_split\n",
    "import random\n",
    "\n",
    "# from data.data_accessors import tmprss2_to_pandas\n",
    "import numpy as np\n",
    "from rdkit import Chem, DataStructs\n",
    "import matplotlib.pyplot as plt\n",
    "import pandas as pd\n",
    "import scipy.stats\n",
    "\n",
    "from sklearn.svm import LinearSVC\n",
    "from sklearn.svm import LinearSVR\n",
    "from sklearn.pipeline import make_pipeline\n",
    "from sklearn.preprocessing import StandardScaler\n",
    "from sklearn.metrics import mean_squared_error\n",
    "from sklearn.model_selection import GridSearchCV, cross_val_score\n",
    "\n",
    "import pickle\n",
    "\n",
    "random.seed(2)\n",
    "\n",
    "\n"
   ]
  },
  {
   "cell_type": "markdown",
   "metadata": {},
   "source": [
    "Here, we import our TMPRSS2 QSAR Dataset, Dark Chemical Matter Dataset, and Screening Library "
   ]
  },
  {
   "cell_type": "code",
   "execution_count": 2,
   "metadata": {},
   "outputs": [],
   "source": [
    "# collect dataset\n",
    "assays = pd.read_pickle('../processed_data/combined_dataset.pkl')\n",
    "assays = assays[assays.activity_target.isin(['Active', 'Inactive'])]  # get rid of any 'Inconclusive'\n",
    "\n",
    "dcm = pd.read_pickle('../processed_data/DarkChemicalMatter_processed.pkl.gz')\n",
    "\n",
    "# testing data:\n",
    "screening_data = pd.read_pickle('../processed_data/screening_data_processed.pkl')"
   ]
  },
  {
   "cell_type": "code",
   "execution_count": 3,
   "metadata": {},
   "outputs": [
    {
     "data": {
      "text/html": [
       "<div>\n",
       "<style scoped>\n",
       "    .dataframe tbody tr th:only-of-type {\n",
       "        vertical-align: middle;\n",
       "    }\n",
       "\n",
       "    .dataframe tbody tr th {\n",
       "        vertical-align: top;\n",
       "    }\n",
       "\n",
       "    .dataframe thead th {\n",
       "        text-align: right;\n",
       "    }\n",
       "</style>\n",
       "<table border=\"1\" class=\"dataframe\">\n",
       "  <thead>\n",
       "    <tr style=\"text-align: right;\">\n",
       "      <th></th>\n",
       "      <th>source</th>\n",
       "      <th>name</th>\n",
       "      <th>morgan_fingerprint</th>\n",
       "    </tr>\n",
       "  </thead>\n",
       "  <tbody>\n",
       "    <tr>\n",
       "      <th>0</th>\n",
       "      <td>drugbank</td>\n",
       "      <td>Bivalirudin</td>\n",
       "      <td>[0, 1, 0, 0, 0, 0, 0, 0, 0, 0, 0, 0, 0, 0, 0, ...</td>\n",
       "    </tr>\n",
       "    <tr>\n",
       "      <th>1</th>\n",
       "      <td>drugbank</td>\n",
       "      <td>Leuprolide</td>\n",
       "      <td>[0, 1, 0, 0, 0, 0, 0, 0, 0, 0, 0, 0, 0, 0, 0, ...</td>\n",
       "    </tr>\n",
       "    <tr>\n",
       "      <th>2</th>\n",
       "      <td>drugbank</td>\n",
       "      <td>Goserelin</td>\n",
       "      <td>[0, 1, 0, 0, 0, 0, 0, 0, 0, 0, 0, 0, 0, 0, 0, ...</td>\n",
       "    </tr>\n",
       "    <tr>\n",
       "      <th>3</th>\n",
       "      <td>drugbank</td>\n",
       "      <td>Gramicidin D</td>\n",
       "      <td>[0, 1, 0, 0, 0, 0, 0, 0, 0, 0, 0, 0, 0, 0, 0, ...</td>\n",
       "    </tr>\n",
       "    <tr>\n",
       "      <th>4</th>\n",
       "      <td>drugbank</td>\n",
       "      <td>Desmopressin</td>\n",
       "      <td>[0, 1, 0, 0, 0, 0, 0, 0, 0, 0, 0, 0, 0, 0, 0, ...</td>\n",
       "    </tr>\n",
       "    <tr>\n",
       "      <th>...</th>\n",
       "      <td>...</td>\n",
       "      <td>...</td>\n",
       "      <td>...</td>\n",
       "    </tr>\n",
       "    <tr>\n",
       "      <th>21019</th>\n",
       "      <td>broad</td>\n",
       "      <td>zotepine</td>\n",
       "      <td>[0, 0, 0, 0, 0, 0, 0, 0, 0, 0, 0, 0, 0, 1, 0, ...</td>\n",
       "    </tr>\n",
       "    <tr>\n",
       "      <th>21020</th>\n",
       "      <td>broad</td>\n",
       "      <td>zoxazolamine</td>\n",
       "      <td>[0, 0, 0, 0, 0, 0, 0, 0, 0, 0, 0, 0, 0, 0, 0, ...</td>\n",
       "    </tr>\n",
       "    <tr>\n",
       "      <th>21021</th>\n",
       "      <td>broad</td>\n",
       "      <td>zoxazolamine</td>\n",
       "      <td>[0, 0, 0, 0, 0, 0, 0, 0, 0, 0, 0, 0, 0, 0, 0, ...</td>\n",
       "    </tr>\n",
       "    <tr>\n",
       "      <th>21022</th>\n",
       "      <td>broad</td>\n",
       "      <td>ZSTK-474</td>\n",
       "      <td>[0, 1, 0, 0, 0, 0, 0, 0, 0, 0, 0, 0, 0, 0, 0, ...</td>\n",
       "    </tr>\n",
       "    <tr>\n",
       "      <th>21023</th>\n",
       "      <td>broad</td>\n",
       "      <td>zuclopenthixol</td>\n",
       "      <td>[0, 0, 0, 0, 0, 0, 0, 0, 0, 0, 0, 0, 0, 0, 0, ...</td>\n",
       "    </tr>\n",
       "  </tbody>\n",
       "</table>\n",
       "<p>21011 rows × 3 columns</p>\n",
       "</div>"
      ],
      "text/plain": [
       "         source            name  \\\n",
       "0      drugbank     Bivalirudin   \n",
       "1      drugbank      Leuprolide   \n",
       "2      drugbank       Goserelin   \n",
       "3      drugbank    Gramicidin D   \n",
       "4      drugbank    Desmopressin   \n",
       "...         ...             ...   \n",
       "21019     broad        zotepine   \n",
       "21020     broad    zoxazolamine   \n",
       "21021     broad    zoxazolamine   \n",
       "21022     broad        ZSTK-474   \n",
       "21023     broad  zuclopenthixol   \n",
       "\n",
       "                                      morgan_fingerprint  \n",
       "0      [0, 1, 0, 0, 0, 0, 0, 0, 0, 0, 0, 0, 0, 0, 0, ...  \n",
       "1      [0, 1, 0, 0, 0, 0, 0, 0, 0, 0, 0, 0, 0, 0, 0, ...  \n",
       "2      [0, 1, 0, 0, 0, 0, 0, 0, 0, 0, 0, 0, 0, 0, 0, ...  \n",
       "3      [0, 1, 0, 0, 0, 0, 0, 0, 0, 0, 0, 0, 0, 0, 0, ...  \n",
       "4      [0, 1, 0, 0, 0, 0, 0, 0, 0, 0, 0, 0, 0, 0, 0, ...  \n",
       "...                                                  ...  \n",
       "21019  [0, 0, 0, 0, 0, 0, 0, 0, 0, 0, 0, 0, 0, 1, 0, ...  \n",
       "21020  [0, 0, 0, 0, 0, 0, 0, 0, 0, 0, 0, 0, 0, 0, 0, ...  \n",
       "21021  [0, 0, 0, 0, 0, 0, 0, 0, 0, 0, 0, 0, 0, 0, 0, ...  \n",
       "21022  [0, 1, 0, 0, 0, 0, 0, 0, 0, 0, 0, 0, 0, 0, 0, ...  \n",
       "21023  [0, 0, 0, 0, 0, 0, 0, 0, 0, 0, 0, 0, 0, 0, 0, ...  \n",
       "\n",
       "[21011 rows x 3 columns]"
      ]
     },
     "execution_count": 3,
     "metadata": {},
     "output_type": "execute_result"
    }
   ],
   "source": [
    "screening_data"
   ]
  },
  {
   "cell_type": "markdown",
   "metadata": {},
   "source": [
    "Here, we combine our assay data and dark chemical matter data. We next  80%/20% train/test split. This data is split into a training set (80%) and a testing/validation set (20%)"
   ]
  },
  {
   "cell_type": "code",
   "execution_count": 4,
   "metadata": {},
   "outputs": [],
   "source": [
    "X_assays = np.stack(assays.morgan_fingerprint)\n",
    "y_assays = np.ones(len(X_assays))\n",
    "\n",
    "X_dcm = np.stack(dcm.morgan_fingerprint)\n",
    "y_dcm = np.zeros(len(X_dcm))\n",
    "\n",
    "X_combined = np.append(X_assays, X_dcm, axis = 0)\n",
    "y_combined = np.append(y_assays, y_dcm)\n",
    "\n",
    "X_train, X_test, y_train, y_test = train_test_split(X_combined, y_combined, test_size=0.2)"
   ]
  },
  {
   "cell_type": "markdown",
   "metadata": {},
   "source": [
    "Here we use SKLearn GridSearch CV function to identify optimal C parameter for our preliminary SVM Classifier (trained on training set only)"
   ]
  },
  {
   "cell_type": "code",
   "execution_count": 5,
   "metadata": {},
   "outputs": [],
   "source": [
    "Cs = np.logspace(-6, 2, 16)\n",
    "clf = GridSearchCV(estimator=LinearSVC(random_state=0, tol=1e-5, max_iter = 10000, dual = False), param_grid=dict(C=Cs), n_jobs=-1)\n",
    "clf.fit(X_train, y_train) \n",
    "c_param_SVC_train = clf.best_estimator_.C"
   ]
  },
  {
   "cell_type": "code",
   "execution_count": 6,
   "metadata": {},
   "outputs": [
    {
     "data": {
      "text/plain": [
       "0.7356422544596406"
      ]
     },
     "execution_count": 6,
     "metadata": {},
     "output_type": "execute_result"
    }
   ],
   "source": [
    "c_param_SVC_train "
   ]
  },
  {
   "cell_type": "markdown",
   "metadata": {},
   "source": [
    "Using the C parameter calculated above, we determine the Total Accuracy, False Positive Rate, False Negative Rate of our SVM Classifier"
   ]
  },
  {
   "cell_type": "code",
   "execution_count": 7,
   "metadata": {},
   "outputs": [
    {
     "data": {
      "text/plain": [
       "0.9996791100652476"
      ]
     },
     "execution_count": 7,
     "metadata": {},
     "output_type": "execute_result"
    }
   ],
   "source": [
    "SVM_validation = make_pipeline(StandardScaler(), LinearSVC(random_state=0, tol=1e-5, C=c_param_SVC_train, max_iter = 10000, dual = False)) \n",
    "SVM_validation.fit(X_train, y_train)\n",
    "\n",
    "pred = SVM_validation.predict(X_test)\n",
    "accuracy = np.sum(pred == y_test)/y_test.size\n",
    "accuracy"
   ]
  },
  {
   "cell_type": "code",
   "execution_count": 8,
   "metadata": {},
   "outputs": [
    {
     "data": {
      "text/plain": [
       "0.005235602094240838"
      ]
     },
     "execution_count": 8,
     "metadata": {},
     "output_type": "execute_result"
    }
   ],
   "source": [
    "i = 0\n",
    "false_positive = 0\n",
    "total_positive = 0\n",
    "false_negative = 0\n",
    "total_negative = 0\n",
    "while(i < len(pred)):\n",
    "    if(y_test[i] == 0):\n",
    "        total_negative += 1\n",
    "        if(pred[i] == 1):\n",
    "            false_positive += 1\n",
    "    elif(y_test[i] == 1):\n",
    "        total_positive += 1\n",
    "        if(pred[i] == 0):\n",
    "            false_negative += 1 \n",
    "    i = i + 1\n",
    "\n",
    "false_positive/total_positive"
   ]
  },
  {
   "cell_type": "code",
   "execution_count": 9,
   "metadata": {},
   "outputs": [
    {
     "data": {
      "text/plain": [
       "0.0002871912693854107"
      ]
     },
     "execution_count": 9,
     "metadata": {},
     "output_type": "execute_result"
    }
   ],
   "source": [
    "false_negative/total_negative"
   ]
  },
  {
   "cell_type": "markdown",
   "metadata": {},
   "source": [
    "Here, we use SKLearn GridSearch CV function to identify optimal C parameter for our full SVM Classifier (trained on training set and testing set)"
   ]
  },
  {
   "cell_type": "code",
   "execution_count": 10,
   "metadata": {},
   "outputs": [],
   "source": [
    "Cs = np.logspace(-6, 2, 16)\n",
    "clf = GridSearchCV(estimator=LinearSVC(random_state=0, tol=1e-5, max_iter = 10000, dual = False), param_grid=dict(C=Cs), n_jobs=-1)\n",
    "clf.fit(X_combined, y_combined) \n",
    "c_param_SVC_test = clf.best_estimator_.C"
   ]
  },
  {
   "cell_type": "code",
   "execution_count": 11,
   "metadata": {},
   "outputs": [
    {
     "data": {
      "text/plain": [
       "100.0"
      ]
     },
     "execution_count": 11,
     "metadata": {},
     "output_type": "execute_result"
    }
   ],
   "source": [
    "c_param_SVC_test"
   ]
  },
  {
   "cell_type": "markdown",
   "metadata": {},
   "source": [
    "Here, we use our full SVM Classifier to identify potentially-active compounds from our screening library "
   ]
  },
  {
   "cell_type": "code",
   "execution_count": 12,
   "metadata": {},
   "outputs": [],
   "source": [
    "SVM_testing = make_pipeline(StandardScaler(), LinearSVC(random_state=0, tol=1e-5, C=c_param_SVC_test, max_iter = 10000, dual = False))\n",
    "SVM_testing.fit(X_combined, y_combined)\n",
    "\n",
    "screening_compounds = np.stack(screening_data.morgan_fingerprint)\n",
    "\n",
    "pred = SVM_testing.predict(screening_compounds)\n",
    "screening_data['predictions'] = pred\n",
    "inactiveCompounds = screening_data[(screening_data['predictions'] == 0)].index\n",
    "active_screening_compounds = screening_data.drop(inactiveCompounds)"
   ]
  },
  {
   "cell_type": "code",
   "execution_count": 13,
   "metadata": {},
   "outputs": [
    {
     "data": {
      "text/plain": [
       "510"
      ]
     },
     "execution_count": 13,
     "metadata": {},
     "output_type": "execute_result"
    }
   ],
   "source": [
    "len(active_screening_compounds)"
   ]
  },
  {
   "cell_type": "code",
   "execution_count": 14,
   "metadata": {
    "tags": []
   },
   "outputs": [],
   "source": [
    "#split training and testing data for each dataset, fill nan with acvalue_target\n",
    "#y_assays_logKi = np.log10(assays.acvalue_scaled_to_tmprss2.fillna(assays.acvalue_target))\n",
    "\n",
    "#train_X, test_X, train_y, test_y = train_test_split(X_assays, y_assays_logKi, test_size=0.2)"
   ]
  },
  {
   "cell_type": "markdown",
   "metadata": {},
   "source": [
    "Next, we identify the subset of the training data for which Ki values can be scaled to TMPRSS2 for use in regression analysis. This data is split into a training set (80%) and a testing/validation set (20%)"
   ]
  },
  {
   "cell_type": "code",
   "execution_count": 15,
   "metadata": {},
   "outputs": [],
   "source": [
    "y_assays_logKi_raw = np.log10(assays.acvalue_scaled_to_tmprss2)\n",
    "nan_array = np.isnan(y_assays_logKi_raw)\n",
    "not_nan = ~nan_array\n",
    "y_assays_logKi = y_assays_logKi_raw[not_nan]\n",
    "X_assays = X_assays[not_nan]\n",
    "\n",
    "train_X, test_X, train_y, test_y = train_test_split(X_assays, y_assays_logKi, test_size=0.2)"
   ]
  },
  {
   "cell_type": "markdown",
   "metadata": {},
   "source": [
    "Next, we use SKLearn GridSearch CV function to identify optimal C parameter for our preliminary Support Vector Regressor (trained on training set only)"
   ]
  },
  {
   "cell_type": "code",
   "execution_count": 16,
   "metadata": {
    "tags": []
   },
   "outputs": [],
   "source": [
    "# Use SKLearn GridSearch CV function to identify optimal C parameter for SVM regression (training set)\n",
    "Cs = np.logspace(-6, 2, 16)\n",
    "clf = GridSearchCV(estimator=LinearSVR(random_state=0, tol=1e-5, max_iter = 10000, dual = True), param_grid=dict(C=Cs), n_jobs=-1)\n",
    "clf.fit(train_X, train_y) \n",
    "c_param_SVR_test = clf.best_estimator_.C\n"
   ]
  },
  {
   "cell_type": "code",
   "execution_count": 17,
   "metadata": {},
   "outputs": [
    {
     "data": {
      "text/plain": [
       "0.018478497974222907"
      ]
     },
     "execution_count": 17,
     "metadata": {},
     "output_type": "execute_result"
    }
   ],
   "source": [
    "c_param_SVR_test"
   ]
  },
  {
   "cell_type": "markdown",
   "metadata": {},
   "source": [
    "Using the C paramater calculated above, we calculate the RMSE of our regressor and the correlation coefficient between our predicted and ground-truth values."
   ]
  },
  {
   "cell_type": "code",
   "execution_count": 18,
   "metadata": {
    "tags": []
   },
   "outputs": [
    {
     "name": "stdout",
     "output_type": "stream",
     "text": [
      "SVR RMSE:0.772626964424397\n",
      "(0.7811294078353609, 1.1662805017673853e-18)\n"
     ]
    },
    {
     "data": {
      "image/png": "[encoded data removed]",
      "text/plain": [
       "<Figure size 432x288 with 1 Axes>"
      ]
     },
     "metadata": {
      "needs_background": "light"
     },
     "output_type": "display_data"
    }
   ],
   "source": [
    "#Run SVM regression using SKLearn on test set. Linear regression for prediction accuracy\n",
    "svmReg = make_pipeline(StandardScaler(), LinearSVR(random_state=0, tol=1e-5, C=c_param_SVR_test, max_iter = 10000, dual = True))\n",
    "svmReg.fit(train_X, train_y)\n",
    "\n",
    "pred = svmReg.predict(test_X)\n",
    "MSE = mean_squared_error(test_y, pred)\n",
    "RMSE = np.sqrt(MSE)\n",
    "print(\"SVR RMSE:{}\".format(RMSE))\n",
    "\n",
    "plt.scatter(test_y, pred)\n",
    "plt.xlabel('log10(Actual Ki), μM')\n",
    "plt.ylabel('log10(Predicted Ki), μM')\n",
    "plt.title('SVR Validation Data TMPRSS2')\n",
    "\n",
    "corr = scipy.stats.pearsonr(test_y, pred)\n",
    "print(corr)"
   ]
  },
  {
   "cell_type": "markdown",
   "metadata": {},
   "source": [
    "Next, we use SKLearn GridSearch CV function to identify optimal C parameter for our full Support Vector Regressor (trained on training set and testing set)"
   ]
  },
  {
   "cell_type": "code",
   "execution_count": 19,
   "metadata": {
    "tags": []
   },
   "outputs": [],
   "source": [
    "#SKLearn C parameter optimization\n",
    "Cs = np.logspace(-6, 2, 16)\n",
    "clf_full = GridSearchCV(estimator=LinearSVR(random_state=0, tol=1e-5, max_iter = 10000, dual = True), param_grid=dict(C=Cs), n_jobs=-1)\n",
    "clf_full.fit(X_assays, y_assays_logKi) \n",
    "c_param_full = clf_full.best_estimator_.C\n"
   ]
  },
  {
   "cell_type": "code",
   "execution_count": 20,
   "metadata": {},
   "outputs": [
    {
     "data": {
      "text/plain": [
       "0.018478497974222907"
      ]
     },
     "execution_count": 20,
     "metadata": {},
     "output_type": "execute_result"
    }
   ],
   "source": [
    "c_param_full "
   ]
  },
  {
   "cell_type": "markdown",
   "metadata": {},
   "source": [
    "Finally, using this C parameter, we screen the active compounds identified by our SVM Classifier to identify the compounds which are predicted to bind most effectively to TMPRSS2"
   ]
  },
  {
   "cell_type": "code",
   "execution_count": 21,
   "metadata": {},
   "outputs": [],
   "source": [
    "#Run regressor (trained on full dataset)\n",
    "test_compounds = np.stack(active_screening_compounds.morgan_fingerprint)\n",
    "\n",
    "svmReg_full = make_pipeline(StandardScaler(), LinearSVR(random_state=0, tol=1e-5, C=c_param_full, max_iter = 10000, dual = True))\n",
    "svmReg_full.fit(X_assays, y_assays_logKi)\n",
    "pred_values = svmReg_full.predict(test_compounds)"
   ]
  },
  {
   "cell_type": "code",
   "execution_count": 22,
   "metadata": {},
   "outputs": [
    {
     "data": {
      "text/html": [
       "<div>\n",
       "<style scoped>\n",
       "    .dataframe tbody tr th:only-of-type {\n",
       "        vertical-align: middle;\n",
       "    }\n",
       "\n",
       "    .dataframe tbody tr th {\n",
       "        vertical-align: top;\n",
       "    }\n",
       "\n",
       "    .dataframe thead th {\n",
       "        text-align: right;\n",
       "    }\n",
       "</style>\n",
       "<table border=\"1\" class=\"dataframe\">\n",
       "  <thead>\n",
       "    <tr style=\"text-align: right;\">\n",
       "      <th></th>\n",
       "      <th>source</th>\n",
       "      <th>name</th>\n",
       "      <th>morgan_fingerprint</th>\n",
       "      <th>predictions</th>\n",
       "      <th>pred_value_TMPRSS2</th>\n",
       "    </tr>\n",
       "  </thead>\n",
       "  <tbody>\n",
       "    <tr>\n",
       "      <th>10797</th>\n",
       "      <td>reframe</td>\n",
       "      <td>Nafamostat</td>\n",
       "      <td>[0, 0, 0, 0, 0, 0, 0, 0, 0, 0, 0, 1, 0, 0, 0, ...</td>\n",
       "      <td>1.0</td>\n",
       "      <td>-4.573876</td>\n",
       "    </tr>\n",
       "    <tr>\n",
       "      <th>19603</th>\n",
       "      <td>broad</td>\n",
       "      <td>substance-p</td>\n",
       "      <td>[0, 1, 0, 0, 0, 0, 0, 0, 0, 0, 0, 1, 0, 0, 0, ...</td>\n",
       "      <td>1.0</td>\n",
       "      <td>-3.270127</td>\n",
       "    </tr>\n",
       "    <tr>\n",
       "      <th>10749</th>\n",
       "      <td>reframe</td>\n",
       "      <td>Camostat</td>\n",
       "      <td>[0, 0, 0, 0, 0, 0, 0, 0, 0, 0, 0, 1, 0, 0, 0, ...</td>\n",
       "      <td>1.0</td>\n",
       "      <td>-3.063754</td>\n",
       "    </tr>\n",
       "    <tr>\n",
       "      <th>4725</th>\n",
       "      <td>drugbank</td>\n",
       "      <td>Sar9, Met (O2)11-Substance P</td>\n",
       "      <td>[0, 1, 0, 0, 0, 0, 0, 0, 0, 0, 0, 0, 0, 0, 0, ...</td>\n",
       "      <td>1.0</td>\n",
       "      <td>-2.878925</td>\n",
       "    </tr>\n",
       "    <tr>\n",
       "      <th>10877</th>\n",
       "      <td>broad</td>\n",
       "      <td>[sar9,met(o2)11]-substance-p</td>\n",
       "      <td>[0, 1, 0, 0, 0, 0, 0, 0, 0, 0, 0, 0, 0, 0, 0, ...</td>\n",
       "      <td>1.0</td>\n",
       "      <td>-2.878925</td>\n",
       "    </tr>\n",
       "    <tr>\n",
       "      <th>10789</th>\n",
       "      <td>reframe</td>\n",
       "      <td>RWJ-58643</td>\n",
       "      <td>[0, 1, 0, 0, 0, 0, 0, 0, 0, 0, 0, 0, 0, 0, 0, ...</td>\n",
       "      <td>1.0</td>\n",
       "      <td>-2.231467</td>\n",
       "    </tr>\n",
       "    <tr>\n",
       "      <th>10747</th>\n",
       "      <td>reframe</td>\n",
       "      <td>Sepimostat mesilate</td>\n",
       "      <td>[0, 0, 0, 0, 0, 0, 0, 0, 0, 0, 0, 0, 0, 0, 0, ...</td>\n",
       "      <td>1.0</td>\n",
       "      <td>-2.119771</td>\n",
       "    </tr>\n",
       "    <tr>\n",
       "      <th>2513</th>\n",
       "      <td>drugbank</td>\n",
       "      <td>RWJ-56423</td>\n",
       "      <td>[0, 1, 0, 0, 0, 0, 0, 0, 0, 0, 0, 0, 0, 0, 0, ...</td>\n",
       "      <td>1.0</td>\n",
       "      <td>-2.051523</td>\n",
       "    </tr>\n",
       "    <tr>\n",
       "      <th>19919</th>\n",
       "      <td>broad</td>\n",
       "      <td>telaprevir</td>\n",
       "      <td>[0, 1, 1, 0, 0, 0, 0, 0, 0, 1, 0, 0, 0, 0, 0, ...</td>\n",
       "      <td>1.0</td>\n",
       "      <td>-2.013405</td>\n",
       "    </tr>\n",
       "    <tr>\n",
       "      <th>4645</th>\n",
       "      <td>drugbank</td>\n",
       "      <td>Telaprevir</td>\n",
       "      <td>[0, 1, 1, 0, 0, 0, 0, 0, 0, 1, 0, 0, 0, 0, 0, ...</td>\n",
       "      <td>1.0</td>\n",
       "      <td>-2.013405</td>\n",
       "    </tr>\n",
       "    <tr>\n",
       "      <th>10791</th>\n",
       "      <td>reframe</td>\n",
       "      <td>Telaprevir</td>\n",
       "      <td>[0, 1, 1, 0, 0, 0, 0, 0, 0, 1, 0, 0, 0, 0, 0, ...</td>\n",
       "      <td>1.0</td>\n",
       "      <td>-2.013405</td>\n",
       "    </tr>\n",
       "    <tr>\n",
       "      <th>19920</th>\n",
       "      <td>broad</td>\n",
       "      <td>telaprevir</td>\n",
       "      <td>[0, 1, 1, 0, 0, 0, 0, 0, 0, 1, 0, 0, 0, 0, 0, ...</td>\n",
       "      <td>1.0</td>\n",
       "      <td>-2.013405</td>\n",
       "    </tr>\n",
       "    <tr>\n",
       "      <th>10815</th>\n",
       "      <td>reframe</td>\n",
       "      <td>atecegatran</td>\n",
       "      <td>[0, 1, 0, 0, 0, 0, 0, 0, 0, 0, 0, 0, 0, 0, 0, ...</td>\n",
       "      <td>1.0</td>\n",
       "      <td>-1.981761</td>\n",
       "    </tr>\n",
       "    <tr>\n",
       "      <th>2928</th>\n",
       "      <td>drugbank</td>\n",
       "      <td>RWJ-51084</td>\n",
       "      <td>[0, 1, 0, 0, 0, 0, 0, 0, 0, 0, 0, 0, 0, 0, 0, ...</td>\n",
       "      <td>1.0</td>\n",
       "      <td>-1.887687</td>\n",
       "    </tr>\n",
       "    <tr>\n",
       "      <th>17040</th>\n",
       "      <td>broad</td>\n",
       "      <td>nafamostat</td>\n",
       "      <td>[0, 0, 0, 0, 0, 0, 0, 0, 0, 0, 0, 0, 0, 0, 0, ...</td>\n",
       "      <td>1.0</td>\n",
       "      <td>-1.866494</td>\n",
       "    </tr>\n",
       "    <tr>\n",
       "      <th>8697</th>\n",
       "      <td>drugbank</td>\n",
       "      <td>Nafamostat</td>\n",
       "      <td>[0, 0, 0, 0, 0, 0, 0, 0, 0, 0, 0, 0, 0, 0, 0, ...</td>\n",
       "      <td>1.0</td>\n",
       "      <td>-1.866494</td>\n",
       "    </tr>\n",
       "    <tr>\n",
       "      <th>17039</th>\n",
       "      <td>broad</td>\n",
       "      <td>nafamostat</td>\n",
       "      <td>[0, 0, 0, 0, 0, 0, 0, 0, 0, 0, 0, 0, 0, 0, 0, ...</td>\n",
       "      <td>1.0</td>\n",
       "      <td>-1.866494</td>\n",
       "    </tr>\n",
       "    <tr>\n",
       "      <th>17038</th>\n",
       "      <td>broad</td>\n",
       "      <td>nafamostat</td>\n",
       "      <td>[0, 0, 0, 0, 0, 0, 0, 0, 0, 0, 0, 0, 0, 0, 0, ...</td>\n",
       "      <td>1.0</td>\n",
       "      <td>-1.866494</td>\n",
       "    </tr>\n",
       "    <tr>\n",
       "      <th>20636</th>\n",
       "      <td>broad</td>\n",
       "      <td>vasopressin</td>\n",
       "      <td>[0, 1, 0, 0, 0, 0, 0, 0, 0, 0, 0, 0, 0, 0, 0, ...</td>\n",
       "      <td>1.0</td>\n",
       "      <td>-1.845607</td>\n",
       "    </tr>\n",
       "    <tr>\n",
       "      <th>16384</th>\n",
       "      <td>broad</td>\n",
       "      <td>lypressin</td>\n",
       "      <td>[0, 1, 0, 0, 0, 0, 0, 0, 0, 0, 0, 0, 0, 0, 0, ...</td>\n",
       "      <td>1.0</td>\n",
       "      <td>-1.757073</td>\n",
       "    </tr>\n",
       "  </tbody>\n",
       "</table>\n",
       "</div>"
      ],
      "text/plain": [
       "         source                          name  \\\n",
       "10797   reframe                    Nafamostat   \n",
       "19603     broad                   substance-p   \n",
       "10749   reframe                      Camostat   \n",
       "4725   drugbank  Sar9, Met (O2)11-Substance P   \n",
       "10877     broad  [sar9,met(o2)11]-substance-p   \n",
       "10789   reframe                     RWJ-58643   \n",
       "10747   reframe           Sepimostat mesilate   \n",
       "2513   drugbank                     RWJ-56423   \n",
       "19919     broad                    telaprevir   \n",
       "4645   drugbank                    Telaprevir   \n",
       "10791   reframe                    Telaprevir   \n",
       "19920     broad                    telaprevir   \n",
       "10815   reframe                   atecegatran   \n",
       "2928   drugbank                     RWJ-51084   \n",
       "17040     broad                    nafamostat   \n",
       "8697   drugbank                    Nafamostat   \n",
       "17039     broad                    nafamostat   \n",
       "17038     broad                    nafamostat   \n",
       "20636     broad                   vasopressin   \n",
       "16384     broad                     lypressin   \n",
       "\n",
       "                                      morgan_fingerprint  predictions  \\\n",
       "10797  [0, 0, 0, 0, 0, 0, 0, 0, 0, 0, 0, 1, 0, 0, 0, ...          1.0   \n",
       "19603  [0, 1, 0, 0, 0, 0, 0, 0, 0, 0, 0, 1, 0, 0, 0, ...          1.0   \n",
       "10749  [0, 0, 0, 0, 0, 0, 0, 0, 0, 0, 0, 1, 0, 0, 0, ...          1.0   \n",
       "4725   [0, 1, 0, 0, 0, 0, 0, 0, 0, 0, 0, 0, 0, 0, 0, ...          1.0   \n",
       "10877  [0, 1, 0, 0, 0, 0, 0, 0, 0, 0, 0, 0, 0, 0, 0, ...          1.0   \n",
       "10789  [0, 1, 0, 0, 0, 0, 0, 0, 0, 0, 0, 0, 0, 0, 0, ...          1.0   \n",
       "10747  [0, 0, 0, 0, 0, 0, 0, 0, 0, 0, 0, 0, 0, 0, 0, ...          1.0   \n",
       "2513   [0, 1, 0, 0, 0, 0, 0, 0, 0, 0, 0, 0, 0, 0, 0, ...          1.0   \n",
       "19919  [0, 1, 1, 0, 0, 0, 0, 0, 0, 1, 0, 0, 0, 0, 0, ...          1.0   \n",
       "4645   [0, 1, 1, 0, 0, 0, 0, 0, 0, 1, 0, 0, 0, 0, 0, ...          1.0   \n",
       "10791  [0, 1, 1, 0, 0, 0, 0, 0, 0, 1, 0, 0, 0, 0, 0, ...          1.0   \n",
       "19920  [0, 1, 1, 0, 0, 0, 0, 0, 0, 1, 0, 0, 0, 0, 0, ...          1.0   \n",
       "10815  [0, 1, 0, 0, 0, 0, 0, 0, 0, 0, 0, 0, 0, 0, 0, ...          1.0   \n",
       "2928   [0, 1, 0, 0, 0, 0, 0, 0, 0, 0, 0, 0, 0, 0, 0, ...          1.0   \n",
       "17040  [0, 0, 0, 0, 0, 0, 0, 0, 0, 0, 0, 0, 0, 0, 0, ...          1.0   \n",
       "8697   [0, 0, 0, 0, 0, 0, 0, 0, 0, 0, 0, 0, 0, 0, 0, ...          1.0   \n",
       "17039  [0, 0, 0, 0, 0, 0, 0, 0, 0, 0, 0, 0, 0, 0, 0, ...          1.0   \n",
       "17038  [0, 0, 0, 0, 0, 0, 0, 0, 0, 0, 0, 0, 0, 0, 0, ...          1.0   \n",
       "20636  [0, 1, 0, 0, 0, 0, 0, 0, 0, 0, 0, 0, 0, 0, 0, ...          1.0   \n",
       "16384  [0, 1, 0, 0, 0, 0, 0, 0, 0, 0, 0, 0, 0, 0, 0, ...          1.0   \n",
       "\n",
       "       pred_value_TMPRSS2  \n",
       "10797           -4.573876  \n",
       "19603           -3.270127  \n",
       "10749           -3.063754  \n",
       "4725            -2.878925  \n",
       "10877           -2.878925  \n",
       "10789           -2.231467  \n",
       "10747           -2.119771  \n",
       "2513            -2.051523  \n",
       "19919           -2.013405  \n",
       "4645            -2.013405  \n",
       "10791           -2.013405  \n",
       "19920           -2.013405  \n",
       "10815           -1.981761  \n",
       "2928            -1.887687  \n",
       "17040           -1.866494  \n",
       "8697            -1.866494  \n",
       "17039           -1.866494  \n",
       "17038           -1.866494  \n",
       "20636           -1.845607  \n",
       "16384           -1.757073  "
      ]
     },
     "execution_count": 22,
     "metadata": {},
     "output_type": "execute_result"
    }
   ],
   "source": [
    "#identify top hits\n",
    "active_screening_compounds['pred_value_TMPRSS2'] = pred_values\n",
    "active_screening_compounds.sort_values(by='pred_value_TMPRSS2').head(20)"
   ]
  },
  {
   "cell_type": "code",
   "execution_count": 23,
   "metadata": {},
   "outputs": [
    {
     "data": {
      "text/plain": [
       "Text(0.5, 1.0, 'Predicted Ki Values of Potentially-Active TMPRSS2 Inhibitors')"
      ]
     },
     "execution_count": 23,
     "metadata": {},
     "output_type": "execute_result"
    },
    {
     "data": {
      "image/png": "[encoded data removed]",
      "text/plain": [
       "<Figure size 432x288 with 1 Axes>"
      ]
     },
     "metadata": {
      "needs_background": "light"
     },
     "output_type": "display_data"
    }
   ],
   "source": [
    "plt.hist(active_screening_compounds.pred_value_TMPRSS2, bins = 20)\n",
    "plt.xlabel('log10(Predicted Ki of test compound against TMPRSS2), μM')\n",
    "plt.ylabel('Abundance of Compounds in Bin')\n",
    "plt.title('Predicted Ki Values of Potentially-Active TMPRSS2 Inhibitors')"
   ]
  },
  {
   "cell_type": "markdown",
   "metadata": {
    "tags": []
   },
   "source": [
    "Now, we repeat the same SVM Regression procedure using molecules tested against KLKB1"
   ]
  },
  {
   "cell_type": "code",
   "execution_count": 40,
   "metadata": {},
   "outputs": [],
   "source": [
    "assays_KLKB1 = assays.loc[assays['target'] == 'KLKB1']\n",
    "y_assays_logKi_raw_KLKB1 = np.log10(assays_KLKB1.acvalue_target)\n",
    "nan_array = np.isnan(y_assays_logKi_raw_KLKB1)\n",
    "not_nan = ~nan_array\n",
    "y_assays_logKi_KLKB1 = y_assays_logKi_raw_KLKB1[not_nan]\n",
    "X_assays_KLKB1 = np.stack(assays_KLKB1[not_nan].morgan_fingerprint)\n",
    "\n",
    "train_X, test_X, train_y, test_y = train_test_split(X_assays_KLKB1, y_assays_logKi_KLKB1, test_size=0.2)"
   ]
  },
  {
   "cell_type": "code",
   "execution_count": 41,
   "metadata": {},
   "outputs": [],
   "source": [
    "# Use SKLearn GridSearch CV function to identify optimal C parameter for SVM regression (training set)\n",
    "Cs = np.logspace(-6, 2, 16)\n",
    "clf = GridSearchCV(estimator=LinearSVR(random_state=0, tol=1e-5, max_iter = 10000, dual = True), param_grid=dict(C=Cs), n_jobs=-1)\n",
    "clf.fit(train_X, train_y) \n",
    "c_param_SVR_test_KLKB1 = clf.best_estimator_.C"
   ]
  },
  {
   "cell_type": "code",
   "execution_count": 42,
   "metadata": {},
   "outputs": [
    {
     "data": {
      "text/plain": [
       "0.0630957344480193"
      ]
     },
     "execution_count": 42,
     "metadata": {},
     "output_type": "execute_result"
    }
   ],
   "source": [
    "c_param_SVR_test_KLKB1"
   ]
  },
  {
   "cell_type": "code",
   "execution_count": 43,
   "metadata": {},
   "outputs": [
    {
     "name": "stdout",
     "output_type": "stream",
     "text": [
      "SVR RMSE:0.9141043462758751\n",
      "(0.8151057716214991, 7.410156879758979e-22)\n"
     ]
    },
    {
     "data": {
      "image/png": "[encoded data removed]",
      "text/plain": [
       "<Figure size 432x288 with 1 Axes>"
      ]
     },
     "metadata": {
      "needs_background": "light"
     },
     "output_type": "display_data"
    }
   ],
   "source": [
    "#Run SVM regression using SKLearn on test set. Linear regression for prediction accuracy\n",
    "svmReg = make_pipeline(StandardScaler(), LinearSVR(random_state=0, tol=1e-5, C=c_param_SVR_test_KLKB1, max_iter = 10000, dual = True))\n",
    "svmReg.fit(train_X, train_y)\n",
    "\n",
    "pred = svmReg.predict(test_X)\n",
    "MSE = mean_squared_error(test_y, pred)\n",
    "RMSE = np.sqrt(MSE)\n",
    "print(\"SVR RMSE:{}\".format(RMSE))\n",
    "\n",
    "plt.scatter(test_y, pred)\n",
    "plt.xlabel('log10(Actual Ki), μM')\n",
    "plt.ylabel('log10(Predicted Ki), μM')\n",
    "plt.title('SVR Validation Data KLKB1')\n",
    "\n",
    "corr = scipy.stats.pearsonr(test_y, pred)\n",
    "print(corr)"
   ]
  },
  {
   "cell_type": "code",
   "execution_count": 44,
   "metadata": {},
   "outputs": [],
   "source": [
    "#SKLearn C parameter optimization\n",
    "Cs = np.logspace(-6, 2, 16)\n",
    "clf_full = GridSearchCV(estimator=LinearSVR(random_state=0, tol=1e-5, max_iter = 10000, dual = True), param_grid=dict(C=Cs), n_jobs=-1)\n",
    "clf_full.fit(X_assays_KLKB1, y_assays_logKi_KLKB1) \n",
    "c_param_full_KLKB1 = clf_full.best_estimator_.C"
   ]
  },
  {
   "cell_type": "code",
   "execution_count": 45,
   "metadata": {},
   "outputs": [
    {
     "data": {
      "text/plain": [
       "0.0630957344480193"
      ]
     },
     "execution_count": 45,
     "metadata": {},
     "output_type": "execute_result"
    }
   ],
   "source": [
    "c_param_full_KLKB1"
   ]
  },
  {
   "cell_type": "code",
   "execution_count": 46,
   "metadata": {},
   "outputs": [
    {
     "data": {
      "text/html": [
       "<div>\n",
       "<style scoped>\n",
       "    .dataframe tbody tr th:only-of-type {\n",
       "        vertical-align: middle;\n",
       "    }\n",
       "\n",
       "    .dataframe tbody tr th {\n",
       "        vertical-align: top;\n",
       "    }\n",
       "\n",
       "    .dataframe thead th {\n",
       "        text-align: right;\n",
       "    }\n",
       "</style>\n",
       "<table border=\"1\" class=\"dataframe\">\n",
       "  <thead>\n",
       "    <tr style=\"text-align: right;\">\n",
       "      <th></th>\n",
       "      <th>source</th>\n",
       "      <th>name</th>\n",
       "      <th>morgan_fingerprint</th>\n",
       "      <th>predictions</th>\n",
       "      <th>pred_value_TMPRSS2</th>\n",
       "      <th>pred_value_KLKB1</th>\n",
       "    </tr>\n",
       "  </thead>\n",
       "  <tbody>\n",
       "    <tr>\n",
       "      <th>10316</th>\n",
       "      <td>drugbank</td>\n",
       "      <td>Cobomarsen</td>\n",
       "      <td>[0, 0, 0, 0, 1, 0, 0, 0, 0, 0, 0, 0, 0, 0, 0, ...</td>\n",
       "      <td>1.0</td>\n",
       "      <td>4.750049</td>\n",
       "      <td>-4.390812</td>\n",
       "    </tr>\n",
       "    <tr>\n",
       "      <th>9100</th>\n",
       "      <td>drugbank</td>\n",
       "      <td>JTK-853</td>\n",
       "      <td>[0, 0, 0, 0, 0, 0, 0, 0, 0, 0, 0, 0, 0, 0, 0, ...</td>\n",
       "      <td>1.0</td>\n",
       "      <td>-0.042649</td>\n",
       "      <td>-3.397719</td>\n",
       "    </tr>\n",
       "    <tr>\n",
       "      <th>13925</th>\n",
       "      <td>broad</td>\n",
       "      <td>diflorasone-diacetate</td>\n",
       "      <td>[0, 0, 0, 0, 0, 0, 0, 0, 0, 0, 0, 0, 0, 0, 0, ...</td>\n",
       "      <td>1.0</td>\n",
       "      <td>1.373709</td>\n",
       "      <td>-3.016103</td>\n",
       "    </tr>\n",
       "    <tr>\n",
       "      <th>4269</th>\n",
       "      <td>drugbank</td>\n",
       "      <td>TRANS-4-(GUANIDINOMETHYL)-CYCLOHEXANE-L-YL-D-3...</td>\n",
       "      <td>[0, 1, 1, 0, 0, 0, 0, 0, 0, 0, 0, 0, 0, 0, 0, ...</td>\n",
       "      <td>1.0</td>\n",
       "      <td>-0.582598</td>\n",
       "      <td>-2.780173</td>\n",
       "    </tr>\n",
       "    <tr>\n",
       "      <th>10813</th>\n",
       "      <td>reframe</td>\n",
       "      <td>BMS-654457</td>\n",
       "      <td>[0, 1, 0, 0, 0, 0, 0, 0, 0, 0, 0, 0, 0, 0, 0, ...</td>\n",
       "      <td>1.0</td>\n",
       "      <td>-0.932098</td>\n",
       "      <td>-2.698966</td>\n",
       "    </tr>\n",
       "    <tr>\n",
       "      <th>6471</th>\n",
       "      <td>drugbank</td>\n",
       "      <td>2-(2-METHYLPHENYL)-1H-INDOLE-5-CARBOXIMIDAMIDE</td>\n",
       "      <td>[0, 0, 0, 0, 0, 0, 0, 0, 0, 0, 0, 0, 0, 0, 0, ...</td>\n",
       "      <td>1.0</td>\n",
       "      <td>0.359217</td>\n",
       "      <td>-2.635103</td>\n",
       "    </tr>\n",
       "    <tr>\n",
       "      <th>1841</th>\n",
       "      <td>drugbank</td>\n",
       "      <td>CRA_17312</td>\n",
       "      <td>[0, 1, 0, 0, 0, 0, 0, 0, 0, 0, 0, 0, 0, 0, 0, ...</td>\n",
       "      <td>1.0</td>\n",
       "      <td>-0.844427</td>\n",
       "      <td>-2.628200</td>\n",
       "    </tr>\n",
       "    <tr>\n",
       "      <th>6143</th>\n",
       "      <td>drugbank</td>\n",
       "      <td>5-Chloro-N-{(3S)-1-[(2S)-1-(4-morpholinyl)-1-o...</td>\n",
       "      <td>[0, 1, 0, 1, 0, 1, 0, 0, 0, 0, 0, 1, 0, 0, 0, ...</td>\n",
       "      <td>1.0</td>\n",
       "      <td>-1.014221</td>\n",
       "      <td>-2.317736</td>\n",
       "    </tr>\n",
       "    <tr>\n",
       "      <th>15774</th>\n",
       "      <td>broad</td>\n",
       "      <td>itacitinib</td>\n",
       "      <td>[0, 0, 0, 0, 0, 0, 0, 0, 0, 0, 0, 0, 0, 0, 0, ...</td>\n",
       "      <td>1.0</td>\n",
       "      <td>2.987064</td>\n",
       "      <td>-2.254464</td>\n",
       "    </tr>\n",
       "    <tr>\n",
       "      <th>8335</th>\n",
       "      <td>drugbank</td>\n",
       "      <td>Itacitinib</td>\n",
       "      <td>[0, 0, 0, 0, 0, 0, 0, 0, 0, 0, 0, 0, 0, 0, 0, ...</td>\n",
       "      <td>1.0</td>\n",
       "      <td>2.987064</td>\n",
       "      <td>-2.254464</td>\n",
       "    </tr>\n",
       "    <tr>\n",
       "      <th>2452</th>\n",
       "      <td>drugbank</td>\n",
       "      <td>RPR131247</td>\n",
       "      <td>[0, 0, 0, 0, 0, 1, 0, 0, 0, 0, 0, 0, 0, 0, 0, ...</td>\n",
       "      <td>1.0</td>\n",
       "      <td>-0.324350</td>\n",
       "      <td>-2.234286</td>\n",
       "    </tr>\n",
       "    <tr>\n",
       "      <th>10485</th>\n",
       "      <td>drugbank</td>\n",
       "      <td>25-desacetylrifapentine</td>\n",
       "      <td>[0, 0, 0, 0, 0, 0, 0, 0, 0, 0, 0, 0, 0, 0, 0, ...</td>\n",
       "      <td>1.0</td>\n",
       "      <td>1.295173</td>\n",
       "      <td>-2.211692</td>\n",
       "    </tr>\n",
       "    <tr>\n",
       "      <th>12070</th>\n",
       "      <td>broad</td>\n",
       "      <td>bacitracin-zinc</td>\n",
       "      <td>[0, 1, 0, 0, 0, 0, 0, 0, 0, 0, 0, 0, 0, 0, 0, ...</td>\n",
       "      <td>1.0</td>\n",
       "      <td>3.773700</td>\n",
       "      <td>-2.194737</td>\n",
       "    </tr>\n",
       "    <tr>\n",
       "      <th>5529</th>\n",
       "      <td>drugbank</td>\n",
       "      <td>2-(4-HYDROXY-5-PHENYL-1H-PYRAZOL-3-YL)-1H-BENZ...</td>\n",
       "      <td>[0, 0, 0, 0, 0, 0, 0, 0, 0, 0, 0, 0, 0, 0, 0, ...</td>\n",
       "      <td>1.0</td>\n",
       "      <td>-0.999376</td>\n",
       "      <td>-2.178145</td>\n",
       "    </tr>\n",
       "    <tr>\n",
       "      <th>1821</th>\n",
       "      <td>drugbank</td>\n",
       "      <td>CRA_16847</td>\n",
       "      <td>[0, 1, 0, 0, 0, 0, 0, 0, 0, 0, 0, 0, 0, 0, 0, ...</td>\n",
       "      <td>1.0</td>\n",
       "      <td>-1.228831</td>\n",
       "      <td>-2.145873</td>\n",
       "    </tr>\n",
       "    <tr>\n",
       "      <th>407</th>\n",
       "      <td>drugbank</td>\n",
       "      <td>Caspofungin</td>\n",
       "      <td>[0, 1, 0, 0, 0, 1, 0, 0, 0, 0, 0, 0, 0, 0, 0, ...</td>\n",
       "      <td>1.0</td>\n",
       "      <td>-0.398761</td>\n",
       "      <td>-2.094742</td>\n",
       "    </tr>\n",
       "    <tr>\n",
       "      <th>4142</th>\n",
       "      <td>drugbank</td>\n",
       "      <td>CRA_9678</td>\n",
       "      <td>[0, 0, 0, 0, 0, 0, 0, 0, 0, 0, 0, 0, 0, 0, 0, ...</td>\n",
       "      <td>1.0</td>\n",
       "      <td>1.291162</td>\n",
       "      <td>-2.048784</td>\n",
       "    </tr>\n",
       "    <tr>\n",
       "      <th>8126</th>\n",
       "      <td>drugbank</td>\n",
       "      <td>Acyline</td>\n",
       "      <td>[0, 1, 0, 0, 0, 0, 0, 0, 0, 0, 0, 0, 0, 0, 0, ...</td>\n",
       "      <td>1.0</td>\n",
       "      <td>2.140136</td>\n",
       "      <td>-2.011161</td>\n",
       "    </tr>\n",
       "    <tr>\n",
       "      <th>2851</th>\n",
       "      <td>drugbank</td>\n",
       "      <td>CRA_10433</td>\n",
       "      <td>[0, 0, 0, 0, 0, 0, 0, 0, 0, 0, 0, 0, 0, 0, 0, ...</td>\n",
       "      <td>1.0</td>\n",
       "      <td>0.427904</td>\n",
       "      <td>-1.998040</td>\n",
       "    </tr>\n",
       "    <tr>\n",
       "      <th>6101</th>\n",
       "      <td>drugbank</td>\n",
       "      <td>5-(5-CHLORO-2-THIENYL)-N-{(3S)-1-[(1S)-1-METHY...</td>\n",
       "      <td>[0, 1, 0, 0, 0, 1, 0, 0, 0, 0, 0, 1, 0, 0, 0, ...</td>\n",
       "      <td>1.0</td>\n",
       "      <td>-1.131003</td>\n",
       "      <td>-1.863566</td>\n",
       "    </tr>\n",
       "  </tbody>\n",
       "</table>\n",
       "</div>"
      ],
      "text/plain": [
       "         source                                               name  \\\n",
       "10316  drugbank                                         Cobomarsen   \n",
       "9100   drugbank                                            JTK-853   \n",
       "13925     broad                              diflorasone-diacetate   \n",
       "4269   drugbank  TRANS-4-(GUANIDINOMETHYL)-CYCLOHEXANE-L-YL-D-3...   \n",
       "10813   reframe                                         BMS-654457   \n",
       "6471   drugbank     2-(2-METHYLPHENYL)-1H-INDOLE-5-CARBOXIMIDAMIDE   \n",
       "1841   drugbank                                          CRA_17312   \n",
       "6143   drugbank  5-Chloro-N-{(3S)-1-[(2S)-1-(4-morpholinyl)-1-o...   \n",
       "15774     broad                                         itacitinib   \n",
       "8335   drugbank                                         Itacitinib   \n",
       "2452   drugbank                                          RPR131247   \n",
       "10485  drugbank                            25-desacetylrifapentine   \n",
       "12070     broad                                    bacitracin-zinc   \n",
       "5529   drugbank  2-(4-HYDROXY-5-PHENYL-1H-PYRAZOL-3-YL)-1H-BENZ...   \n",
       "1821   drugbank                                          CRA_16847   \n",
       "407    drugbank                                        Caspofungin   \n",
       "4142   drugbank                                           CRA_9678   \n",
       "8126   drugbank                                            Acyline   \n",
       "2851   drugbank                                          CRA_10433   \n",
       "6101   drugbank  5-(5-CHLORO-2-THIENYL)-N-{(3S)-1-[(1S)-1-METHY...   \n",
       "\n",
       "                                      morgan_fingerprint  predictions  \\\n",
       "10316  [0, 0, 0, 0, 1, 0, 0, 0, 0, 0, 0, 0, 0, 0, 0, ...          1.0   \n",
       "9100   [0, 0, 0, 0, 0, 0, 0, 0, 0, 0, 0, 0, 0, 0, 0, ...          1.0   \n",
       "13925  [0, 0, 0, 0, 0, 0, 0, 0, 0, 0, 0, 0, 0, 0, 0, ...          1.0   \n",
       "4269   [0, 1, 1, 0, 0, 0, 0, 0, 0, 0, 0, 0, 0, 0, 0, ...          1.0   \n",
       "10813  [0, 1, 0, 0, 0, 0, 0, 0, 0, 0, 0, 0, 0, 0, 0, ...          1.0   \n",
       "6471   [0, 0, 0, 0, 0, 0, 0, 0, 0, 0, 0, 0, 0, 0, 0, ...          1.0   \n",
       "1841   [0, 1, 0, 0, 0, 0, 0, 0, 0, 0, 0, 0, 0, 0, 0, ...          1.0   \n",
       "6143   [0, 1, 0, 1, 0, 1, 0, 0, 0, 0, 0, 1, 0, 0, 0, ...          1.0   \n",
       "15774  [0, 0, 0, 0, 0, 0, 0, 0, 0, 0, 0, 0, 0, 0, 0, ...          1.0   \n",
       "8335   [0, 0, 0, 0, 0, 0, 0, 0, 0, 0, 0, 0, 0, 0, 0, ...          1.0   \n",
       "2452   [0, 0, 0, 0, 0, 1, 0, 0, 0, 0, 0, 0, 0, 0, 0, ...          1.0   \n",
       "10485  [0, 0, 0, 0, 0, 0, 0, 0, 0, 0, 0, 0, 0, 0, 0, ...          1.0   \n",
       "12070  [0, 1, 0, 0, 0, 0, 0, 0, 0, 0, 0, 0, 0, 0, 0, ...          1.0   \n",
       "5529   [0, 0, 0, 0, 0, 0, 0, 0, 0, 0, 0, 0, 0, 0, 0, ...          1.0   \n",
       "1821   [0, 1, 0, 0, 0, 0, 0, 0, 0, 0, 0, 0, 0, 0, 0, ...          1.0   \n",
       "407    [0, 1, 0, 0, 0, 1, 0, 0, 0, 0, 0, 0, 0, 0, 0, ...          1.0   \n",
       "4142   [0, 0, 0, 0, 0, 0, 0, 0, 0, 0, 0, 0, 0, 0, 0, ...          1.0   \n",
       "8126   [0, 1, 0, 0, 0, 0, 0, 0, 0, 0, 0, 0, 0, 0, 0, ...          1.0   \n",
       "2851   [0, 0, 0, 0, 0, 0, 0, 0, 0, 0, 0, 0, 0, 0, 0, ...          1.0   \n",
       "6101   [0, 1, 0, 0, 0, 1, 0, 0, 0, 0, 0, 1, 0, 0, 0, ...          1.0   \n",
       "\n",
       "       pred_value_TMPRSS2  pred_value_KLKB1  \n",
       "10316            4.750049         -4.390812  \n",
       "9100            -0.042649         -3.397719  \n",
       "13925            1.373709         -3.016103  \n",
       "4269            -0.582598         -2.780173  \n",
       "10813           -0.932098         -2.698966  \n",
       "6471             0.359217         -2.635103  \n",
       "1841            -0.844427         -2.628200  \n",
       "6143            -1.014221         -2.317736  \n",
       "15774            2.987064         -2.254464  \n",
       "8335             2.987064         -2.254464  \n",
       "2452            -0.324350         -2.234286  \n",
       "10485            1.295173         -2.211692  \n",
       "12070            3.773700         -2.194737  \n",
       "5529            -0.999376         -2.178145  \n",
       "1821            -1.228831         -2.145873  \n",
       "407             -0.398761         -2.094742  \n",
       "4142             1.291162         -2.048784  \n",
       "8126             2.140136         -2.011161  \n",
       "2851             0.427904         -1.998040  \n",
       "6101            -1.131003         -1.863566  "
      ]
     },
     "execution_count": 46,
     "metadata": {},
     "output_type": "execute_result"
    }
   ],
   "source": [
    "#Run regressor (trained on full dataset)\n",
    "test_compounds = np.stack(active_screening_compounds.morgan_fingerprint)\n",
    "\n",
    "svmReg_full_KLKB1 = make_pipeline(StandardScaler(), LinearSVR(random_state=0, tol=1e-5, C=c_param_full_KLKB1, max_iter = 10000, dual = True))\n",
    "svmReg_full_KLKB1.fit(X_assays_KLKB1, y_assays_logKi_KLKB1)\n",
    "pred_values_KLKB1 = svmReg_full_KLKB1.predict(test_compounds)\n",
    "\n",
    "#identify top hits\n",
    "active_screening_compounds['pred_value_KLKB1'] = pred_values_KLKB1\n",
    "active_screening_compounds.sort_values(by='pred_value_KLKB1').head(20)"
   ]
  },
  {
   "cell_type": "code",
   "execution_count": 47,
   "metadata": {},
   "outputs": [
    {
     "data": {
      "text/plain": [
       "Text(0.5, 1.0, 'Predicted Ki Values of Potentially-Active KLKB1 Inhibitors')"
      ]
     },
     "execution_count": 47,
     "metadata": {},
     "output_type": "execute_result"
    },
    {
     "data": {
      "image/png": "[encoded data removed]",
      "text/plain": [
       "<Figure size 432x288 with 1 Axes>"
      ]
     },
     "metadata": {
      "needs_background": "light"
     },
     "output_type": "display_data"
    }
   ],
   "source": [
    "plt.hist(active_screening_compounds.pred_value_KLKB1, bins = 20)\n",
    "plt.xlabel('log10(Predicted Ki of test compound against KLKB1), μM')\n",
    "plt.ylabel('Abundance of Compounds in Bin')\n",
    "plt.title('Predicted Ki Values of Potentially-Active KLKB1 Inhibitors')"
   ]
  },
  {
   "cell_type": "markdown",
   "metadata": {},
   "source": [
    "Finally, we save raw results, as well as our results with duplicates removed"
   ]
  },
  {
   "cell_type": "code",
   "execution_count": 36,
   "metadata": {},
   "outputs": [],
   "source": [
    "active_screening_compounds_sorted = active_screening_compounds.sort_values(by='pred_value_TMPRSS2')\n",
    "active_screening_compounds_sorted.to_csv('svm_sreening_results_raw.csv')"
   ]
  },
  {
   "cell_type": "code",
   "execution_count": 37,
   "metadata": {},
   "outputs": [],
   "source": [
    "active_screening_compounds_sorted[\"name\"].str.lower()\n",
    "active_screening_compounds_sorted.drop_duplicates(subset=['name'], keep='first')\n",
    "active_screening_compounds_sorted.to_csv('svm_screening_results_no_duplicate_names.csv')"
   ]
  },
  {
   "cell_type": "code",
   "execution_count": 38,
   "metadata": {},
   "outputs": [],
   "source": [
    "active_fingerprints = np.stack(active_screening_compounds_sorted.morgan_fingerprint)\n",
    "unique, indices = np.unique(active_fingerprints, axis = 0, return_index=True)\n",
    "active_screening_compounds_sorted = active_screening_compounds_sorted.iloc[indices, :]"
   ]
  },
  {
   "cell_type": "code",
   "execution_count": 39,
   "metadata": {},
   "outputs": [],
   "source": [
    "active_screening_compounds_sorted = active_screening_compounds_sorted.sort_values(by='pred_value_TMPRSS2')\n",
    "active_screening_compounds_sorted\n",
    "active_screening_compounds_sorted.to_csv('svm_screening_results_no_duplicate_namess_or_fingerprints.csv')"
   ]
  },
  {
   "cell_type": "code",
   "execution_count": null,
   "metadata": {},
   "outputs": [],
   "source": []
  }
 ],
 "metadata": {
  "kernelspec": {
   "display_name": "Python 3",
   "language": "python",
   "name": "python3"
  },
  "language_info": {
   "codemirror_mode": {
    "name": "ipython",
    "version": 3
   },
   "file_extension": ".py",
   "mimetype": "text/x-python",
   "name": "python",
   "nbconvert_exporter": "python",
   "pygments_lexer": "ipython3",
   "version": "3.7.6"
  }
 },
 "nbformat": 4,
 "nbformat_minor": 4
}
